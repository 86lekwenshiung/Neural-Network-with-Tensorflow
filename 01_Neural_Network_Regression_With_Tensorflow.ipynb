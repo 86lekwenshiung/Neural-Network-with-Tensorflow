{
  "nbformat": 4,
  "nbformat_minor": 0,
  "metadata": {
    "colab": {
      "name": "01_Neural_Network_Regression_With_Tensorflow.ipynb",
      "provenance": [],
      "collapsed_sections": [],
      "toc_visible": true,
      "mount_file_id": "1lYTuzC4lHMWKupoEya9NTGfjzYU2dW_0",
      "authorship_tag": "ABX9TyP/n+O/SWIJDCLIrHFzlJvU",
      "include_colab_link": true
    },
    "kernelspec": {
      "name": "python3",
      "display_name": "Python 3"
    },
    "language_info": {
      "name": "python"
    }
  },
  "cells": [
    {
      "cell_type": "markdown",
      "metadata": {
        "id": "view-in-github",
        "colab_type": "text"
      },
      "source": [
        "<a href=\"https://colab.research.google.com/github/86lekwenshiung/Neural-Network-with-Tensorflow/blob/main/01_Neural_Network_Regression_With_Tensorflow.ipynb\" target=\"_parent\"><img src=\"https://colab.research.google.com/assets/colab-badge.svg\" alt=\"Open In Colab\"/></a>"
      ]
    },
    {
      "cell_type": "markdown",
      "metadata": {
        "id": "W_vSGRL9KJCe"
      },
      "source": [
        "# Regression with Neural Network in Tensorflow\n",
        "\n",
        "Simplyfing Regression Problem : Predicting a numerical variable based on some combination of variables"
      ]
    },
    {
      "cell_type": "code",
      "metadata": {
        "colab": {
          "base_uri": "https://localhost:8080/"
        },
        "id": "dps_0XUnKhX5",
        "outputId": "bc0ece80-ecf8-4d83-c01a-ab5cd4438f93"
      },
      "source": [
        "# Import Tensorflow\n",
        "import tensorflow as tf\n",
        "print(tf.__version__)"
      ],
      "execution_count": 39,
      "outputs": [
        {
          "output_type": "stream",
          "text": [
            "2.5.0\n"
          ],
          "name": "stdout"
        }
      ]
    },
    {
      "cell_type": "markdown",
      "metadata": {
        "id": "jkMu-dGfK2Ry"
      },
      "source": [
        "## Creating data to view and fit"
      ]
    },
    {
      "cell_type": "code",
      "metadata": {
        "colab": {
          "base_uri": "https://localhost:8080/",
          "height": 377
        },
        "id": "Lu36p6XPLCBx",
        "outputId": "ef1a5278-db47-46c8-d02b-ff4794282c9d"
      },
      "source": [
        "import numpy as np\n",
        "import matplotlib.pyplot as plt\n",
        "import seaborn as sns\n",
        "sns.set()\n",
        "\n",
        "\n",
        "# Create Features\n",
        "X = np.array(np.arange(-7 , 14 , 3))\n",
        "\n",
        "# Create labels\n",
        "y = np.array(np.arange(3,24,3))\n",
        "\n",
        "#Plotting It\n",
        "plt.figure(figsize = (9,6))\n",
        "sns.regplot(x = X, y = y);"
      ],
      "execution_count": 40,
      "outputs": [
        {
          "output_type": "display_data",
          "data": {
            "image/png": "[encoded data removed]",
            "text/plain": [
              "<Figure size 648x432 with 1 Axes>"
            ]
          },
          "metadata": {
            "tags": []
          }
        }
      ]
    },
    {
      "cell_type": "markdown",
      "metadata": {
        "id": "7SWCYu89LOkZ"
      },
      "source": [
        "## Input and output shape"
      ]
    },
    {
      "cell_type": "code",
      "metadata": {
        "colab": {
          "base_uri": "https://localhost:8080/"
        },
        "id": "zGmnV2kAL4aa",
        "outputId": "824c08f0-f6f3-408c-a502-d7bf5b8f143f"
      },
      "source": [
        "# Create a demo tensor housing price prediction problem\n",
        "\n",
        "house_info = tf.constant(['bedroom' , 'bathroom' , 'garage'])\n",
        "house_price = tf.constant([123456])\n",
        "house_info , house_price"
      ],
      "execution_count": 41,
      "outputs": [
        {
          "output_type": "execute_result",
          "data": {
            "text/plain": [
              "(<tf.Tensor: shape=(3,), dtype=string, numpy=array([b'bedroom', b'bathroom', b'garage'], dtype=object)>,\n",
              " <tf.Tensor: shape=(1,), dtype=int32, numpy=array([123456], dtype=int32)>)"
            ]
          },
          "metadata": {
            "tags": []
          },
          "execution_count": 41
        }
      ]
    },
    {
      "cell_type": "code",
      "metadata": {
        "colab": {
          "base_uri": "https://localhost:8080/"
        },
        "id": "DaES3d8eMLVZ",
        "outputId": "fde2042e-7cb6-419e-a0bc-5da3e0b7ee01"
      },
      "source": [
        "# Recall that the individual element inside array is a scaler , therefore it is of 0 dim\n",
        "X[0].shape , y[0].shape , X[0].ndim"
      ],
      "execution_count": 42,
      "outputs": [
        {
          "output_type": "execute_result",
          "data": {
            "text/plain": [
              "((), (), 0)"
            ]
          },
          "metadata": {
            "tags": []
          },
          "execution_count": 42
        }
      ]
    },
    {
      "cell_type": "code",
      "metadata": {
        "colab": {
          "base_uri": "https://localhost:8080/"
        },
        "id": "b-boMZ2dMUWZ",
        "outputId": "e636ef2f-becc-409c-f732-71bbba9230fc"
      },
      "source": [
        "# Converting Numpy array into tensor\n",
        "X = tf.constant(X)\n",
        "y = tf.constant(y)\n",
        "\n",
        "X[0].shape , y[0].shape , X[0].ndim"
      ],
      "execution_count": 43,
      "outputs": [
        {
          "output_type": "execute_result",
          "data": {
            "text/plain": [
              "(TensorShape([]), TensorShape([]), 0)"
            ]
          },
          "metadata": {
            "tags": []
          },
          "execution_count": 43
        }
      ]
    },
    {
      "cell_type": "markdown",
      "metadata": {
        "id": "jp72jPGiNDUC"
      },
      "source": [
        "## Modelling In Tensorflow\n",
        "\n",
        "1. Create a model - define input and output layer , as well as the hidden layers of a deep learning model\n",
        "2. Compiling a model \n",
        "  - define the loss function (the function that tell our model how wrong it is\n",
        "  - define the optimizer (tell our model how to improve our model)\n",
        "  - evaluation metrics (performance of model)\n",
        "3. Fitting a model"
      ]
    },
    {
      "cell_type": "code",
      "metadata": {
        "colab": {
          "base_uri": "https://localhost:8080/"
        },
        "id": "cuSmh0ZcOce4",
        "outputId": "f0c5e097-94ac-4ec4-a8ef-92a540814117"
      },
      "source": [
        "tf.random.set_seed(42)\n",
        "\n",
        "# Create a model using the Sequential API\n",
        "model = tf.keras.Sequential([\n",
        "  tf.keras.layers.Dense(1)\n",
        "])\n",
        "\n",
        "# Compile the model\n",
        "model.compile(loss = tf.keras.losses.mae,\n",
        "              optimizer = tf.keras.optimizers.SGD(),\n",
        "              metrics = tf.keras.metrics.mae)\n",
        "\n",
        "# Fit the model\n",
        "model.fit(X , y , epochs = 5)"
      ],
      "execution_count": 44,
      "outputs": [
        {
          "output_type": "stream",
          "text": [
            "Epoch 1/5\n",
            "1/1 [==============================] - 0s 248ms/step - loss: 10.8599 - mean_absolute_error: 10.8599\n",
            "Epoch 2/5\n",
            "1/1 [==============================] - 0s 6ms/step - loss: 10.8099 - mean_absolute_error: 10.8099\n",
            "Epoch 3/5\n",
            "1/1 [==============================] - 0s 6ms/step - loss: 10.7599 - mean_absolute_error: 10.7599\n",
            "Epoch 4/5\n",
            "1/1 [==============================] - 0s 5ms/step - loss: 10.7099 - mean_absolute_error: 10.7099\n",
            "Epoch 5/5\n",
            "1/1 [==============================] - 0s 8ms/step - loss: 10.6599 - mean_absolute_error: 10.6599\n"
          ],
          "name": "stdout"
        },
        {
          "output_type": "execute_result",
          "data": {
            "text/plain": [
              "<tensorflow.python.keras.callbacks.History at 0x7f4915e17850>"
            ]
          },
          "metadata": {
            "tags": []
          },
          "execution_count": 44
        }
      ]
    },
    {
      "cell_type": "code",
      "metadata": {
        "colab": {
          "base_uri": "https://localhost:8080/"
        },
        "id": "_aoq3kd8OjLx",
        "outputId": "71cea270-0820-421b-e5ae-f46848a26a17"
      },
      "source": [
        "# Prediction using model - Here we will expect by predicting with X = 17 , expected y value is 27. \n",
        "# Given that the MAE is around 10 to 10 , our predicted value of 11.4 + 10 still fall out from our expected value\n",
        "y_pred = model.predict([17])\n",
        "y_pred"
      ],
      "execution_count": 47,
      "outputs": [
        {
          "output_type": "execute_result",
          "data": {
            "text/plain": [
              "array([[11.441017]], dtype=float32)"
            ]
          },
          "metadata": {
            "tags": []
          },
          "execution_count": 47
        }
      ]
    },
    {
      "cell_type": "markdown",
      "metadata": {
        "id": "W3sTwVvjQaSK"
      },
      "source": [
        "## Tuning the model\n",
        "\n",
        "We can tune our model to give better results by examining each of the steps taken in creating , compiling and fitting.\n",
        "\n",
        "**1. Creating a model** - Add more layers , increase number of hidden units , change the activation function\n",
        "\n",
        "**2. Compiling a model** - Change the optimization function , tune the learning rate of the optimization function\n",
        "\n",
        "**3. Fitting a model** - More epochs (train longer) , give more data"
      ]
    },
    {
      "cell_type": "code",
      "metadata": {
        "colab": {
          "base_uri": "https://localhost:8080/"
        },
        "id": "3mRVlZTHQ0CK",
        "outputId": "25b1e87f-72c5-41bc-cae5-b1be79172616"
      },
      "source": [
        "# Tuning the model\n",
        "\n",
        "#1. Create the model\n",
        "model = tf.keras.Sequential([\n",
        "  tf.keras.layers.Dense(1)\n",
        "])\n",
        "\n",
        "#2. Compile the model\n",
        "model.compile(loss = tf.keras.losses.mae,\n",
        "              optimizer = tf.keras.optimizers.SGD(),\n",
        "              metrics = tf.keras.metrics.mae)\n",
        "\n",
        "#3. Fir the model\n",
        "model.fit(X , y , epochs = 100)"
      ],
      "execution_count": 50,
      "outputs": [
        {
          "output_type": "stream",
          "text": [
            "Epoch 1/100\n",
            "1/1 [==============================] - 0s 266ms/step - loss: 10.3356 - mean_absolute_error: 10.3356\n",
            "Epoch 2/100\n",
            "1/1 [==============================] - 0s 5ms/step - loss: 10.2856 - mean_absolute_error: 10.2856\n",
            "Epoch 3/100\n",
            "1/1 [==============================] - 0s 4ms/step - loss: 10.2356 - mean_absolute_error: 10.2356\n",
            "Epoch 4/100\n",
            "1/1 [==============================] - 0s 6ms/step - loss: 10.1856 - mean_absolute_error: 10.1856\n",
            "Epoch 5/100\n",
            "1/1 [==============================] - 0s 5ms/step - loss: 10.1356 - mean_absolute_error: 10.1356\n",
            "Epoch 6/100\n",
            "1/1 [==============================] - 0s 6ms/step - loss: 10.0856 - mean_absolute_error: 10.0856\n",
            "Epoch 7/100\n",
            "1/1 [==============================] - 0s 6ms/step - loss: 10.0356 - mean_absolute_error: 10.0356\n",
            "Epoch 8/100\n",
            "1/1 [==============================] - 0s 6ms/step - loss: 9.9856 - mean_absolute_error: 9.9856\n",
            "Epoch 9/100\n",
            "1/1 [==============================] - 0s 7ms/step - loss: 9.9356 - mean_absolute_error: 9.9356\n",
            "Epoch 10/100\n",
            "1/1 [==============================] - 0s 7ms/step - loss: 9.8856 - mean_absolute_error: 9.8856\n",
            "Epoch 11/100\n",
            "1/1 [==============================] - 0s 6ms/step - loss: 9.8356 - mean_absolute_error: 9.8356\n",
            "Epoch 12/100\n",
            "1/1 [==============================] - 0s 5ms/step - loss: 9.7856 - mean_absolute_error: 9.7856\n",
            "Epoch 13/100\n",
            "1/1 [==============================] - 0s 8ms/step - loss: 9.7356 - mean_absolute_error: 9.7356\n",
            "Epoch 14/100\n",
            "1/1 [==============================] - 0s 5ms/step - loss: 9.6856 - mean_absolute_error: 9.6856\n",
            "Epoch 15/100\n",
            "1/1 [==============================] - 0s 6ms/step - loss: 9.6356 - mean_absolute_error: 9.6356\n",
            "Epoch 16/100\n",
            "1/1 [==============================] - 0s 9ms/step - loss: 9.5856 - mean_absolute_error: 9.5856\n",
            "Epoch 17/100\n",
            "1/1 [==============================] - 0s 5ms/step - loss: 9.5356 - mean_absolute_error: 9.5356\n",
            "Epoch 18/100\n",
            "1/1 [==============================] - 0s 7ms/step - loss: 9.4856 - mean_absolute_error: 9.4856\n",
            "Epoch 19/100\n",
            "1/1 [==============================] - 0s 14ms/step - loss: 9.4356 - mean_absolute_error: 9.4356\n",
            "Epoch 20/100\n",
            "1/1 [==============================] - 0s 9ms/step - loss: 9.3856 - mean_absolute_error: 9.3856\n",
            "Epoch 21/100\n",
            "1/1 [==============================] - 0s 5ms/step - loss: 9.3356 - mean_absolute_error: 9.3356\n",
            "Epoch 22/100\n",
            "1/1 [==============================] - 0s 4ms/step - loss: 9.2856 - mean_absolute_error: 9.2856\n",
            "Epoch 23/100\n",
            "1/1 [==============================] - 0s 4ms/step - loss: 9.2356 - mean_absolute_error: 9.2356\n",
            "Epoch 24/100\n",
            "1/1 [==============================] - 0s 4ms/step - loss: 9.1856 - mean_absolute_error: 9.1856\n",
            "Epoch 25/100\n",
            "1/1 [==============================] - 0s 4ms/step - loss: 9.1356 - mean_absolute_error: 9.1356\n",
            "Epoch 26/100\n",
            "1/1 [==============================] - 0s 5ms/step - loss: 9.0856 - mean_absolute_error: 9.0856\n",
            "Epoch 27/100\n",
            "1/1 [==============================] - 0s 3ms/step - loss: 9.0356 - mean_absolute_error: 9.0356\n",
            "Epoch 28/100\n",
            "1/1 [==============================] - 0s 5ms/step - loss: 8.9856 - mean_absolute_error: 8.9856\n",
            "Epoch 29/100\n",
            "1/1 [==============================] - 0s 5ms/step - loss: 8.9356 - mean_absolute_error: 8.9356\n",
            "Epoch 30/100\n",
            "1/1 [==============================] - 0s 5ms/step - loss: 8.8856 - mean_absolute_error: 8.8856\n",
            "Epoch 31/100\n",
            "1/1 [==============================] - 0s 6ms/step - loss: 8.8356 - mean_absolute_error: 8.8356\n",
            "Epoch 32/100\n",
            "1/1 [==============================] - 0s 7ms/step - loss: 8.7856 - mean_absolute_error: 8.7856\n",
            "Epoch 33/100\n",
            "1/1 [==============================] - 0s 5ms/step - loss: 8.7356 - mean_absolute_error: 8.7356\n",
            "Epoch 34/100\n",
            "1/1 [==============================] - 0s 6ms/step - loss: 8.6856 - mean_absolute_error: 8.6856\n",
            "Epoch 35/100\n",
            "1/1 [==============================] - 0s 8ms/step - loss: 8.6356 - mean_absolute_error: 8.6356\n",
            "Epoch 36/100\n",
            "1/1 [==============================] - 0s 3ms/step - loss: 8.5856 - mean_absolute_error: 8.5856\n",
            "Epoch 37/100\n",
            "1/1 [==============================] - 0s 3ms/step - loss: 8.5356 - mean_absolute_error: 8.5356\n",
            "Epoch 38/100\n",
            "1/1 [==============================] - 0s 11ms/step - loss: 8.4856 - mean_absolute_error: 8.4856\n",
            "Epoch 39/100\n",
            "1/1 [==============================] - 0s 4ms/step - loss: 8.4356 - mean_absolute_error: 8.4356\n",
            "Epoch 40/100\n",
            "1/1 [==============================] - 0s 6ms/step - loss: 8.3856 - mean_absolute_error: 8.3856\n",
            "Epoch 41/100\n",
            "1/1 [==============================] - 0s 6ms/step - loss: 8.3356 - mean_absolute_error: 8.3356\n",
            "Epoch 42/100\n",
            "1/1 [==============================] - 0s 4ms/step - loss: 8.2856 - mean_absolute_error: 8.2856\n",
            "Epoch 43/100\n",
            "1/1 [==============================] - 0s 6ms/step - loss: 8.2356 - mean_absolute_error: 8.2356\n",
            "Epoch 44/100\n",
            "1/1 [==============================] - 0s 4ms/step - loss: 8.1856 - mean_absolute_error: 8.1856\n",
            "Epoch 45/100\n",
            "1/1 [==============================] - 0s 6ms/step - loss: 8.1356 - mean_absolute_error: 8.1356\n",
            "Epoch 46/100\n",
            "1/1 [==============================] - 0s 4ms/step - loss: 8.0856 - mean_absolute_error: 8.0856\n",
            "Epoch 47/100\n",
            "1/1 [==============================] - 0s 6ms/step - loss: 8.0356 - mean_absolute_error: 8.0356\n",
            "Epoch 48/100\n",
            "1/1 [==============================] - 0s 4ms/step - loss: 7.9856 - mean_absolute_error: 7.9856\n",
            "Epoch 49/100\n",
            "1/1 [==============================] - 0s 6ms/step - loss: 7.9356 - mean_absolute_error: 7.9356\n",
            "Epoch 50/100\n",
            "1/1 [==============================] - 0s 4ms/step - loss: 7.8856 - mean_absolute_error: 7.8856\n",
            "Epoch 51/100\n",
            "1/1 [==============================] - 0s 7ms/step - loss: 7.8356 - mean_absolute_error: 7.8356\n",
            "Epoch 52/100\n",
            "1/1 [==============================] - 0s 4ms/step - loss: 7.7856 - mean_absolute_error: 7.7856\n",
            "Epoch 53/100\n",
            "1/1 [==============================] - 0s 7ms/step - loss: 7.7682 - mean_absolute_error: 7.7682\n",
            "Epoch 54/100\n",
            "1/1 [==============================] - 0s 4ms/step - loss: 7.7513 - mean_absolute_error: 7.7513\n",
            "Epoch 55/100\n",
            "1/1 [==============================] - 0s 4ms/step - loss: 7.7658 - mean_absolute_error: 7.7658\n",
            "Epoch 56/100\n",
            "1/1 [==============================] - 0s 7ms/step - loss: 7.7476 - mean_absolute_error: 7.7476\n",
            "Epoch 57/100\n",
            "1/1 [==============================] - 0s 4ms/step - loss: 7.7328 - mean_absolute_error: 7.7328\n",
            "Epoch 58/100\n",
            "1/1 [==============================] - 0s 7ms/step - loss: 7.7451 - mean_absolute_error: 7.7451\n",
            "Epoch 59/100\n",
            "1/1 [==============================] - 0s 4ms/step - loss: 7.7270 - mean_absolute_error: 7.7270\n",
            "Epoch 60/100\n",
            "1/1 [==============================] - 0s 7ms/step - loss: 7.7142 - mean_absolute_error: 7.7142\n",
            "Epoch 61/100\n",
            "1/1 [==============================] - 0s 5ms/step - loss: 7.7245 - mean_absolute_error: 7.7245\n",
            "Epoch 62/100\n",
            "1/1 [==============================] - 0s 5ms/step - loss: 7.7064 - mean_absolute_error: 7.7064\n",
            "Epoch 63/100\n",
            "1/1 [==============================] - 0s 7ms/step - loss: 7.6956 - mean_absolute_error: 7.6956\n",
            "Epoch 64/100\n",
            "1/1 [==============================] - 0s 4ms/step - loss: 7.7039 - mean_absolute_error: 7.7039\n",
            "Epoch 65/100\n",
            "1/1 [==============================] - 0s 7ms/step - loss: 7.6858 - mean_absolute_error: 7.6858\n",
            "Epoch 66/100\n",
            "1/1 [==============================] - 0s 5ms/step - loss: 7.6771 - mean_absolute_error: 7.6771\n",
            "Epoch 67/100\n",
            "1/1 [==============================] - 0s 4ms/step - loss: 7.6833 - mean_absolute_error: 7.6833\n",
            "Epoch 68/100\n",
            "1/1 [==============================] - 0s 7ms/step - loss: 7.6651 - mean_absolute_error: 7.6651\n",
            "Epoch 69/100\n",
            "1/1 [==============================] - 0s 4ms/step - loss: 7.6585 - mean_absolute_error: 7.6585\n",
            "Epoch 70/100\n",
            "1/1 [==============================] - 0s 4ms/step - loss: 7.6627 - mean_absolute_error: 7.6627\n",
            "Epoch 71/100\n",
            "1/1 [==============================] - 0s 7ms/step - loss: 7.6445 - mean_absolute_error: 7.6445\n",
            "Epoch 72/100\n",
            "1/1 [==============================] - 0s 7ms/step - loss: 7.6399 - mean_absolute_error: 7.6399\n",
            "Epoch 73/100\n",
            "1/1 [==============================] - 0s 4ms/step - loss: 7.6421 - mean_absolute_error: 7.6421\n",
            "Epoch 74/100\n",
            "1/1 [==============================] - 0s 7ms/step - loss: 7.6239 - mean_absolute_error: 7.6239\n",
            "Epoch 75/100\n",
            "1/1 [==============================] - 0s 4ms/step - loss: 7.6213 - mean_absolute_error: 7.6213\n",
            "Epoch 76/100\n",
            "1/1 [==============================] - 0s 6ms/step - loss: 7.6215 - mean_absolute_error: 7.6215\n",
            "Epoch 77/100\n",
            "1/1 [==============================] - 0s 4ms/step - loss: 7.6033 - mean_absolute_error: 7.6033\n",
            "Epoch 78/100\n",
            "1/1 [==============================] - 0s 4ms/step - loss: 7.6028 - mean_absolute_error: 7.6028\n",
            "Epoch 79/100\n",
            "1/1 [==============================] - 0s 8ms/step - loss: 7.6009 - mean_absolute_error: 7.6009\n",
            "Epoch 80/100\n",
            "1/1 [==============================] - 0s 4ms/step - loss: 7.5827 - mean_absolute_error: 7.5827\n",
            "Epoch 81/100\n",
            "1/1 [==============================] - 0s 8ms/step - loss: 7.5842 - mean_absolute_error: 7.5842\n",
            "Epoch 82/100\n",
            "1/1 [==============================] - 0s 5ms/step - loss: 7.5802 - mean_absolute_error: 7.5802\n",
            "Epoch 83/100\n",
            "1/1 [==============================] - 0s 9ms/step - loss: 7.5621 - mean_absolute_error: 7.5621\n",
            "Epoch 84/100\n",
            "1/1 [==============================] - 0s 10ms/step - loss: 7.5656 - mean_absolute_error: 7.5656\n",
            "Epoch 85/100\n",
            "1/1 [==============================] - 0s 6ms/step - loss: 7.5596 - mean_absolute_error: 7.5596\n",
            "Epoch 86/100\n",
            "1/1 [==============================] - 0s 6ms/step - loss: 7.5415 - mean_absolute_error: 7.5415\n",
            "Epoch 87/100\n",
            "1/1 [==============================] - 0s 6ms/step - loss: 7.5471 - mean_absolute_error: 7.5471\n",
            "Epoch 88/100\n",
            "1/1 [==============================] - 0s 7ms/step - loss: 7.5390 - mean_absolute_error: 7.5390\n",
            "Epoch 89/100\n",
            "1/1 [==============================] - 0s 41ms/step - loss: 7.5209 - mean_absolute_error: 7.5209\n",
            "Epoch 90/100\n",
            "1/1 [==============================] - 0s 10ms/step - loss: 7.5285 - mean_absolute_error: 7.5285\n",
            "Epoch 91/100\n",
            "1/1 [==============================] - 0s 5ms/step - loss: 7.5184 - mean_absolute_error: 7.5184\n",
            "Epoch 92/100\n",
            "1/1 [==============================] - 0s 5ms/step - loss: 7.5002 - mean_absolute_error: 7.5002\n",
            "Epoch 93/100\n",
            "1/1 [==============================] - 0s 4ms/step - loss: 7.5099 - mean_absolute_error: 7.5099\n",
            "Epoch 94/100\n",
            "1/1 [==============================] - 0s 6ms/step - loss: 7.4978 - mean_absolute_error: 7.4978\n",
            "Epoch 95/100\n",
            "1/1 [==============================] - 0s 4ms/step - loss: 7.4796 - mean_absolute_error: 7.4796\n",
            "Epoch 96/100\n",
            "1/1 [==============================] - 0s 4ms/step - loss: 7.4914 - mean_absolute_error: 7.4914\n",
            "Epoch 97/100\n",
            "1/1 [==============================] - 0s 7ms/step - loss: 7.4772 - mean_absolute_error: 7.4772\n",
            "Epoch 98/100\n",
            "1/1 [==============================] - 0s 4ms/step - loss: 7.4590 - mean_absolute_error: 7.4590\n",
            "Epoch 99/100\n",
            "1/1 [==============================] - 0s 3ms/step - loss: 7.4728 - mean_absolute_error: 7.4728\n",
            "Epoch 100/100\n",
            "1/1 [==============================] - 0s 7ms/step - loss: 7.4566 - mean_absolute_error: 7.4566\n"
          ],
          "name": "stdout"
        },
        {
          "output_type": "execute_result",
          "data": {
            "text/plain": [
              "<tensorflow.python.keras.callbacks.History at 0x7f4915af0490>"
            ]
          },
          "metadata": {
            "tags": []
          },
          "execution_count": 50
        }
      ]
    },
    {
      "cell_type": "code",
      "metadata": {
        "colab": {
          "base_uri": "https://localhost:8080/"
        },
        "id": "FZoWQqUpS9zS",
        "outputId": "2a6cca1e-0daf-414d-899e-61449b05e258"
      },
      "source": [
        "# Making prediction from model again - Tuned model improved closer to expected value of 27 when X = 17\n",
        "model.predict([17])"
      ],
      "execution_count": 53,
      "outputs": [
        {
          "output_type": "execute_result",
          "data": {
            "text/plain": [
              "array([[31.95852]], dtype=float32)"
            ]
          },
          "metadata": {
            "tags": []
          },
          "execution_count": 53
        }
      ]
    },
    {
      "cell_type": "code",
      "metadata": {
        "id": "h06biFWyTY8q"
      },
      "source": [
        ""
      ],
      "execution_count": null,
      "outputs": []
    }
  ]
}