{
  "nbformat": 4,
  "nbformat_minor": 0,
  "metadata": {
    "colab": {
      "name": "01_Neural_Network_Regression_With_Tensorflow.ipynb",
      "provenance": [],
      "collapsed_sections": [],
      "mount_file_id": "1lYTuzC4lHMWKupoEya9NTGfjzYU2dW_0",
      "authorship_tag": "ABX9TyPj+jhjowwRTKcPLmaNBFWB",
      "include_colab_link": true
    },
    "kernelspec": {
      "name": "python3",
      "display_name": "Python 3"
    },
    "language_info": {
      "name": "python"
    }
  },
  "cells": [
    {
      "cell_type": "markdown",
      "metadata": {
        "id": "view-in-github",
        "colab_type": "text"
      },
      "source": [
        "<a href=\"https://colab.research.google.com/github/86lekwenshiung/Neural-Network-with-Tensorflow/blob/main/01_Neural_Network_Regression_With_Tensorflow.ipynb\" target=\"_parent\"><img src=\"https://colab.research.google.com/assets/colab-badge.svg\" alt=\"Open In Colab\"/></a>"
      ]
    },
    {
      "cell_type": "markdown",
      "metadata": {
        "id": "W_vSGRL9KJCe"
      },
      "source": [
        "# Regression with Neural Network in Tensorflow\n",
        "\n",
        "Simplyfing Regression Problem : Predicting a numerical variable based on some combination of variables"
      ]
    },
    {
      "cell_type": "code",
      "metadata": {
        "colab": {
          "base_uri": "https://localhost:8080/"
        },
        "id": "dps_0XUnKhX5",
        "outputId": "5e79de38-f519-48e3-a973-0b220dfc96a6"
      },
      "source": [
        "# Import Tensorflow\n",
        "import tensorflow as tf\n",
        "print(tf.__version__)"
      ],
      "execution_count": 217,
      "outputs": [
        {
          "output_type": "stream",
          "text": [
            "2.5.0\n"
          ],
          "name": "stdout"
        }
      ]
    },
    {
      "cell_type": "code",
      "metadata": {
        "id": "3-51Q5OtOlP9"
      },
      "source": [
        "# Import Libraries\n",
        "import numpy as np\n",
        "import matplotlib.pyplot as plt\n",
        "import seaborn as sns\n",
        "import pandas as pd\n",
        "from sklearn.model_selection import train_test_split\n",
        "from sklearn.compose import make_column_transformer\n",
        "from sklearn.preprocessing import MinMaxScaler , OneHotEncoder\n",
        "sns.set()\n"
      ],
      "execution_count": 218,
      "outputs": []
    },
    {
      "cell_type": "markdown",
      "metadata": {
        "id": "jkMu-dGfK2Ry"
      },
      "source": [
        "## Creating data to view and fit"
      ]
    },
    {
      "cell_type": "code",
      "metadata": {
        "colab": {
          "base_uri": "https://localhost:8080/",
          "height": 376
        },
        "id": "Lu36p6XPLCBx",
        "outputId": "4495f9ee-9052-421d-e0ce-74b0c0fdd36a"
      },
      "source": [
        "# Create Features\n",
        "X = np.array(np.arange(-7 , 14 , 3))\n",
        "\n",
        "# Create labels\n",
        "y = np.array(np.arange(3,24,3))\n",
        "\n",
        "#Plotting It\n",
        "plt.figure(figsize = (9,6))\n",
        "sns.regplot(x = X, y = y);"
      ],
      "execution_count": 219,
      "outputs": [
        {
          "output_type": "display_data",
          "data": {
            "image/png": "[encoded data removed]",
            "text/plain": [
              "<Figure size 648x432 with 1 Axes>"
            ]
          },
          "metadata": {
            "tags": []
          }
        }
      ]
    },
    {
      "cell_type": "markdown",
      "metadata": {
        "id": "7SWCYu89LOkZ"
      },
      "source": [
        "## Input and output shape"
      ]
    },
    {
      "cell_type": "code",
      "metadata": {
        "colab": {
          "base_uri": "https://localhost:8080/"
        },
        "id": "zGmnV2kAL4aa",
        "outputId": "1465bb6e-8e70-4c94-d30e-2b103b356c59"
      },
      "source": [
        "# Create a demo tensor housing price prediction problem\n",
        "\n",
        "house_info = tf.constant(['bedroom' , 'bathroom' , 'garage'])\n",
        "house_price = tf.constant([123456])\n",
        "house_info , house_price"
      ],
      "execution_count": 220,
      "outputs": [
        {
          "output_type": "execute_result",
          "data": {
            "text/plain": [
              "(<tf.Tensor: shape=(3,), dtype=string, numpy=array([b'bedroom', b'bathroom', b'garage'], dtype=object)>,\n",
              " <tf.Tensor: shape=(1,), dtype=int32, numpy=array([123456], dtype=int32)>)"
            ]
          },
          "metadata": {
            "tags": []
          },
          "execution_count": 220
        }
      ]
    },
    {
      "cell_type": "code",
      "metadata": {
        "colab": {
          "base_uri": "https://localhost:8080/"
        },
        "id": "DaES3d8eMLVZ",
        "outputId": "83054902-f227-4ca1-d6c1-a6415cab9893"
      },
      "source": [
        "# Recall that the individual element inside array is a scaler , therefore it is of 0 dim\n",
        "X[0].shape , y[0].shape , X[0].ndim"
      ],
      "execution_count": 221,
      "outputs": [
        {
          "output_type": "execute_result",
          "data": {
            "text/plain": [
              "((), (), 0)"
            ]
          },
          "metadata": {
            "tags": []
          },
          "execution_count": 221
        }
      ]
    },
    {
      "cell_type": "code",
      "metadata": {
        "colab": {
          "base_uri": "https://localhost:8080/"
        },
        "id": "b-boMZ2dMUWZ",
        "outputId": "8a050383-68f2-48c2-e0e0-a4d5a7db20a6"
      },
      "source": [
        "# Converting Numpy array into tensor\n",
        "X = tf.constant(X)\n",
        "y = tf.constant(y)\n",
        "\n",
        "X[0].shape , y[0].shape , X[0].ndim"
      ],
      "execution_count": 222,
      "outputs": [
        {
          "output_type": "execute_result",
          "data": {
            "text/plain": [
              "(TensorShape([]), TensorShape([]), 0)"
            ]
          },
          "metadata": {
            "tags": []
          },
          "execution_count": 222
        }
      ]
    },
    {
      "cell_type": "markdown",
      "metadata": {
        "id": "jp72jPGiNDUC"
      },
      "source": [
        "## Modelling In Tensorflow\n",
        "\n",
        "1. Create a model - define input and output layer , as well as the hidden layers of a deep learning model\n",
        "2. Compiling a model \n",
        "  - define the loss function (the function that tell our model how wrong it is\n",
        "  - define the optimizer (tell our model how to improve our model)\n",
        "  - evaluation metrics (performance of model)\n",
        "3. Fitting a model"
      ]
    },
    {
      "cell_type": "code",
      "metadata": {
        "colab": {
          "base_uri": "https://localhost:8080/"
        },
        "id": "cuSmh0ZcOce4",
        "outputId": "744f8353-dda4-4d76-fe79-7b45672f8865"
      },
      "source": [
        "tf.random.set_seed(42)\n",
        "\n",
        "# Create a model using the Sequential API\n",
        "model = tf.keras.Sequential([\n",
        "  tf.keras.layers.Dense(1)\n",
        "])\n",
        "\n",
        "# Compile the model\n",
        "model.compile(loss = tf.keras.losses.mae,\n",
        "              optimizer = tf.keras.optimizers.SGD(),\n",
        "              metrics = tf.keras.metrics.mae)\n",
        "\n",
        "# Fit the model\n",
        "model.fit(X , y , epochs = 5)"
      ],
      "execution_count": 223,
      "outputs": [
        {
          "output_type": "stream",
          "text": [
            "Epoch 1/5\n",
            "1/1 [==============================] - 0s 215ms/step - loss: 10.8599 - mean_absolute_error: 10.8599\n",
            "Epoch 2/5\n",
            "1/1 [==============================] - 0s 4ms/step - loss: 10.8099 - mean_absolute_error: 10.8099\n",
            "Epoch 3/5\n",
            "1/1 [==============================] - 0s 4ms/step - loss: 10.7599 - mean_absolute_error: 10.7599\n",
            "Epoch 4/5\n",
            "1/1 [==============================] - 0s 6ms/step - loss: 10.7099 - mean_absolute_error: 10.7099\n",
            "Epoch 5/5\n",
            "1/1 [==============================] - 0s 3ms/step - loss: 10.6599 - mean_absolute_error: 10.6599\n"
          ],
          "name": "stdout"
        },
        {
          "output_type": "execute_result",
          "data": {
            "text/plain": [
              "<tensorflow.python.keras.callbacks.History at 0x7fb1be0e3a50>"
            ]
          },
          "metadata": {
            "tags": []
          },
          "execution_count": 223
        }
      ]
    },
    {
      "cell_type": "code",
      "metadata": {
        "colab": {
          "base_uri": "https://localhost:8080/"
        },
        "id": "_aoq3kd8OjLx",
        "outputId": "3b9c7ec8-4761-451c-e3d4-de4d0aec7211"
      },
      "source": [
        "# Prediction using model - Here we will expect by predicting with X = 17 , expected y value is 27. \n",
        "# Given that the MAE is around 10 to 10 , our predicted value of 11.4 + 10 still fall out from our expected value\n",
        "y_pred = model.predict([17])\n",
        "y_pred"
      ],
      "execution_count": 224,
      "outputs": [
        {
          "output_type": "execute_result",
          "data": {
            "text/plain": [
              "array([[11.441017]], dtype=float32)"
            ]
          },
          "metadata": {
            "tags": []
          },
          "execution_count": 224
        }
      ]
    },
    {
      "cell_type": "markdown",
      "metadata": {
        "id": "W3sTwVvjQaSK"
      },
      "source": [
        "## Tuning the model\n",
        "\n",
        "We can tune our model to give better results by examining each of the steps taken in creating , compiling and fitting.\n",
        "\n",
        "**1. Creating a model** - Add more layers , increase number of hidden units , change the activation function\n",
        "\n",
        "**2. Compiling a model** - Change the optimization function , tune the learning rate of the optimization function\n",
        "\n",
        "**3. Fitting a model** - More epochs (train longer) , give more data\n",
        "\n",
        "## Typical workflow expectation\n",
        "- Build a model --> fit it --> evaluate it --> hyperparameter tuning --> fit it --> hyper tuning --> evaluate it --> ....\n",
        "\n",
        "- **To put it as an analogy , it is like a dial to tune the model**"
      ]
    },
    {
      "cell_type": "code",
      "metadata": {
        "colab": {
          "base_uri": "https://localhost:8080/"
        },
        "id": "3mRVlZTHQ0CK",
        "outputId": "563ec341-1914-4eaf-8f8d-8c3d607fc4a6"
      },
      "source": [
        "# Tuning the model (changing the Epoch)\n",
        "\n",
        "#1. Create the model\n",
        "model = tf.keras.Sequential([\n",
        "  tf.keras.layers.Dense(1)\n",
        "])\n",
        "\n",
        "#2. Compile the model\n",
        "model.compile(loss = tf.keras.losses.mae,\n",
        "              optimizer = tf.keras.optimizers.SGD(),\n",
        "              metrics = tf.keras.metrics.mae)\n",
        "\n",
        "#3. Fir the model\n",
        "model.fit(X , y , epochs = 100 , verbose = True)"
      ],
      "execution_count": 225,
      "outputs": [
        {
          "output_type": "stream",
          "text": [
            "Epoch 1/100\n",
            "1/1 [==============================] - 0s 487ms/step - loss: 10.6983 - mean_absolute_error: 10.6983\n",
            "Epoch 2/100\n",
            "1/1 [==============================] - 0s 4ms/step - loss: 10.6483 - mean_absolute_error: 10.6483\n",
            "Epoch 3/100\n",
            "1/1 [==============================] - 0s 7ms/step - loss: 10.5983 - mean_absolute_error: 10.5983\n",
            "Epoch 4/100\n",
            "1/1 [==============================] - 0s 4ms/step - loss: 10.5483 - mean_absolute_error: 10.5483\n",
            "Epoch 5/100\n",
            "1/1 [==============================] - 0s 6ms/step - loss: 10.4983 - mean_absolute_error: 10.4983\n",
            "Epoch 6/100\n",
            "1/1 [==============================] - 0s 6ms/step - loss: 10.4483 - mean_absolute_error: 10.4483\n",
            "Epoch 7/100\n",
            "1/1 [==============================] - 0s 4ms/step - loss: 10.3983 - mean_absolute_error: 10.3983\n",
            "Epoch 8/100\n",
            "1/1 [==============================] - 0s 9ms/step - loss: 10.3483 - mean_absolute_error: 10.3483\n",
            "Epoch 9/100\n",
            "1/1 [==============================] - 0s 6ms/step - loss: 10.2983 - mean_absolute_error: 10.2983\n",
            "Epoch 10/100\n",
            "1/1 [==============================] - 0s 4ms/step - loss: 10.2483 - mean_absolute_error: 10.2483\n",
            "Epoch 11/100\n",
            "1/1 [==============================] - 0s 13ms/step - loss: 10.1983 - mean_absolute_error: 10.1983\n",
            "Epoch 12/100\n",
            "1/1 [==============================] - 0s 8ms/step - loss: 10.1483 - mean_absolute_error: 10.1483\n",
            "Epoch 13/100\n",
            "1/1 [==============================] - 0s 5ms/step - loss: 10.0983 - mean_absolute_error: 10.0983\n",
            "Epoch 14/100\n",
            "1/1 [==============================] - 0s 5ms/step - loss: 10.0483 - mean_absolute_error: 10.0483\n",
            "Epoch 15/100\n",
            "1/1 [==============================] - 0s 4ms/step - loss: 9.9983 - mean_absolute_error: 9.9983\n",
            "Epoch 16/100\n",
            "1/1 [==============================] - 0s 4ms/step - loss: 9.9483 - mean_absolute_error: 9.9483\n",
            "Epoch 17/100\n",
            "1/1 [==============================] - 0s 5ms/step - loss: 9.8983 - mean_absolute_error: 9.8983\n",
            "Epoch 18/100\n",
            "1/1 [==============================] - 0s 3ms/step - loss: 9.8483 - mean_absolute_error: 9.8483\n",
            "Epoch 19/100\n",
            "1/1 [==============================] - 0s 4ms/step - loss: 9.7983 - mean_absolute_error: 9.7983\n",
            "Epoch 20/100\n",
            "1/1 [==============================] - 0s 3ms/step - loss: 9.7483 - mean_absolute_error: 9.7483\n",
            "Epoch 21/100\n",
            "1/1 [==============================] - 0s 3ms/step - loss: 9.6983 - mean_absolute_error: 9.6983\n",
            "Epoch 22/100\n",
            "1/1 [==============================] - 0s 3ms/step - loss: 9.6483 - mean_absolute_error: 9.6483\n",
            "Epoch 23/100\n",
            "1/1 [==============================] - 0s 5ms/step - loss: 9.5983 - mean_absolute_error: 9.5983\n",
            "Epoch 24/100\n",
            "1/1 [==============================] - 0s 4ms/step - loss: 9.5483 - mean_absolute_error: 9.5483\n",
            "Epoch 25/100\n",
            "1/1 [==============================] - 0s 3ms/step - loss: 9.4983 - mean_absolute_error: 9.4983\n",
            "Epoch 26/100\n",
            "1/1 [==============================] - 0s 3ms/step - loss: 9.4483 - mean_absolute_error: 9.4483\n",
            "Epoch 27/100\n",
            "1/1 [==============================] - 0s 9ms/step - loss: 9.3983 - mean_absolute_error: 9.3983\n",
            "Epoch 28/100\n",
            "1/1 [==============================] - 0s 3ms/step - loss: 9.3483 - mean_absolute_error: 9.3483\n",
            "Epoch 29/100\n",
            "1/1 [==============================] - 0s 4ms/step - loss: 9.2983 - mean_absolute_error: 9.2983\n",
            "Epoch 30/100\n",
            "1/1 [==============================] - 0s 3ms/step - loss: 9.2483 - mean_absolute_error: 9.2483\n",
            "Epoch 31/100\n",
            "1/1 [==============================] - 0s 10ms/step - loss: 9.1983 - mean_absolute_error: 9.1983\n",
            "Epoch 32/100\n",
            "1/1 [==============================] - 0s 8ms/step - loss: 9.1483 - mean_absolute_error: 9.1483\n",
            "Epoch 33/100\n",
            "1/1 [==============================] - 0s 4ms/step - loss: 9.0983 - mean_absolute_error: 9.0983\n",
            "Epoch 34/100\n",
            "1/1 [==============================] - 0s 7ms/step - loss: 9.0483 - mean_absolute_error: 9.0483\n",
            "Epoch 35/100\n",
            "1/1 [==============================] - 0s 7ms/step - loss: 8.9983 - mean_absolute_error: 8.9983\n",
            "Epoch 36/100\n",
            "1/1 [==============================] - 0s 7ms/step - loss: 8.9483 - mean_absolute_error: 8.9483\n",
            "Epoch 37/100\n",
            "1/1 [==============================] - 0s 3ms/step - loss: 8.8983 - mean_absolute_error: 8.8983\n",
            "Epoch 38/100\n",
            "1/1 [==============================] - 0s 6ms/step - loss: 8.8483 - mean_absolute_error: 8.8483\n",
            "Epoch 39/100\n",
            "1/1 [==============================] - 0s 6ms/step - loss: 8.7983 - mean_absolute_error: 8.7983\n",
            "Epoch 40/100\n",
            "1/1 [==============================] - 0s 6ms/step - loss: 8.7483 - mean_absolute_error: 8.7483\n",
            "Epoch 41/100\n",
            "1/1 [==============================] - 0s 3ms/step - loss: 8.6983 - mean_absolute_error: 8.6983\n",
            "Epoch 42/100\n",
            "1/1 [==============================] - 0s 3ms/step - loss: 8.6483 - mean_absolute_error: 8.6483\n",
            "Epoch 43/100\n",
            "1/1 [==============================] - 0s 3ms/step - loss: 8.5983 - mean_absolute_error: 8.5983\n",
            "Epoch 44/100\n",
            "1/1 [==============================] - 0s 6ms/step - loss: 8.5483 - mean_absolute_error: 8.5483\n",
            "Epoch 45/100\n",
            "1/1 [==============================] - 0s 6ms/step - loss: 8.4983 - mean_absolute_error: 8.4983\n",
            "Epoch 46/100\n",
            "1/1 [==============================] - 0s 4ms/step - loss: 8.4483 - mean_absolute_error: 8.4483\n",
            "Epoch 47/100\n",
            "1/1 [==============================] - 0s 8ms/step - loss: 8.3983 - mean_absolute_error: 8.3983\n",
            "Epoch 48/100\n",
            "1/1 [==============================] - 0s 3ms/step - loss: 8.3483 - mean_absolute_error: 8.3483\n",
            "Epoch 49/100\n",
            "1/1 [==============================] - 0s 6ms/step - loss: 8.2983 - mean_absolute_error: 8.2983\n",
            "Epoch 50/100\n",
            "1/1 [==============================] - 0s 6ms/step - loss: 8.2483 - mean_absolute_error: 8.2483\n",
            "Epoch 51/100\n",
            "1/1 [==============================] - 0s 4ms/step - loss: 8.1983 - mean_absolute_error: 8.1983\n",
            "Epoch 52/100\n",
            "1/1 [==============================] - 0s 5ms/step - loss: 8.1483 - mean_absolute_error: 8.1483\n",
            "Epoch 53/100\n",
            "1/1 [==============================] - 0s 4ms/step - loss: 8.0983 - mean_absolute_error: 8.0983\n",
            "Epoch 54/100\n",
            "1/1 [==============================] - 0s 4ms/step - loss: 8.0483 - mean_absolute_error: 8.0483\n",
            "Epoch 55/100\n",
            "1/1 [==============================] - 0s 5ms/step - loss: 7.9983 - mean_absolute_error: 7.9983\n",
            "Epoch 56/100\n",
            "1/1 [==============================] - 0s 5ms/step - loss: 7.9483 - mean_absolute_error: 7.9483\n",
            "Epoch 57/100\n",
            "1/1 [==============================] - 0s 6ms/step - loss: 7.8983 - mean_absolute_error: 7.8983\n",
            "Epoch 58/100\n",
            "1/1 [==============================] - 0s 5ms/step - loss: 7.8483 - mean_absolute_error: 7.8483\n",
            "Epoch 59/100\n",
            "1/1 [==============================] - 0s 5ms/step - loss: 7.7983 - mean_absolute_error: 7.7983\n",
            "Epoch 60/100\n",
            "1/1 [==============================] - 0s 4ms/step - loss: 7.7483 - mean_absolute_error: 7.7483\n",
            "Epoch 61/100\n",
            "1/1 [==============================] - 0s 5ms/step - loss: 7.6983 - mean_absolute_error: 7.6983\n",
            "Epoch 62/100\n",
            "1/1 [==============================] - 0s 6ms/step - loss: 7.7024 - mean_absolute_error: 7.7024\n",
            "Epoch 63/100\n",
            "1/1 [==============================] - 0s 6ms/step - loss: 7.6843 - mean_absolute_error: 7.6843\n",
            "Epoch 64/100\n",
            "1/1 [==============================] - 0s 3ms/step - loss: 7.6797 - mean_absolute_error: 7.6797\n",
            "Epoch 65/100\n",
            "1/1 [==============================] - 0s 4ms/step - loss: 7.6818 - mean_absolute_error: 7.6818\n",
            "Epoch 66/100\n",
            "1/1 [==============================] - 0s 5ms/step - loss: 7.6637 - mean_absolute_error: 7.6637\n",
            "Epoch 67/100\n",
            "1/1 [==============================] - 0s 5ms/step - loss: 7.6611 - mean_absolute_error: 7.6611\n",
            "Epoch 68/100\n",
            "1/1 [==============================] - 0s 5ms/step - loss: 7.6612 - mean_absolute_error: 7.6612\n",
            "Epoch 69/100\n",
            "1/1 [==============================] - 0s 6ms/step - loss: 7.6430 - mean_absolute_error: 7.6430\n",
            "Epoch 70/100\n",
            "1/1 [==============================] - 0s 5ms/step - loss: 7.6425 - mean_absolute_error: 7.6425\n",
            "Epoch 71/100\n",
            "1/1 [==============================] - 0s 6ms/step - loss: 7.6406 - mean_absolute_error: 7.6406\n",
            "Epoch 72/100\n",
            "1/1 [==============================] - 0s 10ms/step - loss: 7.6224 - mean_absolute_error: 7.6224\n",
            "Epoch 73/100\n",
            "1/1 [==============================] - 0s 14ms/step - loss: 7.6240 - mean_absolute_error: 7.6240\n",
            "Epoch 74/100\n",
            "1/1 [==============================] - 0s 3ms/step - loss: 7.6200 - mean_absolute_error: 7.6200\n",
            "Epoch 75/100\n",
            "1/1 [==============================] - 0s 5ms/step - loss: 7.6018 - mean_absolute_error: 7.6018\n",
            "Epoch 76/100\n",
            "1/1 [==============================] - 0s 8ms/step - loss: 7.6054 - mean_absolute_error: 7.6054\n",
            "Epoch 77/100\n",
            "1/1 [==============================] - 0s 9ms/step - loss: 7.5994 - mean_absolute_error: 7.5994\n",
            "Epoch 78/100\n",
            "1/1 [==============================] - 0s 9ms/step - loss: 7.5812 - mean_absolute_error: 7.5812\n",
            "Epoch 79/100\n",
            "1/1 [==============================] - 0s 9ms/step - loss: 7.5868 - mean_absolute_error: 7.5868\n",
            "Epoch 80/100\n",
            "1/1 [==============================] - 0s 14ms/step - loss: 7.5788 - mean_absolute_error: 7.5788\n",
            "Epoch 81/100\n",
            "1/1 [==============================] - 0s 5ms/step - loss: 7.5606 - mean_absolute_error: 7.5606\n",
            "Epoch 82/100\n",
            "1/1 [==============================] - 0s 4ms/step - loss: 7.5683 - mean_absolute_error: 7.5683\n",
            "Epoch 83/100\n",
            "1/1 [==============================] - 0s 4ms/step - loss: 7.5581 - mean_absolute_error: 7.5581\n",
            "Epoch 84/100\n",
            "1/1 [==============================] - 0s 8ms/step - loss: 7.5400 - mean_absolute_error: 7.5400\n",
            "Epoch 85/100\n",
            "1/1 [==============================] - 0s 5ms/step - loss: 7.5497 - mean_absolute_error: 7.5497\n",
            "Epoch 86/100\n",
            "1/1 [==============================] - 0s 8ms/step - loss: 7.5375 - mean_absolute_error: 7.5375\n",
            "Epoch 87/100\n",
            "1/1 [==============================] - 0s 9ms/step - loss: 7.5194 - mean_absolute_error: 7.5194\n",
            "Epoch 88/100\n",
            "1/1 [==============================] - 0s 4ms/step - loss: 7.5311 - mean_absolute_error: 7.5311\n",
            "Epoch 89/100\n",
            "1/1 [==============================] - 0s 4ms/step - loss: 7.5169 - mean_absolute_error: 7.5169\n",
            "Epoch 90/100\n",
            "1/1 [==============================] - 0s 5ms/step - loss: 7.4988 - mean_absolute_error: 7.4988\n",
            "Epoch 91/100\n",
            "1/1 [==============================] - 0s 6ms/step - loss: 7.5125 - mean_absolute_error: 7.5125\n",
            "Epoch 92/100\n",
            "1/1 [==============================] - 0s 4ms/step - loss: 7.4963 - mean_absolute_error: 7.4963\n",
            "Epoch 93/100\n",
            "1/1 [==============================] - 0s 5ms/step - loss: 7.4783 - mean_absolute_error: 7.4783\n",
            "Epoch 94/100\n",
            "1/1 [==============================] - 0s 6ms/step - loss: 7.4939 - mean_absolute_error: 7.4939\n",
            "Epoch 95/100\n",
            "1/1 [==============================] - 0s 4ms/step - loss: 7.4757 - mean_absolute_error: 7.4757\n",
            "Epoch 96/100\n",
            "1/1 [==============================] - 0s 7ms/step - loss: 7.4597 - mean_absolute_error: 7.4597\n",
            "Epoch 97/100\n",
            "1/1 [==============================] - 0s 7ms/step - loss: 7.4732 - mean_absolute_error: 7.4732\n",
            "Epoch 98/100\n",
            "1/1 [==============================] - 0s 8ms/step - loss: 7.4551 - mean_absolute_error: 7.4551\n",
            "Epoch 99/100\n",
            "1/1 [==============================] - 0s 6ms/step - loss: 7.4411 - mean_absolute_error: 7.4411\n",
            "Epoch 100/100\n",
            "1/1 [==============================] - 0s 3ms/step - loss: 7.4526 - mean_absolute_error: 7.4526\n"
          ],
          "name": "stdout"
        },
        {
          "output_type": "execute_result",
          "data": {
            "text/plain": [
              "<tensorflow.python.keras.callbacks.History at 0x7fb1be109290>"
            ]
          },
          "metadata": {
            "tags": []
          },
          "execution_count": 225
        }
      ]
    },
    {
      "cell_type": "code",
      "metadata": {
        "colab": {
          "base_uri": "https://localhost:8080/"
        },
        "id": "FZoWQqUpS9zS",
        "outputId": "b6817ae2-4fad-4341-eb5d-2919c82c3e02"
      },
      "source": [
        "# Making prediction from model again - Tuned model improved closer to expected value of 27 when X = 17\n",
        "model.predict([17])"
      ],
      "execution_count": 226,
      "outputs": [
        {
          "output_type": "execute_result",
          "data": {
            "text/plain": [
              "array([[32.099113]], dtype=float32)"
            ]
          },
          "metadata": {
            "tags": []
          },
          "execution_count": 226
        }
      ]
    },
    {
      "cell_type": "code",
      "metadata": {
        "id": "h06biFWyTY8q",
        "colab": {
          "base_uri": "https://localhost:8080/"
        },
        "outputId": "f25de8fa-14b0-403f-f6a3-15ff8be4910b"
      },
      "source": [
        "# Tuning the model (Adding an extra hidden layer with 100 hidden units)\n",
        "\n",
        "#1. Create model\n",
        "model = tf.keras.Sequential([\n",
        "  tf.keras.layers.Dense(50 , activation = None),\n",
        "  tf.keras.layers.Dense(1)\n",
        "])\n",
        "\n",
        "#2. Compile a model\n",
        "model.compile(optimizer = tf.keras.optimizers.Adam(lr = 0.01),\n",
        "              loss = tf.keras.losses.mae,\n",
        "              metrics = tf.keras.metrics.mae)\n",
        "\n",
        "#3. Fit a model\n",
        "model.fit(X , y , epochs = 100 , verbose = False)"
      ],
      "execution_count": 227,
      "outputs": [
        {
          "output_type": "stream",
          "text": [
            "/usr/local/lib/python3.7/dist-packages/tensorflow/python/keras/optimizer_v2/optimizer_v2.py:375: UserWarning: The `lr` argument is deprecated, use `learning_rate` instead.\n",
            "  \"The `lr` argument is deprecated, use `learning_rate` instead.\")\n"
          ],
          "name": "stderr"
        },
        {
          "output_type": "execute_result",
          "data": {
            "text/plain": [
              "<tensorflow.python.keras.callbacks.History at 0x7fb1bd85f350>"
            ]
          },
          "metadata": {
            "tags": []
          },
          "execution_count": 227
        }
      ]
    },
    {
      "cell_type": "code",
      "metadata": {
        "id": "b4scwOAKNBu2"
      },
      "source": [
        "# Visualising the data - Attempt with larger dataset"
      ],
      "execution_count": 228,
      "outputs": []
    },
    {
      "cell_type": "code",
      "metadata": {
        "id": "HFWwqRHvOBAN"
      },
      "source": [
        "X = tf.range(-100 , 100 , 4)\n",
        "y = X + 10 "
      ],
      "execution_count": 229,
      "outputs": []
    },
    {
      "cell_type": "code",
      "metadata": {
        "colab": {
          "base_uri": "https://localhost:8080/",
          "height": 540
        },
        "id": "6nLMd52VOHDT",
        "outputId": "2df3057a-4a48-4c43-b732-cfd709528573"
      },
      "source": [
        "plt.figure(figsize = (12,9))\n",
        "sns.regplot(x = X , \n",
        "            y = y);"
      ],
      "execution_count": 230,
      "outputs": [
        {
          "output_type": "display_data",
          "data": {
            "image/png": "[encoded data removed]",
            "text/plain": [
              "<Figure size 864x648 with 1 Axes>"
            ]
          },
          "metadata": {
            "tags": []
          }
        }
      ]
    },
    {
      "cell_type": "code",
      "metadata": {
        "colab": {
          "base_uri": "https://localhost:8080/"
        },
        "id": "Ci9c_PGx6ec0",
        "outputId": "ab259428-9a03-43b6-c8c3-438fb9514e7a"
      },
      "source": [
        "X.shape"
      ],
      "execution_count": 231,
      "outputs": [
        {
          "output_type": "execute_result",
          "data": {
            "text/plain": [
              "TensorShape([50])"
            ]
          },
          "metadata": {
            "tags": []
          },
          "execution_count": 231
        }
      ]
    },
    {
      "cell_type": "code",
      "metadata": {
        "id": "3PYLp8ubOTyd"
      },
      "source": [
        "# Splitting Dataset by train test split\n",
        "tf.random.set_seed(42)\n",
        "\n",
        "X_train = X[:40]\n",
        "X_test = X[40:]\n",
        "y_train = y[:40]\n",
        "y_test = y[40:]\n",
        "\n",
        "X_train , X_test = tf.constant(X_train) , tf.constant(X_test)\n",
        "y_train , y_test = tf.constant(y_train) , tf.constant(y_test)"
      ],
      "execution_count": 232,
      "outputs": []
    },
    {
      "cell_type": "code",
      "metadata": {
        "colab": {
          "base_uri": "https://localhost:8080/",
          "height": 540
        },
        "id": "p2gD1vjQPFes",
        "outputId": "f9cb433a-01eb-4e15-fec7-6c0d30046895"
      },
      "source": [
        "plt.figure(figsize = (12,9))\n",
        "\n",
        "sns.scatterplot(x = X_train , \n",
        "                y = y_train,\n",
        "                color = 'blue',\n",
        "                label = 'training data')\n",
        "\n",
        "sns.scatterplot(x = X_test , \n",
        "                y = y_test,\n",
        "                color = 'green',\n",
        "                label = 'test data')\n",
        "\n",
        "plt.legend();"
      ],
      "execution_count": 233,
      "outputs": [
        {
          "output_type": "display_data",
          "data": {
            "image/png": "[encoded data removed]",
            "text/plain": [
              "<Figure size 864x648 with 1 Axes>"
            ]
          },
          "metadata": {
            "tags": []
          }
        }
      ]
    },
    {
      "cell_type": "code",
      "metadata": {
        "colab": {
          "base_uri": "https://localhost:8080/"
        },
        "id": "8Vle02UpPW20",
        "outputId": "8be81738-c597-4ab8-89e2-0afa37363201"
      },
      "source": [
        "# Creating a new model for new dataset and try building \n",
        "\n",
        "tf.random.set_seed(42)\n",
        "\n",
        "#1. Create a model\n",
        "model = tf.keras.Sequential([\n",
        "  tf.keras.layers.Dense(5 , input_shape = [1] , name = 'input_layer'),\n",
        "  tf.keras.layers.Dense(1, name = 'output_layer')\n",
        "] , name = 'Simple_Linear_Regression') \n",
        "\n",
        "#2. Compile a model\n",
        "model.compile(optimizer = tf.keras.optimizers.Adam(lr = 0.01),\n",
        "              loss = tf.keras.losses.mae,\n",
        "              metrics = tf.keras.metrics.mae)\n",
        "\n",
        "#2a. Model Sumamry\n",
        "model.summary()"
      ],
      "execution_count": 234,
      "outputs": [
        {
          "output_type": "stream",
          "text": [
            "Model: \"Simple_Linear_Regression\"\n",
            "_________________________________________________________________\n",
            "Layer (type)                 Output Shape              Param #   \n",
            "=================================================================\n",
            "input_layer (Dense)          (None, 5)                 10        \n",
            "_________________________________________________________________\n",
            "output_layer (Dense)         (None, 1)                 6         \n",
            "=================================================================\n",
            "Total params: 16\n",
            "Trainable params: 16\n",
            "Non-trainable params: 0\n",
            "_________________________________________________________________\n"
          ],
          "name": "stdout"
        },
        {
          "output_type": "stream",
          "text": [
            "/usr/local/lib/python3.7/dist-packages/tensorflow/python/keras/optimizer_v2/optimizer_v2.py:375: UserWarning: The `lr` argument is deprecated, use `learning_rate` instead.\n",
            "  \"The `lr` argument is deprecated, use `learning_rate` instead.\")\n"
          ],
          "name": "stderr"
        }
      ]
    },
    {
      "cell_type": "markdown",
      "metadata": {
        "id": "SCbtTzrOSDK0"
      },
      "source": [
        "* Total params - total number of parameters\n",
        "* Trainable parameters - these are the parameters the model can update as it trains\n",
        "* Non-trainable params - these params are not updated during training (**transfer learning**)"
      ]
    },
    {
      "cell_type": "code",
      "metadata": {
        "colab": {
          "base_uri": "https://localhost:8080/"
        },
        "id": "SZGSaqJpR31m",
        "outputId": "dcaa9ffe-acef-4404-8740-cc793bf58944"
      },
      "source": [
        "#3. Fit a model\n",
        "model.fit(X_train , y_train , epochs = 100 , verbose = False)"
      ],
      "execution_count": 235,
      "outputs": [
        {
          "output_type": "execute_result",
          "data": {
            "text/plain": [
              "<tensorflow.python.keras.callbacks.History at 0x7fb1be837910>"
            ]
          },
          "metadata": {
            "tags": []
          },
          "execution_count": 235
        }
      ]
    },
    {
      "cell_type": "code",
      "metadata": {
        "colab": {
          "base_uri": "https://localhost:8080/",
          "height": 312
        },
        "id": "02ycl5z6jvb3",
        "outputId": "e9326559-d58f-46e8-e4cf-4afdc9810860"
      },
      "source": [
        "from tensorflow.keras.utils import plot_model\n",
        "plot_model(model = model , show_shapes=True)"
      ],
      "execution_count": 236,
      "outputs": [
        {
          "output_type": "execute_result",
          "data": {
            "image/png": "[encoded data removed]",
            "text/plain": [
              "<IPython.core.display.Image object>"
            ]
          },
          "metadata": {
            "tags": []
          },
          "execution_count": 236
        }
      ]
    },
    {
      "cell_type": "markdown",
      "metadata": {
        "id": "CpMW_AtVkdun"
      },
      "source": [
        "## Visualising our model's prediction"
      ]
    },
    {
      "cell_type": "code",
      "metadata": {
        "id": "le43kh6_l1XV"
      },
      "source": [
        "# Predicting on test data\n",
        "\n",
        "y_pred = model.predict(X_test)"
      ],
      "execution_count": 237,
      "outputs": []
    },
    {
      "cell_type": "code",
      "metadata": {
        "id": "M6rfeP6cl7D-"
      },
      "source": [
        "def prediction_plot(train_data = X_train, test_data = X_test, train_labels = y_train, test_labels = y_test, predictions = y_pred):\n",
        "\n",
        "    plt.figure(figsize = (12,9))\n",
        "\n",
        "    sns.scatterplot(x = train_data  , y = train_labels , color = 'blue' , label = 'training data')\n",
        "\n",
        "    sns.scatterplot(x = test_data , y = test_labels , color = 'green' , label = 'test_data')\n",
        "\n",
        "    sns.scatterplot(x = test_data , y = predictions , color = 'red' , label = 'predictions')"
      ],
      "execution_count": 238,
      "outputs": []
    },
    {
      "cell_type": "code",
      "metadata": {
        "colab": {
          "base_uri": "https://localhost:8080/",
          "height": 540
        },
        "id": "CuznBlQJnrH3",
        "outputId": "8739be38-58bf-4831-88fb-1dbbb2617241"
      },
      "source": [
        "prediction_plot(X_train , X_test , y_train , y_test , tf.squeeze(y_pred))"
      ],
      "execution_count": 239,
      "outputs": [
        {
          "output_type": "display_data",
          "data": {
            "image/png": "[encoded data removed]",
            "text/plain": [
              "<Figure size 864x648 with 1 Axes>"
            ]
          },
          "metadata": {
            "tags": []
          }
        }
      ]
    },
    {
      "cell_type": "markdown",
      "metadata": {
        "id": "OE3caaIsoVL8"
      },
      "source": [
        "## Evaluating our model predictions with regression evaluation metrics\n",
        "\n",
        "- 2 of the main metrics:\n",
        "  - MAE : Mean Absolute Error\n",
        "  - MSE : Mean Squared Error"
      ]
    },
    {
      "cell_type": "code",
      "metadata": {
        "colab": {
          "base_uri": "https://localhost:8080/"
        },
        "id": "VexTSneatvcK",
        "outputId": "7fca91ea-be7a-425a-d675-1b577004bb49"
      },
      "source": [
        "# Evaluate the model on the test\n",
        "model.evaluate(X_test , y_test)"
      ],
      "execution_count": 240,
      "outputs": [
        {
          "output_type": "stream",
          "text": [
            "1/1 [==============================] - 0s 75ms/step - loss: 7.3502 - mean_absolute_error: 7.3502\n"
          ],
          "name": "stdout"
        },
        {
          "output_type": "execute_result",
          "data": {
            "text/plain": [
              "[7.350157260894775, 7.350157260894775]"
            ]
          },
          "metadata": {
            "tags": []
          },
          "execution_count": 240
        }
      ]
    },
    {
      "cell_type": "code",
      "metadata": {
        "colab": {
          "base_uri": "https://localhost:8080/"
        },
        "id": "gf1timE9uNfy",
        "outputId": "b2fa6157-456e-401f-935e-fc7e9d640f20"
      },
      "source": [
        "# y_pred and y_test not in the same shape\n",
        "y_pred.shape , y_test.shape"
      ],
      "execution_count": 241,
      "outputs": [
        {
          "output_type": "execute_result",
          "data": {
            "text/plain": [
              "((10, 1), TensorShape([10]))"
            ]
          },
          "metadata": {
            "tags": []
          },
          "execution_count": 241
        }
      ]
    },
    {
      "cell_type": "code",
      "metadata": {
        "id": "MUrkbDPWuxpr"
      },
      "source": [
        "y_pred = tf.squeeze(y_pred)"
      ],
      "execution_count": 242,
      "outputs": []
    },
    {
      "cell_type": "code",
      "metadata": {
        "colab": {
          "base_uri": "https://localhost:8080/"
        },
        "id": "-gU-xAoYt1zR",
        "outputId": "06783391-f63c-45ab-aa38-176bebfbf7a2"
      },
      "source": [
        "mae = tf.metrics.mean_absolute_error(y_true = y_test,\n",
        "                                     y_pred = y_pred)\n",
        "mae"
      ],
      "execution_count": 243,
      "outputs": [
        {
          "output_type": "execute_result",
          "data": {
            "text/plain": [
              "<tf.Tensor: shape=(), dtype=float32, numpy=7.3501573>"
            ]
          },
          "metadata": {
            "tags": []
          },
          "execution_count": 243
        }
      ]
    },
    {
      "cell_type": "code",
      "metadata": {
        "colab": {
          "base_uri": "https://localhost:8080/"
        },
        "id": "dLvZrAqnv1sy",
        "outputId": "eed3f5a5-ba2a-4f09-89b6-b4b31edb124f"
      },
      "source": [
        "mse = tf.metrics.mean_squared_error(y_true = y_test,\n",
        "                                    y_pred = y_pred)\n",
        "\n",
        "mse"
      ],
      "execution_count": 244,
      "outputs": [
        {
          "output_type": "execute_result",
          "data": {
            "text/plain": [
              "<tf.Tensor: shape=(), dtype=float32, numpy=54.34441>"
            ]
          },
          "metadata": {
            "tags": []
          },
          "execution_count": 244
        }
      ]
    },
    {
      "cell_type": "code",
      "metadata": {
        "id": "Ws-ye3msv_ez"
      },
      "source": [
        "# Making Function for MAE and MSE\n",
        "\n",
        "y_pred = tf.squeeze(y_pred)\n",
        "\n",
        "def mae(y_true , y_pred):\n",
        "  return tf.metrics.mean_absolute_error(y_true = y_true,\n",
        "                                        y_test = y_test)\n",
        "  \n",
        "def mse(y_true , y_pred):\n",
        "  return tf.metrics.mean_squared_error(y_true = y_true,\n",
        "                                       y_test = y_test)"
      ],
      "execution_count": 245,
      "outputs": []
    },
    {
      "cell_type": "markdown",
      "metadata": {
        "id": "Mv5TOXwbwneN"
      },
      "source": [
        "# Running Experiment to Improve Our Model\n",
        "\n",
        "1. More data for model to train on\n",
        "2. Make model larger and complex(more layers , more hidden units)\n",
        "3. Train for longer - more time for model to find pattern\n",
        "4. Perform 3 simple modelling experiment with varying parameter\n",
        "  - `model_1` : 1 layer for 100 epochs\n",
        "  - `model_2` : 2 layer for 100 epochs\n",
        "  - `model_3` : 2 layer for 500 epochs"
      ]
    },
    {
      "cell_type": "markdown",
      "metadata": {
        "id": "wZ_U-J7U18sG"
      },
      "source": [
        "### Build `Model 1`"
      ]
    },
    {
      "cell_type": "code",
      "metadata": {
        "colab": {
          "base_uri": "https://localhost:8080/"
        },
        "id": "6NDdNIR52p0U",
        "outputId": "1d7944bd-d914-4d8b-9e99-1112f40699c8"
      },
      "source": [
        "tf.random.set_seed(42)\n",
        "\n",
        "#Step 1 : Create a model\n",
        "model_1 = tf.keras.Sequential([\n",
        "  tf.keras.layers.Dense(1)\n",
        "])\n",
        "\n",
        "# Step 2 : Compile the model\n",
        "\n",
        "model_1.compile(loss = tf.losses.mae,\n",
        "                optimizer = tf.optimizers.SGD(),\n",
        "                metrics = tf.metrics.mae)\n",
        "\n",
        "# Step 3 : Fit the model\n",
        "model_1.fit(X_train , y_train , epochs = 100 , verbose = False)\n"
      ],
      "execution_count": 246,
      "outputs": [
        {
          "output_type": "execute_result",
          "data": {
            "text/plain": [
              "<tensorflow.python.keras.callbacks.History at 0x7fb1be33fc50>"
            ]
          },
          "metadata": {
            "tags": []
          },
          "execution_count": 246
        }
      ]
    },
    {
      "cell_type": "code",
      "metadata": {
        "colab": {
          "base_uri": "https://localhost:8080/"
        },
        "id": "SKkl8G4b2xSl",
        "outputId": "5b54b80a-b177-4792-f5e1-f2622e68b385"
      },
      "source": [
        "# Plot prediction model 1 against actual label\n",
        "y_preds_1 = model_1.predict(X_test)\n",
        "y_preds_1.shape"
      ],
      "execution_count": 247,
      "outputs": [
        {
          "output_type": "execute_result",
          "data": {
            "text/plain": [
              "(10, 1)"
            ]
          },
          "metadata": {
            "tags": []
          },
          "execution_count": 247
        }
      ]
    },
    {
      "cell_type": "code",
      "metadata": {
        "colab": {
          "base_uri": "https://localhost:8080/",
          "height": 540
        },
        "id": "OtkzPdSQ5LtW",
        "outputId": "a127c8fa-c2c5-42ba-f7b3-f5e031db4983"
      },
      "source": [
        "prediction_plot(predictions = tf.squeeze(y_preds_1))"
      ],
      "execution_count": 248,
      "outputs": [
        {
          "output_type": "display_data",
          "data": {
            "image/png": "[encoded data removed]",
            "text/plain": [
              "<Figure size 864x648 with 1 Axes>"
            ]
          },
          "metadata": {
            "tags": []
          }
        }
      ]
    },
    {
      "cell_type": "code",
      "metadata": {
        "id": "C19OeKp47eur",
        "colab": {
          "base_uri": "https://localhost:8080/"
        },
        "outputId": "b651d0ed-070c-4a2e-a66e-9f55fbbb99e4"
      },
      "source": [
        "# Metrics for model 1\n",
        "mae_1 = tf.metrics.mae(y_test , tf.squeeze(y_preds_1))\n",
        "mse_1 = tf.metrics.mse(y_test , tf.squeeze(y_preds_1))\n",
        "mae_1 , mse_1"
      ],
      "execution_count": 249,
      "outputs": [
        {
          "output_type": "execute_result",
          "data": {
            "text/plain": [
              "(<tf.Tensor: shape=(), dtype=float32, numpy=18.745327>,\n",
              " <tf.Tensor: shape=(), dtype=float32, numpy=353.57336>)"
            ]
          },
          "metadata": {
            "tags": []
          },
          "execution_count": 249
        }
      ]
    },
    {
      "cell_type": "markdown",
      "metadata": {
        "id": "IsVDzUsY7mAz"
      },
      "source": [
        "## Build `Model 2`\n",
        " - 2 dense layer with 100 epochs"
      ]
    },
    {
      "cell_type": "code",
      "metadata": {
        "colab": {
          "base_uri": "https://localhost:8080/"
        },
        "id": "Abbu96Nn-wIi",
        "outputId": "f9f6273e-04d3-482d-b9b9-fbcb2363114f"
      },
      "source": [
        "tf.random.set_seed(42)\n",
        "\n",
        "# Step 1 : Create a model\n",
        "model_2 = tf.keras.Sequential([\n",
        "                               tf.keras.layers.Dense(10),\n",
        "                               tf.keras.layers.Dense(1)\n",
        "])\n",
        "\n",
        "# Step 2 : Compile a model\n",
        "model_2.compile(loss = tf.keras.losses.mae,\n",
        "                optimizer = tf.keras.optimizers.SGD(),\n",
        "                metrics = tf.keras.metrics.mse)\n",
        "\n",
        "#Step 3 : Fit the mode\n",
        "model_2.fit(X_train , y_train , epochs = 100 , verbose = False)"
      ],
      "execution_count": 250,
      "outputs": [
        {
          "output_type": "execute_result",
          "data": {
            "text/plain": [
              "<tensorflow.python.keras.callbacks.History at 0x7fb1bdf18e50>"
            ]
          },
          "metadata": {
            "tags": []
          },
          "execution_count": 250
        }
      ]
    },
    {
      "cell_type": "code",
      "metadata": {
        "colab": {
          "base_uri": "https://localhost:8080/",
          "height": 540
        },
        "id": "A4wnF_y1_I5C",
        "outputId": "cfef7ea1-d1e7-46d9-9a09-d221f2815607"
      },
      "source": [
        "# Plot prediction model 2 against actual label\n",
        "y_preds_2 = model_2.predict(X_test)\n",
        "prediction_plot(predictions = tf.squeeze(y_preds_2))"
      ],
      "execution_count": 251,
      "outputs": [
        {
          "output_type": "display_data",
          "data": {
            "image/png": "[encoded data removed]",
            "text/plain": [
              "<Figure size 864x648 with 1 Axes>"
            ]
          },
          "metadata": {
            "tags": []
          }
        }
      ]
    },
    {
      "cell_type": "code",
      "metadata": {
        "colab": {
          "base_uri": "https://localhost:8080/"
        },
        "id": "RbpCzVcuACpJ",
        "outputId": "339aa7c0-de4a-461a-9baa-9070be47f3d7"
      },
      "source": [
        "# Metrics for model 2\n",
        "mae_2 = tf.metrics.mae(y_test , tf.squeeze(y_preds_2))\n",
        "mse_2 = tf.metrics.mse(y_test , tf.squeeze(y_preds_2))\n",
        "mae_2 , mse_2"
      ],
      "execution_count": 252,
      "outputs": [
        {
          "output_type": "execute_result",
          "data": {
            "text/plain": [
              "(<tf.Tensor: shape=(), dtype=float32, numpy=3.1969407>,\n",
              " <tf.Tensor: shape=(), dtype=float32, numpy=13.070143>)"
            ]
          },
          "metadata": {
            "tags": []
          },
          "execution_count": 252
        }
      ]
    },
    {
      "cell_type": "markdown",
      "metadata": {
        "id": "ZqpilKzHAprg"
      },
      "source": [
        "## Build `Model 3`\n",
        " - 2 layers with 500 epochs"
      ]
    },
    {
      "cell_type": "code",
      "metadata": {
        "colab": {
          "base_uri": "https://localhost:8080/"
        },
        "id": "Pmluct7rAxUh",
        "outputId": "de7aa568-0049-457c-c321-e668d730a875"
      },
      "source": [
        "tf.random.set_seed(42)\n",
        "\n",
        "# Step 1 : Create a model\n",
        "\n",
        "model_3 =  tf.keras.Sequential([\n",
        "                                tf.keras.layers.Dense(10),\n",
        "                                tf.keras.layers.Dense(1),\n",
        "\n",
        "])\n",
        "\n",
        "# Step 2 : Compile the model\n",
        "model_3.compile(loss = tf.keras.losses.mae,\n",
        "                optimizer = tf.keras.optimizers.SGD(),\n",
        "                metrics = tf.keras.metrics.mae)\n",
        "\n",
        "# Step 3 : Fit the model\n",
        "model_3.fit(X_train , y_train , epochs = 500 , verbose = False)"
      ],
      "execution_count": 253,
      "outputs": [
        {
          "output_type": "execute_result",
          "data": {
            "text/plain": [
              "<tensorflow.python.keras.callbacks.History at 0x7fb1bddd3710>"
            ]
          },
          "metadata": {
            "tags": []
          },
          "execution_count": 253
        }
      ]
    },
    {
      "cell_type": "code",
      "metadata": {
        "colab": {
          "base_uri": "https://localhost:8080/",
          "height": 540
        },
        "id": "pzFWX3OjBkDP",
        "outputId": "5a877074-6b0b-4610-d5fb-27b9e5e425e6"
      },
      "source": [
        "# Plot prediction model 3 against actual label\n",
        "y_preds_3 = model_3.predict(X_test)\n",
        "prediction_plot(predictions = tf.squeeze(y_preds_3))"
      ],
      "execution_count": 254,
      "outputs": [
        {
          "output_type": "display_data",
          "data": {
            "image/png": "[encoded data removed]",
            "text/plain": [
              "<Figure size 864x648 with 1 Axes>"
            ]
          },
          "metadata": {
            "tags": []
          }
        }
      ]
    },
    {
      "cell_type": "code",
      "metadata": {
        "colab": {
          "base_uri": "https://localhost:8080/"
        },
        "id": "litOR62oCDKY",
        "outputId": "7dfaff39-b9eb-4277-9ba3-2923b92329c8"
      },
      "source": [
        "mae_3 = tf.metrics.mae(y_test , tf.squeeze(y_preds_3))\n",
        "mse_3 = tf.metrics.mse(y_test , tf.squeeze(y_preds_3))\n",
        "mae_3 , mse_3"
      ],
      "execution_count": 255,
      "outputs": [
        {
          "output_type": "execute_result",
          "data": {
            "text/plain": [
              "(<tf.Tensor: shape=(), dtype=float32, numpy=68.713615>,\n",
              " <tf.Tensor: shape=(), dtype=float32, numpy=4808.0273>)"
            ]
          },
          "metadata": {
            "tags": []
          },
          "execution_count": 255
        }
      ]
    },
    {
      "cell_type": "markdown",
      "metadata": {
        "id": "nKEwVsgGCM4o"
      },
      "source": [
        "# Comparing Results Visually\n",
        "- Base on comparison between these simple models , model 2 perform the best\n",
        "- Model 3 , although more epochs , seem to be overfitted\n",
        "- Main objective is to minimize the time between experiments. The more experiment executed , the more we able to figure what work and what don't"
      ]
    },
    {
      "cell_type": "code",
      "metadata": {
        "colab": {
          "base_uri": "https://localhost:8080/",
          "height": 141
        },
        "id": "eVxi214nCZlo",
        "outputId": "9620ad31-0f8e-4468-deb2-ce6d530f3dbc"
      },
      "source": [
        "model_result = [['model_1' , mae_1.numpy() , mse_1.numpy()],\n",
        "                ['model_2' , mae_2.numpy() , mse_2.numpy()],\n",
        "                ['model_3' , mae_3.numpy() , mse_3.numpy()]]\n",
        "\n",
        "df_model_result = pd.DataFrame(data = model_result,\n",
        "                               columns = ['Model' , 'MAE' , 'MSE'])\n",
        "df_model_result"
      ],
      "execution_count": 256,
      "outputs": [
        {
          "output_type": "execute_result",
          "data": {
            "text/html": [
              "<div>\n",
              "<style scoped>\n",
              "    .dataframe tbody tr th:only-of-type {\n",
              "        vertical-align: middle;\n",
              "    }\n",
              "\n",
              "    .dataframe tbody tr th {\n",
              "        vertical-align: top;\n",
              "    }\n",
              "\n",
              "    .dataframe thead th {\n",
              "        text-align: right;\n",
              "    }\n",
              "</style>\n",
              "<table border=\"1\" class=\"dataframe\">\n",
              "  <thead>\n",
              "    <tr style=\"text-align: right;\">\n",
              "      <th></th>\n",
              "      <th>Model</th>\n",
              "      <th>MAE</th>\n",
              "      <th>MSE</th>\n",
              "    </tr>\n",
              "  </thead>\n",
              "  <tbody>\n",
              "    <tr>\n",
              "      <th>0</th>\n",
              "      <td>model_1</td>\n",
              "      <td>18.745327</td>\n",
              "      <td>353.573364</td>\n",
              "    </tr>\n",
              "    <tr>\n",
              "      <th>1</th>\n",
              "      <td>model_2</td>\n",
              "      <td>3.196941</td>\n",
              "      <td>13.070143</td>\n",
              "    </tr>\n",
              "    <tr>\n",
              "      <th>2</th>\n",
              "      <td>model_3</td>\n",
              "      <td>68.713615</td>\n",
              "      <td>4808.027344</td>\n",
              "    </tr>\n",
              "  </tbody>\n",
              "</table>\n",
              "</div>"
            ],
            "text/plain": [
              "     Model        MAE          MSE\n",
              "0  model_1  18.745327   353.573364\n",
              "1  model_2   3.196941    13.070143\n",
              "2  model_3  68.713615  4808.027344"
            ]
          },
          "metadata": {
            "tags": []
          },
          "execution_count": 256
        }
      ]
    },
    {
      "cell_type": "code",
      "metadata": {
        "colab": {
          "base_uri": "https://localhost:8080/"
        },
        "id": "jBoT9fYVEbuP",
        "outputId": "e5ec41d6-af9c-4818-e4d2-c3bd54dccef2"
      },
      "source": [
        "model_2.summary()"
      ],
      "execution_count": 257,
      "outputs": [
        {
          "output_type": "stream",
          "text": [
            "Model: \"sequential_44\"\n",
            "_________________________________________________________________\n",
            "Layer (type)                 Output Shape              Param #   \n",
            "=================================================================\n",
            "dense_92 (Dense)             (None, 10)                20        \n",
            "_________________________________________________________________\n",
            "dense_93 (Dense)             (None, 1)                 11        \n",
            "=================================================================\n",
            "Total params: 31\n",
            "Trainable params: 31\n",
            "Non-trainable params: 0\n",
            "_________________________________________________________________\n"
          ],
          "name": "stdout"
        }
      ]
    },
    {
      "cell_type": "markdown",
      "metadata": {
        "id": "DkmKtirvG6Kv"
      },
      "source": [
        "# Practise Modelling with Data from Kaggle : Medical Dataset (W/O Normalizing & Standardising)\n",
        "- Source : https://www.kaggle.com/mirichoi0218/insurance\n",
        "- Source : https://raw.githubusercontent.com/stedy/Machine-Learning-with-R-datasets/master/insurance.csv\n"
      ]
    },
    {
      "cell_type": "code",
      "metadata": {
        "id": "GxdYFbiKEwW_"
      },
      "source": [
        "df_insurance = pd.read_csv(\"https://raw.githubusercontent.com/stedy/Machine-Learning-with-R-datasets/master/insurance.csv\")"
      ],
      "execution_count": 258,
      "outputs": []
    },
    {
      "cell_type": "code",
      "metadata": {
        "colab": {
          "base_uri": "https://localhost:8080/",
          "height": 202
        },
        "id": "mTlPSR33HW42",
        "outputId": "aa5ec4a8-c7c3-4950-a041-3b724cb239ac"
      },
      "source": [
        "# Exploring df_insurance dataset\n",
        "df_insurance.head()"
      ],
      "execution_count": 259,
      "outputs": [
        {
          "output_type": "execute_result",
          "data": {
            "text/html": [
              "<div>\n",
              "<style scoped>\n",
              "    .dataframe tbody tr th:only-of-type {\n",
              "        vertical-align: middle;\n",
              "    }\n",
              "\n",
              "    .dataframe tbody tr th {\n",
              "        vertical-align: top;\n",
              "    }\n",
              "\n",
              "    .dataframe thead th {\n",
              "        text-align: right;\n",
              "    }\n",
              "</style>\n",
              "<table border=\"1\" class=\"dataframe\">\n",
              "  <thead>\n",
              "    <tr style=\"text-align: right;\">\n",
              "      <th></th>\n",
              "      <th>age</th>\n",
              "      <th>sex</th>\n",
              "      <th>bmi</th>\n",
              "      <th>children</th>\n",
              "      <th>smoker</th>\n",
              "      <th>region</th>\n",
              "      <th>charges</th>\n",
              "    </tr>\n",
              "  </thead>\n",
              "  <tbody>\n",
              "    <tr>\n",
              "      <th>0</th>\n",
              "      <td>19</td>\n",
              "      <td>female</td>\n",
              "      <td>27.900</td>\n",
              "      <td>0</td>\n",
              "      <td>yes</td>\n",
              "      <td>southwest</td>\n",
              "      <td>16884.92400</td>\n",
              "    </tr>\n",
              "    <tr>\n",
              "      <th>1</th>\n",
              "      <td>18</td>\n",
              "      <td>male</td>\n",
              "      <td>33.770</td>\n",
              "      <td>1</td>\n",
              "      <td>no</td>\n",
              "      <td>southeast</td>\n",
              "      <td>1725.55230</td>\n",
              "    </tr>\n",
              "    <tr>\n",
              "      <th>2</th>\n",
              "      <td>28</td>\n",
              "      <td>male</td>\n",
              "      <td>33.000</td>\n",
              "      <td>3</td>\n",
              "      <td>no</td>\n",
              "      <td>southeast</td>\n",
              "      <td>4449.46200</td>\n",
              "    </tr>\n",
              "    <tr>\n",
              "      <th>3</th>\n",
              "      <td>33</td>\n",
              "      <td>male</td>\n",
              "      <td>22.705</td>\n",
              "      <td>0</td>\n",
              "      <td>no</td>\n",
              "      <td>northwest</td>\n",
              "      <td>21984.47061</td>\n",
              "    </tr>\n",
              "    <tr>\n",
              "      <th>4</th>\n",
              "      <td>32</td>\n",
              "      <td>male</td>\n",
              "      <td>28.880</td>\n",
              "      <td>0</td>\n",
              "      <td>no</td>\n",
              "      <td>northwest</td>\n",
              "      <td>3866.85520</td>\n",
              "    </tr>\n",
              "  </tbody>\n",
              "</table>\n",
              "</div>"
            ],
            "text/plain": [
              "   age     sex     bmi  children smoker     region      charges\n",
              "0   19  female  27.900         0    yes  southwest  16884.92400\n",
              "1   18    male  33.770         1     no  southeast   1725.55230\n",
              "2   28    male  33.000         3     no  southeast   4449.46200\n",
              "3   33    male  22.705         0     no  northwest  21984.47061\n",
              "4   32    male  28.880         0     no  northwest   3866.85520"
            ]
          },
          "metadata": {
            "tags": []
          },
          "execution_count": 259
        }
      ]
    },
    {
      "cell_type": "code",
      "metadata": {
        "colab": {
          "base_uri": "https://localhost:8080/"
        },
        "id": "W-U4Kn3pHfB9",
        "outputId": "6ea73911-520e-4aa2-907e-909d78f26f22"
      },
      "source": [
        "df_insurance.info()"
      ],
      "execution_count": 260,
      "outputs": [
        {
          "output_type": "stream",
          "text": [
            "<class 'pandas.core.frame.DataFrame'>\n",
            "RangeIndex: 1338 entries, 0 to 1337\n",
            "Data columns (total 7 columns):\n",
            " #   Column    Non-Null Count  Dtype  \n",
            "---  ------    --------------  -----  \n",
            " 0   age       1338 non-null   int64  \n",
            " 1   sex       1338 non-null   object \n",
            " 2   bmi       1338 non-null   float64\n",
            " 3   children  1338 non-null   int64  \n",
            " 4   smoker    1338 non-null   object \n",
            " 5   region    1338 non-null   object \n",
            " 6   charges   1338 non-null   float64\n",
            "dtypes: float64(2), int64(2), object(3)\n",
            "memory usage: 73.3+ KB\n"
          ],
          "name": "stdout"
        }
      ]
    },
    {
      "cell_type": "markdown",
      "metadata": {
        "id": "DPKo-3l_Ij39"
      },
      "source": [
        "### One hot Encoding of Dataset\n",
        " - Required to convert non- numeric colummns into numeric as neural network cannot handle non-numeric input"
      ]
    },
    {
      "cell_type": "code",
      "metadata": {
        "id": "KdJJImFCJoNE"
      },
      "source": [
        "# One hot Encoding into numbers\n",
        "df_insurance = pd.get_dummies(df_insurance)"
      ],
      "execution_count": 261,
      "outputs": []
    },
    {
      "cell_type": "code",
      "metadata": {
        "colab": {
          "base_uri": "https://localhost:8080/",
          "height": 202
        },
        "id": "mhRzyV2kJsoN",
        "outputId": "8803e853-fd32-4299-f35a-4be8a863ec0a"
      },
      "source": [
        "df_insurance.head()"
      ],
      "execution_count": 262,
      "outputs": [
        {
          "output_type": "execute_result",
          "data": {
            "text/html": [
              "<div>\n",
              "<style scoped>\n",
              "    .dataframe tbody tr th:only-of-type {\n",
              "        vertical-align: middle;\n",
              "    }\n",
              "\n",
              "    .dataframe tbody tr th {\n",
              "        vertical-align: top;\n",
              "    }\n",
              "\n",
              "    .dataframe thead th {\n",
              "        text-align: right;\n",
              "    }\n",
              "</style>\n",
              "<table border=\"1\" class=\"dataframe\">\n",
              "  <thead>\n",
              "    <tr style=\"text-align: right;\">\n",
              "      <th></th>\n",
              "      <th>age</th>\n",
              "      <th>bmi</th>\n",
              "      <th>children</th>\n",
              "      <th>charges</th>\n",
              "      <th>sex_female</th>\n",
              "      <th>sex_male</th>\n",
              "      <th>smoker_no</th>\n",
              "      <th>smoker_yes</th>\n",
              "      <th>region_northeast</th>\n",
              "      <th>region_northwest</th>\n",
              "      <th>region_southeast</th>\n",
              "      <th>region_southwest</th>\n",
              "    </tr>\n",
              "  </thead>\n",
              "  <tbody>\n",
              "    <tr>\n",
              "      <th>0</th>\n",
              "      <td>19</td>\n",
              "      <td>27.900</td>\n",
              "      <td>0</td>\n",
              "      <td>16884.92400</td>\n",
              "      <td>1</td>\n",
              "      <td>0</td>\n",
              "      <td>0</td>\n",
              "      <td>1</td>\n",
              "      <td>0</td>\n",
              "      <td>0</td>\n",
              "      <td>0</td>\n",
              "      <td>1</td>\n",
              "    </tr>\n",
              "    <tr>\n",
              "      <th>1</th>\n",
              "      <td>18</td>\n",
              "      <td>33.770</td>\n",
              "      <td>1</td>\n",
              "      <td>1725.55230</td>\n",
              "      <td>0</td>\n",
              "      <td>1</td>\n",
              "      <td>1</td>\n",
              "      <td>0</td>\n",
              "      <td>0</td>\n",
              "      <td>0</td>\n",
              "      <td>1</td>\n",
              "      <td>0</td>\n",
              "    </tr>\n",
              "    <tr>\n",
              "      <th>2</th>\n",
              "      <td>28</td>\n",
              "      <td>33.000</td>\n",
              "      <td>3</td>\n",
              "      <td>4449.46200</td>\n",
              "      <td>0</td>\n",
              "      <td>1</td>\n",
              "      <td>1</td>\n",
              "      <td>0</td>\n",
              "      <td>0</td>\n",
              "      <td>0</td>\n",
              "      <td>1</td>\n",
              "      <td>0</td>\n",
              "    </tr>\n",
              "    <tr>\n",
              "      <th>3</th>\n",
              "      <td>33</td>\n",
              "      <td>22.705</td>\n",
              "      <td>0</td>\n",
              "      <td>21984.47061</td>\n",
              "      <td>0</td>\n",
              "      <td>1</td>\n",
              "      <td>1</td>\n",
              "      <td>0</td>\n",
              "      <td>0</td>\n",
              "      <td>1</td>\n",
              "      <td>0</td>\n",
              "      <td>0</td>\n",
              "    </tr>\n",
              "    <tr>\n",
              "      <th>4</th>\n",
              "      <td>32</td>\n",
              "      <td>28.880</td>\n",
              "      <td>0</td>\n",
              "      <td>3866.85520</td>\n",
              "      <td>0</td>\n",
              "      <td>1</td>\n",
              "      <td>1</td>\n",
              "      <td>0</td>\n",
              "      <td>0</td>\n",
              "      <td>1</td>\n",
              "      <td>0</td>\n",
              "      <td>0</td>\n",
              "    </tr>\n",
              "  </tbody>\n",
              "</table>\n",
              "</div>"
            ],
            "text/plain": [
              "   age     bmi  children  ...  region_northwest  region_southeast  region_southwest\n",
              "0   19  27.900         0  ...                 0                 0                 1\n",
              "1   18  33.770         1  ...                 0                 1                 0\n",
              "2   28  33.000         3  ...                 0                 1                 0\n",
              "3   33  22.705         0  ...                 1                 0                 0\n",
              "4   32  28.880         0  ...                 1                 0                 0\n",
              "\n",
              "[5 rows x 12 columns]"
            ]
          },
          "metadata": {
            "tags": []
          },
          "execution_count": 262
        }
      ]
    },
    {
      "cell_type": "markdown",
      "metadata": {
        "id": "NRhG5-EuKj9X"
      },
      "source": [
        "### Define dependant and indepedant variable , creating train and test sets"
      ]
    },
    {
      "cell_type": "code",
      "metadata": {
        "id": "_Baf6C29Jxj8"
      },
      "source": [
        "# Define target predicted data or dependent variable- charges\n",
        "# Define features or predictors or indepedant variable - everything except charges\n",
        "\n",
        "X = df_insurance.drop('charges' , axis = 1)\n",
        "y = df_insurance['charges']"
      ],
      "execution_count": 263,
      "outputs": []
    },
    {
      "cell_type": "code",
      "metadata": {
        "id": "x5aX5eWjKjgF"
      },
      "source": [
        "np.random.seed(42)\n",
        "\n",
        "X_train , X_test , y_train , y_test = train_test_split(X , y , test_size = 0.2 , random_state = 42)"
      ],
      "execution_count": 264,
      "outputs": []
    },
    {
      "cell_type": "markdown",
      "metadata": {
        "id": "gXL2Bm1SKT16"
      },
      "source": [
        "### Build & evaluate model"
      ]
    },
    {
      "cell_type": "code",
      "metadata": {
        "colab": {
          "base_uri": "https://localhost:8080/"
        },
        "id": "PdaoLRrRLNWd",
        "outputId": "6911189a-fbb2-4db4-d50f-fcf24539e1b2"
      },
      "source": [
        "tf.random.set_seed(42)\n",
        "\n",
        "# Step 1 : Create a model\n",
        "model_insurance_0 = tf.keras.Sequential([\n",
        "                                        tf.keras.layers.Dense(10),\n",
        "                                        tf.keras.layers.Dense(1)\n",
        "])\n",
        "\n",
        "# Step 2 : Compile a model\n",
        "model_insurance_0.compile(loss = tf.keras.losses.mae,\n",
        "                          optimizer = tf.keras.optimizers.SGD(),\n",
        "                          metrics = tf.keras.metrics.mae)\n",
        "\n",
        "# Step 3 : Fit a model\n",
        "model_insurance_0.fit(X_train , y_train , epochs = 100 , verbose = False)"
      ],
      "execution_count": 265,
      "outputs": [
        {
          "output_type": "execute_result",
          "data": {
            "text/plain": [
              "<tensorflow.python.keras.callbacks.History at 0x7fb1bce7df90>"
            ]
          },
          "metadata": {
            "tags": []
          },
          "execution_count": 265
        }
      ]
    },
    {
      "cell_type": "code",
      "metadata": {
        "colab": {
          "base_uri": "https://localhost:8080/"
        },
        "id": "0yBlqbDULt60",
        "outputId": "c6ce0634-1561-4069-eb71-52154efbb51b"
      },
      "source": [
        "# Evaluate the model : Model is not performing very well of the scoring\n",
        "print(model_insurance_0.evaluate(X_test , y_test))\n",
        "print('Median of y_train:' , y_train.median())\n",
        "print('Mean of y_train:' , y_train.mean())"
      ],
      "execution_count": 266,
      "outputs": [
        {
          "output_type": "stream",
          "text": [
            "9/9 [==============================] - 0s 1ms/step - loss: 7023.3291 - mean_absolute_error: 7023.3291\n",
            "[7023.3291015625, 7023.3291015625]\n",
            "Median of y_train: 9575.4421\n",
            "Mean of y_train: 13346.089736364489\n"
          ],
          "name": "stdout"
        }
      ]
    },
    {
      "cell_type": "markdown",
      "metadata": {
        "id": "4EEY8UTlMRKr"
      },
      "source": [
        "### Improving Model and re-evaluating model\n",
        "\n",
        "- `Model_1` : Added 1 more layer and change optimizer to Adam"
      ]
    },
    {
      "cell_type": "code",
      "metadata": {
        "id": "0W5jGUKFMxW8"
      },
      "source": [
        "# Model Insurance 1\n",
        "tf.random.set_seed(42)\n",
        "\n",
        "# Step 1 : Create a model\n",
        "model_insurance_1 = tf.keras.Sequential([\n",
        "                                         tf.keras.layers.Dense(100),\n",
        "                                         tf.keras.layers.Dense(10),\n",
        "                                         tf.keras.layers.Dense(1)\n",
        "])\n",
        "\n",
        "# Step 2 : Compile a model\n",
        "model_insurance_1.compile(loss = tf.keras.losses.mae,\n",
        "                          optimizer = tf.keras.optimizers.Adam(),\n",
        "                          metrics = tf.keras.metrics.mae)\n",
        "\n",
        "# Fit the model\n",
        "history_1 = model_insurance_1.fit(X_train , y_train , epochs = 100 , verbose = False)"
      ],
      "execution_count": 267,
      "outputs": []
    },
    {
      "cell_type": "code",
      "metadata": {
        "colab": {
          "base_uri": "https://localhost:8080/"
        },
        "id": "-SDn-37WOXN7",
        "outputId": "4c5de309-182a-409c-9469-b9f98500d76a"
      },
      "source": [
        "# Evaluate the model_1 : Model is slightly better then then base model\n",
        "print(model_insurance_1.evaluate(X_test , y_test))\n",
        "print('Median of y_train:' , y_train.median())\n",
        "print('Mean of y_train:' , y_train.mean())"
      ],
      "execution_count": 268,
      "outputs": [
        {
          "output_type": "stream",
          "text": [
            "9/9 [==============================] - 0s 1ms/step - loss: 4924.5093 - mean_absolute_error: 4924.5093\n",
            "[4924.50927734375, 4924.50927734375]\n",
            "Median of y_train: 9575.4421\n",
            "Mean of y_train: 13346.089736364489\n"
          ],
          "name": "stdout"
        }
      ]
    },
    {
      "cell_type": "code",
      "metadata": {
        "colab": {
          "base_uri": "https://localhost:8080/",
          "height": 557
        },
        "id": "S44FvroQSAXC",
        "outputId": "2ceba141-a3c1-4b9e-b4f4-5cb71b298404"
      },
      "source": [
        "# Plot history for model 1( loss curve or training curve)\n",
        "\n",
        "pd.DataFrame(history_1.history).plot(figsize = (12,9))\n",
        "plt.xlabel('epochs')\n",
        "plt.ylabel('loss')\n",
        "plt.show()"
      ],
      "execution_count": 269,
      "outputs": [
        {
          "output_type": "display_data",
          "data": {
            "image/png": "[encoded data removed]",
            "text/plain": [
              "<Figure size 864x648 with 1 Axes>"
            ]
          },
          "metadata": {
            "tags": []
          }
        }
      ]
    },
    {
      "cell_type": "code",
      "metadata": {
        "id": "O0HLt6tbOit7"
      },
      "source": [
        "# Model Insurance 2\n",
        "tf.random.set_seed(42)\n",
        "\n",
        "# Step 1 : Create a model\n",
        "model_insurance_2 = tf.keras.Sequential([\n",
        "                                         tf.keras.layers.Dense(100),\n",
        "                                         tf.keras.layers.Dense(10),\n",
        "                                         tf.keras.layers.Dense(1)\n",
        "                                        ])\n",
        "# Step 2 : Compile the model\n",
        "model_insurance_2.compile(loss = tf.keras.losses.mae,\n",
        "                          optimizer = tf.keras.optimizers.Adam(),\n",
        "                          metrics = tf.keras.metrics.mae)\n",
        "\n",
        "# Step 3 : Fit the model\n",
        "history_2 = model_insurance_2.fit(X_train , y_train , epochs = 200 , verbose = False)"
      ],
      "execution_count": 270,
      "outputs": []
    },
    {
      "cell_type": "code",
      "metadata": {
        "colab": {
          "base_uri": "https://localhost:8080/"
        },
        "id": "LRk6Ig9CP7Zz",
        "outputId": "686cdc0d-f345-4a04-df67-05630eae2422"
      },
      "source": [
        "# Evaluate the model_2 : The losses though improved , is still very huge\n",
        "\n",
        "model_insurance_2.evaluate(X_test , y_test)\n",
        "print('Median of y_train:' , y_train.median())\n",
        "print('Mean of y_train:' , y_train.mean())"
      ],
      "execution_count": 271,
      "outputs": [
        {
          "output_type": "stream",
          "text": [
            "9/9 [==============================] - 0s 1ms/step - loss: 3494.5291 - mean_absolute_error: 3494.5291\n",
            "Median of y_train: 9575.4421\n",
            "Mean of y_train: 13346.089736364489\n"
          ],
          "name": "stdout"
        }
      ]
    },
    {
      "cell_type": "code",
      "metadata": {
        "colab": {
          "base_uri": "https://localhost:8080/",
          "height": 557
        },
        "id": "dM7wCi18QMCS",
        "outputId": "d0e7fe59-fcea-4a60-996b-d870383f378e"
      },
      "source": [
        "# Plot history( loss curve or training curve)\n",
        "\n",
        "pd.DataFrame(history_2.history).plot(figsize = (12,9))\n",
        "plt.xlabel('epochs')\n",
        "plt.ylabel('loss')\n",
        "plt.show()"
      ],
      "execution_count": 272,
      "outputs": [
        {
          "output_type": "display_data",
          "data": {
            "image/png": "[encoded data removed]",
            "text/plain": [
              "<Figure size 864x648 with 1 Axes>"
            ]
          },
          "metadata": {
            "tags": []
          }
        }
      ]
    },
    {
      "cell_type": "markdown",
      "metadata": {
        "id": "HQvLTKtyQeI6"
      },
      "source": [
        "### Could we further improve the model and reduce the score?\n",
        "- Try Normalising - scaling all values from their original range to be between 0 and 1\n",
        "- Try Standardisation - converts all data to unit variance and 0 mean.\n",
        "-  Neural networks tend to **favour normalization** as they tend to prefer values between 0 and 1 although it can perform pretty well with minimal feature scaling."
      ]
    },
    {
      "cell_type": "markdown",
      "metadata": {
        "id": "iXixbOH_TDUn"
      },
      "source": [
        "# Practise Modelling with Data from Kaggle : Medical Dataset (Preprocessing Normalizing & Standardising)\n",
        "- Source : https://www.kaggle.com/mirichoi0218/insurance\n",
        "- Source : https://raw.githubusercontent.com/stedy/Machine-Learning-with-R-datasets/master/insurance.csv"
      ]
    },
    {
      "cell_type": "code",
      "metadata": {
        "colab": {
          "base_uri": "https://localhost:8080/",
          "height": 205
        },
        "id": "ssVjqf_1UVgx",
        "outputId": "fc6a209a-207d-4bba-828d-709d92697263"
      },
      "source": [
        "### Reinitiate Dataset\n",
        "df_insurance = pd.read_csv(\"https://raw.githubusercontent.com/stedy/Machine-Learning-with-R-datasets/master/insurance.csv\")\n",
        "df_insurance.head()"
      ],
      "execution_count": 273,
      "outputs": [
        {
          "output_type": "execute_result",
          "data": {
            "text/html": [
              "<div>\n",
              "<style scoped>\n",
              "    .dataframe tbody tr th:only-of-type {\n",
              "        vertical-align: middle;\n",
              "    }\n",
              "\n",
              "    .dataframe tbody tr th {\n",
              "        vertical-align: top;\n",
              "    }\n",
              "\n",
              "    .dataframe thead th {\n",
              "        text-align: right;\n",
              "    }\n",
              "</style>\n",
              "<table border=\"1\" class=\"dataframe\">\n",
              "  <thead>\n",
              "    <tr style=\"text-align: right;\">\n",
              "      <th></th>\n",
              "      <th>age</th>\n",
              "      <th>sex</th>\n",
              "      <th>bmi</th>\n",
              "      <th>children</th>\n",
              "      <th>smoker</th>\n",
              "      <th>region</th>\n",
              "      <th>charges</th>\n",
              "    </tr>\n",
              "  </thead>\n",
              "  <tbody>\n",
              "    <tr>\n",
              "      <th>0</th>\n",
              "      <td>19</td>\n",
              "      <td>female</td>\n",
              "      <td>27.900</td>\n",
              "      <td>0</td>\n",
              "      <td>yes</td>\n",
              "      <td>southwest</td>\n",
              "      <td>16884.92400</td>\n",
              "    </tr>\n",
              "    <tr>\n",
              "      <th>1</th>\n",
              "      <td>18</td>\n",
              "      <td>male</td>\n",
              "      <td>33.770</td>\n",
              "      <td>1</td>\n",
              "      <td>no</td>\n",
              "      <td>southeast</td>\n",
              "      <td>1725.55230</td>\n",
              "    </tr>\n",
              "    <tr>\n",
              "      <th>2</th>\n",
              "      <td>28</td>\n",
              "      <td>male</td>\n",
              "      <td>33.000</td>\n",
              "      <td>3</td>\n",
              "      <td>no</td>\n",
              "      <td>southeast</td>\n",
              "      <td>4449.46200</td>\n",
              "    </tr>\n",
              "    <tr>\n",
              "      <th>3</th>\n",
              "      <td>33</td>\n",
              "      <td>male</td>\n",
              "      <td>22.705</td>\n",
              "      <td>0</td>\n",
              "      <td>no</td>\n",
              "      <td>northwest</td>\n",
              "      <td>21984.47061</td>\n",
              "    </tr>\n",
              "    <tr>\n",
              "      <th>4</th>\n",
              "      <td>32</td>\n",
              "      <td>male</td>\n",
              "      <td>28.880</td>\n",
              "      <td>0</td>\n",
              "      <td>no</td>\n",
              "      <td>northwest</td>\n",
              "      <td>3866.85520</td>\n",
              "    </tr>\n",
              "  </tbody>\n",
              "</table>\n",
              "</div>"
            ],
            "text/plain": [
              "   age     sex     bmi  children smoker     region      charges\n",
              "0   19  female  27.900         0    yes  southwest  16884.92400\n",
              "1   18    male  33.770         1     no  southeast   1725.55230\n",
              "2   28    male  33.000         3     no  southeast   4449.46200\n",
              "3   33    male  22.705         0     no  northwest  21984.47061\n",
              "4   32    male  28.880         0     no  northwest   3866.85520"
            ]
          },
          "metadata": {
            "tags": []
          },
          "execution_count": 273
        }
      ]
    },
    {
      "cell_type": "code",
      "metadata": {
        "id": "RHGe3UKGUX4R"
      },
      "source": [
        "# Create a columns transformer\n",
        "ct = make_column_transformer(\n",
        "  (MinMaxScaler() , ['age' , 'bmi' , 'children']),\n",
        "  (OneHotEncoder(handle_unknown = 'ignore') , ['sex' , 'smoker' , 'region'])\n",
        "                            )"
      ],
      "execution_count": 283,
      "outputs": []
    },
    {
      "cell_type": "code",
      "metadata": {
        "id": "KQMNQPgGVTNf"
      },
      "source": [
        "# Define dependant and independant variables\n",
        "X = df_insurance.drop('charges' , axis = 1)\n",
        "y = df_insurance['charges']\n",
        "\n",
        "\n",
        "# Train , Test , Split\n",
        "X_train, X_test, y_train, y_test = train_test_split(X, y, test_size=0.2, random_state=42)\n",
        "\n",
        "# Fit the column transformer to training data only (doing so on test data would result in data leakage)\n",
        "ct.fit(X_train)\n",
        "\n",
        "# Transform training and test data with MinMaxScalar and OneHotEncoder\n",
        "X_train_ss = ct.transform(X_train)\n",
        "X_test_ss = ct.transform(X_test)"
      ],
      "execution_count": 285,
      "outputs": []
    },
    {
      "cell_type": "code",
      "metadata": {
        "colab": {
          "base_uri": "https://localhost:8080/"
        },
        "id": "oX3aoIj8Yk4X",
        "outputId": "5b59d4c6-024b-4a54-baf7-8555fc528670"
      },
      "source": [
        "# Data before transformation\n",
        "\n",
        "X_train.loc[1]"
      ],
      "execution_count": 287,
      "outputs": [
        {
          "output_type": "execute_result",
          "data": {
            "text/plain": [
              "age                18\n",
              "sex              male\n",
              "bmi             33.77\n",
              "children            1\n",
              "smoker             no\n",
              "region      southeast\n",
              "Name: 1, dtype: object"
            ]
          },
          "metadata": {
            "tags": []
          },
          "execution_count": 287
        }
      ]
    },
    {
      "cell_type": "code",
      "metadata": {
        "colab": {
          "base_uri": "https://localhost:8080/"
        },
        "id": "2OR9W4XRV2Dw",
        "outputId": "bd35b09d-8892-4553-a957-e97c0dd85f92"
      },
      "source": [
        "# Data after transformation : 1st 3 number correspond to standardised numeric features (age , bmi , children) , \n",
        "# the subsequent array of 0 and 1 coorespond to the one hot encoded features\n",
        "\n",
        "X_train_ss[1]"
      ],
      "execution_count": 292,
      "outputs": [
        {
          "output_type": "execute_result",
          "data": {
            "text/plain": [
              "array([0.63043478, 0.22491256, 0.        , 1.        , 0.        ,\n",
              "       1.        , 0.        , 1.        , 0.        , 0.        ,\n",
              "       0.        ])"
            ]
          },
          "metadata": {
            "tags": []
          },
          "execution_count": 292
        }
      ]
    },
    {
      "cell_type": "markdown",
      "metadata": {
        "id": "GnK8WlgtZpiN"
      },
      "source": [
        "### Build & evalute model (With Transformed Data)\n",
        "- Build a model to fit our standardised data"
      ]
    },
    {
      "cell_type": "code",
      "metadata": {
        "colab": {
          "base_uri": "https://localhost:8080/"
        },
        "id": "RamwV7_7aS39",
        "outputId": "a80caa33-b1f6-4bc3-8276-75ce0437672d"
      },
      "source": [
        "# Taking parameters from previous model params\n",
        "model_insurance_2.summary()"
      ],
      "execution_count": 294,
      "outputs": [
        {
          "output_type": "stream",
          "text": [
            "Model: \"sequential_48\"\n",
            "_________________________________________________________________\n",
            "Layer (type)                 Output Shape              Param #   \n",
            "=================================================================\n",
            "dense_101 (Dense)            (None, 100)               1200      \n",
            "_________________________________________________________________\n",
            "dense_102 (Dense)            (None, 10)                1010      \n",
            "_________________________________________________________________\n",
            "dense_103 (Dense)            (None, 1)                 11        \n",
            "=================================================================\n",
            "Total params: 2,221\n",
            "Trainable params: 2,221\n",
            "Non-trainable params: 0\n",
            "_________________________________________________________________\n"
          ],
          "name": "stdout"
        }
      ]
    },
    {
      "cell_type": "code",
      "metadata": {
        "colab": {
          "base_uri": "https://localhost:8080/"
        },
        "id": "xkDlvwyhadd9",
        "outputId": "a66fa7c0-ff8a-448d-9d3c-5a143c1be349"
      },
      "source": [
        "tf.random.set_seed(42)\n",
        "\n",
        "# Step 1 : Create a model\n",
        "model_insurance_3 = tf.keras.Sequential([\n",
        "                                         tf.keras.layers.Dense(100),\n",
        "                                         tf.keras.layers.Dense(10),\n",
        "                                         tf.keras.layers.Dense(1)\n",
        "                                         ])\n",
        "\n",
        "# Step 2 : Compile the model\n",
        "model_insurance_3.compile(loss = tf.keras.losses.mae,\n",
        "                          optimizer = tf.keras.optimizers.Adam(lr = 0.01),\n",
        "                          metrics = tf.keras.metrics.mae)\n",
        "\n",
        "# Step 3 : Fit the model\n",
        "history_3 = model_insurance_3.fit(X_train_ss , y_train , epochs = 200 , verbose = False)"
      ],
      "execution_count": 306,
      "outputs": [
        {
          "output_type": "stream",
          "text": [
            "/usr/local/lib/python3.7/dist-packages/tensorflow/python/keras/optimizer_v2/optimizer_v2.py:375: UserWarning: The `lr` argument is deprecated, use `learning_rate` instead.\n",
            "  \"The `lr` argument is deprecated, use `learning_rate` instead.\")\n"
          ],
          "name": "stderr"
        }
      ]
    },
    {
      "cell_type": "code",
      "metadata": {
        "colab": {
          "base_uri": "https://localhost:8080/"
        },
        "id": "IMADzFT6a90V",
        "outputId": "4a6b2f41-93b9-47a0-c5f1-860a1ecd4a93"
      },
      "source": [
        "model_insurance_3.evaluate(X_test_ss , y_test)"
      ],
      "execution_count": 307,
      "outputs": [
        {
          "output_type": "stream",
          "text": [
            "9/9 [==============================] - 0s 1ms/step - loss: 3162.5098 - mean_absolute_error: 3162.5098\n"
          ],
          "name": "stdout"
        },
        {
          "output_type": "execute_result",
          "data": {
            "text/plain": [
              "[3162.509765625, 3162.509765625]"
            ]
          },
          "metadata": {
            "tags": []
          },
          "execution_count": 307
        }
      ]
    },
    {
      "cell_type": "code",
      "metadata": {
        "colab": {
          "base_uri": "https://localhost:8080/",
          "height": 719
        },
        "id": "2FPWGwxecZFF",
        "outputId": "757b2b80-b503-43a3-cca1-40554680c4e9"
      },
      "source": [
        "fig , (ax1 , ax2) = plt.subplots(1,2 , figsize = (16,12))\n",
        "\n",
        "pd.DataFrame(history_2.history).plot(ax = ax1)\n",
        "ax1.set_title('Epoch vs Loss for non-standardised Data')\n",
        "\n",
        "pd.DataFrame(history_3.history).plot(ax = ax2)\n",
        "ax2.set_title('Epoch vs Loss for Standardised Data')\n",
        "\n",
        "plt.show()"
      ],
      "execution_count": 316,
      "outputs": [
        {
          "output_type": "display_data",
          "data": {
            "image/png": "[encoded data removed]",
            "text/plain": [
              "<Figure size 1152x864 with 2 Axes>"
            ]
          },
          "metadata": {
            "tags": []
          }
        }
      ]
    },
    {
      "cell_type": "markdown",
      "metadata": {
        "id": "qrFhNQ7eb6s0"
      },
      "source": [
        "### Observation\n",
        "- Normalisation , Standardisation imporve convergence time\n",
        "- Normalisation does not guarentee an improvement of score , but it is certainly worth implementing given that for larger dataset , it will significantly save processing time"
      ]
    },
    {
      "cell_type": "code",
      "metadata": {
        "id": "gMCkPUu_dVrq"
      },
      "source": [
        ""
      ],
      "execution_count": null,
      "outputs": []
    }
  ]
}