{
  "nbformat": 4,
  "nbformat_minor": 0,
  "metadata": {
    "colab": {
      "name": "01_Neural_Network_Regression_With_Tensorflow.ipynb",
      "provenance": [],
      "collapsed_sections": [],
      "toc_visible": true,
      "mount_file_id": "1lYTuzC4lHMWKupoEya9NTGfjzYU2dW_0",
      "authorship_tag": "ABX9TyNqmqevhopeNcurW3jwNI2X",
      "include_colab_link": true
    },
    "kernelspec": {
      "name": "python3",
      "display_name": "Python 3"
    },
    "language_info": {
      "name": "python"
    }
  },
  "cells": [
    {
      "cell_type": "markdown",
      "metadata": {
        "id": "view-in-github",
        "colab_type": "text"
      },
      "source": [
        "<a href=\"https://colab.research.google.com/github/86lekwenshiung/Neural-Network-with-Tensorflow/blob/main/01_Neural_Network_Regression_With_Tensorflow.ipynb\" target=\"_parent\"><img src=\"https://colab.research.google.com/assets/colab-badge.svg\" alt=\"Open In Colab\"/></a>"
      ]
    },
    {
      "cell_type": "markdown",
      "metadata": {
        "id": "W_vSGRL9KJCe"
      },
      "source": [
        "# Regression with Neural Network in Tensorflow\n",
        "\n",
        "Simplyfing Regression Problem : Predicting a numerical variable based on some combination of variables"
      ]
    },
    {
      "cell_type": "code",
      "metadata": {
        "colab": {
          "base_uri": "https://localhost:8080/"
        },
        "id": "dps_0XUnKhX5",
        "outputId": "793834b0-3131-45c8-99a0-de5df7ebd266"
      },
      "source": [
        "# Import Tensorflow\n",
        "import tensorflow as tf\n",
        "print(tf.__version__)"
      ],
      "execution_count": 50,
      "outputs": [
        {
          "output_type": "stream",
          "text": [
            "2.5.0\n"
          ],
          "name": "stdout"
        }
      ]
    },
    {
      "cell_type": "code",
      "metadata": {
        "id": "3-51Q5OtOlP9"
      },
      "source": [
        "# Import Libraries\n",
        "import numpy as np\n",
        "import matplotlib.pyplot as plt\n",
        "import seaborn as sns\n",
        "from sklearn.model_selection import train_test_split\n",
        "sns.set()\n"
      ],
      "execution_count": 51,
      "outputs": []
    },
    {
      "cell_type": "markdown",
      "metadata": {
        "id": "jkMu-dGfK2Ry"
      },
      "source": [
        "## Creating data to view and fit"
      ]
    },
    {
      "cell_type": "code",
      "metadata": {
        "colab": {
          "base_uri": "https://localhost:8080/",
          "height": 377
        },
        "id": "Lu36p6XPLCBx",
        "outputId": "1b8dd484-3e5e-401a-dbb1-2ebdf63ff9bd"
      },
      "source": [
        "# Create Features\n",
        "X = np.array(np.arange(-7 , 14 , 3))\n",
        "\n",
        "# Create labels\n",
        "y = np.array(np.arange(3,24,3))\n",
        "\n",
        "#Plotting It\n",
        "plt.figure(figsize = (9,6))\n",
        "sns.regplot(x = X, y = y);"
      ],
      "execution_count": 52,
      "outputs": [
        {
          "output_type": "display_data",
          "data": {
            "image/png": "[encoded data removed]",
            "text/plain": [
              "<Figure size 648x432 with 1 Axes>"
            ]
          },
          "metadata": {
            "tags": []
          }
        }
      ]
    },
    {
      "cell_type": "markdown",
      "metadata": {
        "id": "7SWCYu89LOkZ"
      },
      "source": [
        "## Input and output shape"
      ]
    },
    {
      "cell_type": "code",
      "metadata": {
        "colab": {
          "base_uri": "https://localhost:8080/"
        },
        "id": "zGmnV2kAL4aa",
        "outputId": "66119182-3915-4db8-aa1d-7245e116aaa4"
      },
      "source": [
        "# Create a demo tensor housing price prediction problem\n",
        "\n",
        "house_info = tf.constant(['bedroom' , 'bathroom' , 'garage'])\n",
        "house_price = tf.constant([123456])\n",
        "house_info , house_price"
      ],
      "execution_count": 53,
      "outputs": [
        {
          "output_type": "execute_result",
          "data": {
            "text/plain": [
              "(<tf.Tensor: shape=(3,), dtype=string, numpy=array([b'bedroom', b'bathroom', b'garage'], dtype=object)>,\n",
              " <tf.Tensor: shape=(1,), dtype=int32, numpy=array([123456], dtype=int32)>)"
            ]
          },
          "metadata": {
            "tags": []
          },
          "execution_count": 53
        }
      ]
    },
    {
      "cell_type": "code",
      "metadata": {
        "colab": {
          "base_uri": "https://localhost:8080/"
        },
        "id": "DaES3d8eMLVZ",
        "outputId": "28b5d305-ce90-4085-a237-d01502a83b92"
      },
      "source": [
        "# Recall that the individual element inside array is a scaler , therefore it is of 0 dim\n",
        "X[0].shape , y[0].shape , X[0].ndim"
      ],
      "execution_count": 54,
      "outputs": [
        {
          "output_type": "execute_result",
          "data": {
            "text/plain": [
              "((), (), 0)"
            ]
          },
          "metadata": {
            "tags": []
          },
          "execution_count": 54
        }
      ]
    },
    {
      "cell_type": "code",
      "metadata": {
        "colab": {
          "base_uri": "https://localhost:8080/"
        },
        "id": "b-boMZ2dMUWZ",
        "outputId": "b12227e2-6e24-49ce-df93-ad200bb91a38"
      },
      "source": [
        "# Converting Numpy array into tensor\n",
        "X = tf.constant(X)\n",
        "y = tf.constant(y)\n",
        "\n",
        "X[0].shape , y[0].shape , X[0].ndim"
      ],
      "execution_count": 55,
      "outputs": [
        {
          "output_type": "execute_result",
          "data": {
            "text/plain": [
              "(TensorShape([]), TensorShape([]), 0)"
            ]
          },
          "metadata": {
            "tags": []
          },
          "execution_count": 55
        }
      ]
    },
    {
      "cell_type": "markdown",
      "metadata": {
        "id": "jp72jPGiNDUC"
      },
      "source": [
        "## Modelling In Tensorflow\n",
        "\n",
        "1. Create a model - define input and output layer , as well as the hidden layers of a deep learning model\n",
        "2. Compiling a model \n",
        "  - define the loss function (the function that tell our model how wrong it is\n",
        "  - define the optimizer (tell our model how to improve our model)\n",
        "  - evaluation metrics (performance of model)\n",
        "3. Fitting a model"
      ]
    },
    {
      "cell_type": "code",
      "metadata": {
        "colab": {
          "base_uri": "https://localhost:8080/"
        },
        "id": "cuSmh0ZcOce4",
        "outputId": "a7e7e002-472e-40c8-e6f3-8fff9a4c646d"
      },
      "source": [
        "tf.random.set_seed(42)\n",
        "\n",
        "# Create a model using the Sequential API\n",
        "model = tf.keras.Sequential([\n",
        "  tf.keras.layers.Dense(1)\n",
        "])\n",
        "\n",
        "# Compile the model\n",
        "model.compile(loss = tf.keras.losses.mae,\n",
        "              optimizer = tf.keras.optimizers.SGD(),\n",
        "              metrics = tf.keras.metrics.mae)\n",
        "\n",
        "# Fit the model\n",
        "model.fit(X , y , epochs = 5)"
      ],
      "execution_count": 56,
      "outputs": [
        {
          "output_type": "stream",
          "text": [
            "Epoch 1/5\n",
            "1/1 [==============================] - 0s 269ms/step - loss: 10.8599 - mean_absolute_error: 10.8599\n",
            "Epoch 2/5\n",
            "1/1 [==============================] - 0s 7ms/step - loss: 10.8099 - mean_absolute_error: 10.8099\n",
            "Epoch 3/5\n",
            "1/1 [==============================] - 0s 4ms/step - loss: 10.7599 - mean_absolute_error: 10.7599\n",
            "Epoch 4/5\n",
            "1/1 [==============================] - 0s 6ms/step - loss: 10.7099 - mean_absolute_error: 10.7099\n",
            "Epoch 5/5\n",
            "1/1 [==============================] - 0s 5ms/step - loss: 10.6599 - mean_absolute_error: 10.6599\n"
          ],
          "name": "stdout"
        },
        {
          "output_type": "execute_result",
          "data": {
            "text/plain": [
              "<tensorflow.python.keras.callbacks.History at 0x7f83aac8fcd0>"
            ]
          },
          "metadata": {
            "tags": []
          },
          "execution_count": 56
        }
      ]
    },
    {
      "cell_type": "code",
      "metadata": {
        "colab": {
          "base_uri": "https://localhost:8080/"
        },
        "id": "_aoq3kd8OjLx",
        "outputId": "b749eb69-16ba-4f5f-fccf-7e357d085961"
      },
      "source": [
        "# Prediction using model - Here we will expect by predicting with X = 17 , expected y value is 27. \n",
        "# Given that the MAE is around 10 to 10 , our predicted value of 11.4 + 10 still fall out from our expected value\n",
        "y_pred = model.predict([17])\n",
        "y_pred"
      ],
      "execution_count": 57,
      "outputs": [
        {
          "output_type": "stream",
          "text": [
            "WARNING:tensorflow:6 out of the last 6 calls to <function Model.make_predict_function.<locals>.predict_function at 0x7f83aaa6e7a0> triggered tf.function retracing. Tracing is expensive and the excessive number of tracings could be due to (1) creating @tf.function repeatedly in a loop, (2) passing tensors with different shapes, (3) passing Python objects instead of tensors. For (1), please define your @tf.function outside of the loop. For (2), @tf.function has experimental_relax_shapes=True option that relaxes argument shapes that can avoid unnecessary retracing. For (3), please refer to https://www.tensorflow.org/guide/function#controlling_retracing and https://www.tensorflow.org/api_docs/python/tf/function for  more details.\n"
          ],
          "name": "stdout"
        },
        {
          "output_type": "execute_result",
          "data": {
            "text/plain": [
              "array([[11.441017]], dtype=float32)"
            ]
          },
          "metadata": {
            "tags": []
          },
          "execution_count": 57
        }
      ]
    },
    {
      "cell_type": "markdown",
      "metadata": {
        "id": "W3sTwVvjQaSK"
      },
      "source": [
        "## Tuning the model\n",
        "\n",
        "We can tune our model to give better results by examining each of the steps taken in creating , compiling and fitting.\n",
        "\n",
        "**1. Creating a model** - Add more layers , increase number of hidden units , change the activation function\n",
        "\n",
        "**2. Compiling a model** - Change the optimization function , tune the learning rate of the optimization function\n",
        "\n",
        "**3. Fitting a model** - More epochs (train longer) , give more data\n",
        "\n",
        "## Typical workflow expectation\n",
        "- Build a model --> fit it --> evaluate it --> hyperparameter tuning --> fit it --> hyper tuning --> evaluate it --> ....\n",
        "\n",
        "- **To put it as an analogy , it is like a dial to tune the model**"
      ]
    },
    {
      "cell_type": "code",
      "metadata": {
        "colab": {
          "base_uri": "https://localhost:8080/"
        },
        "id": "3mRVlZTHQ0CK",
        "outputId": "dd160d88-ce2c-48ab-e172-5be1593c1116"
      },
      "source": [
        "# Tuning the model (changing the Epoch)\n",
        "\n",
        "#1. Create the model\n",
        "model = tf.keras.Sequential([\n",
        "  tf.keras.layers.Dense(1)\n",
        "])\n",
        "\n",
        "#2. Compile the model\n",
        "model.compile(loss = tf.keras.losses.mae,\n",
        "              optimizer = tf.keras.optimizers.SGD(),\n",
        "              metrics = tf.keras.metrics.mae)\n",
        "\n",
        "#3. Fir the model\n",
        "model.fit(X , y , epochs = 100 , verbose = True)"
      ],
      "execution_count": 58,
      "outputs": [
        {
          "output_type": "stream",
          "text": [
            "Epoch 1/100\n",
            "1/1 [==============================] - 0s 296ms/step - loss: 10.6983 - mean_absolute_error: 10.6983\n",
            "Epoch 2/100\n",
            "1/1 [==============================] - 0s 4ms/step - loss: 10.6483 - mean_absolute_error: 10.6483\n",
            "Epoch 3/100\n",
            "1/1 [==============================] - 0s 3ms/step - loss: 10.5983 - mean_absolute_error: 10.5983\n",
            "Epoch 4/100\n",
            "1/1 [==============================] - 0s 4ms/step - loss: 10.5483 - mean_absolute_error: 10.5483\n",
            "Epoch 5/100\n",
            "1/1 [==============================] - 0s 12ms/step - loss: 10.4983 - mean_absolute_error: 10.4983\n",
            "Epoch 6/100\n",
            "1/1 [==============================] - 0s 4ms/step - loss: 10.4483 - mean_absolute_error: 10.4483\n",
            "Epoch 7/100\n",
            "1/1 [==============================] - 0s 5ms/step - loss: 10.3983 - mean_absolute_error: 10.3983\n",
            "Epoch 8/100\n",
            "1/1 [==============================] - 0s 4ms/step - loss: 10.3483 - mean_absolute_error: 10.3483\n",
            "Epoch 9/100\n",
            "1/1 [==============================] - 0s 5ms/step - loss: 10.2983 - mean_absolute_error: 10.2983\n",
            "Epoch 10/100\n",
            "1/1 [==============================] - 0s 10ms/step - loss: 10.2483 - mean_absolute_error: 10.2483\n",
            "Epoch 11/100\n",
            "1/1 [==============================] - 0s 6ms/step - loss: 10.1983 - mean_absolute_error: 10.1983\n",
            "Epoch 12/100\n",
            "1/1 [==============================] - 0s 4ms/step - loss: 10.1483 - mean_absolute_error: 10.1483\n",
            "Epoch 13/100\n",
            "1/1 [==============================] - 0s 8ms/step - loss: 10.0983 - mean_absolute_error: 10.0983\n",
            "Epoch 14/100\n",
            "1/1 [==============================] - 0s 8ms/step - loss: 10.0483 - mean_absolute_error: 10.0483\n",
            "Epoch 15/100\n",
            "1/1 [==============================] - 0s 9ms/step - loss: 9.9983 - mean_absolute_error: 9.9983\n",
            "Epoch 16/100\n",
            "1/1 [==============================] - 0s 7ms/step - loss: 9.9483 - mean_absolute_error: 9.9483\n",
            "Epoch 17/100\n",
            "1/1 [==============================] - 0s 6ms/step - loss: 9.8983 - mean_absolute_error: 9.8983\n",
            "Epoch 18/100\n",
            "1/1 [==============================] - 0s 6ms/step - loss: 9.8483 - mean_absolute_error: 9.8483\n",
            "Epoch 19/100\n",
            "1/1 [==============================] - 0s 5ms/step - loss: 9.7983 - mean_absolute_error: 9.7983\n",
            "Epoch 20/100\n",
            "1/1 [==============================] - 0s 6ms/step - loss: 9.7483 - mean_absolute_error: 9.7483\n",
            "Epoch 21/100\n",
            "1/1 [==============================] - 0s 5ms/step - loss: 9.6983 - mean_absolute_error: 9.6983\n",
            "Epoch 22/100\n",
            "1/1 [==============================] - 0s 5ms/step - loss: 9.6483 - mean_absolute_error: 9.6483\n",
            "Epoch 23/100\n",
            "1/1 [==============================] - 0s 5ms/step - loss: 9.5983 - mean_absolute_error: 9.5983\n",
            "Epoch 24/100\n",
            "1/1 [==============================] - 0s 5ms/step - loss: 9.5483 - mean_absolute_error: 9.5483\n",
            "Epoch 25/100\n",
            "1/1 [==============================] - 0s 5ms/step - loss: 9.4983 - mean_absolute_error: 9.4983\n",
            "Epoch 26/100\n",
            "1/1 [==============================] - 0s 5ms/step - loss: 9.4483 - mean_absolute_error: 9.4483\n",
            "Epoch 27/100\n",
            "1/1 [==============================] - 0s 5ms/step - loss: 9.3983 - mean_absolute_error: 9.3983\n",
            "Epoch 28/100\n",
            "1/1 [==============================] - 0s 5ms/step - loss: 9.3483 - mean_absolute_error: 9.3483\n",
            "Epoch 29/100\n",
            "1/1 [==============================] - 0s 5ms/step - loss: 9.2983 - mean_absolute_error: 9.2983\n",
            "Epoch 30/100\n",
            "1/1 [==============================] - 0s 5ms/step - loss: 9.2483 - mean_absolute_error: 9.2483\n",
            "Epoch 31/100\n",
            "1/1 [==============================] - 0s 5ms/step - loss: 9.1983 - mean_absolute_error: 9.1983\n",
            "Epoch 32/100\n",
            "1/1 [==============================] - 0s 5ms/step - loss: 9.1483 - mean_absolute_error: 9.1483\n",
            "Epoch 33/100\n",
            "1/1 [==============================] - 0s 4ms/step - loss: 9.0983 - mean_absolute_error: 9.0983\n",
            "Epoch 34/100\n",
            "1/1 [==============================] - 0s 5ms/step - loss: 9.0483 - mean_absolute_error: 9.0483\n",
            "Epoch 35/100\n",
            "1/1 [==============================] - 0s 4ms/step - loss: 8.9983 - mean_absolute_error: 8.9983\n",
            "Epoch 36/100\n",
            "1/1 [==============================] - 0s 3ms/step - loss: 8.9483 - mean_absolute_error: 8.9483\n",
            "Epoch 37/100\n",
            "1/1 [==============================] - 0s 14ms/step - loss: 8.8983 - mean_absolute_error: 8.8983\n",
            "Epoch 38/100\n",
            "1/1 [==============================] - 0s 4ms/step - loss: 8.8483 - mean_absolute_error: 8.8483\n",
            "Epoch 39/100\n",
            "1/1 [==============================] - 0s 6ms/step - loss: 8.7983 - mean_absolute_error: 8.7983\n",
            "Epoch 40/100\n",
            "1/1 [==============================] - 0s 4ms/step - loss: 8.7483 - mean_absolute_error: 8.7483\n",
            "Epoch 41/100\n",
            "1/1 [==============================] - 0s 4ms/step - loss: 8.6983 - mean_absolute_error: 8.6983\n",
            "Epoch 42/100\n",
            "1/1 [==============================] - 0s 5ms/step - loss: 8.6483 - mean_absolute_error: 8.6483\n",
            "Epoch 43/100\n",
            "1/1 [==============================] - 0s 5ms/step - loss: 8.5983 - mean_absolute_error: 8.5983\n",
            "Epoch 44/100\n",
            "1/1 [==============================] - 0s 5ms/step - loss: 8.5483 - mean_absolute_error: 8.5483\n",
            "Epoch 45/100\n",
            "1/1 [==============================] - 0s 4ms/step - loss: 8.4983 - mean_absolute_error: 8.4983\n",
            "Epoch 46/100\n",
            "1/1 [==============================] - 0s 5ms/step - loss: 8.4483 - mean_absolute_error: 8.4483\n",
            "Epoch 47/100\n",
            "1/1 [==============================] - 0s 4ms/step - loss: 8.3983 - mean_absolute_error: 8.3983\n",
            "Epoch 48/100\n",
            "1/1 [==============================] - 0s 9ms/step - loss: 8.3483 - mean_absolute_error: 8.3483\n",
            "Epoch 49/100\n",
            "1/1 [==============================] - 0s 5ms/step - loss: 8.2983 - mean_absolute_error: 8.2983\n",
            "Epoch 50/100\n",
            "1/1 [==============================] - 0s 4ms/step - loss: 8.2483 - mean_absolute_error: 8.2483\n",
            "Epoch 51/100\n",
            "1/1 [==============================] - 0s 4ms/step - loss: 8.1983 - mean_absolute_error: 8.1983\n",
            "Epoch 52/100\n",
            "1/1 [==============================] - 0s 8ms/step - loss: 8.1483 - mean_absolute_error: 8.1483\n",
            "Epoch 53/100\n",
            "1/1 [==============================] - 0s 9ms/step - loss: 8.0983 - mean_absolute_error: 8.0983\n",
            "Epoch 54/100\n",
            "1/1 [==============================] - 0s 6ms/step - loss: 8.0483 - mean_absolute_error: 8.0483\n",
            "Epoch 55/100\n",
            "1/1 [==============================] - 0s 5ms/step - loss: 7.9983 - mean_absolute_error: 7.9983\n",
            "Epoch 56/100\n",
            "1/1 [==============================] - 0s 5ms/step - loss: 7.9483 - mean_absolute_error: 7.9483\n",
            "Epoch 57/100\n",
            "1/1 [==============================] - 0s 11ms/step - loss: 7.8983 - mean_absolute_error: 7.8983\n",
            "Epoch 58/100\n",
            "1/1 [==============================] - 0s 5ms/step - loss: 7.8483 - mean_absolute_error: 7.8483\n",
            "Epoch 59/100\n",
            "1/1 [==============================] - 0s 15ms/step - loss: 7.7983 - mean_absolute_error: 7.7983\n",
            "Epoch 60/100\n",
            "1/1 [==============================] - 0s 4ms/step - loss: 7.7483 - mean_absolute_error: 7.7483\n",
            "Epoch 61/100\n",
            "1/1 [==============================] - 0s 13ms/step - loss: 7.6983 - mean_absolute_error: 7.6983\n",
            "Epoch 62/100\n",
            "1/1 [==============================] - 0s 6ms/step - loss: 7.7024 - mean_absolute_error: 7.7024\n",
            "Epoch 63/100\n",
            "1/1 [==============================] - 0s 7ms/step - loss: 7.6843 - mean_absolute_error: 7.6843\n",
            "Epoch 64/100\n",
            "1/1 [==============================] - 0s 10ms/step - loss: 7.6797 - mean_absolute_error: 7.6797\n",
            "Epoch 65/100\n",
            "1/1 [==============================] - 0s 4ms/step - loss: 7.6818 - mean_absolute_error: 7.6818\n",
            "Epoch 66/100\n",
            "1/1 [==============================] - 0s 4ms/step - loss: 7.6637 - mean_absolute_error: 7.6637\n",
            "Epoch 67/100\n",
            "1/1 [==============================] - 0s 5ms/step - loss: 7.6611 - mean_absolute_error: 7.6611\n",
            "Epoch 68/100\n",
            "1/1 [==============================] - 0s 4ms/step - loss: 7.6612 - mean_absolute_error: 7.6612\n",
            "Epoch 69/100\n",
            "1/1 [==============================] - 0s 7ms/step - loss: 7.6430 - mean_absolute_error: 7.6430\n",
            "Epoch 70/100\n",
            "1/1 [==============================] - 0s 5ms/step - loss: 7.6425 - mean_absolute_error: 7.6425\n",
            "Epoch 71/100\n",
            "1/1 [==============================] - 0s 16ms/step - loss: 7.6406 - mean_absolute_error: 7.6406\n",
            "Epoch 72/100\n",
            "1/1 [==============================] - 0s 8ms/step - loss: 7.6224 - mean_absolute_error: 7.6224\n",
            "Epoch 73/100\n",
            "1/1 [==============================] - 0s 22ms/step - loss: 7.6240 - mean_absolute_error: 7.6240\n",
            "Epoch 74/100\n",
            "1/1 [==============================] - 0s 5ms/step - loss: 7.6200 - mean_absolute_error: 7.6200\n",
            "Epoch 75/100\n",
            "1/1 [==============================] - 0s 6ms/step - loss: 7.6018 - mean_absolute_error: 7.6018\n",
            "Epoch 76/100\n",
            "1/1 [==============================] - 0s 4ms/step - loss: 7.6054 - mean_absolute_error: 7.6054\n",
            "Epoch 77/100\n",
            "1/1 [==============================] - 0s 6ms/step - loss: 7.5994 - mean_absolute_error: 7.5994\n",
            "Epoch 78/100\n",
            "1/1 [==============================] - 0s 7ms/step - loss: 7.5812 - mean_absolute_error: 7.5812\n",
            "Epoch 79/100\n",
            "1/1 [==============================] - 0s 5ms/step - loss: 7.5868 - mean_absolute_error: 7.5868\n",
            "Epoch 80/100\n",
            "1/1 [==============================] - 0s 12ms/step - loss: 7.5788 - mean_absolute_error: 7.5788\n",
            "Epoch 81/100\n",
            "1/1 [==============================] - 0s 5ms/step - loss: 7.5606 - mean_absolute_error: 7.5606\n",
            "Epoch 82/100\n",
            "1/1 [==============================] - 0s 6ms/step - loss: 7.5683 - mean_absolute_error: 7.5683\n",
            "Epoch 83/100\n",
            "1/1 [==============================] - 0s 4ms/step - loss: 7.5581 - mean_absolute_error: 7.5581\n",
            "Epoch 84/100\n",
            "1/1 [==============================] - 0s 5ms/step - loss: 7.5400 - mean_absolute_error: 7.5400\n",
            "Epoch 85/100\n",
            "1/1 [==============================] - 0s 6ms/step - loss: 7.5497 - mean_absolute_error: 7.5497\n",
            "Epoch 86/100\n",
            "1/1 [==============================] - 0s 6ms/step - loss: 7.5375 - mean_absolute_error: 7.5375\n",
            "Epoch 87/100\n",
            "1/1 [==============================] - 0s 13ms/step - loss: 7.5194 - mean_absolute_error: 7.5194\n",
            "Epoch 88/100\n",
            "1/1 [==============================] - 0s 6ms/step - loss: 7.5311 - mean_absolute_error: 7.5311\n",
            "Epoch 89/100\n",
            "1/1 [==============================] - 0s 5ms/step - loss: 7.5169 - mean_absolute_error: 7.5169\n",
            "Epoch 90/100\n",
            "1/1 [==============================] - 0s 4ms/step - loss: 7.4988 - mean_absolute_error: 7.4988\n",
            "Epoch 91/100\n",
            "1/1 [==============================] - 0s 5ms/step - loss: 7.5125 - mean_absolute_error: 7.5125\n",
            "Epoch 92/100\n",
            "1/1 [==============================] - 0s 9ms/step - loss: 7.4963 - mean_absolute_error: 7.4963\n",
            "Epoch 93/100\n",
            "1/1 [==============================] - 0s 6ms/step - loss: 7.4783 - mean_absolute_error: 7.4783\n",
            "Epoch 94/100\n",
            "1/1 [==============================] - 0s 7ms/step - loss: 7.4939 - mean_absolute_error: 7.4939\n",
            "Epoch 95/100\n",
            "1/1 [==============================] - 0s 4ms/step - loss: 7.4757 - mean_absolute_error: 7.4757\n",
            "Epoch 96/100\n",
            "1/1 [==============================] - 0s 5ms/step - loss: 7.4597 - mean_absolute_error: 7.4597\n",
            "Epoch 97/100\n",
            "1/1 [==============================] - 0s 5ms/step - loss: 7.4732 - mean_absolute_error: 7.4732\n",
            "Epoch 98/100\n",
            "1/1 [==============================] - 0s 7ms/step - loss: 7.4551 - mean_absolute_error: 7.4551\n",
            "Epoch 99/100\n",
            "1/1 [==============================] - 0s 4ms/step - loss: 7.4411 - mean_absolute_error: 7.4411\n",
            "Epoch 100/100\n",
            "1/1 [==============================] - 0s 7ms/step - loss: 7.4526 - mean_absolute_error: 7.4526\n"
          ],
          "name": "stdout"
        },
        {
          "output_type": "execute_result",
          "data": {
            "text/plain": [
              "<tensorflow.python.keras.callbacks.History at 0x7f83aaae6450>"
            ]
          },
          "metadata": {
            "tags": []
          },
          "execution_count": 58
        }
      ]
    },
    {
      "cell_type": "code",
      "metadata": {
        "colab": {
          "base_uri": "https://localhost:8080/"
        },
        "id": "FZoWQqUpS9zS",
        "outputId": "18813fe9-d254-47f0-c0f7-bd2865a7f6b8"
      },
      "source": [
        "# Making prediction from model again - Tuned model improved closer to expected value of 27 when X = 17\n",
        "model.predict([17])"
      ],
      "execution_count": 59,
      "outputs": [
        {
          "output_type": "execute_result",
          "data": {
            "text/plain": [
              "array([[32.099113]], dtype=float32)"
            ]
          },
          "metadata": {
            "tags": []
          },
          "execution_count": 59
        }
      ]
    },
    {
      "cell_type": "code",
      "metadata": {
        "id": "h06biFWyTY8q",
        "colab": {
          "base_uri": "https://localhost:8080/"
        },
        "outputId": "8917f553-cf16-48ce-c814-2dffac8447f3"
      },
      "source": [
        "# Tuning the model (Adding an extra hidden layer with 100 hidden units)\n",
        "\n",
        "#1. Create model\n",
        "model = tf.keras.Sequential([\n",
        "  tf.keras.layers.Dense(50 , activation = None),\n",
        "  tf.keras.layers.Dense(1)\n",
        "])\n",
        "\n",
        "#2. Compile a model\n",
        "model.compile(optimizer = tf.keras.optimizers.Adam(lr = 0.01),\n",
        "              loss = tf.keras.losses.mae,\n",
        "              metrics = tf.keras.metrics.mae)\n",
        "\n",
        "#3. Fit a model\n",
        "model.fit(X , y , epochs = 100 , verbose = False)"
      ],
      "execution_count": 60,
      "outputs": [
        {
          "output_type": "stream",
          "text": [
            "/usr/local/lib/python3.7/dist-packages/tensorflow/python/keras/optimizer_v2/optimizer_v2.py:375: UserWarning: The `lr` argument is deprecated, use `learning_rate` instead.\n",
            "  \"The `lr` argument is deprecated, use `learning_rate` instead.\")\n"
          ],
          "name": "stderr"
        },
        {
          "output_type": "execute_result",
          "data": {
            "text/plain": [
              "<tensorflow.python.keras.callbacks.History at 0x7f83aa986cd0>"
            ]
          },
          "metadata": {
            "tags": []
          },
          "execution_count": 60
        }
      ]
    },
    {
      "cell_type": "code",
      "metadata": {
        "id": "b4scwOAKNBu2"
      },
      "source": [
        "# Visualising the data - Attempt with larger dataset"
      ],
      "execution_count": 61,
      "outputs": []
    },
    {
      "cell_type": "code",
      "metadata": {
        "id": "HFWwqRHvOBAN"
      },
      "source": [
        "X = tf.range(-100 , 100 , 4)\n",
        "y = X + 10 "
      ],
      "execution_count": 62,
      "outputs": []
    },
    {
      "cell_type": "code",
      "metadata": {
        "colab": {
          "base_uri": "https://localhost:8080/",
          "height": 540
        },
        "id": "6nLMd52VOHDT",
        "outputId": "aaa8d598-510e-433c-8491-5f7c9240ea65"
      },
      "source": [
        "plt.figure(figsize = (12,9))\n",
        "sns.regplot(x = X , \n",
        "            y = y);"
      ],
      "execution_count": 63,
      "outputs": [
        {
          "output_type": "display_data",
          "data": {
            "image/png": "[encoded data removed]",
            "text/plain": [
              "<Figure size 864x648 with 1 Axes>"
            ]
          },
          "metadata": {
            "tags": []
          }
        }
      ]
    },
    {
      "cell_type": "code",
      "metadata": {
        "id": "3PYLp8ubOTyd"
      },
      "source": [
        "# Splitting Dataset by train test split\n",
        "tf.random.set_seed(42)\n",
        "\n",
        "X_train , X_test , y_train , y_test = train_test_split(X.numpy() , y.numpy() , test_size = 0.2)\n",
        "X_train , X_test = tf.constant(X_train) , tf.constant(X_test)\n",
        "y_train , y_test = tf.constant(y_train) , tf.constant(y_test)"
      ],
      "execution_count": 64,
      "outputs": []
    },
    {
      "cell_type": "code",
      "metadata": {
        "colab": {
          "base_uri": "https://localhost:8080/",
          "height": 540
        },
        "id": "p2gD1vjQPFes",
        "outputId": "e7600696-f5dc-4fae-957d-d49c21e47dab"
      },
      "source": [
        "plt.figure(figsize = (12,9))\n",
        "\n",
        "sns.scatterplot(x = X_train , \n",
        "                y = y_train,\n",
        "                color = 'blue',\n",
        "                label = 'training data')\n",
        "\n",
        "sns.scatterplot(x = X_test , \n",
        "                y = y_test,\n",
        "                color = 'green',\n",
        "                label = 'test data')\n",
        "\n",
        "plt.legend();"
      ],
      "execution_count": 65,
      "outputs": [
        {
          "output_type": "display_data",
          "data": {
            "image/png": "[encoded data removed]",
            "text/plain": [
              "<Figure size 864x648 with 1 Axes>"
            ]
          },
          "metadata": {
            "tags": []
          }
        }
      ]
    },
    {
      "cell_type": "code",
      "metadata": {
        "colab": {
          "base_uri": "https://localhost:8080/"
        },
        "id": "8Vle02UpPW20",
        "outputId": "513767e5-e528-4553-c644-c5eecd252a32"
      },
      "source": [
        "# Creating a new model for new dataset and try building \n",
        "\n",
        "tf.random.set_seed(42)\n",
        "\n",
        "#1. Create a model\n",
        "model = tf.keras.Sequential([\n",
        "  tf.keras.layers.Dense(5 , input_shape = [1] , name = 'input_layer'),\n",
        "  tf.keras.layers.Dense(1, name = 'output_layer')\n",
        "] , name = 'Simple_Linear_Regression') \n",
        "\n",
        "#2. Compile a model\n",
        "model.compile(optimizer = tf.keras.optimizers.Adam(lr = 0.01),\n",
        "              loss = tf.keras.losses.mae,\n",
        "              metrics = tf.keras.metrics.mae)\n",
        "\n",
        "#2a. Model Sumamry\n",
        "model.summary()"
      ],
      "execution_count": 90,
      "outputs": [
        {
          "output_type": "stream",
          "text": [
            "Model: \"Simple_Linear_Regression\"\n",
            "_________________________________________________________________\n",
            "Layer (type)                 Output Shape              Param #   \n",
            "=================================================================\n",
            "input_layer (Dense)          (None, 5)                 10        \n",
            "_________________________________________________________________\n",
            "output_layer (Dense)         (None, 1)                 6         \n",
            "=================================================================\n",
            "Total params: 16\n",
            "Trainable params: 16\n",
            "Non-trainable params: 0\n",
            "_________________________________________________________________\n"
          ],
          "name": "stdout"
        },
        {
          "output_type": "stream",
          "text": [
            "/usr/local/lib/python3.7/dist-packages/tensorflow/python/keras/optimizer_v2/optimizer_v2.py:375: UserWarning: The `lr` argument is deprecated, use `learning_rate` instead.\n",
            "  \"The `lr` argument is deprecated, use `learning_rate` instead.\")\n"
          ],
          "name": "stderr"
        }
      ]
    },
    {
      "cell_type": "markdown",
      "metadata": {
        "id": "SCbtTzrOSDK0"
      },
      "source": [
        "* Total params - total number of parameters\n",
        "* Trainable parameters - these are the parameters the model can update as it trains\n",
        "* Non-trainable params - these params are not updated during training (**transfer learning**)"
      ]
    },
    {
      "cell_type": "code",
      "metadata": {
        "colab": {
          "base_uri": "https://localhost:8080/"
        },
        "id": "SZGSaqJpR31m",
        "outputId": "cf17657a-3020-486e-d54f-31f4656c64f7"
      },
      "source": [
        "#3. Fit a model\n",
        "model.fit(X_train , y_train , epochs = 100 , verbose = False)"
      ],
      "execution_count": 91,
      "outputs": [
        {
          "output_type": "execute_result",
          "data": {
            "text/plain": [
              "<tensorflow.python.keras.callbacks.History at 0x7f8355acf710>"
            ]
          },
          "metadata": {
            "tags": []
          },
          "execution_count": 91
        }
      ]
    },
    {
      "cell_type": "code",
      "metadata": {
        "colab": {
          "base_uri": "https://localhost:8080/",
          "height": 312
        },
        "id": "02ycl5z6jvb3",
        "outputId": "94e5bb38-b03a-4307-beb4-b0f06e644eec"
      },
      "source": [
        "from tensorflow.keras.utils import plot_model\n",
        "plot_model(model = model , show_shapes=True)"
      ],
      "execution_count": 92,
      "outputs": [
        {
          "output_type": "execute_result",
          "data": {
            "image/png": "[encoded data removed]",
            "text/plain": [
              "<IPython.core.display.Image object>"
            ]
          },
          "metadata": {
            "tags": []
          },
          "execution_count": 92
        }
      ]
    },
    {
      "cell_type": "markdown",
      "metadata": {
        "id": "CpMW_AtVkdun"
      },
      "source": [
        "## Visualising our model's prediction"
      ]
    },
    {
      "cell_type": "code",
      "metadata": {
        "id": "le43kh6_l1XV"
      },
      "source": [
        "# Predicting on test data\n",
        "\n",
        "y_pred = model.predict(X_test)"
      ],
      "execution_count": 93,
      "outputs": []
    },
    {
      "cell_type": "code",
      "metadata": {
        "id": "M6rfeP6cl7D-"
      },
      "source": [
        "def prediction_plot(train_data = X_train, test_data = X_test, train_labels = y_train, test_labels = y_test, predictions = y_pred):\n",
        "\n",
        "    plt.figure(figsize = (12,9))\n",
        "\n",
        "    sns.scatterplot(x = train_data  , y = train_labels , color = 'blue' , label = 'training data')\n",
        "\n",
        "    sns.scatterplot(x = test_data , y = test_labels , color = 'green' , label = 'test_data')\n",
        "\n",
        "    sns.scatterplot(x = test_data , y = predictions , color = 'red' , label = 'predictions')"
      ],
      "execution_count": 94,
      "outputs": []
    },
    {
      "cell_type": "code",
      "metadata": {
        "colab": {
          "base_uri": "https://localhost:8080/",
          "height": 540
        },
        "id": "CuznBlQJnrH3",
        "outputId": "c4aeb4f2-77b2-4d21-aeb7-c0da4bd5492c"
      },
      "source": [
        "prediction_plot(X_train , X_test , y_train , y_test , tf.squeeze(y_pred))"
      ],
      "execution_count": 95,
      "outputs": [
        {
          "output_type": "display_data",
          "data": {
            "image/png": "[encoded data removed]",
            "text/plain": [
              "<Figure size 864x648 with 1 Axes>"
            ]
          },
          "metadata": {
            "tags": []
          }
        }
      ]
    },
    {
      "cell_type": "markdown",
      "metadata": {
        "id": "OE3caaIsoVL8"
      },
      "source": [
        "## Evaluating our model predictions with regression evaluation metrics\n",
        "\n",
        "- 2 of the main metrics:\n",
        "  - MAE : Mean Absolute Error\n",
        "  - MSE : Mean Squared Error"
      ]
    },
    {
      "cell_type": "code",
      "metadata": {
        "colab": {
          "base_uri": "https://localhost:8080/"
        },
        "id": "VexTSneatvcK",
        "outputId": "8ae97a6a-b4e3-417f-c099-949c7bd011c1"
      },
      "source": [
        "# Evaluate the model on the test\n",
        "model.evaluate(X_test , y_test)"
      ],
      "execution_count": 96,
      "outputs": [
        {
          "output_type": "stream",
          "text": [
            "WARNING:tensorflow:5 out of the last 7 calls to <function Model.make_test_function.<locals>.test_function at 0x7f83aa84a950> triggered tf.function retracing. Tracing is expensive and the excessive number of tracings could be due to (1) creating @tf.function repeatedly in a loop, (2) passing tensors with different shapes, (3) passing Python objects instead of tensors. For (1), please define your @tf.function outside of the loop. For (2), @tf.function has experimental_relax_shapes=True option that relaxes argument shapes that can avoid unnecessary retracing. For (3), please refer to https://www.tensorflow.org/guide/function#controlling_retracing and https://www.tensorflow.org/api_docs/python/tf/function for  more details.\n",
            "1/1 [==============================] - 0s 95ms/step - loss: 0.1259 - mean_absolute_error: 0.1259\n"
          ],
          "name": "stdout"
        },
        {
          "output_type": "execute_result",
          "data": {
            "text/plain": [
              "[0.12588131427764893, 0.12588131427764893]"
            ]
          },
          "metadata": {
            "tags": []
          },
          "execution_count": 96
        }
      ]
    },
    {
      "cell_type": "code",
      "metadata": {
        "colab": {
          "base_uri": "https://localhost:8080/"
        },
        "id": "gf1timE9uNfy",
        "outputId": "acc2e07b-96ab-43a6-fd4f-775289e52c2f"
      },
      "source": [
        "# y_pred and y_test not in the same shape\n",
        "y_pred.shape , y_test.shape"
      ],
      "execution_count": 97,
      "outputs": [
        {
          "output_type": "execute_result",
          "data": {
            "text/plain": [
              "((10, 1), TensorShape([10]))"
            ]
          },
          "metadata": {
            "tags": []
          },
          "execution_count": 97
        }
      ]
    },
    {
      "cell_type": "code",
      "metadata": {
        "id": "MUrkbDPWuxpr"
      },
      "source": [
        "y_pred = tf.squeeze(y_pred)"
      ],
      "execution_count": 98,
      "outputs": []
    },
    {
      "cell_type": "code",
      "metadata": {
        "colab": {
          "base_uri": "https://localhost:8080/"
        },
        "id": "-gU-xAoYt1zR",
        "outputId": "dc547606-dff6-4691-b162-f9ed013b3e2a"
      },
      "source": [
        "mae = tf.metrics.mean_absolute_error(y_true = y_test,\n",
        "                                     y_pred = y_pred)\n",
        "mae"
      ],
      "execution_count": 99,
      "outputs": [
        {
          "output_type": "execute_result",
          "data": {
            "text/plain": [
              "<tf.Tensor: shape=(), dtype=float32, numpy=0.1258798>"
            ]
          },
          "metadata": {
            "tags": []
          },
          "execution_count": 99
        }
      ]
    },
    {
      "cell_type": "code",
      "metadata": {
        "colab": {
          "base_uri": "https://localhost:8080/"
        },
        "id": "dLvZrAqnv1sy",
        "outputId": "25e6b55b-da4f-439b-a8aa-2fd28c3cb529"
      },
      "source": [
        "mse = tf.metrics.mean_squared_error(y_true = y_test,\n",
        "                                    y_pred = y_pred)\n",
        "\n",
        "mse"
      ],
      "execution_count": 100,
      "outputs": [
        {
          "output_type": "execute_result",
          "data": {
            "text/plain": [
              "<tf.Tensor: shape=(), dtype=float32, numpy=0.018458238>"
            ]
          },
          "metadata": {
            "tags": []
          },
          "execution_count": 100
        }
      ]
    },
    {
      "cell_type": "code",
      "metadata": {
        "id": "Ws-ye3msv_ez"
      },
      "source": [
        "# Making Function for MAE and MSE\n",
        "\n",
        "def mae(y_true , y_pred):\n",
        "  return tf.metrics.mean_absolute_error(y_true = y_true,\n",
        "                                        y_test = y_test)\n",
        "  \n",
        "def mse(y_true , y_pred):\n",
        "  return tf.metrics.mean_squared_error(y_true = y_true,\n",
        "                                       y_test = y_test)"
      ],
      "execution_count": 101,
      "outputs": []
    },
    {
      "cell_type": "code",
      "metadata": {
        "id": "Mv5TOXwbwneN"
      },
      "source": [
        ""
      ],
      "execution_count": null,
      "outputs": []
    }
  ]
}