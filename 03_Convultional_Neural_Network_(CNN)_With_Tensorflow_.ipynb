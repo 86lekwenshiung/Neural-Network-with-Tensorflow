{
  "nbformat": 4,
  "nbformat_minor": 0,
  "metadata": {
    "colab": {
      "name": "03_Convultional Neural Network (CNN)_With_Tensorflow..ipynb",
      "provenance": [],
      "authorship_tag": "ABX9TyOL7tc7+fn4gJoxL6Z+6aP+",
      "include_colab_link": true
    },
    "kernelspec": {
      "name": "python3",
      "display_name": "Python 3"
    },
    "language_info": {
      "name": "python"
    }
  },
  "cells": [
    {
      "cell_type": "markdown",
      "metadata": {
        "id": "view-in-github",
        "colab_type": "text"
      },
      "source": [
        "<a href=\"https://colab.research.google.com/github/86lekwenshiung/Neural-Network-with-Tensorflow/blob/main/03_Convultional_Neural_Network_(CNN)_With_Tensorflow_.ipynb\" target=\"_parent\"><img src=\"https://colab.research.google.com/assets/colab-badge.svg\" alt=\"Open In Colab\"/></a>"
      ]
    },
    {
      "cell_type": "markdown",
      "metadata": {
        "id": "HKffsMEZHtCj"
      },
      "source": [
        "# 0.0 CNN & Computer Vision with Tensorflow\n",
        "___\n",
        "\n",
        "- CNN is a special kind of neural network and could be used for computer vision\n",
        "- Simplifying Computer Vision Problem :\n",
        " - Detecting patterns in visual data\n",
        " - Classification of visual data\n",
        " - Object detection\n"
      ]
    },
    {
      "cell_type": "markdown",
      "metadata": {
        "id": "L48FOeagH8KH"
      },
      "source": [
        "**Components of a convolutional neural network:**\n",
        "<br> Source : ZTM TensorFlow Developer Certificate in 2021\n",
        "\n",
        "| **Hyperparameter/Layer type** | **What does it do?** | **Typical values** |\n",
        "| ----- | ----- | ----- |\n",
        "| Input image(s) | Target images you'd like to discover patterns in| Whatever you can take a photo (or video) of |\n",
        "| Input layer | Takes in target images and preprocesses them for further layers | `input_shape = [batch_size, image_height, image_width, color_channels]` |\n",
        "| Convolution layer | Extracts/learns the most important features from target images | Multiple, can create with [`tf.keras.layers.ConvXD`](https://www.tensorflow.org/api_docs/python/tf/keras/layers/Conv2D) (X can be multiple values) |\n",
        "| Hidden activation | Adds non-linearity to learned features (non-straight lines) | Usually ReLU ([`tf.keras.activations.relu`](https://www.tensorflow.org/api_docs/python/tf/keras/activations/relu)) |\n",
        "| Pooling layer | Reduces the dimensionality of learned image features | Average ([`tf.keras.layers.AvgPool2D`](https://www.tensorflow.org/api_docs/python/tf/keras/layers/AveragePooling2D)) or Max ([`tf.keras.layers.MaxPool2D`](https://www.tensorflow.org/api_docs/python/tf/keras/layers/MaxPool2D)) |\n",
        "| Fully connected layer | Further refines learned features from convolution layers | [`tf.keras.layers.Dense`](https://www.tensorflow.org/api_docs/python/tf/keras/layers/Dense) |\n",
        "| Output layer | Takes learned features and outputs them in shape of target labels | `output_shape = [number_of_classes]` (e.g. 3 for pizza, steak or sushi)|\n",
        "| Output activation | Adds non-linearities to output layer | [`tf.keras.activations.sigmoid`](https://www.tensorflow.org/api_docs/python/tf/keras/activations/sigmoid) (binary classification) or [`tf.keras.activations.softmax`](https://www.tensorflow.org/api_docs/python/tf/keras/activations/softmax) |\n",
        "\n",
        "How they stack together:\n",
        "\n",
        "![](https://raw.githubusercontent.com/mrdbourke/tensorflow-deep-learning/main/images/03-simple-convnet.png)\n",
        "*A simple example of how you might stack together the above layers into a convolutional neural network. Note the convolutional and pooling layers can often be arranged and rearranged into many different formations.*"
      ]
    },
    {
      "cell_type": "code",
      "metadata": {
        "id": "qVCayrOkMWfS"
      },
      "source": [
        ""
      ],
      "execution_count": null,
      "outputs": []
    }
  ]
}