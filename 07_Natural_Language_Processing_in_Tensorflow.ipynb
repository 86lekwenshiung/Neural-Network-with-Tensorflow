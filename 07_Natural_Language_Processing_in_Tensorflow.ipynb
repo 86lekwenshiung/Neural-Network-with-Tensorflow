{
  "nbformat": 4,
  "nbformat_minor": 0,
  "metadata": {
    "colab": {
      "name": "07_Natural_Language_Processing in Tensorflow.ipynb",
      "provenance": [],
      "collapsed_sections": [],
      "toc_visible": true,
      "authorship_tag": "ABX9TyN7ah7Yvf8kD+burXkChANR",
      "include_colab_link": true
    },
    "kernelspec": {
      "name": "python3",
      "display_name": "Python 3"
    },
    "language_info": {
      "name": "python"
    }
  },
  "cells": [
    {
      "cell_type": "markdown",
      "metadata": {
        "id": "view-in-github",
        "colab_type": "text"
      },
      "source": [
        "<a href=\"https://colab.research.google.com/github/86lekwenshiung/Neural-Network-with-Tensorflow/blob/main/07_Natural_Language_Processing_in_Tensorflow.ipynb\" target=\"_parent\"><img src=\"https://colab.research.google.com/assets/colab-badge.svg\" alt=\"Open In Colab\"/></a>"
      ]
    },
    {
      "cell_type": "markdown",
      "metadata": {
        "id": "eim5-c54xWMJ"
      },
      "source": [
        "# 0.0 Natural Language Processing in Tensorflow\n",
        "___\n",
        "\n",
        "The main goal of natural language processing (NLP) is to derive information from natural language.\n",
        "Natural language is a broad term but you can consider it to cover any of the following:\n",
        "* Text (such as that contained in an email, blog post, book, Tweet)\n",
        "* Speech (a conversation you have with a doctor, voice commands you give to a smart speaker)\n",
        "\n",
        "**What is NLP used for?**\n",
        "\n",
        "Natural Language Processing is the driving force behind the following common applications:\n",
        "* Language translation applications such as Google Translate\n",
        "* Word Processors such as Microsoft Word and Grammarly that employ NLP to check grammatical accuracy of texts.\n",
        "* Interactive Voice Response (IVR) applications used in call centers to respond to certain users’ requests.\n",
        "* Personal assistant applications such as OK Google, Siri, Cortana, and Alexa.\n",
        "\n",
        "**Workflow**\n",
        "```\n",
        "Download text -> Visualize Text -> turn into numbers (tokenization , embedding) -> build a model -> train the model to find patterns -> compare model -> ensemble model\n",
        "```\n",
        "\n",
        "`source` : \n",
        "* https://towardsdatascience.com/whatnlpscientistsdo-905aa987c5c0\n",
        "* https://becominghuman.ai/a-simple-introduction-to-natural-language-processing-ea66a1747b32\n",
        "* https://blog.insightdatascience.com/how-to-solve-90-of-nlp-problems-a-step-by-step-guide-fda605278e4e\n"
      ]
    },
    {
      "cell_type": "markdown",
      "metadata": {
        "id": "NugqGL_GsJPs"
      },
      "source": [
        "# 0.0 Recurrent Neural Network\n",
        "\n",
        "Another common term for NLP problems is sequence to sequence problems(seq2seq). RNN are useful for sequence data.\n",
        "\n",
        "The premise of a recurrent neural network is to use the representation of a previous input to aid the representation of a later input.\n",
        "\n",
        "**Typical Architecture of a RNN**\n",
        "\n",
        "| Hyperparameter/Layer type | What does it do? | Typical values |\n",
        "|---|---|---|\n",
        "| Input text(s) | Target texts/sequences you'd like to discover patterns in | Whatever you can represent as text or a sequence |\n",
        "| Input layer | Takes in target sequence | input_shape = [batch_size, embedding_size] or [batch_size , sequence_shape] |\n",
        "| Text Vectorisation layer | Maps input sequence to layers | Multiple, can create with tf.keras.layers.preprocessing.TextVectorisation |\n",
        "| Embedding | Turn mapping of text vectors to embedding matrix | Multiple, can create with tf.keras.layers.Embedding |\n",
        "| RNN Cells | Find Pattern in Sequences | SimpleRNN , LSTM , GRU |\n",
        "| Hidden activation | Adds non-linearity to learned features (non-straight lines) | Usually Tanh (tf.keras.activations.tanh) |\n",
        "| Pooling layer | Reduces the dimensionality of learned image features | Average (tf.keras.layers.GlobalAveragePooling1D) or Max (tf.keras.layers.GlobalMaxPool1D) |\n",
        "| Fully connected layer | Further refines learned features from convolution layers | tf.keras.layers.Dense |\n",
        "| Output layer | Takes learned features and outputs them in shape of target labels | output_shape = [number_of_classes] (e.g. disaster , Not Disaster) |\n",
        "| Output activation | Adds non-linearities to output layer | tf.keras.activations.sigmoid (binary classification) or tf.keras.activations.softmax |\n"
      ]
    },
    {
      "cell_type": "code",
      "metadata": {
        "id": "OFzwy8N6F6Go"
      },
      "source": [
        "import tensorflow as tf\n",
        "from tensorflow.keras import layers\n",
        "from tensorflow.keras.layers.experimental.preprocessing import TextVectorization\n",
        "from sklearn.naive_bayes import MultinomialNB\n",
        "from sklearn.feature_extraction.text import TfidfVectorizer\n",
        "from sklearn.pipeline import Pipeline\n",
        "\n",
        "import pandas as pd\n",
        "import numpy as np\n",
        "import random\n",
        "\n",
        "from sklearn.model_selection import train_test_split\n",
        "\n",
        "import zipfile\n",
        "import os"
      ],
      "execution_count": 1,
      "outputs": []
    },
    {
      "cell_type": "markdown",
      "metadata": {
        "id": "I3kKLkexpZg5"
      },
      "source": [
        "# 0.5 General Function\n",
        "___"
      ]
    },
    {
      "cell_type": "markdown",
      "metadata": {
        "id": "3m6S7yBWpcko"
      },
      "source": [
        "### TensorBoard Callbacks\n",
        "___"
      ]
    },
    {
      "cell_type": "code",
      "metadata": {
        "id": "_lAtiV6Pphsy"
      },
      "source": [
        "import datetime\n",
        "\n",
        "def create_tensorboard_callback(dir_name , experiment_name):\n",
        "  log_dir = dir_name +'/' + experiment_name +'/' +datetime.datetime.now().strftime('%Y%m%d-%H%M%S')\n",
        "  tensorboard_callback = tf.keras.callbacks.TensorBoard(log_dir = log_dir)\n",
        "  print(f'Saving Tensorboard log files to {log_dir}')\n",
        "  return tensorboard_callback"
      ],
      "execution_count": 2,
      "outputs": []
    },
    {
      "cell_type": "markdown",
      "metadata": {
        "id": "jMCz1kyYqGor"
      },
      "source": [
        "### Classification Evaluation Metrics\n",
        "___"
      ]
    },
    {
      "cell_type": "code",
      "metadata": {
        "id": "m0Sw0p_RqSna"
      },
      "source": [
        "def eval_classification(y_true , y_pred):\n",
        "\n",
        "  from sklearn.metrics import accuracy_score , precision_score , recall_score , f1_score\n",
        "\n",
        "  # Define Scoring variables\n",
        "  accuracy = accuracy_score(y_true , y_pred)\n",
        "  precision = precision_score(y_true , y_pred)\n",
        "  recall = recall_score(y_true , y_pred)\n",
        "  f1_score = f1_score(y_true , y_pred)\n",
        "\n",
        "  score_dict = {'Accuracy' : accuracy,\n",
        "                'Precision' : precision,\n",
        "                'Recall' : recall,\n",
        "                'F1 Score' : f1_score}\n",
        "\n",
        "  return score_dict"
      ],
      "execution_count": 3,
      "outputs": []
    },
    {
      "cell_type": "markdown",
      "metadata": {
        "id": "Lmsa-gdhyC96"
      },
      "source": [
        "# 1.0 Getting Data from kaggle (Natural Language Processing with Disaster Tweets)\n",
        "___\n",
        "\n",
        "source : https://www.kaggle.com/philculliton/nlp-getting-started-tutorial"
      ]
    },
    {
      "cell_type": "code",
      "metadata": {
        "colab": {
          "base_uri": "https://localhost:8080/"
        },
        "id": "uqcke9JRFHR1",
        "outputId": "0defe10e-d4ef-415d-d472-68ed882b1bc4"
      },
      "source": [
        "!wget https://storage.googleapis.com/ztm_tf_course/nlp_getting_started.zip"
      ],
      "execution_count": 4,
      "outputs": [
        {
          "output_type": "stream",
          "text": [
            "--2021-08-28 14:51:08--  https://storage.googleapis.com/ztm_tf_course/nlp_getting_started.zip\n",
            "Resolving storage.googleapis.com (storage.googleapis.com)... 74.125.23.128, 74.125.203.128, 74.125.204.128, ...\n",
            "Connecting to storage.googleapis.com (storage.googleapis.com)|74.125.23.128|:443... connected.\n",
            "HTTP request sent, awaiting response... 200 OK\n",
            "Length: 607343 (593K) [application/zip]\n",
            "Saving to: ‘nlp_getting_started.zip’\n",
            "\n",
            "\rnlp_getting_started   0%[                    ]       0  --.-KB/s               \rnlp_getting_started 100%[===================>] 593.11K  --.-KB/s    in 0.005s  \n",
            "\n",
            "2021-08-28 14:51:08 (106 MB/s) - ‘nlp_getting_started.zip’ saved [607343/607343]\n",
            "\n"
          ],
          "name": "stdout"
        }
      ]
    },
    {
      "cell_type": "code",
      "metadata": {
        "id": "Mr-wTtW6F4CP"
      },
      "source": [
        "# Unzip file\n",
        "zip_ref = zipfile.ZipFile('nlp_getting_started.zip')\n",
        "zip_ref.extractall()\n",
        "zip_ref.close()"
      ],
      "execution_count": 5,
      "outputs": []
    },
    {
      "cell_type": "code",
      "metadata": {
        "id": "zJbl6bVkGPlB"
      },
      "source": [
        "df_train = pd.read_csv('train.csv')\n",
        "df_test = pd.read_csv('test.csv')"
      ],
      "execution_count": 6,
      "outputs": []
    },
    {
      "cell_type": "markdown",
      "metadata": {
        "id": "PjCOXeq2paFC"
      },
      "source": [
        "### 1.1 Visualising Data\n",
        "___"
      ]
    },
    {
      "cell_type": "code",
      "metadata": {
        "colab": {
          "base_uri": "https://localhost:8080/",
          "height": 200
        },
        "id": "KIwlOi_PGx-g",
        "outputId": "9c5fa227-879d-494b-e25e-e1efa1f186b3"
      },
      "source": [
        "# Checking Training Data\n",
        "df_train.head()"
      ],
      "execution_count": 7,
      "outputs": [
        {
          "output_type": "execute_result",
          "data": {
            "text/html": [
              "<div>\n",
              "<style scoped>\n",
              "    .dataframe tbody tr th:only-of-type {\n",
              "        vertical-align: middle;\n",
              "    }\n",
              "\n",
              "    .dataframe tbody tr th {\n",
              "        vertical-align: top;\n",
              "    }\n",
              "\n",
              "    .dataframe thead th {\n",
              "        text-align: right;\n",
              "    }\n",
              "</style>\n",
              "<table border=\"1\" class=\"dataframe\">\n",
              "  <thead>\n",
              "    <tr style=\"text-align: right;\">\n",
              "      <th></th>\n",
              "      <th>id</th>\n",
              "      <th>keyword</th>\n",
              "      <th>location</th>\n",
              "      <th>text</th>\n",
              "      <th>target</th>\n",
              "    </tr>\n",
              "  </thead>\n",
              "  <tbody>\n",
              "    <tr>\n",
              "      <th>0</th>\n",
              "      <td>1</td>\n",
              "      <td>NaN</td>\n",
              "      <td>NaN</td>\n",
              "      <td>Our Deeds are the Reason of this #earthquake M...</td>\n",
              "      <td>1</td>\n",
              "    </tr>\n",
              "    <tr>\n",
              "      <th>1</th>\n",
              "      <td>4</td>\n",
              "      <td>NaN</td>\n",
              "      <td>NaN</td>\n",
              "      <td>Forest fire near La Ronge Sask. Canada</td>\n",
              "      <td>1</td>\n",
              "    </tr>\n",
              "    <tr>\n",
              "      <th>2</th>\n",
              "      <td>5</td>\n",
              "      <td>NaN</td>\n",
              "      <td>NaN</td>\n",
              "      <td>All residents asked to 'shelter in place' are ...</td>\n",
              "      <td>1</td>\n",
              "    </tr>\n",
              "    <tr>\n",
              "      <th>3</th>\n",
              "      <td>6</td>\n",
              "      <td>NaN</td>\n",
              "      <td>NaN</td>\n",
              "      <td>13,000 people receive #wildfires evacuation or...</td>\n",
              "      <td>1</td>\n",
              "    </tr>\n",
              "    <tr>\n",
              "      <th>4</th>\n",
              "      <td>7</td>\n",
              "      <td>NaN</td>\n",
              "      <td>NaN</td>\n",
              "      <td>Just got sent this photo from Ruby #Alaska as ...</td>\n",
              "      <td>1</td>\n",
              "    </tr>\n",
              "  </tbody>\n",
              "</table>\n",
              "</div>"
            ],
            "text/plain": [
              "   id keyword  ...                                               text target\n",
              "0   1     NaN  ...  Our Deeds are the Reason of this #earthquake M...      1\n",
              "1   4     NaN  ...             Forest fire near La Ronge Sask. Canada      1\n",
              "2   5     NaN  ...  All residents asked to 'shelter in place' are ...      1\n",
              "3   6     NaN  ...  13,000 people receive #wildfires evacuation or...      1\n",
              "4   7     NaN  ...  Just got sent this photo from Ruby #Alaska as ...      1\n",
              "\n",
              "[5 rows x 5 columns]"
            ]
          },
          "metadata": {},
          "execution_count": 7
        }
      ]
    },
    {
      "cell_type": "code",
      "metadata": {
        "colab": {
          "base_uri": "https://localhost:8080/",
          "height": 200
        },
        "id": "Gh3_6aYfiWDp",
        "outputId": "f3de85bd-a9f4-4261-aeb4-b156a721a380"
      },
      "source": [
        "df_train = df_train.sample(frac = 1 , random_state = 42)\n",
        "df_train.head()"
      ],
      "execution_count": 8,
      "outputs": [
        {
          "output_type": "execute_result",
          "data": {
            "text/html": [
              "<div>\n",
              "<style scoped>\n",
              "    .dataframe tbody tr th:only-of-type {\n",
              "        vertical-align: middle;\n",
              "    }\n",
              "\n",
              "    .dataframe tbody tr th {\n",
              "        vertical-align: top;\n",
              "    }\n",
              "\n",
              "    .dataframe thead th {\n",
              "        text-align: right;\n",
              "    }\n",
              "</style>\n",
              "<table border=\"1\" class=\"dataframe\">\n",
              "  <thead>\n",
              "    <tr style=\"text-align: right;\">\n",
              "      <th></th>\n",
              "      <th>id</th>\n",
              "      <th>keyword</th>\n",
              "      <th>location</th>\n",
              "      <th>text</th>\n",
              "      <th>target</th>\n",
              "    </tr>\n",
              "  </thead>\n",
              "  <tbody>\n",
              "    <tr>\n",
              "      <th>2644</th>\n",
              "      <td>3796</td>\n",
              "      <td>destruction</td>\n",
              "      <td>NaN</td>\n",
              "      <td>So you have a new weapon that can cause un-ima...</td>\n",
              "      <td>1</td>\n",
              "    </tr>\n",
              "    <tr>\n",
              "      <th>2227</th>\n",
              "      <td>3185</td>\n",
              "      <td>deluge</td>\n",
              "      <td>NaN</td>\n",
              "      <td>The f$&amp;amp;@ing things I do for #GISHWHES Just...</td>\n",
              "      <td>0</td>\n",
              "    </tr>\n",
              "    <tr>\n",
              "      <th>5448</th>\n",
              "      <td>7769</td>\n",
              "      <td>police</td>\n",
              "      <td>UK</td>\n",
              "      <td>DT @georgegalloway: RT @Galloway4Mayor: ÛÏThe...</td>\n",
              "      <td>1</td>\n",
              "    </tr>\n",
              "    <tr>\n",
              "      <th>132</th>\n",
              "      <td>191</td>\n",
              "      <td>aftershock</td>\n",
              "      <td>NaN</td>\n",
              "      <td>Aftershock back to school kick off was great. ...</td>\n",
              "      <td>0</td>\n",
              "    </tr>\n",
              "    <tr>\n",
              "      <th>6845</th>\n",
              "      <td>9810</td>\n",
              "      <td>trauma</td>\n",
              "      <td>Montgomery County, MD</td>\n",
              "      <td>in response to trauma Children of Addicts deve...</td>\n",
              "      <td>0</td>\n",
              "    </tr>\n",
              "  </tbody>\n",
              "</table>\n",
              "</div>"
            ],
            "text/plain": [
              "        id  ... target\n",
              "2644  3796  ...      1\n",
              "2227  3185  ...      0\n",
              "5448  7769  ...      1\n",
              "132    191  ...      0\n",
              "6845  9810  ...      0\n",
              "\n",
              "[5 rows x 5 columns]"
            ]
          },
          "metadata": {},
          "execution_count": 8
        }
      ]
    },
    {
      "cell_type": "code",
      "metadata": {
        "id": "SruLz4mQGy24",
        "colab": {
          "base_uri": "https://localhost:8080/",
          "height": 202
        },
        "outputId": "740c985f-f735-4e1b-a6e3-b91728e10506"
      },
      "source": [
        "# Checking Test Data\n",
        "df_test.head()"
      ],
      "execution_count": 9,
      "outputs": [
        {
          "output_type": "execute_result",
          "data": {
            "text/html": [
              "<div>\n",
              "<style scoped>\n",
              "    .dataframe tbody tr th:only-of-type {\n",
              "        vertical-align: middle;\n",
              "    }\n",
              "\n",
              "    .dataframe tbody tr th {\n",
              "        vertical-align: top;\n",
              "    }\n",
              "\n",
              "    .dataframe thead th {\n",
              "        text-align: right;\n",
              "    }\n",
              "</style>\n",
              "<table border=\"1\" class=\"dataframe\">\n",
              "  <thead>\n",
              "    <tr style=\"text-align: right;\">\n",
              "      <th></th>\n",
              "      <th>id</th>\n",
              "      <th>keyword</th>\n",
              "      <th>location</th>\n",
              "      <th>text</th>\n",
              "    </tr>\n",
              "  </thead>\n",
              "  <tbody>\n",
              "    <tr>\n",
              "      <th>0</th>\n",
              "      <td>0</td>\n",
              "      <td>NaN</td>\n",
              "      <td>NaN</td>\n",
              "      <td>Just happened a terrible car crash</td>\n",
              "    </tr>\n",
              "    <tr>\n",
              "      <th>1</th>\n",
              "      <td>2</td>\n",
              "      <td>NaN</td>\n",
              "      <td>NaN</td>\n",
              "      <td>Heard about #earthquake is different cities, s...</td>\n",
              "    </tr>\n",
              "    <tr>\n",
              "      <th>2</th>\n",
              "      <td>3</td>\n",
              "      <td>NaN</td>\n",
              "      <td>NaN</td>\n",
              "      <td>there is a forest fire at spot pond, geese are...</td>\n",
              "    </tr>\n",
              "    <tr>\n",
              "      <th>3</th>\n",
              "      <td>9</td>\n",
              "      <td>NaN</td>\n",
              "      <td>NaN</td>\n",
              "      <td>Apocalypse lighting. #Spokane #wildfires</td>\n",
              "    </tr>\n",
              "    <tr>\n",
              "      <th>4</th>\n",
              "      <td>11</td>\n",
              "      <td>NaN</td>\n",
              "      <td>NaN</td>\n",
              "      <td>Typhoon Soudelor kills 28 in China and Taiwan</td>\n",
              "    </tr>\n",
              "  </tbody>\n",
              "</table>\n",
              "</div>"
            ],
            "text/plain": [
              "   id keyword location                                               text\n",
              "0   0     NaN      NaN                 Just happened a terrible car crash\n",
              "1   2     NaN      NaN  Heard about #earthquake is different cities, s...\n",
              "2   3     NaN      NaN  there is a forest fire at spot pond, geese are...\n",
              "3   9     NaN      NaN           Apocalypse lighting. #Spokane #wildfires\n",
              "4  11     NaN      NaN      Typhoon Soudelor kills 28 in China and Taiwan"
            ]
          },
          "metadata": {},
          "execution_count": 9
        }
      ]
    },
    {
      "cell_type": "code",
      "metadata": {
        "colab": {
          "base_uri": "https://localhost:8080/"
        },
        "id": "K-_KqfbyiPap",
        "outputId": "f8e4c42f-b6e4-4e95-ce06-1fefa38130a5"
      },
      "source": [
        "# Target True : False Ratio\n",
        "df_train['target'].value_counts(normalize = True)"
      ],
      "execution_count": 10,
      "outputs": [
        {
          "output_type": "execute_result",
          "data": {
            "text/plain": [
              "0    0.57034\n",
              "1    0.42966\n",
              "Name: target, dtype: float64"
            ]
          },
          "metadata": {},
          "execution_count": 10
        }
      ]
    },
    {
      "cell_type": "code",
      "metadata": {
        "colab": {
          "base_uri": "https://localhost:8080/",
          "height": 202
        },
        "id": "lX2gUbWPltwJ",
        "outputId": "e12af268-b49d-4e96-b0e5-05a410b43b81"
      },
      "source": [
        "random_index = random.randint(0 , len(df_train))\n",
        "df_train[['text' , 'target']].head()"
      ],
      "execution_count": 11,
      "outputs": [
        {
          "output_type": "execute_result",
          "data": {
            "text/html": [
              "<div>\n",
              "<style scoped>\n",
              "    .dataframe tbody tr th:only-of-type {\n",
              "        vertical-align: middle;\n",
              "    }\n",
              "\n",
              "    .dataframe tbody tr th {\n",
              "        vertical-align: top;\n",
              "    }\n",
              "\n",
              "    .dataframe thead th {\n",
              "        text-align: right;\n",
              "    }\n",
              "</style>\n",
              "<table border=\"1\" class=\"dataframe\">\n",
              "  <thead>\n",
              "    <tr style=\"text-align: right;\">\n",
              "      <th></th>\n",
              "      <th>text</th>\n",
              "      <th>target</th>\n",
              "    </tr>\n",
              "  </thead>\n",
              "  <tbody>\n",
              "    <tr>\n",
              "      <th>2644</th>\n",
              "      <td>So you have a new weapon that can cause un-ima...</td>\n",
              "      <td>1</td>\n",
              "    </tr>\n",
              "    <tr>\n",
              "      <th>2227</th>\n",
              "      <td>The f$&amp;amp;@ing things I do for #GISHWHES Just...</td>\n",
              "      <td>0</td>\n",
              "    </tr>\n",
              "    <tr>\n",
              "      <th>5448</th>\n",
              "      <td>DT @georgegalloway: RT @Galloway4Mayor: ÛÏThe...</td>\n",
              "      <td>1</td>\n",
              "    </tr>\n",
              "    <tr>\n",
              "      <th>132</th>\n",
              "      <td>Aftershock back to school kick off was great. ...</td>\n",
              "      <td>0</td>\n",
              "    </tr>\n",
              "    <tr>\n",
              "      <th>6845</th>\n",
              "      <td>in response to trauma Children of Addicts deve...</td>\n",
              "      <td>0</td>\n",
              "    </tr>\n",
              "  </tbody>\n",
              "</table>\n",
              "</div>"
            ],
            "text/plain": [
              "                                                   text  target\n",
              "2644  So you have a new weapon that can cause un-ima...       1\n",
              "2227  The f$&amp;@ing things I do for #GISHWHES Just...       0\n",
              "5448  DT @georgegalloway: RT @Galloway4Mayor: ÛÏThe...       1\n",
              "132   Aftershock back to school kick off was great. ...       0\n",
              "6845  in response to trauma Children of Addicts deve...       0"
            ]
          },
          "metadata": {},
          "execution_count": 11
        }
      ]
    },
    {
      "cell_type": "code",
      "metadata": {
        "colab": {
          "base_uri": "https://localhost:8080/"
        },
        "id": "gb6c_PEhjDTZ",
        "outputId": "40269ee6-695f-4e86-e5bb-4a0697e213e5"
      },
      "source": [
        "random_index = random.randint(0 , len(df_train))\n",
        "\n",
        "for row in df_train[['text' , 'target']][random_index : random_index +5].itertuples():\n",
        "  _ , text , target = row\n",
        "\n",
        "  print(f\"Target: {target}\" , \"(Disaster)\" if target > 0 else \"(Not Disaster)\")\n",
        "  print(f'Text: {text}')\n",
        "  print('-------\\n')"
      ],
      "execution_count": 12,
      "outputs": [
        {
          "output_type": "stream",
          "text": [
            "Target: 0 (Not Disaster)\n",
            "Text: New Ladies Shoulder Tote Handbag Women Cross Body Bag Faux Leather Fashion Purse - Full reÛ_ http://t.co/3PCNtcZoxv http://t.co/n0AkjM1e4B\n",
            "-------\n",
            "\n",
            "Target: 0 (Not Disaster)\n",
            "Text: Trauma Team needs to come to the American E-shop.\n",
            "-------\n",
            "\n",
            "Target: 0 (Not Disaster)\n",
            "Text: http://t.co/3nUiH6pkUi #shoes Asics GT-II Super Red 2.0 11 Ronnie Fieg Kith Red White 3M x gel grey volcano 2 http://t.co/2ufCC6gH3m\n",
            "-------\n",
            "\n",
            "Target: 1 (Disaster)\n",
            "Text: @SoonerMagic_ I mean I'm a fan but I don't need a girl sounding off like a damn siren\n",
            "-------\n",
            "\n",
            "Target: 0 (Not Disaster)\n",
            "Text: INFANTRY Mens Lume Dial Army Analog Quartz Wrist Watch Sport Blue Nylon Fabric  - Full reaÛ_ http://t.co/hEP9k0XgHb http://t.co/80EBvglmrA\n",
            "-------\n",
            "\n"
          ],
          "name": "stdout"
        }
      ]
    },
    {
      "cell_type": "markdown",
      "metadata": {
        "id": "Sz18FeIVjwGH"
      },
      "source": [
        "### 1.2 Data Split Training and Validation\n",
        "___"
      ]
    },
    {
      "cell_type": "code",
      "metadata": {
        "id": "NUrB2HkjqMWi"
      },
      "source": [
        "# Define X and y variables\n",
        "train = df_train['text'].to_numpy()\n",
        "val = df_train['target'].to_numpy()"
      ],
      "execution_count": 13,
      "outputs": []
    },
    {
      "cell_type": "code",
      "metadata": {
        "id": "PF9ODPAKpoVy"
      },
      "source": [
        "train_sentences , val_sentences ,train_label , val_label = train_test_split(train , val , test_size = 0.1 , random_state  = 42)"
      ],
      "execution_count": 14,
      "outputs": []
    },
    {
      "cell_type": "code",
      "metadata": {
        "colab": {
          "base_uri": "https://localhost:8080/"
        },
        "id": "KIEaw6E2qrzS",
        "outputId": "46668b2e-c823-4891-8c70-4ffa27acc8ca"
      },
      "source": [
        "print(f'Train Sentence: {train_sentences.shape}')\n",
        "print(f'Val Sentence: {val_sentences.shape}')\n",
        "print(f'Train Label: {train_label.shape}')\n",
        "print(f'Val Label: {val_label.shape}')"
      ],
      "execution_count": 15,
      "outputs": [
        {
          "output_type": "stream",
          "text": [
            "Train Sentence: (6851,)\n",
            "Val Sentence: (762,)\n",
            "Train Label: (6851,)\n",
            "Val Label: (762,)\n"
          ],
          "name": "stdout"
        }
      ]
    },
    {
      "cell_type": "markdown",
      "metadata": {
        "id": "fxMdAYVZra8K"
      },
      "source": [
        "### 1.3 Converting Text into Numbers\n",
        "___\n",
        "\n",
        "* Tokenization : Straight mapping from token to number , however model can get very big as no. of words increases.\n",
        "* Embedding : Representation by vector , weighted matrix. Richer representation of relationship between tokens."
      ]
    },
    {
      "cell_type": "markdown",
      "metadata": {
        "id": "3X4mYslKCiwv"
      },
      "source": [
        "#### 1.3.1 Tokenization\n",
        "___"
      ]
    },
    {
      "cell_type": "code",
      "metadata": {
        "id": "4ShPUeyvrsJi"
      },
      "source": [
        "# # Default Setting of TextVectorisation\n",
        "# text_vectorizer = TextVectorization(max_tokens = None,\n",
        "#                                     standardize = 'lower_and_strip_punctuation',\n",
        "#                                     split = 'whitespace',\n",
        "#                                     ngrams = None, # grouping of words\n",
        "#                                     output_mode = 'int',\n",
        "#                                     output_sequence_length = None,\n",
        "#                                     pad_to_max_tokens = True) "
      ],
      "execution_count": 16,
      "outputs": []
    },
    {
      "cell_type": "code",
      "metadata": {
        "id": "las3jVye85oo"
      },
      "source": [
        "#   This example instantiates a `TextVectorization` layer that lowercases text, splits on whitespace, strips punctuation, and outputs integer vocab indices.\n",
        "\n",
        "max_vocab_length = 10000  # Max number of words in our vocab\n",
        "max_length = 15 # max length our sequence will be (In this case the sequence is a tweet)\n",
        "\n",
        "text_vectorizer = TextVectorization(max_tokens = max_vocab_length,\n",
        "                                    output_mode = 'int',\n",
        "                                    output_sequence_length = max_length,\n",
        "                                    pad_to_max_tokens = True)"
      ],
      "execution_count": 17,
      "outputs": []
    },
    {
      "cell_type": "code",
      "metadata": {
        "id": "GaHFUlvHoiJU"
      },
      "source": [
        "text_vectorizer.adapt(train_sentences)"
      ],
      "execution_count": 18,
      "outputs": []
    },
    {
      "cell_type": "code",
      "metadata": {
        "colab": {
          "base_uri": "https://localhost:8080/"
        },
        "id": "fQk2DAEIAU3o",
        "outputId": "ebdbca5b-05cf-424f-a231-b479e60e60d7"
      },
      "source": [
        "# Our max_length is set as 15 and our sentence only have 7 words. The rest of the 8 remaining words are padded with 0s.\n",
        "sample_sentence = 'There is a flood in Bukit Timah'\n",
        "text_vectorizer(sample_sentence)"
      ],
      "execution_count": 19,
      "outputs": [
        {
          "output_type": "execute_result",
          "data": {
            "text/plain": [
              "<tf.Tensor: shape=(15,), dtype=int64, numpy=\n",
              "array([ 74,   9,   3, 232,   4,   1,   1,   0,   0,   0,   0,   0,   0,\n",
              "         0,   0])>"
            ]
          },
          "metadata": {},
          "execution_count": 19
        }
      ]
    },
    {
      "cell_type": "code",
      "metadata": {
        "colab": {
          "base_uri": "https://localhost:8080/"
        },
        "id": "fw94BLWBA2OO",
        "outputId": "525ef552-6eb2-495f-e8ab-0b622a6badf9"
      },
      "source": [
        "# Visualing random sentence from our training dataset.\n",
        "random_sentence = random.choice(train_sentences)\n",
        "print(f'Originial Sentence: {random_sentence}')\n",
        "print('--------')\n",
        "print(f'Vectorized Sentence: {text_vectorizer(random_sentence)}')"
      ],
      "execution_count": 20,
      "outputs": [
        {
          "output_type": "stream",
          "text": [
            "Originial Sentence: Skinny Jeans are Hazardous for Your Health! #socialnews http://t.co/pAQanenCeS\n",
            "--------\n",
            "Vectorized Sentence: [2703 2917   22  511   10   33  651 2292    1    0    0    0    0    0\n",
            "    0]\n"
          ],
          "name": "stdout"
        }
      ]
    },
    {
      "cell_type": "code",
      "metadata": {
        "colab": {
          "base_uri": "https://localhost:8080/"
        },
        "id": "fCvRLlvsBtxI",
        "outputId": "e9cfa414-51d9-493f-8e45-5c8f563e179f"
      },
      "source": [
        "# Checking the unique vocabulary\n",
        "word_in_vocab = text_vectorizer.get_vocabulary()\n",
        "print(f'Top 10 words: {word_in_vocab[:10]}')\n",
        "print(f'Bottom 10 words: {word_in_vocab[-10:]}')"
      ],
      "execution_count": 21,
      "outputs": [
        {
          "output_type": "stream",
          "text": [
            "Top 10 words: ['', '[UNK]', 'the', 'a', 'in', 'to', 'of', 'and', 'i', 'is']\n",
            "Bottom 10 words: ['painthey', 'painful', 'paine', 'paging', 'pageshi', 'pages', 'paeds', 'pads', 'padres', 'paddytomlinson1']\n"
          ],
          "name": "stdout"
        }
      ]
    },
    {
      "cell_type": "markdown",
      "metadata": {
        "id": "YkIGwXxaANpc"
      },
      "source": [
        "#### 1.3.2 Embedding\n",
        "___\n",
        "\n",
        "* Key Parameters for embedding layer:\n",
        "  - `input_dim` = size of our vocab\n",
        "  - `output_dim` = size of our output embedding vector. A value of 100 would mean each token get represented by a vector 100 long\n",
        "  - `input_length` = length of the sequences being passed to the embedding layer"
      ]
    },
    {
      "cell_type": "code",
      "metadata": {
        "colab": {
          "base_uri": "https://localhost:8080/"
        },
        "id": "on_rl4ZmeQAy",
        "outputId": "c7794187-995b-44cf-e651-14d832a09f4c"
      },
      "source": [
        "embedding = tf.keras.layers.Embedding(input_dim = max_vocab_length,\n",
        "                                      output_dim = 128,\n",
        "                                      input_length = max_length)\n",
        "embedding"
      ],
      "execution_count": 22,
      "outputs": [
        {
          "output_type": "execute_result",
          "data": {
            "text/plain": [
              "<keras.layers.embeddings.Embedding at 0x7fb22f15a810>"
            ]
          },
          "metadata": {},
          "execution_count": 22
        }
      ]
    },
    {
      "cell_type": "code",
      "metadata": {
        "colab": {
          "base_uri": "https://localhost:8080/"
        },
        "id": "AX1styRUennc",
        "outputId": "5426ff50-72fd-4231-fe99-0a32b2e45002"
      },
      "source": [
        "# Visualing random sentence from our training dataset.\n",
        "random_sentence = random.choice(train_sentences)\n",
        "\n",
        "print(f'Original Sentence : {random_sentence}')\n",
        "print('--------')\n",
        "print(f'Embedded Sentence : {embedding(text_vectorizer(random_sentence)).shape}')\n",
        "print(f'Embedded Sentence : {embedding(text_vectorizer(random_sentence))}')"
      ],
      "execution_count": 23,
      "outputs": [
        {
          "output_type": "stream",
          "text": [
            "Original Sentence : Siren Test complete :: The test has concluded\n",
            "--------\n",
            "Embedded Sentence : (15, 128)\n",
            "Embedded Sentence : [[ 2.59529687e-02  2.19255127e-02  3.06075253e-02 ...  1.62627809e-02\n",
            "  -5.64940274e-05 -1.90951955e-02]\n",
            " [ 1.12803951e-02 -2.15843916e-02  3.91317941e-02 ... -2.29613073e-02\n",
            "   3.08796652e-02  1.10706687e-02]\n",
            " [-4.97353673e-02  3.28742750e-02 -1.41871795e-02 ...  2.44693421e-02\n",
            "   3.15127112e-02 -2.24266537e-02]\n",
            " ...\n",
            " [-2.35567242e-03  8.05502012e-03 -2.19145771e-02 ...  9.40399244e-03\n",
            "   1.80891268e-02  3.53706516e-02]\n",
            " [-2.35567242e-03  8.05502012e-03 -2.19145771e-02 ...  9.40399244e-03\n",
            "   1.80891268e-02  3.53706516e-02]\n",
            " [-2.35567242e-03  8.05502012e-03 -2.19145771e-02 ...  9.40399244e-03\n",
            "   1.80891268e-02  3.53706516e-02]]\n"
          ],
          "name": "stdout"
        }
      ]
    },
    {
      "cell_type": "markdown",
      "metadata": {
        "id": "LJLvhX_fgkyx"
      },
      "source": [
        "# 2.0 Modelling NLP with SKlearn , RNN , CNN , Transfer Learning\n",
        "___\n",
        "\n",
        "\n",
        "* Model 1 : Naive Bayes with TF-IDF encoder\n",
        "* Model 2 : Feed-Forward neural network (dense)\n",
        "* Model 3 : LSTM model (RNN)\n",
        "* Model 4 : GRU model (RNN)\n",
        "* Model 5 : Bidirectional - LSTM model (RNN)\n",
        "* Model 6 : 1D CNN\n",
        "* Model 7 : TF Hub Pretrained Feature Extractor\n",
        "* Model 8 : TF Hub Pretrained Feature Extractor with 10% data."
      ]
    },
    {
      "cell_type": "markdown",
      "metadata": {
        "id": "pc53FaxCetLs"
      },
      "source": [
        "### 2.0 Model 0 : Baseline Model with Naive Bayes with TF_IDF encoder\n",
        "___\n"
      ]
    },
    {
      "cell_type": "code",
      "metadata": {
        "colab": {
          "base_uri": "https://localhost:8080/"
        },
        "id": "i6MvfWqqjGUL",
        "outputId": "c7d792bf-ce10-4330-ae24-0e6b7fe85827"
      },
      "source": [
        "model_0 = Pipeline([\n",
        "                    ('tfidf' , TfidfVectorizer()), # convert words to numbers using tfidf\n",
        "                    ('clf' , MultinomialNB()) #model the text\n",
        "])\n",
        "\n",
        "model_0.fit(train_sentences , train_label)"
      ],
      "execution_count": 24,
      "outputs": [
        {
          "output_type": "execute_result",
          "data": {
            "text/plain": [
              "Pipeline(memory=None,\n",
              "         steps=[('tfidf',\n",
              "                 TfidfVectorizer(analyzer='word', binary=False,\n",
              "                                 decode_error='strict',\n",
              "                                 dtype=<class 'numpy.float64'>,\n",
              "                                 encoding='utf-8', input='content',\n",
              "                                 lowercase=True, max_df=1.0, max_features=None,\n",
              "                                 min_df=1, ngram_range=(1, 1), norm='l2',\n",
              "                                 preprocessor=None, smooth_idf=True,\n",
              "                                 stop_words=None, strip_accents=None,\n",
              "                                 sublinear_tf=False,\n",
              "                                 token_pattern='(?u)\\\\b\\\\w\\\\w+\\\\b',\n",
              "                                 tokenizer=None, use_idf=True,\n",
              "                                 vocabulary=None)),\n",
              "                ('clf',\n",
              "                 MultinomialNB(alpha=1.0, class_prior=None, fit_prior=True))],\n",
              "         verbose=False)"
            ]
          },
          "metadata": {},
          "execution_count": 24
        }
      ]
    },
    {
      "cell_type": "code",
      "metadata": {
        "id": "0kSED-LejjpK"
      },
      "source": [
        "# Baseline model score\n",
        "model_0.score(val_sentences , val_label)\n",
        "model_0_preds = model_0.predict(val_sentences)"
      ],
      "execution_count": 25,
      "outputs": []
    },
    {
      "cell_type": "code",
      "metadata": {
        "id": "ZFvNGMtfl5aj"
      },
      "source": [
        "model_0_result = eval_classification(y_true = val_label , y_pred = model_0_preds)"
      ],
      "execution_count": 143,
      "outputs": []
    },
    {
      "cell_type": "markdown",
      "metadata": {
        "id": "MYL7vKHCmAk6"
      },
      "source": [
        "### 2.1 Model 1 : Standard RNN (Dense)\n",
        "___\n",
        "\n",
        "**Type of RNN cells**\n",
        "\n",
        "|Name|When to use|Code|\n",
        "|---|---|---|\n",
        "|LSTM|Default RNN layer for sequence|tf.keras.layers.LSTM|\n",
        "|GRU|Perform very similiar to LSTM|tf.keras.layers.GRU|\n",
        "|Bidirectional LSTM| Good for sequences which benefit from passing forward and backward|tf.keras.layers.Bidirectional|\n",
        "\n",
        "All RNN have the form of a chain of repeating modules of neural network. In standard RNNs, this repeating module will have a very simple structure, such as a single tanh layer.\n",
        "\n",
        "<img src = 'https://raw.githubusercontent.com/86lekwenshiung/Neural-Network-with-Tensorflow/main/images/08-standard_rnn.png'>\n",
        "\n",
        "source : http://colah.github.io/posts/2015-08-Understanding-LSTMs/"
      ]
    },
    {
      "cell_type": "code",
      "metadata": {
        "id": "R8frA0hfog6a"
      },
      "source": [
        "# Build model with the functional API\n",
        "\n",
        "inputs = layers.Input(shape = (1,) , dtype = tf.string) # inputs are 1-D strings\n",
        "x = text_vectorizer(inputs) # turn the text into numbers\n",
        "x = embedding(x) # create an embedding \n",
        "# x = layers.GlobalAveragePooling1D()(x) # condense the feature vector for each token\n",
        "outputs = layers.Dense(1 , activation = 'sigmoid')(x)\n",
        "model_1 = tf.keras.Model(inputs = inputs , outputs = outputs , name ='model_1')"
      ],
      "execution_count": 27,
      "outputs": []
    },
    {
      "cell_type": "code",
      "metadata": {
        "colab": {
          "base_uri": "https://localhost:8080/"
        },
        "id": "8a4x8O6tro-K",
        "outputId": "9a628c0c-e75d-4b3c-f2de-fba059e3e4c9"
      },
      "source": [
        "# Observed that the output layer is not 1 output , but somehow related to our token count.\n",
        "model_1.summary()"
      ],
      "execution_count": 28,
      "outputs": [
        {
          "output_type": "stream",
          "text": [
            "Model: \"model_1\"\n",
            "_________________________________________________________________\n",
            "Layer (type)                 Output Shape              Param #   \n",
            "=================================================================\n",
            "input_1 (InputLayer)         [(None, 1)]               0         \n",
            "_________________________________________________________________\n",
            "text_vectorization (TextVect (None, 15)                0         \n",
            "_________________________________________________________________\n",
            "embedding (Embedding)        (None, 15, 128)           1280000   \n",
            "_________________________________________________________________\n",
            "dense (Dense)                (None, 15, 1)             129       \n",
            "=================================================================\n",
            "Total params: 1,280,129\n",
            "Trainable params: 1,280,129\n",
            "Non-trainable params: 0\n",
            "_________________________________________________________________\n"
          ],
          "name": "stdout"
        }
      ]
    },
    {
      "cell_type": "code",
      "metadata": {
        "id": "ahw1_AM-u2yq"
      },
      "source": [
        "# Build model with the functional API\n",
        "\n",
        "inputs = layers.Input(shape = (1,) , dtype = tf.string) # inputs are 1-D strings\n",
        "x = text_vectorizer(inputs) # turn the text into numbers\n",
        "x = embedding(x) # create an embedding \n",
        "x = layers.GlobalAveragePooling1D()(x) # condense the feature vector for each token\n",
        "outputs = layers.Dense(1 , activation = 'sigmoid')(x)\n",
        "model_1 = tf.keras.Model(inputs = inputs , outputs = outputs , name ='model_1')"
      ],
      "execution_count": 29,
      "outputs": []
    },
    {
      "cell_type": "code",
      "metadata": {
        "colab": {
          "base_uri": "https://localhost:8080/"
        },
        "id": "oRWn8vgovCyR",
        "outputId": "add70d2a-e852-449d-bb25-4edd30eadd05"
      },
      "source": [
        "# Observed that after passing through the Pooling1D , the feature vector for each token is condense into 1 output\n",
        "model_1.summary()"
      ],
      "execution_count": 30,
      "outputs": [
        {
          "output_type": "stream",
          "text": [
            "Model: \"model_1\"\n",
            "_________________________________________________________________\n",
            "Layer (type)                 Output Shape              Param #   \n",
            "=================================================================\n",
            "input_2 (InputLayer)         [(None, 1)]               0         \n",
            "_________________________________________________________________\n",
            "text_vectorization (TextVect (None, 15)                0         \n",
            "_________________________________________________________________\n",
            "embedding (Embedding)        (None, 15, 128)           1280000   \n",
            "_________________________________________________________________\n",
            "global_average_pooling1d (Gl (None, 128)               0         \n",
            "_________________________________________________________________\n",
            "dense_1 (Dense)              (None, 1)                 129       \n",
            "=================================================================\n",
            "Total params: 1,280,129\n",
            "Trainable params: 1,280,129\n",
            "Non-trainable params: 0\n",
            "_________________________________________________________________\n"
          ],
          "name": "stdout"
        }
      ]
    },
    {
      "cell_type": "code",
      "metadata": {
        "colab": {
          "base_uri": "https://localhost:8080/"
        },
        "id": "_aJ2Bbc6ru2i",
        "outputId": "d27ed1db-7bcd-4ce4-8090-23ef20cfe3f3"
      },
      "source": [
        "# Tensorboard Save directory\n",
        "save_dir = 'model_logs'\n",
        "\n",
        "model_1.compile(optimizer = tf.keras.optimizers.Adam(),\n",
        "                loss = tf.keras.losses.BinaryCrossentropy(),\n",
        "                metrics = 'accuracy')\n",
        "\n",
        "history_1 = model_1.fit(train_sentences,\n",
        "                        train_label,\n",
        "                        epochs = 5,\n",
        "                        validation_data = (val_sentences, val_label),\n",
        "                        callbacks = [create_tensorboard_callback(dir_name = save_dir , \n",
        "                                                                 experiment_name = 'model_1_Dense')])"
      ],
      "execution_count": 31,
      "outputs": [
        {
          "output_type": "stream",
          "text": [
            "Saving Tensorboard log files to model_logs/model_1_Dense/20210828-145110\n",
            "Epoch 1/5\n",
            "215/215 [==============================] - 4s 15ms/step - loss: 0.6114 - accuracy: 0.6887 - val_loss: 0.5350 - val_accuracy: 0.7612\n",
            "Epoch 2/5\n",
            "215/215 [==============================] - 3s 14ms/step - loss: 0.4421 - accuracy: 0.8181 - val_loss: 0.4691 - val_accuracy: 0.7874\n",
            "Epoch 3/5\n",
            "215/215 [==============================] - 3s 14ms/step - loss: 0.3481 - accuracy: 0.8599 - val_loss: 0.4549 - val_accuracy: 0.7861\n",
            "Epoch 4/5\n",
            "215/215 [==============================] - 3s 14ms/step - loss: 0.2848 - accuracy: 0.8904 - val_loss: 0.4632 - val_accuracy: 0.7887\n",
            "Epoch 5/5\n",
            "215/215 [==============================] - 3s 14ms/step - loss: 0.2376 - accuracy: 0.9105 - val_loss: 0.4838 - val_accuracy: 0.7900\n"
          ],
          "name": "stdout"
        }
      ]
    },
    {
      "cell_type": "code",
      "metadata": {
        "colab": {
          "base_uri": "https://localhost:8080/"
        },
        "id": "4RAgod49tEzo",
        "outputId": "2f1f1110-5062-4d57-9939-4829f0b99504"
      },
      "source": [
        "# Model 1 Score\n",
        "model_1.evaluate(val_sentences , val_label)"
      ],
      "execution_count": 32,
      "outputs": [
        {
          "output_type": "stream",
          "text": [
            "24/24 [==============================] - 0s 2ms/step - loss: 0.4838 - accuracy: 0.7900\n"
          ],
          "name": "stdout"
        },
        {
          "output_type": "execute_result",
          "data": {
            "text/plain": [
              "[0.4838237166404724, 0.7900262475013733]"
            ]
          },
          "metadata": {},
          "execution_count": 32
        }
      ]
    },
    {
      "cell_type": "code",
      "metadata": {
        "colab": {
          "base_uri": "https://localhost:8080/"
        },
        "id": "GgTEcb_AtmTK",
        "outputId": "2de3d6ee-8b1a-4949-90cb-b2a5dfe3946a"
      },
      "source": [
        "# Checking test_prediction with actual label\n",
        "model_1_preds = model_1.predict(val_sentences)\n",
        "print(f' Sample Test Prediction : {model_1_preds[-10:]}')\n",
        "print('----------------------')\n",
        "print(f' Actual Label : {val_label[-10:]}')"
      ],
      "execution_count": 33,
      "outputs": [
        {
          "output_type": "stream",
          "text": [
            " Sample Test Prediction : [[0.986697  ]\n",
            " [0.01918247]\n",
            " [0.921702  ]\n",
            " [0.63788265]\n",
            " [0.06865248]\n",
            " [0.2331965 ]\n",
            " [0.12454778]\n",
            " [0.77552366]\n",
            " [0.46458152]\n",
            " [0.01026672]]\n",
            "----------------------\n",
            " Actual Label : [1 0 1 1 0 0 0 0 0 0]\n"
          ],
          "name": "stdout"
        }
      ]
    },
    {
      "cell_type": "code",
      "metadata": {
        "colab": {
          "base_uri": "https://localhost:8080/"
        },
        "id": "hgCzTDUSuIBS",
        "outputId": "0386f7ff-af0e-4927-9717-d93d3da0a4ae"
      },
      "source": [
        "# formatting test prediction to 0 and 1 format\n",
        "\n",
        "model_1_preds = tf.squeeze(tf.round(model_1_preds))\n",
        "model_1_preds[:10]"
      ],
      "execution_count": 34,
      "outputs": [
        {
          "output_type": "execute_result",
          "data": {
            "text/plain": [
              "<tf.Tensor: shape=(10,), dtype=float32, numpy=array([0., 1., 1., 0., 0., 1., 1., 1., 1., 0.], dtype=float32)>"
            ]
          },
          "metadata": {},
          "execution_count": 34
        }
      ]
    },
    {
      "cell_type": "code",
      "metadata": {
        "colab": {
          "base_uri": "https://localhost:8080/"
        },
        "id": "pzmkjhUVwjTp",
        "outputId": "0815cdb3-6e1c-493f-f951-4ee712ade99c"
      },
      "source": [
        "model_1_results = eval_classification(val_label , model_1_preds)\n",
        "model_1_results"
      ],
      "execution_count": 35,
      "outputs": [
        {
          "output_type": "execute_result",
          "data": {
            "text/plain": [
              "{'Accuracy': 0.7900262467191601,\n",
              " 'F1 Score': 0.7444089456869011,\n",
              " 'Precision': 0.8381294964028777,\n",
              " 'Recall': 0.6695402298850575}"
            ]
          },
          "metadata": {},
          "execution_count": 35
        }
      ]
    },
    {
      "cell_type": "markdown",
      "metadata": {
        "id": "0JTfvkbzzJnB"
      },
      "source": [
        "#### 2.1.1 Visualing via tensorflow projector\n",
        "___\n",
        "- [Tensorflow Projector](https://projector.tensorflow.org/)\n",
        "- [Word Embedding](https://www.tensorflow.org/text/guide/word_embeddings)"
      ]
    },
    {
      "cell_type": "code",
      "metadata": {
        "colab": {
          "base_uri": "https://localhost:8080/"
        },
        "id": "O8OoHRtpw-fB",
        "outputId": "739eb881-8b8a-46fb-8c60-4657481104fd"
      },
      "source": [
        "words_in_vocab = text_vectorizer.get_vocabulary()\n",
        "len(words_in_vocab) , words_in_vocab[:10]"
      ],
      "execution_count": 36,
      "outputs": [
        {
          "output_type": "execute_result",
          "data": {
            "text/plain": [
              "(10000, ['', '[UNK]', 'the', 'a', 'in', 'to', 'of', 'and', 'i', 'is'])"
            ]
          },
          "metadata": {},
          "execution_count": 36
        }
      ]
    },
    {
      "cell_type": "code",
      "metadata": {
        "colab": {
          "base_uri": "https://localhost:8080/"
        },
        "id": "ncY1Mfrxx-E5",
        "outputId": "bc4a0253-0cd2-4538-a0b8-bb74417921ec"
      },
      "source": [
        "# Get the weight matrix of embedding layer\n",
        "# (these are the numerical representation of each token in our training data)\n",
        "# For every unique token or vocab , there is 128 vectors representing it.\n",
        "embed_weights = model_1.get_layer('embedding').get_weights()[0]\n",
        "embed_weights.shape"
      ],
      "execution_count": 37,
      "outputs": [
        {
          "output_type": "execute_result",
          "data": {
            "text/plain": [
              "(10000, 128)"
            ]
          },
          "metadata": {},
          "execution_count": 37
        }
      ]
    },
    {
      "cell_type": "code",
      "metadata": {
        "id": "KE-cfiXCyihA"
      },
      "source": [
        "# Create Embedding files (we got this from Tensorflow's word embedding documentation)\n",
        "\n",
        "import io\n",
        "\n",
        "out_v = io.open('vectors.tsv', 'w', encoding='utf-8')\n",
        "out_m = io.open('metadata.tsv', 'w', encoding='utf-8')\n",
        "\n",
        "for index, word in enumerate(words_in_vocab):\n",
        "  if index == 0:\n",
        "    continue  # skip 0, it's padding.\n",
        "  vec = embed_weights[index]\n",
        "  out_v.write('\\t'.join([str(x) for x in vec]) + \"\\n\")\n",
        "  out_m.write(word + \"\\n\")\n",
        "out_v.close()\n",
        "out_m.close()"
      ],
      "execution_count": 38,
      "outputs": []
    },
    {
      "cell_type": "code",
      "metadata": {
        "colab": {
          "base_uri": "https://localhost:8080/",
          "height": 16
        },
        "id": "IVBz_V530Eun",
        "outputId": "a885b8e6-4f8e-400b-ccec-869ecf7bf792"
      },
      "source": [
        "# Download file from Colab to upload to projector (we got this from Tensorflow's word embedding documentation)\n",
        "try:\n",
        "  from google.colab import files\n",
        "  files.download('vectors.tsv')\n",
        "  files.download('metadata.tsv')\n",
        "except Exception:\n",
        "  pass"
      ],
      "execution_count": 39,
      "outputs": [
        {
          "output_type": "display_data",
          "data": {
            "application/javascript": [
              "\n",
              "    async function download(id, filename, size) {\n",
              "      if (!google.colab.kernel.accessAllowed) {\n",
              "        return;\n",
              "      }\n",
              "      const div = document.createElement('div');\n",
              "      const label = document.createElement('label');\n",
              "      label.textContent = `Downloading \"${filename}\": `;\n",
              "      div.appendChild(label);\n",
              "      const progress = document.createElement('progress');\n",
              "      progress.max = size;\n",
              "      div.appendChild(progress);\n",
              "      document.body.appendChild(div);\n",
              "\n",
              "      const buffers = [];\n",
              "      let downloaded = 0;\n",
              "\n",
              "      const channel = await google.colab.kernel.comms.open(id);\n",
              "      // Send a message to notify the kernel that we're ready.\n",
              "      channel.send({})\n",
              "\n",
              "      for await (const message of channel.messages) {\n",
              "        // Send a message to notify the kernel that we're ready.\n",
              "        channel.send({})\n",
              "        if (message.buffers) {\n",
              "          for (const buffer of message.buffers) {\n",
              "            buffers.push(buffer);\n",
              "            downloaded += buffer.byteLength;\n",
              "            progress.value = downloaded;\n",
              "          }\n",
              "        }\n",
              "      }\n",
              "      const blob = new Blob(buffers, {type: 'application/binary'});\n",
              "      const a = document.createElement('a');\n",
              "      a.href = window.URL.createObjectURL(blob);\n",
              "      a.download = filename;\n",
              "      div.appendChild(a);\n",
              "      a.click();\n",
              "      div.remove();\n",
              "    }\n",
              "  "
            ],
            "text/plain": [
              "<IPython.core.display.Javascript object>"
            ]
          },
          "metadata": {}
        },
        {
          "output_type": "display_data",
          "data": {
            "application/javascript": [
              "download(\"download_20cda12f-f736-41b4-871d-59b96fd9239e\", \"vectors.tsv\", 15364442)"
            ],
            "text/plain": [
              "<IPython.core.display.Javascript object>"
            ]
          },
          "metadata": {}
        },
        {
          "output_type": "display_data",
          "data": {
            "application/javascript": [
              "\n",
              "    async function download(id, filename, size) {\n",
              "      if (!google.colab.kernel.accessAllowed) {\n",
              "        return;\n",
              "      }\n",
              "      const div = document.createElement('div');\n",
              "      const label = document.createElement('label');\n",
              "      label.textContent = `Downloading \"${filename}\": `;\n",
              "      div.appendChild(label);\n",
              "      const progress = document.createElement('progress');\n",
              "      progress.max = size;\n",
              "      div.appendChild(progress);\n",
              "      document.body.appendChild(div);\n",
              "\n",
              "      const buffers = [];\n",
              "      let downloaded = 0;\n",
              "\n",
              "      const channel = await google.colab.kernel.comms.open(id);\n",
              "      // Send a message to notify the kernel that we're ready.\n",
              "      channel.send({})\n",
              "\n",
              "      for await (const message of channel.messages) {\n",
              "        // Send a message to notify the kernel that we're ready.\n",
              "        channel.send({})\n",
              "        if (message.buffers) {\n",
              "          for (const buffer of message.buffers) {\n",
              "            buffers.push(buffer);\n",
              "            downloaded += buffer.byteLength;\n",
              "            progress.value = downloaded;\n",
              "          }\n",
              "        }\n",
              "      }\n",
              "      const blob = new Blob(buffers, {type: 'application/binary'});\n",
              "      const a = document.createElement('a');\n",
              "      a.href = window.URL.createObjectURL(blob);\n",
              "      a.download = filename;\n",
              "      div.appendChild(a);\n",
              "      a.click();\n",
              "      div.remove();\n",
              "    }\n",
              "  "
            ],
            "text/plain": [
              "<IPython.core.display.Javascript object>"
            ]
          },
          "metadata": {}
        },
        {
          "output_type": "display_data",
          "data": {
            "application/javascript": [
              "download(\"download_7da83829-bb37-4011-a47e-72ab1a19eeec\", \"metadata.tsv\", 80388)"
            ],
            "text/plain": [
              "<IPython.core.display.Javascript object>"
            ]
          },
          "metadata": {}
        }
      ]
    },
    {
      "cell_type": "markdown",
      "metadata": {
        "id": "4PLdT6zx3V-Z"
      },
      "source": [
        "<p align = 'center'>\n",
        "  Extract from Tensorflow Projector for Model_1 (Load Vector.tsv and metadata.tsv)\n",
        "  <img src = 'https://raw.githubusercontent.com/86lekwenshiung/Neural-Network-with-Tensorflow/main/images/08-tf_projector.png'>\n",
        "</p>"
      ]
    },
    {
      "cell_type": "markdown",
      "metadata": {
        "id": "ZoTsK9XG4CAu"
      },
      "source": [
        "### 2.2 Model 2 : LSTM (Long Short Term Memory)\n",
        "___\n",
        "\n",
        "LSTMs also have this chain like structure, but the repeating module has a different structure. Instead of having a single neural network layer, there are four, interacting in a very special way.\n",
        "  - Forget Gate Layer : Look at previous chain and decide which to keep and remove\n",
        "  - Input Gate Layer : Decide which value model update\n",
        "  - Input Modulate Gate : Tanh layer and a subpart of the input gate. This make the information zero-mean and make convergence faster.\n",
        "  - Output Gate : Determines what output(next Hidden State) to generate from the current Internal Cell State.\n",
        "\n",
        "<img src = 'https://raw.githubusercontent.com/86lekwenshiung/Neural-Network-with-Tensorflow/main/images/08-lstm_rnn.png'>\n",
        "\n",
        "source : http://colah.github.io/posts/2015-08-Understanding-LSTMs/\n",
        "\n",
        "\n",
        "**Typical Workflow**\n",
        "```\n",
        "Input (text) -> Tokenize -> Embedding -> Layers (RNNs / Dense) -> Output (label probability)\n",
        "```\n",
        "\n",
        "**Input non-linear function for RNN is `tanh`**\n",
        " - Compared to sigmoid, tanh squeezes the input and passes through the origin.\n"
      ]
    },
    {
      "cell_type": "code",
      "metadata": {
        "colab": {
          "base_uri": "https://localhost:8080/",
          "height": 715
        },
        "id": "OeBgfBaR1e_E",
        "outputId": "07743ad6-8aff-4d09-b3ac-c5c88a7016b4"
      },
      "source": [
        "\n",
        "import tensorflow as tf\n",
        "import matplotlib.pyplot as plt\n",
        "# Passing a linear range\n",
        "sample_linear = tf.range(-10,11 , dtype = tf.float32)\n",
        "\n",
        "# \n",
        "def sigmoid(x):\n",
        "  return 1/(1+tf.exp(-x))\n",
        "\n",
        "def relu(x):\n",
        "  return tf.maximum(0 , x)\n",
        "\n",
        "def tanh(x):\n",
        "  return (np.exp(x) - np.exp(-x))/(np.exp(x) + np.exp(-x))\n",
        "\n",
        "\n",
        "# Passing linear range via the sigmoid and relu function\n",
        "sample_sigmoid = sigmoid(sample_linear)\n",
        "sample_relu = relu(sample_linear)\n",
        "sample_tanh = tanh(sample_linear)\n",
        "\n",
        "plt.figure(figsize = (8 , 12))\n",
        "\n",
        "# Linear Activation - Same as Linear line\n",
        "plt.subplot(2,2,1)\n",
        "plt.plot(sample_linear)\n",
        "plt.title('Linear Sample')\n",
        "\n",
        "# Sigmoid Activation\n",
        "plt.subplot(2,2,2)\n",
        "plt.plot(sample_linear , sample_sigmoid)\n",
        "plt.title('Sigmoid Sample')\n",
        "\n",
        "# ReLU Activation\n",
        "plt.subplot(2,2,3)\n",
        "plt.plot(sample_linear , sample_relu)\n",
        "plt.title('ReLU Sample');\n",
        "\n",
        "# tanh Activation\n",
        "plt.subplot(2,2,4)\n",
        "plt.plot(sample_linear , sample_tanh)\n",
        "plt.title('tanh Sample');"
      ],
      "execution_count": 40,
      "outputs": [
        {
          "output_type": "display_data",
          "data": {
            "image/png": "[encoded data removed]",
            "text/plain": [
              "<Figure size 576x864 with 4 Axes>"
            ]
          },
          "metadata": {
            "needs_background": "light"
          }
        }
      ]
    },
    {
      "cell_type": "code",
      "metadata": {
        "colab": {
          "base_uri": "https://localhost:8080/"
        },
        "id": "ZAYx3sl3u2qp",
        "outputId": "d49f6777-2b7c-4b23-e426-0a42f6f0bba5"
      },
      "source": [
        "import tensorflow as tf\n",
        "from tensorflow.keras import layers\n",
        "\n",
        "inputs = layers.Input(shape = (1,) , dtype = 'string') # inputs are 1D String\n",
        "x = text_vectorizer(inputs)\n",
        "x = embedding(x)\n",
        "print(x.shape)\n",
        "x = layers.LSTM(units = 64 , return_sequences = True)(x) \n",
        "print(x.shape)\n",
        "x = layers.LSTM(64)(x) # RNN is recurring , so it take it previous loop. Have to be same as previous\n",
        "print(x.shape)\n",
        "# x = layers.Dense(64 , activation = 'relu')(x)\n",
        "# print(x.shape)\n",
        "outputs = layers.Dense(1 , activation = 'sigmoid')(x)\n",
        "model_2 = tf.keras.Model(inputs = inputs , outputs = outputs , name= 'model_2')"
      ],
      "execution_count": 41,
      "outputs": [
        {
          "output_type": "stream",
          "text": [
            "(None, 15, 128)\n",
            "(None, 15, 64)\n",
            "(None, 64)\n"
          ],
          "name": "stdout"
        }
      ]
    },
    {
      "cell_type": "code",
      "metadata": {
        "colab": {
          "base_uri": "https://localhost:8080/"
        },
        "id": "eVFcsakrvT-D",
        "outputId": "972e4ef5-120d-4967-aa20-2f7e3ccbf29e"
      },
      "source": [
        "model_2.summary()"
      ],
      "execution_count": 42,
      "outputs": [
        {
          "output_type": "stream",
          "text": [
            "Model: \"model_2\"\n",
            "_________________________________________________________________\n",
            "Layer (type)                 Output Shape              Param #   \n",
            "=================================================================\n",
            "input_3 (InputLayer)         [(None, 1)]               0         \n",
            "_________________________________________________________________\n",
            "text_vectorization (TextVect (None, 15)                0         \n",
            "_________________________________________________________________\n",
            "embedding (Embedding)        (None, 15, 128)           1280000   \n",
            "_________________________________________________________________\n",
            "lstm (LSTM)                  (None, 15, 64)            49408     \n",
            "_________________________________________________________________\n",
            "lstm_1 (LSTM)                (None, 64)                33024     \n",
            "_________________________________________________________________\n",
            "dense_2 (Dense)              (None, 1)                 65        \n",
            "=================================================================\n",
            "Total params: 1,362,497\n",
            "Trainable params: 1,362,497\n",
            "Non-trainable params: 0\n",
            "_________________________________________________________________\n"
          ],
          "name": "stdout"
        }
      ]
    },
    {
      "cell_type": "code",
      "metadata": {
        "colab": {
          "base_uri": "https://localhost:8080/"
        },
        "id": "_nBs2ws5y_fy",
        "outputId": "c10450f1-87d9-4f91-e324-41cb97c8de6e"
      },
      "source": [
        "model_2.compile(optimizer= tf.keras.optimizers.Adam(),\n",
        "                loss = tf.keras.losses.BinaryCrossentropy(),\n",
        "                metrics = 'accuracy')\n",
        "\n",
        "history_2 = model_2.fit(train_sentences,\n",
        "                        train_label,\n",
        "                        epochs = 5,\n",
        "                        callbacks = [create_tensorboard_callback(dir_name = save_dir,\n",
        "                                                                 experiment_name = 'model_2_LSTM')],\n",
        "                        validation_data = (val_sentences , val_label))"
      ],
      "execution_count": 43,
      "outputs": [
        {
          "output_type": "stream",
          "text": [
            "Saving Tensorboard log files to model_logs/model_2_LSTM/20210828-145130\n",
            "Epoch 1/5\n",
            "215/215 [==============================] - 12s 41ms/step - loss: 0.2238 - accuracy: 0.9153 - val_loss: 0.6114 - val_accuracy: 0.7861\n",
            "Epoch 2/5\n",
            "215/215 [==============================] - 7s 35ms/step - loss: 0.1606 - accuracy: 0.9409 - val_loss: 0.6675 - val_accuracy: 0.7795\n",
            "Epoch 3/5\n",
            "215/215 [==============================] - 7s 34ms/step - loss: 0.1341 - accuracy: 0.9517 - val_loss: 0.7119 - val_accuracy: 0.7756\n",
            "Epoch 4/5\n",
            "215/215 [==============================] - 8s 35ms/step - loss: 0.1052 - accuracy: 0.9577 - val_loss: 0.8281 - val_accuracy: 0.7861\n",
            "Epoch 5/5\n",
            "215/215 [==============================] - 8s 36ms/step - loss: 0.0782 - accuracy: 0.9675 - val_loss: 1.1904 - val_accuracy: 0.7743\n"
          ],
          "name": "stdout"
        }
      ]
    },
    {
      "cell_type": "code",
      "metadata": {
        "colab": {
          "base_uri": "https://localhost:8080/"
        },
        "id": "A9rtB_Flz8nT",
        "outputId": "6770f51d-0262-4480-a898-8fa2d74fe2ca"
      },
      "source": [
        "# Checking test prediction with actual label\n",
        "model_2_preds = model_2.predict(val_sentences)\n",
        "print(f' Sample Test Prediction : {model_2_preds[-10:]}')\n",
        "print('----------------------')\n",
        "print(f' Actual Label : {val_label[-10:]}')"
      ],
      "execution_count": 44,
      "outputs": [
        {
          "output_type": "stream",
          "text": [
            " Sample Test Prediction : [[9.9992549e-01]\n",
            " [1.6003847e-04]\n",
            " [9.9990690e-01]\n",
            " [9.5938838e-01]\n",
            " [5.5151582e-03]\n",
            " [3.2530129e-03]\n",
            " [1.3097727e-01]\n",
            " [9.2065543e-01]\n",
            " [1.8019408e-02]\n",
            " [1.7407537e-04]]\n",
            "----------------------\n",
            " Actual Label : [1 0 1 1 0 0 0 0 0 0]\n"
          ],
          "name": "stdout"
        }
      ]
    },
    {
      "cell_type": "code",
      "metadata": {
        "colab": {
          "base_uri": "https://localhost:8080/"
        },
        "id": "HGBsx6I20aIy",
        "outputId": "a5daf1fc-f072-4a7c-fc3e-a3c60a12547f"
      },
      "source": [
        "# formatting prediction to 0 and 1 format\n",
        "\n",
        "model_2_preds = tf.squeeze(tf.round(model_2_preds))\n",
        "model_2_preds[:10]"
      ],
      "execution_count": 45,
      "outputs": [
        {
          "output_type": "execute_result",
          "data": {
            "text/plain": [
              "<tf.Tensor: shape=(10,), dtype=float32, numpy=array([0., 1., 1., 0., 0., 1., 1., 1., 1., 0.], dtype=float32)>"
            ]
          },
          "metadata": {},
          "execution_count": 45
        }
      ]
    },
    {
      "cell_type": "code",
      "metadata": {
        "colab": {
          "base_uri": "https://localhost:8080/"
        },
        "id": "kXluGnvb00ca",
        "outputId": "d9c114b2-1fc7-4cf8-c0e7-d026b802a648"
      },
      "source": [
        "# Getting the results\n",
        "model_2_results = eval_classification(y_pred = model_2_preds, y_true = val_label )\n",
        "model_2_results"
      ],
      "execution_count": 46,
      "outputs": [
        {
          "output_type": "execute_result",
          "data": {
            "text/plain": [
              "{'Accuracy': 0.7742782152230971,\n",
              " 'F1 Score': 0.7370030581039756,\n",
              " 'Precision': 0.7875816993464052,\n",
              " 'Recall': 0.6925287356321839}"
            ]
          },
          "metadata": {},
          "execution_count": 46
        }
      ]
    },
    {
      "cell_type": "markdown",
      "metadata": {
        "id": "3deqENZ01OKy"
      },
      "source": [
        "### 2.3 Model 3 : GRU (Gated Recurrent Network)\n",
        "___\n",
        "\n",
        "Gated recurrent units (GRUs) are a gating mechanism in recurrent neural networks, introduced in 2014 by Kyunghyun Cho et al.The GRU is like a long short-term memory (LSTM) with a forget gate, but has fewer parameters than LSTM, as it lacks an output gate. GRU's performance on certain tasks of polyphonic music modeling, speech signal modeling and natural language processing was found to be similar to that of LSTM. GRUs have been shown to exhibit better performance on certain smaller and less frequent datasets.\n",
        "Source : https://en.wikipedia.org/wiki/Gated_recurrent_unit\n",
        "\n",
        "\n",
        "It combines the forget and input gates into a single “update gate.” It also merges the cell state and hidden state, and makes some other changes. The resulting model is simpler than standard LSTM models.\n",
        "<img src = 'https://raw.githubusercontent.com/86lekwenshiung/Neural-Network-with-Tensorflow/main/images/08-gru_rnn.png'>\n",
        "source : http://colah.github.io/posts/2015-08-Understanding-LSTMs/\n",
        "\n",
        "\n",
        "**Recap on flow process**\n",
        "  ```\n",
        "Input (text) -> Tokenize -> Embedding -> Layers (RNNs / Dense) -> Output (label probability)\n",
        "  ```"
      ]
    },
    {
      "cell_type": "code",
      "metadata": {
        "colab": {
          "base_uri": "https://localhost:8080/"
        },
        "id": "q77aFucFBZsJ",
        "outputId": "6c58525a-7a60-4841-b54c-fb4cdc6abcd3"
      },
      "source": [
        "import tensorflow as tf\n",
        "from tensorflow.keras import layers\n",
        "\n",
        "inputs = layers.Input(shape = (1,) , dtype = tf.string)\n",
        "x = text_vectorizer(inputs)\n",
        "x = embedding(x)\n",
        "print(x.shape)\n",
        "x = layers.GRU(64 , return_sequences = True)(x) #return sequence = true if want to stack recurrent layers\n",
        "print(x.shape)\n",
        "x = layers.LSTM(42 , return_sequences = True)(x)\n",
        "print(x.shape)\n",
        "x = layers.GRU(99)(x)\n",
        "print(x.shape)\n",
        "# x = layers.Dense(64 , activation = 'relu')(x)\n",
        "outputs = layers.Dense(1 , activation  = 'sigmoid')(x)\n",
        "model_3 = tf.keras.Model(inputs ,outputs , name = 'model_3')"
      ],
      "execution_count": 47,
      "outputs": [
        {
          "output_type": "stream",
          "text": [
            "(None, 15, 128)\n",
            "(None, 15, 64)\n",
            "(None, 15, 42)\n",
            "(None, 99)\n"
          ],
          "name": "stdout"
        }
      ]
    },
    {
      "cell_type": "code",
      "metadata": {
        "colab": {
          "base_uri": "https://localhost:8080/"
        },
        "id": "vFYGahU6CZpf",
        "outputId": "38e7bd44-6cb5-4edd-86f5-27addd9a9443"
      },
      "source": [
        "model_3.summary()"
      ],
      "execution_count": 48,
      "outputs": [
        {
          "output_type": "stream",
          "text": [
            "Model: \"model_3\"\n",
            "_________________________________________________________________\n",
            "Layer (type)                 Output Shape              Param #   \n",
            "=================================================================\n",
            "input_4 (InputLayer)         [(None, 1)]               0         \n",
            "_________________________________________________________________\n",
            "text_vectorization (TextVect (None, 15)                0         \n",
            "_________________________________________________________________\n",
            "embedding (Embedding)        (None, 15, 128)           1280000   \n",
            "_________________________________________________________________\n",
            "gru (GRU)                    (None, 15, 64)            37248     \n",
            "_________________________________________________________________\n",
            "lstm_2 (LSTM)                (None, 15, 42)            17976     \n",
            "_________________________________________________________________\n",
            "gru_1 (GRU)                  (None, 99)                42471     \n",
            "_________________________________________________________________\n",
            "dense_3 (Dense)              (None, 1)                 100       \n",
            "=================================================================\n",
            "Total params: 1,377,795\n",
            "Trainable params: 1,377,795\n",
            "Non-trainable params: 0\n",
            "_________________________________________________________________\n"
          ],
          "name": "stdout"
        }
      ]
    },
    {
      "cell_type": "code",
      "metadata": {
        "colab": {
          "base_uri": "https://localhost:8080/"
        },
        "id": "OCnfQtAfFgYI",
        "outputId": "cfbac963-d47b-4a0b-81a1-e83f13213917"
      },
      "source": [
        "model_3.compile(optimizer = tf.keras.optimizers.Adam(),\n",
        "                loss = tf.keras.losses.BinaryCrossentropy(),\n",
        "                metrics = 'accuracy')\n",
        "\n",
        "history_3 = model_3.fit(train_sentences,\n",
        "                        train_label,\n",
        "                        epochs = 5,\n",
        "                        validation_data = (val_sentences , val_label),\n",
        "                        callbacks = [create_tensorboard_callback(save_dir , 'model_3_GRU')])"
      ],
      "execution_count": 49,
      "outputs": [
        {
          "output_type": "stream",
          "text": [
            "Saving Tensorboard log files to model_logs/model_3_GRU/20210828-145215\n",
            "Epoch 1/5\n",
            "215/215 [==============================] - 16s 51ms/step - loss: 0.1368 - accuracy: 0.9539 - val_loss: 0.8317 - val_accuracy: 0.7664\n",
            "Epoch 2/5\n",
            "215/215 [==============================] - 9s 44ms/step - loss: 0.0718 - accuracy: 0.9691 - val_loss: 1.2764 - val_accuracy: 0.7782\n",
            "Epoch 3/5\n",
            "215/215 [==============================] - 10s 45ms/step - loss: 0.0618 - accuracy: 0.9724 - val_loss: 1.3255 - val_accuracy: 0.7651\n",
            "Epoch 4/5\n",
            "215/215 [==============================] - 10s 44ms/step - loss: 0.0527 - accuracy: 0.9764 - val_loss: 1.7254 - val_accuracy: 0.7625\n",
            "Epoch 5/5\n",
            "215/215 [==============================] - 9s 44ms/step - loss: 0.0504 - accuracy: 0.9784 - val_loss: 1.4138 - val_accuracy: 0.7730\n"
          ],
          "name": "stdout"
        }
      ]
    },
    {
      "cell_type": "code",
      "metadata": {
        "colab": {
          "base_uri": "https://localhost:8080/"
        },
        "id": "KRBsS7qJeeM5",
        "outputId": "3f1efd63-eb1e-4fed-b614-2c8ac0c521f9"
      },
      "source": [
        "model_3_preds = model_3.predict(val_sentences)\n",
        "print(f' Sample Test Prediction : {model_3_preds[-10:]}')\n",
        "print('----------------------')\n",
        "print(f' Actual Label : {val_label[-10:]}')"
      ],
      "execution_count": 50,
      "outputs": [
        {
          "output_type": "stream",
          "text": [
            " Sample Test Prediction : [[9.9986172e-01]\n",
            " [2.2372462e-05]\n",
            " [9.9989557e-01]\n",
            " [9.9861562e-01]\n",
            " [9.6186996e-03]\n",
            " [6.0525239e-03]\n",
            " [2.5884825e-01]\n",
            " [8.9406300e-01]\n",
            " [1.4145374e-03]\n",
            " [1.5249754e-05]]\n",
            "----------------------\n",
            " Actual Label : [1 0 1 1 0 0 0 0 0 0]\n"
          ],
          "name": "stdout"
        }
      ]
    },
    {
      "cell_type": "code",
      "metadata": {
        "colab": {
          "base_uri": "https://localhost:8080/"
        },
        "id": "ljmdMDmkdzHZ",
        "outputId": "5a53e4e8-416d-468f-d2a5-ea31e77905aa"
      },
      "source": [
        "model_3_preds = tf.squeeze(tf.round(model_3_preds))\n",
        "model_3_results = eval_classification(y_pred = model_3_preds, y_true = val_label )\n",
        "model_3_results"
      ],
      "execution_count": 51,
      "outputs": [
        {
          "output_type": "execute_result",
          "data": {
            "text/plain": [
              "{'Accuracy': 0.7729658792650919,\n",
              " 'F1 Score': 0.7390648567119155,\n",
              " 'Precision': 0.7777777777777778,\n",
              " 'Recall': 0.7040229885057471}"
            ]
          },
          "metadata": {},
          "execution_count": 51
        }
      ]
    },
    {
      "cell_type": "markdown",
      "metadata": {
        "id": "z47z8guTL8Yc"
      },
      "source": [
        "### 2.4 Model_4 : Bi-directional LSTM (RNN)\n",
        "___\n",
        "\n",
        "Bi-directional RNN read text from both direction. For example:\n",
        " - the destruction caused by the bombing\n",
        " - bombing the by caused destruction the\n",
        "\n",
        "<p align = 'center'>\n",
        "  <img src = 'https://raw.githubusercontent.com/86lekwenshiung/Neural-Network-with-Tensorflow/main/images/08-bi_directional.png'>\n",
        "</p>\n",
        "\n",
        "[Research Gate Source](https://www.researchgate.net/figure/Bi-directional-RNN-with-independent-weights-for-relation-classification-context-flow_fig4_316684826)"
      ]
    },
    {
      "cell_type": "code",
      "metadata": {
        "colab": {
          "base_uri": "https://localhost:8080/"
        },
        "id": "7tEBv8VyMJSz",
        "outputId": "2d4e5707-b528-497b-da85-72c2e4e7821d"
      },
      "source": [
        "import tensorflow as tf\n",
        "from tensorflow.keras import layers\n",
        "\n",
        "inputs = layers.Input(shape = (1,) , dtype = tf.string)\n",
        "x = text_vectorizer(inputs)\n",
        "x = embedding(x)\n",
        "print(x.shape)\n",
        "x = layers.Bidirectional(layers.LSTM(64 , return_sequences = True))(x)\n",
        "print(x.shape)\n",
        "x = layers.Bidirectional(layers.LSTM(32))(x)\n",
        "print(x.shape)\n",
        "outputs = layers.Dense(1 , activation = 'sigmoid')(x)\n",
        "print(x.shape)\n",
        "\n",
        "model_4 = tf.keras.Model(inputs , outputs , name = 'model_4_bidirection')"
      ],
      "execution_count": 52,
      "outputs": [
        {
          "output_type": "stream",
          "text": [
            "(None, 15, 128)\n",
            "(None, 15, 128)\n",
            "(None, 64)\n",
            "(None, 64)\n"
          ],
          "name": "stdout"
        }
      ]
    },
    {
      "cell_type": "code",
      "metadata": {
        "colab": {
          "base_uri": "https://localhost:8080/"
        },
        "id": "wasX6eaWa3Pw",
        "outputId": "95c1c99b-e46f-4ff2-8a21-900adba82ac8"
      },
      "source": [
        "# Observed that at bi-directional layers , the shape is (None ,15 , 128) because previous input x 2 ways.\n",
        "model_4.summary()"
      ],
      "execution_count": 53,
      "outputs": [
        {
          "output_type": "stream",
          "text": [
            "Model: \"model_4_bidirection\"\n",
            "_________________________________________________________________\n",
            "Layer (type)                 Output Shape              Param #   \n",
            "=================================================================\n",
            "input_5 (InputLayer)         [(None, 1)]               0         \n",
            "_________________________________________________________________\n",
            "text_vectorization (TextVect (None, 15)                0         \n",
            "_________________________________________________________________\n",
            "embedding (Embedding)        (None, 15, 128)           1280000   \n",
            "_________________________________________________________________\n",
            "bidirectional (Bidirectional (None, 15, 128)           98816     \n",
            "_________________________________________________________________\n",
            "bidirectional_1 (Bidirection (None, 64)                41216     \n",
            "_________________________________________________________________\n",
            "dense_4 (Dense)              (None, 1)                 65        \n",
            "=================================================================\n",
            "Total params: 1,420,097\n",
            "Trainable params: 1,420,097\n",
            "Non-trainable params: 0\n",
            "_________________________________________________________________\n"
          ],
          "name": "stdout"
        }
      ]
    },
    {
      "cell_type": "code",
      "metadata": {
        "colab": {
          "base_uri": "https://localhost:8080/"
        },
        "id": "5u7_m8fecrVp",
        "outputId": "1afc5451-d126-4823-f75b-b67045def127"
      },
      "source": [
        "model_4.compile(optimizer = tf.keras.optimizers.Adam(),\n",
        "                loss = tf.keras.losses.BinaryCrossentropy(),\n",
        "                metrics = 'accuracy')\n",
        "\n",
        "history_4 = model_4.fit(train_sentences,\n",
        "                        train_label,\n",
        "                        epochs = 5,\n",
        "                        validation_data = (val_sentences , val_label),\n",
        "                        callbacks = [create_tensorboard_callback(save_dir , 'model_4_bidirectional')])"
      ],
      "execution_count": 54,
      "outputs": [
        {
          "output_type": "stream",
          "text": [
            "Saving Tensorboard log files to model_logs/model_4_bidirectional/20210828-145344\n",
            "Epoch 1/5\n",
            "215/215 [==============================] - 18s 56ms/step - loss: 0.1080 - accuracy: 0.9651 - val_loss: 1.0168 - val_accuracy: 0.7690\n",
            "Epoch 2/5\n",
            "215/215 [==============================] - 10s 46ms/step - loss: 0.0527 - accuracy: 0.9750 - val_loss: 1.0268 - val_accuracy: 0.7690\n",
            "Epoch 3/5\n",
            "215/215 [==============================] - 10s 48ms/step - loss: 0.0496 - accuracy: 0.9777 - val_loss: 1.1214 - val_accuracy: 0.7638\n",
            "Epoch 4/5\n",
            "215/215 [==============================] - 10s 48ms/step - loss: 0.0447 - accuracy: 0.9777 - val_loss: 1.2477 - val_accuracy: 0.7703\n",
            "Epoch 5/5\n",
            "215/215 [==============================] - 10s 47ms/step - loss: 0.0437 - accuracy: 0.9790 - val_loss: 1.3103 - val_accuracy: 0.7690\n"
          ],
          "name": "stdout"
        }
      ]
    },
    {
      "cell_type": "code",
      "metadata": {
        "colab": {
          "base_uri": "https://localhost:8080/"
        },
        "id": "Pigty3e1dWAX",
        "outputId": "a3b593c0-5b96-413d-a93f-b4cbf909e346"
      },
      "source": [
        "model_4.evaluate(val_sentences , val_label)"
      ],
      "execution_count": 55,
      "outputs": [
        {
          "output_type": "stream",
          "text": [
            "24/24 [==============================] - 0s 10ms/step - loss: 1.3103 - accuracy: 0.7690\n"
          ],
          "name": "stdout"
        },
        {
          "output_type": "execute_result",
          "data": {
            "text/plain": [
              "[1.3102787733078003, 0.7690288424491882]"
            ]
          },
          "metadata": {},
          "execution_count": 55
        }
      ]
    },
    {
      "cell_type": "code",
      "metadata": {
        "colab": {
          "base_uri": "https://localhost:8080/"
        },
        "id": "MB6-3zMqeL8Z",
        "outputId": "b6525802-d25a-4c3a-ba19-0ba5cdad39ad"
      },
      "source": [
        "model_4_preds = model_4.predict(val_sentences)\n",
        "print(f' Sample Test Prediction : {model_4_preds[-10:]}')\n",
        "print('----------------------')\n",
        "print(f' Actual Label : {val_label[-10:]}')"
      ],
      "execution_count": 56,
      "outputs": [
        {
          "output_type": "stream",
          "text": [
            " Sample Test Prediction : [[9.9985337e-01]\n",
            " [3.2097101e-04]\n",
            " [9.9984121e-01]\n",
            " [9.9354184e-01]\n",
            " [8.3957314e-03]\n",
            " [7.9353452e-03]\n",
            " [4.5379069e-01]\n",
            " [9.7984445e-01]\n",
            " [5.4143190e-02]\n",
            " [2.3096800e-04]]\n",
            "----------------------\n",
            " Actual Label : [1 0 1 1 0 0 0 0 0 0]\n"
          ],
          "name": "stdout"
        }
      ]
    },
    {
      "cell_type": "code",
      "metadata": {
        "colab": {
          "base_uri": "https://localhost:8080/"
        },
        "id": "VOrcpyXhdnHA",
        "outputId": "d7315186-b36e-4e0f-d639-1827cc15b6af"
      },
      "source": [
        "# Model 4 results\n",
        "model_4_preds = tf.squeeze(tf.round(model_4_preds))\n",
        "model_4_results = eval_classification(y_true = val_label,\n",
        "                                      y_pred = model_4_preds)\n",
        "model_4_results"
      ],
      "execution_count": 57,
      "outputs": [
        {
          "output_type": "execute_result",
          "data": {
            "text/plain": [
              "{'Accuracy': 0.7690288713910761,\n",
              " 'F1 Score': 0.738872403560831,\n",
              " 'Precision': 0.7638036809815951,\n",
              " 'Recall': 0.7155172413793104}"
            ]
          },
          "metadata": {},
          "execution_count": 57
        }
      ]
    },
    {
      "cell_type": "markdown",
      "metadata": {
        "id": "pVg-6LezeEnI"
      },
      "source": [
        "### 2.5 Model_5 : 1D Convolution Neural Network for sequences\n",
        "___\n",
        "\n",
        "* Previous notebooks , we use CNN for images using Conv2D.\n",
        "* Current sequences like text , we will use COnv2D.\n",
        "* Recap previous workflow:\n",
        "```\n",
        "Input(text) ->Tokenization -> Embedding -> Layers (Conv1D , pooling) -> Outputs\n",
        "```"
      ]
    },
    {
      "cell_type": "code",
      "metadata": {
        "id": "uHEExjsqhGI1"
      },
      "source": [
        "import tensorflow as tf\n",
        "from tensorflow.keras import layers"
      ],
      "execution_count": 58,
      "outputs": []
    },
    {
      "cell_type": "code",
      "metadata": {
        "colab": {
          "base_uri": "https://localhost:8080/"
        },
        "id": "F-dhinPWiLlg",
        "outputId": "3df1610b-f5db-4dcb-fc8a-47cbc939ba2d"
      },
      "source": [
        "# Sample Visualing\n",
        "\n",
        "embedding_text = embedding(text_vectorizer(['this is a test sentence'])) # turn target into token in text_vectorizer. In this example , we had set as 15.\n",
        "print(embedding_text.shape)\n",
        "conv_1d = layers.Conv1D(filters = 32,\n",
        "                        kernel_size = 5, #look at 5 words at a time or ngram of 5\n",
        "                        strides = 1, # how many words stride per time\n",
        "                        activation = 'relu',\n",
        "                        padding = 'valid')\n",
        "conv_1d_output = conv_1d(embedding_text)\n",
        "print(conv_1d_output.shape) # Shape at this layer goes from 15 to 11 because padding is valid\n",
        "max_pool = layers.GlobalMaxPool1D()\n",
        "max_pool_output = max_pool(conv_1d_output) # condenses all max value the 15 tokens convert into a single feature of 32.\n",
        "print(max_pool_output.shape)"
      ],
      "execution_count": 59,
      "outputs": [
        {
          "output_type": "stream",
          "text": [
            "(1, 15, 128)\n",
            "(1, 11, 32)\n",
            "(1, 32)\n"
          ],
          "name": "stdout"
        }
      ]
    },
    {
      "cell_type": "code",
      "metadata": {
        "id": "ZZV1Cmi5idNI"
      },
      "source": [
        "inputs = layers.Input(shape = (1,) , dtype = tf.string)\n",
        "x = text_vectorizer(inputs)\n",
        "x = embedding(x)\n",
        "x = layers.Conv1D(filters = 64,\n",
        "                  kernel_size = 5, # equivalent to ngram : how many words read at a time\n",
        "                  activation = 'relu',\n",
        "                  padding = 'same')(x)\n",
        "x = layers.GlobalMaxPool1D()(x)\n",
        "outputs = layers.Dense(1 , activation = 'sigmoid')(x)\n",
        "model_5 = tf.keras.Model(inputs , outputs , name = 'model_5_conv1d')"
      ],
      "execution_count": 60,
      "outputs": []
    },
    {
      "cell_type": "code",
      "metadata": {
        "colab": {
          "base_uri": "https://localhost:8080/"
        },
        "id": "BDhIenvVnrnd",
        "outputId": "0fda4683-3ef4-4361-a29e-b1e2188f7712"
      },
      "source": [
        "model_5.summary()"
      ],
      "execution_count": 61,
      "outputs": [
        {
          "output_type": "stream",
          "text": [
            "Model: \"model_5_conv1d\"\n",
            "_________________________________________________________________\n",
            "Layer (type)                 Output Shape              Param #   \n",
            "=================================================================\n",
            "input_6 (InputLayer)         [(None, 1)]               0         \n",
            "_________________________________________________________________\n",
            "text_vectorization (TextVect (None, 15)                0         \n",
            "_________________________________________________________________\n",
            "embedding (Embedding)        (None, 15, 128)           1280000   \n",
            "_________________________________________________________________\n",
            "conv1d_1 (Conv1D)            (None, 15, 64)            41024     \n",
            "_________________________________________________________________\n",
            "global_max_pooling1d_1 (Glob (None, 64)                0         \n",
            "_________________________________________________________________\n",
            "dense_5 (Dense)              (None, 1)                 65        \n",
            "=================================================================\n",
            "Total params: 1,321,089\n",
            "Trainable params: 1,321,089\n",
            "Non-trainable params: 0\n",
            "_________________________________________________________________\n"
          ],
          "name": "stdout"
        }
      ]
    },
    {
      "cell_type": "code",
      "metadata": {
        "colab": {
          "base_uri": "https://localhost:8080/"
        },
        "id": "GHvRgfd0n733",
        "outputId": "efeaca19-e81c-4701-c8d3-949e7a59ea0e"
      },
      "source": [
        "model_5.compile(optimizer = tf.keras.optimizers.Adam(),\n",
        "                loss = tf.keras.losses.BinaryCrossentropy(),\n",
        "                metrics = 'accuracy')\n",
        "\n",
        "history_5 = model_5.fit(train_sentences,\n",
        "                        train_label,\n",
        "                        epochs = 5,\n",
        "                        validation_data = (val_sentences, val_label),\n",
        "                        callbacks = [create_tensorboard_callback(save_dir , 'model_5_conv1d')])"
      ],
      "execution_count": 62,
      "outputs": [
        {
          "output_type": "stream",
          "text": [
            "Saving Tensorboard log files to model_logs/model_5_conv1d/20210828-145445\n",
            "Epoch 1/5\n",
            "215/215 [==============================] - 5s 21ms/step - loss: 0.1277 - accuracy: 0.9572 - val_loss: 0.8686 - val_accuracy: 0.7887\n",
            "Epoch 2/5\n",
            "215/215 [==============================] - 4s 19ms/step - loss: 0.0738 - accuracy: 0.9731 - val_loss: 0.9363 - val_accuracy: 0.7795\n",
            "Epoch 3/5\n",
            "215/215 [==============================] - 4s 19ms/step - loss: 0.0600 - accuracy: 0.9759 - val_loss: 1.0754 - val_accuracy: 0.7769\n",
            "Epoch 4/5\n",
            "215/215 [==============================] - 4s 19ms/step - loss: 0.0535 - accuracy: 0.9765 - val_loss: 1.1016 - val_accuracy: 0.7651\n",
            "Epoch 5/5\n",
            "215/215 [==============================] - 4s 19ms/step - loss: 0.0517 - accuracy: 0.9784 - val_loss: 1.1785 - val_accuracy: 0.7730\n"
          ],
          "name": "stdout"
        }
      ]
    },
    {
      "cell_type": "code",
      "metadata": {
        "colab": {
          "base_uri": "https://localhost:8080/"
        },
        "id": "rxi2lc6ookiY",
        "outputId": "2b9a49a0-ebf9-4c34-b0ec-4648626316fa"
      },
      "source": [
        "model_5.evaluate(val_sentences , val_label)"
      ],
      "execution_count": 63,
      "outputs": [
        {
          "output_type": "stream",
          "text": [
            "24/24 [==============================] - 0s 3ms/step - loss: 1.1785 - accuracy: 0.7730\n"
          ],
          "name": "stdout"
        },
        {
          "output_type": "execute_result",
          "data": {
            "text/plain": [
              "[1.1784662008285522, 0.7729659080505371]"
            ]
          },
          "metadata": {},
          "execution_count": 63
        }
      ]
    },
    {
      "cell_type": "code",
      "metadata": {
        "colab": {
          "base_uri": "https://localhost:8080/"
        },
        "id": "g67a4SfworHm",
        "outputId": "e8f4951b-6bed-4c6e-857c-70a4ccb4450b"
      },
      "source": [
        "model_5_preds = model_5.predict(val_sentences)\n",
        "print(f' Sample Test Prediction : {model_5_preds[-10:]}')\n",
        "print('----------------------')\n",
        "print(f' Actual Label : {val_label[-10:]}')"
      ],
      "execution_count": 64,
      "outputs": [
        {
          "output_type": "stream",
          "text": [
            " Sample Test Prediction : [[9.9999708e-01]\n",
            " [2.0325184e-04]\n",
            " [9.9983281e-01]\n",
            " [6.4495176e-02]\n",
            " [9.9200517e-02]\n",
            " [2.8685629e-03]\n",
            " [2.8698534e-01]\n",
            " [1.1404708e-01]\n",
            " [8.5658193e-02]\n",
            " [7.6166646e-07]]\n",
            "----------------------\n",
            " Actual Label : [1 0 1 1 0 0 0 0 0 0]\n"
          ],
          "name": "stdout"
        }
      ]
    },
    {
      "cell_type": "code",
      "metadata": {
        "colab": {
          "base_uri": "https://localhost:8080/"
        },
        "id": "FK3dFGqoowiW",
        "outputId": "360eb5b5-b1cf-4360-d776-d053701c3fbe"
      },
      "source": [
        "model_5_preds = tf.squeeze(tf.round(model_5_preds))\n",
        "model_5_results = eval_classification(y_true = val_label,\n",
        "                                      y_pred = model_5_preds)\n",
        "model_5_results"
      ],
      "execution_count": 65,
      "outputs": [
        {
          "output_type": "execute_result",
          "data": {
            "text/plain": [
              "{'Accuracy': 0.7729658792650919,\n",
              " 'F1 Score': 0.7334360554699537,\n",
              " 'Precision': 0.7906976744186046,\n",
              " 'Recall': 0.6839080459770115}"
            ]
          },
          "metadata": {},
          "execution_count": 65
        }
      ]
    },
    {
      "cell_type": "markdown",
      "metadata": {
        "id": "pdxogFFipA3W"
      },
      "source": [
        "### 2.6 Model_6 : Tensorflow Hub Pretrained Model\n",
        "___\n",
        "\n",
        "[Univeral Sentence Encoder](https://tfhub.dev/google/universal-sentence-encoder/4)"
      ]
    },
    {
      "cell_type": "code",
      "metadata": {
        "colab": {
          "base_uri": "https://localhost:8080/"
        },
        "id": "s58Fm4YHqz9P",
        "outputId": "d0990145-d4ec-461c-f12b-25a56240a84f"
      },
      "source": [
        "# Sample example from Univseral Sentence Encoder\n",
        "import tensorflow_hub as hub\n",
        "\n",
        "embed = hub.load(\"https://tfhub.dev/google/universal-sentence-encoder/4\")\n",
        "embeddings = embed([\n",
        "    \"The quick brown fox jumps over the lazy dog.\",\n",
        "    \"I am a sentence for which I would like to get its embedding\"])\n",
        "\n",
        "print(embeddings)"
      ],
      "execution_count": 66,
      "outputs": [
        {
          "output_type": "stream",
          "text": [
            "tf.Tensor(\n",
            "[[-0.03133018 -0.06338634 -0.01607502 ... -0.03242778 -0.04575741\n",
            "   0.05370456]\n",
            " [ 0.05080861 -0.01652428  0.01573781 ...  0.00976659  0.03170123\n",
            "   0.01788119]], shape=(2, 512), dtype=float32)\n"
          ],
          "name": "stdout"
        }
      ]
    },
    {
      "cell_type": "code",
      "metadata": {
        "id": "ZQv5NZVLr1MH"
      },
      "source": [
        "# Create a Keras Layer using Universal Sentence Encoder\n",
        "sentence_encoder_layer = hub.KerasLayer(\"https://tfhub.dev/google/universal-sentence-encoder/4\",\n",
        "                                        input_shape = [],\n",
        "                                        dtype = tf.string,\n",
        "                                        trainable = False,\n",
        "                                        name = 'model_6')"
      ],
      "execution_count": 68,
      "outputs": []
    },
    {
      "cell_type": "code",
      "metadata": {
        "id": "5N_xShGNQp6x"
      },
      "source": [
        "model_6 = tf.keras.Sequential([\n",
        "                               sentence_encoder_layer,\n",
        "                               layers.Dense(64 , activation = 'relu'),\n",
        "                               layers.Dense(64 , activation = 'relu'),\n",
        "                               layers.Dense(1 , activation = 'sigmoid')\n",
        "])\n",
        "\n",
        "model_6.compile(optimizer = tf.keras.optimizers.Adam(),\n",
        "                loss = tf.keras.losses.BinaryCrossentropy(),\n",
        "                metrics = 'accuracy')"
      ],
      "execution_count": 87,
      "outputs": []
    },
    {
      "cell_type": "code",
      "metadata": {
        "colab": {
          "base_uri": "https://localhost:8080/"
        },
        "id": "0WePEx-KRGZr",
        "outputId": "6fcea65b-67e5-4254-adb4-de6ed4275212"
      },
      "source": [
        "model_6.summary()"
      ],
      "execution_count": 88,
      "outputs": [
        {
          "output_type": "stream",
          "text": [
            "Model: \"sequential_3\"\n",
            "_________________________________________________________________\n",
            "Layer (type)                 Output Shape              Param #   \n",
            "=================================================================\n",
            "model_6 (KerasLayer)         (None, 512)               256797824 \n",
            "_________________________________________________________________\n",
            "dense_10 (Dense)             (None, 64)                32832     \n",
            "_________________________________________________________________\n",
            "dense_11 (Dense)             (None, 64)                4160      \n",
            "_________________________________________________________________\n",
            "dense_12 (Dense)             (None, 1)                 65        \n",
            "=================================================================\n",
            "Total params: 256,834,881\n",
            "Trainable params: 37,057\n",
            "Non-trainable params: 256,797,824\n",
            "_________________________________________________________________\n"
          ],
          "name": "stdout"
        }
      ]
    },
    {
      "cell_type": "code",
      "metadata": {
        "colab": {
          "base_uri": "https://localhost:8080/"
        },
        "id": "z8mMhdIARdXK",
        "outputId": "a38f96b6-ab72-4336-dbdf-617ba00298d5"
      },
      "source": [
        "history_6 = model_6.fit(train_sentences,\n",
        "                        train_label,\n",
        "                        epochs = 5,\n",
        "                        validation_data = (val_sentences , val_label),\n",
        "                        callbacks = [create_tensorboard_callback(save_dir , 'model_6_USE')])"
      ],
      "execution_count": 89,
      "outputs": [
        {
          "output_type": "stream",
          "text": [
            "Saving Tensorboard log files to model_logs/model_6_USE/20210828-150810\n",
            "Epoch 1/5\n",
            "215/215 [==============================] - 4s 16ms/step - loss: 0.4804 - accuracy: 0.7900 - val_loss: 0.4339 - val_accuracy: 0.8110\n",
            "Epoch 2/5\n",
            "215/215 [==============================] - 2s 12ms/step - loss: 0.3978 - accuracy: 0.8281 - val_loss: 0.4297 - val_accuracy: 0.8189\n",
            "Epoch 3/5\n",
            "215/215 [==============================] - 2s 11ms/step - loss: 0.3792 - accuracy: 0.8375 - val_loss: 0.4171 - val_accuracy: 0.8136\n",
            "Epoch 4/5\n",
            "215/215 [==============================] - 2s 11ms/step - loss: 0.3570 - accuracy: 0.8467 - val_loss: 0.4164 - val_accuracy: 0.8228\n",
            "Epoch 5/5\n",
            "215/215 [==============================] - 2s 11ms/step - loss: 0.3297 - accuracy: 0.8596 - val_loss: 0.4234 - val_accuracy: 0.8215\n"
          ],
          "name": "stdout"
        }
      ]
    },
    {
      "cell_type": "code",
      "metadata": {
        "colab": {
          "base_uri": "https://localhost:8080/"
        },
        "id": "jKnfW80TRzpC",
        "outputId": "5a503e98-1e42-4c11-abe0-cabbcb5bb7a3"
      },
      "source": [
        "model_6.evaluate(val_sentences , val_label)"
      ],
      "execution_count": 90,
      "outputs": [
        {
          "output_type": "stream",
          "text": [
            "24/24 [==============================] - 0s 9ms/step - loss: 0.4234 - accuracy: 0.8215\n"
          ],
          "name": "stdout"
        },
        {
          "output_type": "execute_result",
          "data": {
            "text/plain": [
              "[0.42337024211883545, 0.8215222954750061]"
            ]
          },
          "metadata": {},
          "execution_count": 90
        }
      ]
    },
    {
      "cell_type": "code",
      "metadata": {
        "colab": {
          "base_uri": "https://localhost:8080/"
        },
        "id": "ioXpowC1SEmL",
        "outputId": "7d411437-7fae-4fb8-a799-c745eca9497a"
      },
      "source": [
        "model_6_preds = model_6.predict(val_sentences)\n",
        "print(f' Sample Test Prediction : {model_6_preds[-10:]}')\n",
        "print('----------------------')\n",
        "print(f' Actual Label : {val_label[-10:]}')"
      ],
      "execution_count": 91,
      "outputs": [
        {
          "output_type": "stream",
          "text": [
            " Sample Test Prediction : [[0.9663745 ]\n",
            " [0.10449487]\n",
            " [0.9909884 ]\n",
            " [0.94636965]\n",
            " [0.04948583]\n",
            " [0.11228439]\n",
            " [0.0723314 ]\n",
            " [0.9437487 ]\n",
            " [0.6464796 ]\n",
            " [0.07735246]]\n",
            "----------------------\n",
            " Actual Label : [1 0 1 1 0 0 0 0 0 0]\n"
          ],
          "name": "stdout"
        }
      ]
    },
    {
      "cell_type": "code",
      "metadata": {
        "colab": {
          "base_uri": "https://localhost:8080/"
        },
        "id": "K_f8l8RUSbna",
        "outputId": "f3d8be0a-ce11-4617-c0cf-b59131f21a78"
      },
      "source": [
        "model_6_preds = tf.squeeze(tf.round(model_6_preds))\n",
        "model_6_results = eval_classification(y_true = val_label , y_pred = model_6_preds)\n",
        "model_6_results"
      ],
      "execution_count": 92,
      "outputs": [
        {
          "output_type": "execute_result",
          "data": {
            "text/plain": [
              "{'Accuracy': 0.821522309711286,\n",
              " 'F1 Score': 0.7988165680473372,\n",
              " 'Precision': 0.823170731707317,\n",
              " 'Recall': 0.7758620689655172}"
            ]
          },
          "metadata": {},
          "execution_count": 92
        }
      ]
    },
    {
      "cell_type": "markdown",
      "metadata": {
        "id": "Pdaxf5MWSsWa"
      },
      "source": [
        "### 2.7 Model_7 : Tensorflow Hub Pretrained Model (10% data)\n",
        "___\n"
      ]
    },
    {
      "cell_type": "code",
      "metadata": {
        "colab": {
          "base_uri": "https://localhost:8080/",
          "height": 220
        },
        "id": "xVzV6hVHUd9i",
        "outputId": "818a1027-cce7-4725-aaab-85aea2c5a907"
      },
      "source": [
        "# Recall our original Dataset\n",
        "print(len(df_train))\n",
        "df_train.head()"
      ],
      "execution_count": 95,
      "outputs": [
        {
          "output_type": "stream",
          "text": [
            "7613\n"
          ],
          "name": "stdout"
        },
        {
          "output_type": "execute_result",
          "data": {
            "text/html": [
              "<div>\n",
              "<style scoped>\n",
              "    .dataframe tbody tr th:only-of-type {\n",
              "        vertical-align: middle;\n",
              "    }\n",
              "\n",
              "    .dataframe tbody tr th {\n",
              "        vertical-align: top;\n",
              "    }\n",
              "\n",
              "    .dataframe thead th {\n",
              "        text-align: right;\n",
              "    }\n",
              "</style>\n",
              "<table border=\"1\" class=\"dataframe\">\n",
              "  <thead>\n",
              "    <tr style=\"text-align: right;\">\n",
              "      <th></th>\n",
              "      <th>id</th>\n",
              "      <th>keyword</th>\n",
              "      <th>location</th>\n",
              "      <th>text</th>\n",
              "      <th>target</th>\n",
              "    </tr>\n",
              "  </thead>\n",
              "  <tbody>\n",
              "    <tr>\n",
              "      <th>2644</th>\n",
              "      <td>3796</td>\n",
              "      <td>destruction</td>\n",
              "      <td>NaN</td>\n",
              "      <td>So you have a new weapon that can cause un-ima...</td>\n",
              "      <td>1</td>\n",
              "    </tr>\n",
              "    <tr>\n",
              "      <th>2227</th>\n",
              "      <td>3185</td>\n",
              "      <td>deluge</td>\n",
              "      <td>NaN</td>\n",
              "      <td>The f$&amp;amp;@ing things I do for #GISHWHES Just...</td>\n",
              "      <td>0</td>\n",
              "    </tr>\n",
              "    <tr>\n",
              "      <th>5448</th>\n",
              "      <td>7769</td>\n",
              "      <td>police</td>\n",
              "      <td>UK</td>\n",
              "      <td>DT @georgegalloway: RT @Galloway4Mayor: ÛÏThe...</td>\n",
              "      <td>1</td>\n",
              "    </tr>\n",
              "    <tr>\n",
              "      <th>132</th>\n",
              "      <td>191</td>\n",
              "      <td>aftershock</td>\n",
              "      <td>NaN</td>\n",
              "      <td>Aftershock back to school kick off was great. ...</td>\n",
              "      <td>0</td>\n",
              "    </tr>\n",
              "    <tr>\n",
              "      <th>6845</th>\n",
              "      <td>9810</td>\n",
              "      <td>trauma</td>\n",
              "      <td>Montgomery County, MD</td>\n",
              "      <td>in response to trauma Children of Addicts deve...</td>\n",
              "      <td>0</td>\n",
              "    </tr>\n",
              "  </tbody>\n",
              "</table>\n",
              "</div>"
            ],
            "text/plain": [
              "        id  ... target\n",
              "2644  3796  ...      1\n",
              "2227  3185  ...      0\n",
              "5448  7769  ...      1\n",
              "132    191  ...      0\n",
              "6845  9810  ...      0\n",
              "\n",
              "[5 rows x 5 columns]"
            ]
          },
          "metadata": {},
          "execution_count": 95
        }
      ]
    },
    {
      "cell_type": "markdown",
      "metadata": {
        "id": "cZbXm2eBZw2S"
      },
      "source": [
        "#### 2.7.1 Example of Data Leakage\n",
        "___"
      ]
    },
    {
      "cell_type": "code",
      "metadata": {
        "colab": {
          "base_uri": "https://localhost:8080/"
        },
        "id": "_QUMmFwkUe-y",
        "outputId": "62b5dfa5-186e-4b43-f5ad-80acdfe0e41b"
      },
      "source": [
        "train_10_percent = df_train[['text' , 'target']].sample(frac = 0.1 ,random_state = 42)\n",
        "train_sentences_10_percent = train_10_percent[['text']]\n",
        "train_label_10_percent = train_10_percent[['target']]\n",
        "\n",
        "print(len(train_label_10_percent.value_counts()))"
      ],
      "execution_count": 112,
      "outputs": [
        {
          "output_type": "stream",
          "text": [
            "2\n"
          ],
          "name": "stdout"
        }
      ]
    },
    {
      "cell_type": "code",
      "metadata": {
        "colab": {
          "base_uri": "https://localhost:8080/"
        },
        "id": "E3VkEfAJU4Ji",
        "outputId": "a585c76b-5a51-407b-d4d6-93965e334b6d"
      },
      "source": [
        "train_10_percent['target'].value_counts()"
      ],
      "execution_count": 111,
      "outputs": [
        {
          "output_type": "execute_result",
          "data": {
            "text/plain": [
              "0    413\n",
              "1    348\n",
              "Name: target, dtype: int64"
            ]
          },
          "metadata": {},
          "execution_count": 111
        }
      ]
    },
    {
      "cell_type": "code",
      "metadata": {
        "colab": {
          "base_uri": "https://localhost:8080/"
        },
        "id": "egAyNdZIV7bf",
        "outputId": "fa2d8c98-c89f-46a9-efad-ea0032db9e38"
      },
      "source": [
        "# model_7 = tf.keras.models.clone_model(model_6)\n",
        "\n",
        "model_7 = tf.keras.Sequential([\n",
        "                               sentence_encoder_layer,\n",
        "                               layers.Dense(64 , activation = 'relu'),\n",
        "                               layers.Dense(64 , activation = 'relu'),\n",
        "                               layers.Dense(1 , activation = 'sigmoid')\n",
        "] , name = 'model_7_10_percent')\n",
        "\n",
        "model_7.compile(optimizer = tf.keras.optimizers.Adam(),\n",
        "                loss = tf.keras.losses.BinaryCrossentropy(),\n",
        "                metrics = 'accuracy')\n",
        "\n",
        "model_7.summary()"
      ],
      "execution_count": 122,
      "outputs": [
        {
          "output_type": "stream",
          "text": [
            "Model: \"model_7_10_percent\"\n",
            "_________________________________________________________________\n",
            "Layer (type)                 Output Shape              Param #   \n",
            "=================================================================\n",
            "model_6 (KerasLayer)         (None, 512)               256797824 \n",
            "_________________________________________________________________\n",
            "dense_16 (Dense)             (None, 64)                32832     \n",
            "_________________________________________________________________\n",
            "dense_17 (Dense)             (None, 64)                4160      \n",
            "_________________________________________________________________\n",
            "dense_18 (Dense)             (None, 1)                 65        \n",
            "=================================================================\n",
            "Total params: 256,834,881\n",
            "Trainable params: 37,057\n",
            "Non-trainable params: 256,797,824\n",
            "_________________________________________________________________\n"
          ],
          "name": "stdout"
        }
      ]
    },
    {
      "cell_type": "code",
      "metadata": {
        "colab": {
          "base_uri": "https://localhost:8080/"
        },
        "id": "YeVRN7TSWusy",
        "outputId": "0f3cff4c-953b-4c5b-f3fd-27162ce59a38"
      },
      "source": [
        "history_7 = model_7.fit(train_sentences_10_percent,\n",
        "                        train_label_10_percent,\n",
        "                        epochs = 5,\n",
        "                        validation_data = (val_sentences , val_label),\n",
        "                        callbacks = [create_tensorboard_callback(save_dir , 'model_7_10_precent')])"
      ],
      "execution_count": 123,
      "outputs": [
        {
          "output_type": "stream",
          "text": [
            "Saving Tensorboard log files to model_logs/model_7_10_precent/20210828-152721\n",
            "Epoch 1/5\n",
            "24/24 [==============================] - 4s 110ms/step - loss: 0.6813 - accuracy: 0.6557 - val_loss: 0.6528 - val_accuracy: 0.7861\n",
            "Epoch 2/5\n",
            "24/24 [==============================] - 1s 23ms/step - loss: 0.6064 - accuracy: 0.8068 - val_loss: 0.5273 - val_accuracy: 0.8150\n",
            "Epoch 3/5\n",
            "24/24 [==============================] - 1s 25ms/step - loss: 0.4750 - accuracy: 0.8121 - val_loss: 0.4084 - val_accuracy: 0.8294\n",
            "Epoch 4/5\n",
            "24/24 [==============================] - 1s 23ms/step - loss: 0.3947 - accuracy: 0.8384 - val_loss: 0.3526 - val_accuracy: 0.8556\n",
            "Epoch 5/5\n",
            "24/24 [==============================] - 1s 39ms/step - loss: 0.3488 - accuracy: 0.8515 - val_loss: 0.3092 - val_accuracy: 0.8806\n"
          ],
          "name": "stdout"
        }
      ]
    },
    {
      "cell_type": "code",
      "metadata": {
        "colab": {
          "base_uri": "https://localhost:8080/"
        },
        "id": "HaXN4UHjX7Xo",
        "outputId": "b52d96d1-46ec-4657-aa52-0c42cbd522f1"
      },
      "source": [
        "model_7.evaluate(val_sentences , val_label)"
      ],
      "execution_count": 125,
      "outputs": [
        {
          "output_type": "stream",
          "text": [
            "24/24 [==============================] - 0s 9ms/step - loss: 0.3092 - accuracy: 0.8806\n"
          ],
          "name": "stdout"
        },
        {
          "output_type": "execute_result",
          "data": {
            "text/plain": [
              "[0.30924469232559204, 0.8805774450302124]"
            ]
          },
          "metadata": {},
          "execution_count": 125
        }
      ]
    },
    {
      "cell_type": "code",
      "metadata": {
        "colab": {
          "base_uri": "https://localhost:8080/"
        },
        "id": "vEubivxgYHuB",
        "outputId": "59d856fe-3d10-4240-a3a0-f683115cb73f"
      },
      "source": [
        "model_7_preds = model_7.predict(val_sentences)\n",
        "print(f' Sample Test Prediction : {model_7_preds[-10:]}')\n",
        "print('----------------------')\n",
        "print(f' Actual Label : {val_label[-10:]}')"
      ],
      "execution_count": 126,
      "outputs": [
        {
          "output_type": "stream",
          "text": [
            " Sample Test Prediction : [[0.92307675]\n",
            " [0.11536941]\n",
            " [0.94481987]\n",
            " [0.764851  ]\n",
            " [0.01813   ]\n",
            " [0.2516079 ]\n",
            " [0.06155688]\n",
            " [0.8696269 ]\n",
            " [0.403954  ]\n",
            " [0.09116498]]\n",
            "----------------------\n",
            " Actual Label : [1 0 1 1 0 0 0 0 0 0]\n"
          ],
          "name": "stdout"
        }
      ]
    },
    {
      "cell_type": "code",
      "metadata": {
        "colab": {
          "base_uri": "https://localhost:8080/"
        },
        "id": "jwhXMyKBYcJw",
        "outputId": "e7f606d2-a760-427e-8305-3a03d75a5dd4"
      },
      "source": [
        "# Why does our lesser data have better score? -> Data Leakage\n",
        "model_7_preds = tf.squeeze(tf.round(model_7_preds))\n",
        "model_7_results = eval_classification(y_true = val_label,\n",
        "                                      y_pred = model_7_preds)\n",
        "model_7_results"
      ],
      "execution_count": 132,
      "outputs": [
        {
          "output_type": "execute_result",
          "data": {
            "text/plain": [
              "{'Accuracy': 0.8805774278215223,\n",
              " 'F1 Score': 0.8655834564254062,\n",
              " 'Precision': 0.8905775075987842,\n",
              " 'Recall': 0.8419540229885057}"
            ]
          },
          "metadata": {},
          "execution_count": 132
        }
      ]
    },
    {
      "cell_type": "markdown",
      "metadata": {
        "id": "iyVYbQo-YmZ5"
      },
      "source": [
        "1. Our original data split from above 6 model is via train_test_split from  the same df\n",
        "2. Our model 7 10% train dataset is obtained via sample.frac from the df too.\n",
        "3. There might be ovelap of data, thus data leakage when splitting dataset via 2 different steps."
      ]
    },
    {
      "cell_type": "markdown",
      "metadata": {
        "id": "B1JcV82WaWRv"
      },
      "source": [
        "#### 2.7.2 Re-splitting Dataset\n",
        "___"
      ]
    },
    {
      "cell_type": "code",
      "metadata": {
        "colab": {
          "base_uri": "https://localhost:8080/"
        },
        "id": "tIqw9lgtaz2Z",
        "outputId": "c244d532-bab9-4263-97b1-d55a6c98d1ee"
      },
      "source": [
        "train_10_percent = df_train['text'][:int(0.1*len(train_sentences))].to_numpy()\n",
        "val_10_percent = df_train['target'][:int(0.1*len(train_sentences))].to_numpy()\n",
        "len(train_10_percent) , len(val_10_percent)"
      ],
      "execution_count": 136,
      "outputs": [
        {
          "output_type": "execute_result",
          "data": {
            "text/plain": [
              "(685, 685)"
            ]
          },
          "metadata": {},
          "execution_count": 136
        }
      ]
    },
    {
      "cell_type": "code",
      "metadata": {
        "id": "_jDF9gjUbgEQ"
      },
      "source": [
        "train_sentences_10_percent , val_sentences_10_percent ,train_label_10_percent , val_label_10_percent = train_test_split(train_10_percent , val_10_percent , test_size = 0.1 , random_state  = 42)"
      ],
      "execution_count": 137,
      "outputs": []
    },
    {
      "cell_type": "code",
      "metadata": {
        "colab": {
          "base_uri": "https://localhost:8080/"
        },
        "id": "5RPlN6r5cEW_",
        "outputId": "c514107d-1646-4bec-bd31-1434df2c3930"
      },
      "source": [
        "model_7 = tf.keras.Sequential([\n",
        "                               sentence_encoder_layer,\n",
        "                               layers.Dense(64 , activation = 'relu'),\n",
        "                               layers.Dense(64 , activation = 'relu'),\n",
        "                               layers.Dense(1 , activation = 'sigmoid')\n",
        "] , name = 'model_7_10_percent')\n",
        "\n",
        "model_7.compile(optimizer = tf.keras.optimizers.Adam(),\n",
        "                loss = tf.keras.losses.BinaryCrossentropy(),\n",
        "                metrics = 'accuracy')\n",
        "\n",
        "history_7 = model_7.fit(train_sentences_10_percent,\n",
        "                        train_label_10_percent,\n",
        "                        epochs = 5,\n",
        "                        validation_data = (val_sentences_10_percent , val_label_10_percent),\n",
        "                        callbacks = [create_tensorboard_callback(save_dir , 'model_7_10_precent_correct_split')])"
      ],
      "execution_count": 139,
      "outputs": [
        {
          "output_type": "stream",
          "text": [
            "Saving Tensorboard log files to model_logs/model_7_10_precent_correct_split/20210828-154608\n",
            "Epoch 1/5\n",
            "20/20 [==============================] - 2s 65ms/step - loss: 0.6769 - accuracy: 0.6071 - val_loss: 0.6520 - val_accuracy: 0.6377\n",
            "Epoch 2/5\n",
            "20/20 [==============================] - 0s 15ms/step - loss: 0.6008 - accuracy: 0.7792 - val_loss: 0.5836 - val_accuracy: 0.7826\n",
            "Epoch 3/5\n",
            "20/20 [==============================] - 0s 13ms/step - loss: 0.4806 - accuracy: 0.8182 - val_loss: 0.5379 - val_accuracy: 0.7826\n",
            "Epoch 4/5\n",
            "20/20 [==============================] - 0s 15ms/step - loss: 0.3857 - accuracy: 0.8425 - val_loss: 0.5281 - val_accuracy: 0.7826\n",
            "Epoch 5/5\n",
            "20/20 [==============================] - 0s 13ms/step - loss: 0.3282 - accuracy: 0.8718 - val_loss: 0.5371 - val_accuracy: 0.7536\n"
          ],
          "name": "stdout"
        }
      ]
    },
    {
      "cell_type": "code",
      "metadata": {
        "colab": {
          "base_uri": "https://localhost:8080/"
        },
        "id": "f1HK-Uy3cP25",
        "outputId": "ff1f64e6-2c82-467f-e60b-8047c2a8fa3c"
      },
      "source": [
        "model_7_preds = model_7.predict(val_sentences_10_percent)\n",
        "print(f' Sample Test Prediction : {model_7_preds[-10:]}')\n",
        "print('----------------------')\n",
        "print(f' Actual Label : {val_label[-10:]}')"
      ],
      "execution_count": 140,
      "outputs": [
        {
          "output_type": "stream",
          "text": [
            " Sample Test Prediction : [[0.06225264]\n",
            " [0.7793475 ]\n",
            " [0.50805503]\n",
            " [0.1405232 ]\n",
            " [0.83638054]\n",
            " [0.17353162]\n",
            " [0.03919807]\n",
            " [0.03837115]\n",
            " [0.8039168 ]\n",
            " [0.86225   ]]\n",
            "----------------------\n",
            " Actual Label : [1 0 1 1 0 0 0 0 0 0]\n"
          ],
          "name": "stdout"
        }
      ]
    },
    {
      "cell_type": "code",
      "metadata": {
        "colab": {
          "base_uri": "https://localhost:8080/"
        },
        "id": "7fSGbMoicYoa",
        "outputId": "83d5dec4-3232-4f66-feaa-73eae0fee009"
      },
      "source": [
        "model_7_preds = tf.squeeze(tf.round(model_7_preds))\n",
        "model_7_results = eval_classification(y_true = val_label_10_percent,\n",
        "                                      y_pred = model_7_preds)\n",
        "model_7_results"
      ],
      "execution_count": 142,
      "outputs": [
        {
          "output_type": "execute_result",
          "data": {
            "text/plain": [
              "{'Accuracy': 0.7536231884057971,\n",
              " 'F1 Score': 0.7118644067796611,\n",
              " 'Precision': 0.75,\n",
              " 'Recall': 0.6774193548387096}"
            ]
          },
          "metadata": {},
          "execution_count": 142
        }
      ]
    },
    {
      "cell_type": "markdown",
      "metadata": {
        "id": "WpRnHuk3cbMZ"
      },
      "source": [
        "# 3.0 Evaluating Models\n",
        "___"
      ]
    },
    {
      "cell_type": "code",
      "metadata": {
        "colab": {
          "base_uri": "https://localhost:8080/",
          "height": 294
        },
        "id": "xCwpioXWdKhy",
        "outputId": "a9d7f448-ce42-4c7f-f4e2-717a4974b491"
      },
      "source": [
        "df_model_summary = pd.DataFrame({'Baseline' : model_0_result,\n",
        "                                 'Standard RNN' : model_1_results,\n",
        "                                 'LSTM' : model_2_results,\n",
        "                                 'GRU' : model_3_results,\n",
        "                                 'Bi-direction LSTM' : model_4_results,\n",
        "                                 '1D CNN' : model_5_results,\n",
        "                                 'USE' : model_6_results,\n",
        "                                 'USE_10_percent' : model_7_results})\n",
        "df_model_summary = df_model_summary.T\n",
        "df_model_summary"
      ],
      "execution_count": 155,
      "outputs": [
        {
          "output_type": "execute_result",
          "data": {
            "text/html": [
              "<div>\n",
              "<style scoped>\n",
              "    .dataframe tbody tr th:only-of-type {\n",
              "        vertical-align: middle;\n",
              "    }\n",
              "\n",
              "    .dataframe tbody tr th {\n",
              "        vertical-align: top;\n",
              "    }\n",
              "\n",
              "    .dataframe thead th {\n",
              "        text-align: right;\n",
              "    }\n",
              "</style>\n",
              "<table border=\"1\" class=\"dataframe\">\n",
              "  <thead>\n",
              "    <tr style=\"text-align: right;\">\n",
              "      <th></th>\n",
              "      <th>Accuracy</th>\n",
              "      <th>Precision</th>\n",
              "      <th>Recall</th>\n",
              "      <th>F1 Score</th>\n",
              "    </tr>\n",
              "  </thead>\n",
              "  <tbody>\n",
              "    <tr>\n",
              "      <th>Baseline</th>\n",
              "      <td>0.792651</td>\n",
              "      <td>0.886179</td>\n",
              "      <td>0.626437</td>\n",
              "      <td>0.734007</td>\n",
              "    </tr>\n",
              "    <tr>\n",
              "      <th>Standard RNN</th>\n",
              "      <td>0.790026</td>\n",
              "      <td>0.838129</td>\n",
              "      <td>0.669540</td>\n",
              "      <td>0.744409</td>\n",
              "    </tr>\n",
              "    <tr>\n",
              "      <th>LSTM</th>\n",
              "      <td>0.774278</td>\n",
              "      <td>0.787582</td>\n",
              "      <td>0.692529</td>\n",
              "      <td>0.737003</td>\n",
              "    </tr>\n",
              "    <tr>\n",
              "      <th>GRU</th>\n",
              "      <td>0.772966</td>\n",
              "      <td>0.777778</td>\n",
              "      <td>0.704023</td>\n",
              "      <td>0.739065</td>\n",
              "    </tr>\n",
              "    <tr>\n",
              "      <th>Bi-direction LSTM</th>\n",
              "      <td>0.769029</td>\n",
              "      <td>0.763804</td>\n",
              "      <td>0.715517</td>\n",
              "      <td>0.738872</td>\n",
              "    </tr>\n",
              "    <tr>\n",
              "      <th>1D CNN</th>\n",
              "      <td>0.772966</td>\n",
              "      <td>0.790698</td>\n",
              "      <td>0.683908</td>\n",
              "      <td>0.733436</td>\n",
              "    </tr>\n",
              "    <tr>\n",
              "      <th>USE</th>\n",
              "      <td>0.821522</td>\n",
              "      <td>0.823171</td>\n",
              "      <td>0.775862</td>\n",
              "      <td>0.798817</td>\n",
              "    </tr>\n",
              "    <tr>\n",
              "      <th>USE_10_percent</th>\n",
              "      <td>0.753623</td>\n",
              "      <td>0.750000</td>\n",
              "      <td>0.677419</td>\n",
              "      <td>0.711864</td>\n",
              "    </tr>\n",
              "  </tbody>\n",
              "</table>\n",
              "</div>"
            ],
            "text/plain": [
              "                   Accuracy  Precision    Recall  F1 Score\n",
              "Baseline           0.792651   0.886179  0.626437  0.734007\n",
              "Standard RNN       0.790026   0.838129  0.669540  0.744409\n",
              "LSTM               0.774278   0.787582  0.692529  0.737003\n",
              "GRU                0.772966   0.777778  0.704023  0.739065\n",
              "Bi-direction LSTM  0.769029   0.763804  0.715517  0.738872\n",
              "1D CNN             0.772966   0.790698  0.683908  0.733436\n",
              "USE                0.821522   0.823171  0.775862  0.798817\n",
              "USE_10_percent     0.753623   0.750000  0.677419  0.711864"
            ]
          },
          "metadata": {},
          "execution_count": 155
        }
      ]
    },
    {
      "cell_type": "code",
      "metadata": {
        "colab": {
          "base_uri": "https://localhost:8080/",
          "height": 632
        },
        "id": "H2MuAHw3dSox",
        "outputId": "1a1ab143-3bd9-4290-d625-ef927a6d0817"
      },
      "source": [
        "df_model_summary.plot(kind = 'bar' , figsize = (12,9)).legend(bbox_to_anchor = (1,1))"
      ],
      "execution_count": 154,
      "outputs": [
        {
          "output_type": "execute_result",
          "data": {
            "text/plain": [
              "<matplotlib.legend.Legend at 0x7fb212d456d0>"
            ]
          },
          "metadata": {},
          "execution_count": 154
        },
        {
          "output_type": "display_data",
          "data": {
            "image/png": "[encoded data removed]",
            "text/plain": [
              "<Figure size 864x648 with 1 Axes>"
            ]
          },
          "metadata": {
            "needs_background": "light"
          }
        }
      ]
    },
    {
      "cell_type": "code",
      "metadata": {
        "colab": {
          "base_uri": "https://localhost:8080/",
          "height": 630
        },
        "id": "NVOqPUK3ePtB",
        "outputId": "818b70dd-dfb0-4ff7-985f-934a1007b64b"
      },
      "source": [
        "df_model_summary['F1 Score'].sort_values(ascending = False).plot(kind = 'bar' , figsize = (12,9)).legend(bbox_to_anchor = (1,1))"
      ],
      "execution_count": 156,
      "outputs": [
        {
          "output_type": "execute_result",
          "data": {
            "text/plain": [
              "<matplotlib.legend.Legend at 0x7fb212c2f690>"
            ]
          },
          "metadata": {},
          "execution_count": 156
        },
        {
          "output_type": "display_data",
          "data": {
            "image/png": "[encoded data removed]",
            "text/plain": [
              "<Figure size 864x648 with 1 Axes>"
            ]
          },
          "metadata": {
            "needs_background": "light"
          }
        }
      ]
    },
    {
      "cell_type": "markdown",
      "metadata": {
        "id": "NdiymEn9fe0p"
      },
      "source": [
        "# 4.0 Evaluating Results in Tensorboard.dev\n",
        "___"
      ]
    },
    {
      "cell_type": "code",
      "metadata": {
        "id": "71yh7NFWgDhJ"
      },
      "source": [
        "!tensorboard dev upload --logdir ./model_logs/ \\\n",
        "  --name 'NLP Modelling' \\\n",
        "  --description 'Training Results from Models' \\\n",
        "  --one_shot"
      ],
      "execution_count": null,
      "outputs": []
    },
    {
      "cell_type": "markdown",
      "metadata": {
        "id": "IGdlXxRTgYCO"
      },
      "source": [
        "Done. View your TensorBoard at https://tensorboard.dev/experiment/kN2nuYDtRAO1CQhPCQx6lw/"
      ]
    },
    {
      "cell_type": "markdown",
      "metadata": {
        "id": "gD4Bfc08iSA2"
      },
      "source": [
        "# 5.0 Saving and Loading our Model\n",
        "___\n",
        "- [Save & Load Tensorflow](https://www.tensorflow.org/tutorials/keras/save_and_load)\n",
        "- `HDF5 format`\n",
        "- `savedmodel`"
      ]
    },
    {
      "cell_type": "code",
      "metadata": {
        "id": "P1UjNWuOhJQB"
      },
      "source": [
        "# Saving Model via HDF5 format\n",
        "model_6.save('model_6.h5')"
      ],
      "execution_count": 163,
      "outputs": []
    },
    {
      "cell_type": "code",
      "metadata": {
        "id": "x2ggm0Wsi69X"
      },
      "source": [
        "import tensorflow_hub as hub\n",
        "loaded_model_6 = tf.keras.models.load_model('model_6.h5',\n",
        "                                            custom_objects = {'KerasLayer' : hub.KerasLayer})"
      ],
      "execution_count": 166,
      "outputs": []
    },
    {
      "cell_type": "code",
      "metadata": {
        "colab": {
          "base_uri": "https://localhost:8080/"
        },
        "id": "KbAYOUqhjIQ4",
        "outputId": "3a42a662-f689-47ef-e3a3-0064be4fe1f0"
      },
      "source": [
        "# Checking Model Architecture is the same\n",
        "loaded_model_6.summary()"
      ],
      "execution_count": 167,
      "outputs": [
        {
          "output_type": "stream",
          "text": [
            "Model: \"sequential_3\"\n",
            "_________________________________________________________________\n",
            "Layer (type)                 Output Shape              Param #   \n",
            "=================================================================\n",
            "model_6 (KerasLayer)         (None, 512)               256797824 \n",
            "_________________________________________________________________\n",
            "dense_10 (Dense)             (None, 64)                32832     \n",
            "_________________________________________________________________\n",
            "dense_11 (Dense)             (None, 64)                4160      \n",
            "_________________________________________________________________\n",
            "dense_12 (Dense)             (None, 1)                 65        \n",
            "=================================================================\n",
            "Total params: 256,834,881\n",
            "Trainable params: 37,057\n",
            "Non-trainable params: 256,797,824\n",
            "_________________________________________________________________\n"
          ],
          "name": "stdout"
        }
      ]
    },
    {
      "cell_type": "code",
      "metadata": {
        "colab": {
          "base_uri": "https://localhost:8080/"
        },
        "id": "40QE5Jo2jjm4",
        "outputId": "5209ec0b-8bca-4b58-e1ae-069380ce42ec"
      },
      "source": [
        "# Checking Model Architecture is the same\n",
        "model_6.summary()"
      ],
      "execution_count": 169,
      "outputs": [
        {
          "output_type": "stream",
          "text": [
            "Model: \"sequential_3\"\n",
            "_________________________________________________________________\n",
            "Layer (type)                 Output Shape              Param #   \n",
            "=================================================================\n",
            "model_6 (KerasLayer)         (None, 512)               256797824 \n",
            "_________________________________________________________________\n",
            "dense_10 (Dense)             (None, 64)                32832     \n",
            "_________________________________________________________________\n",
            "dense_11 (Dense)             (None, 64)                4160      \n",
            "_________________________________________________________________\n",
            "dense_12 (Dense)             (None, 1)                 65        \n",
            "=================================================================\n",
            "Total params: 256,834,881\n",
            "Trainable params: 37,057\n",
            "Non-trainable params: 256,797,824\n",
            "_________________________________________________________________\n"
          ],
          "name": "stdout"
        }
      ]
    },
    {
      "cell_type": "code",
      "metadata": {
        "colab": {
          "base_uri": "https://localhost:8080/"
        },
        "id": "ETWGQkqMjmSY",
        "outputId": "a2f3d34f-1ed0-47b0-f212-dc73460ca122"
      },
      "source": [
        "# Saving Model via savedmodel\n",
        "model_6.save('model_6_SavedModel')"
      ],
      "execution_count": 170,
      "outputs": [
        {
          "output_type": "stream",
          "text": [
            "INFO:tensorflow:Assets written to: model_6_SavedModel/assets\n"
          ],
          "name": "stdout"
        },
        {
          "output_type": "stream",
          "text": [
            "INFO:tensorflow:Assets written to: model_6_SavedModel/assets\n"
          ],
          "name": "stderr"
        }
      ]
    },
    {
      "cell_type": "code",
      "metadata": {
        "id": "As2Mt0v2kEAm"
      },
      "source": [
        "import tensorflow_hub as hub\n",
        "loaded_model_6_SavedModel = tf.keras.models.load_model('model_6_SavedModel',\n",
        "                                                       custom_objects = {'KerasLayer' : hub.KerasLayer})"
      ],
      "execution_count": 171,
      "outputs": []
    },
    {
      "cell_type": "code",
      "metadata": {
        "colab": {
          "base_uri": "https://localhost:8080/"
        },
        "id": "MBhPcfCOkOYf",
        "outputId": "97f6848b-8b39-4037-baff-bf822106a154"
      },
      "source": [
        "# Checking Model Architecture is the same\n",
        "loaded_model_6_SavedModel.summary()"
      ],
      "execution_count": 173,
      "outputs": [
        {
          "output_type": "stream",
          "text": [
            "Model: \"sequential_3\"\n",
            "_________________________________________________________________\n",
            "Layer (type)                 Output Shape              Param #   \n",
            "=================================================================\n",
            "model_6 (KerasLayer)         (None, 512)               256797824 \n",
            "_________________________________________________________________\n",
            "dense_10 (Dense)             (None, 64)                32832     \n",
            "_________________________________________________________________\n",
            "dense_11 (Dense)             (None, 64)                4160      \n",
            "_________________________________________________________________\n",
            "dense_12 (Dense)             (None, 1)                 65        \n",
            "=================================================================\n",
            "Total params: 256,834,881\n",
            "Trainable params: 37,057\n",
            "Non-trainable params: 256,797,824\n",
            "_________________________________________________________________\n"
          ],
          "name": "stdout"
        }
      ]
    },
    {
      "cell_type": "markdown",
      "metadata": {
        "id": "CdzDPFHakSMw"
      },
      "source": [
        "# 6.0 Finding the Most Wrong Examples\n",
        "___\n",
        "- Since our model still is not perfect , what example is it getting wrong?\n",
        "- And of these wrong example which one is it getting most wrong"
      ]
    },
    {
      "cell_type": "code",
      "metadata": {
        "colab": {
          "base_uri": "https://localhost:8080/"
        },
        "id": "2AKkUYPkkvyv",
        "outputId": "073fa54e-bb69-446d-aa97-a3fd6007774a"
      },
      "source": [
        "!wget https://storage.googleapis.com/ztm_tf_course/08_model_6_USE_feature_extractor.zip"
      ],
      "execution_count": 175,
      "outputs": [
        {
          "output_type": "stream",
          "text": [
            "--2021-08-28 16:26:27--  https://storage.googleapis.com/ztm_tf_course/08_model_6_USE_feature_extractor.zip\n",
            "Resolving storage.googleapis.com (storage.googleapis.com)... 74.125.23.128, 74.125.203.128, 74.125.204.128, ...\n",
            "Connecting to storage.googleapis.com (storage.googleapis.com)|74.125.23.128|:443... connected.\n",
            "HTTP request sent, awaiting response... 200 OK\n",
            "Length: 960779165 (916M) [application/zip]\n",
            "Saving to: ‘08_model_6_USE_feature_extractor.zip’\n",
            "\n",
            "08_model_6_USE_feat 100%[===================>] 916.27M   114MB/s    in 8.3s    \n",
            "\n",
            "2021-08-28 16:26:36 (110 MB/s) - ‘08_model_6_USE_feature_extractor.zip’ saved [960779165/960779165]\n",
            "\n"
          ],
          "name": "stdout"
        }
      ]
    },
    {
      "cell_type": "code",
      "metadata": {
        "colab": {
          "base_uri": "https://localhost:8080/"
        },
        "id": "s0j6f3r1lfoQ",
        "outputId": "a288ee9a-09ca-412a-f6a1-802638802f4e"
      },
      "source": [
        "!unzip 08_model_6_USE_feature_extractor.zip"
      ],
      "execution_count": 176,
      "outputs": [
        {
          "output_type": "stream",
          "text": [
            "Archive:  08_model_6_USE_feature_extractor.zip\n",
            "   creating: 08_model_6_USE_feature_extractor/\n",
            "   creating: 08_model_6_USE_feature_extractor/assets/\n",
            "   creating: 08_model_6_USE_feature_extractor/variables/\n",
            "  inflating: 08_model_6_USE_feature_extractor/variables/variables.data-00000-of-00001  \n",
            "  inflating: 08_model_6_USE_feature_extractor/variables/variables.index  \n",
            "  inflating: 08_model_6_USE_feature_extractor/saved_model.pb  \n"
          ],
          "name": "stdout"
        }
      ]
    },
    {
      "cell_type": "code",
      "metadata": {
        "colab": {
          "base_uri": "https://localhost:8080/"
        },
        "id": "WhxeQIiylmrI",
        "outputId": "e8a3c384-e6a6-407a-8778-c15cc4985044"
      },
      "source": [
        "model_6_pretrained = tf.keras.models.load_model('08_model_6_USE_feature_extractor')\n",
        "model_6_pretrained.summary()"
      ],
      "execution_count": 179,
      "outputs": [
        {
          "output_type": "stream",
          "text": [
            "WARNING:tensorflow:SavedModel saved prior to TF 2.5 detected when loading Keras model. Please ensure that you are saving the model with model.save() or tf.keras.models.save_model(), *NOT* tf.saved_model.save(). To confirm, there should be a file named \"keras_metadata.pb\" in the SavedModel directory.\n"
          ],
          "name": "stdout"
        },
        {
          "output_type": "stream",
          "text": [
            "WARNING:tensorflow:SavedModel saved prior to TF 2.5 detected when loading Keras model. Please ensure that you are saving the model with model.save() or tf.keras.models.save_model(), *NOT* tf.saved_model.save(). To confirm, there should be a file named \"keras_metadata.pb\" in the SavedModel directory.\n"
          ],
          "name": "stderr"
        },
        {
          "output_type": "stream",
          "text": [
            "Model: \"model_6_USE\"\n",
            "_________________________________________________________________\n",
            "Layer (type)                 Output Shape              Param #   \n",
            "=================================================================\n",
            "USE (KerasLayer)             (None, 512)               256797824 \n",
            "_________________________________________________________________\n",
            "dense_11 (Dense)             (None, 64)                32832     \n",
            "_________________________________________________________________\n",
            "output_layer (Dense)         (None, 1)                 65        \n",
            "=================================================================\n",
            "Total params: 256,830,721\n",
            "Trainable params: 32,897\n",
            "Non-trainable params: 256,797,824\n",
            "_________________________________________________________________\n"
          ],
          "name": "stdout"
        }
      ]
    },
    {
      "cell_type": "code",
      "metadata": {
        "colab": {
          "base_uri": "https://localhost:8080/"
        },
        "id": "kM20EjWyl8wg",
        "outputId": "02c29039-652d-4ce2-8251-690431bf8794"
      },
      "source": [
        "model_6_pretrained_preds = model_6.predict(val_sentences)\n",
        "print(f' Sample Test Prediction : {model_6_pretrained_preds[-10:]}')\n",
        "print('----------------------')\n",
        "print(f' Actual Label : {val_label[-10:]}')"
      ],
      "execution_count": 181,
      "outputs": [
        {
          "output_type": "stream",
          "text": [
            " Sample Test Prediction : [[0.9663745 ]\n",
            " [0.10449487]\n",
            " [0.9909884 ]\n",
            " [0.94636965]\n",
            " [0.04948583]\n",
            " [0.11228439]\n",
            " [0.0723314 ]\n",
            " [0.9437487 ]\n",
            " [0.6464796 ]\n",
            " [0.07735246]]\n",
            "----------------------\n",
            " Actual Label : [1 0 1 1 0 0 0 0 0 0]\n"
          ],
          "name": "stdout"
        }
      ]
    },
    {
      "cell_type": "code",
      "metadata": {
        "colab": {
          "base_uri": "https://localhost:8080/"
        },
        "id": "l_oz4B2amRmA",
        "outputId": "0d04d602-fb4b-427d-8395-70c7b2351235"
      },
      "source": [
        "model_6_pretrained_preds = tf.squeeze(tf.round(model_6_pretrained_preds))\n",
        "eval_classification(y_pred = model_6_pretrained_preds,\n",
        "                    y_true = val_label)"
      ],
      "execution_count": 184,
      "outputs": [
        {
          "output_type": "execute_result",
          "data": {
            "text/plain": [
              "{'Accuracy': 0.821522309711286,\n",
              " 'F1 Score': 0.7988165680473372,\n",
              " 'Precision': 0.823170731707317,\n",
              " 'Recall': 0.7758620689655172}"
            ]
          },
          "metadata": {},
          "execution_count": 184
        }
      ]
    },
    {
      "cell_type": "code",
      "metadata": {
        "colab": {
          "base_uri": "https://localhost:8080/",
          "height": 408
        },
        "id": "SdbowEq-mq0Y",
        "outputId": "0d88465f-1ce6-4aee-ced6-026704080e04"
      },
      "source": [
        "val_df = pd.DataFrame({'text' : val_sentences,\n",
        "                       'target' : val_label,\n",
        "                       'pred' : model_6_pretrained_preds,\n",
        "                       'pred_score' : tf.squeeze(model_6.predict(val_sentences))})\n",
        "\n",
        "val_df"
      ],
      "execution_count": 190,
      "outputs": [
        {
          "output_type": "execute_result",
          "data": {
            "text/html": [
              "<div>\n",
              "<style scoped>\n",
              "    .dataframe tbody tr th:only-of-type {\n",
              "        vertical-align: middle;\n",
              "    }\n",
              "\n",
              "    .dataframe tbody tr th {\n",
              "        vertical-align: top;\n",
              "    }\n",
              "\n",
              "    .dataframe thead th {\n",
              "        text-align: right;\n",
              "    }\n",
              "</style>\n",
              "<table border=\"1\" class=\"dataframe\">\n",
              "  <thead>\n",
              "    <tr style=\"text-align: right;\">\n",
              "      <th></th>\n",
              "      <th>text</th>\n",
              "      <th>target</th>\n",
              "      <th>pred</th>\n",
              "      <th>pred_score</th>\n",
              "    </tr>\n",
              "  </thead>\n",
              "  <tbody>\n",
              "    <tr>\n",
              "      <th>0</th>\n",
              "      <td>DFR EP016 Monthly Meltdown - On Dnbheaven 2015...</td>\n",
              "      <td>0</td>\n",
              "      <td>0.0</td>\n",
              "      <td>0.322138</td>\n",
              "    </tr>\n",
              "    <tr>\n",
              "      <th>1</th>\n",
              "      <td>FedEx no longer to transport bioterror germs i...</td>\n",
              "      <td>0</td>\n",
              "      <td>1.0</td>\n",
              "      <td>0.856676</td>\n",
              "    </tr>\n",
              "    <tr>\n",
              "      <th>2</th>\n",
              "      <td>Gunmen kill four in El Salvador bus attack: Su...</td>\n",
              "      <td>1</td>\n",
              "      <td>1.0</td>\n",
              "      <td>0.999135</td>\n",
              "    </tr>\n",
              "    <tr>\n",
              "      <th>3</th>\n",
              "      <td>@camilacabello97 Internally and externally scr...</td>\n",
              "      <td>1</td>\n",
              "      <td>0.0</td>\n",
              "      <td>0.200753</td>\n",
              "    </tr>\n",
              "    <tr>\n",
              "      <th>4</th>\n",
              "      <td>Radiation emergency #preparedness starts with ...</td>\n",
              "      <td>1</td>\n",
              "      <td>1.0</td>\n",
              "      <td>0.634187</td>\n",
              "    </tr>\n",
              "    <tr>\n",
              "      <th>...</th>\n",
              "      <td>...</td>\n",
              "      <td>...</td>\n",
              "      <td>...</td>\n",
              "      <td>...</td>\n",
              "    </tr>\n",
              "    <tr>\n",
              "      <th>757</th>\n",
              "      <td>That's the ultimate road to destruction</td>\n",
              "      <td>0</td>\n",
              "      <td>0.0</td>\n",
              "      <td>0.112284</td>\n",
              "    </tr>\n",
              "    <tr>\n",
              "      <th>758</th>\n",
              "      <td>@SetZorah dad why dont you claim me that mean ...</td>\n",
              "      <td>0</td>\n",
              "      <td>0.0</td>\n",
              "      <td>0.072331</td>\n",
              "    </tr>\n",
              "    <tr>\n",
              "      <th>759</th>\n",
              "      <td>FedEx will no longer transport bioterror patho...</td>\n",
              "      <td>0</td>\n",
              "      <td>1.0</td>\n",
              "      <td>0.943749</td>\n",
              "    </tr>\n",
              "    <tr>\n",
              "      <th>760</th>\n",
              "      <td>Crack in the path where I wiped out this morni...</td>\n",
              "      <td>0</td>\n",
              "      <td>1.0</td>\n",
              "      <td>0.646480</td>\n",
              "    </tr>\n",
              "    <tr>\n",
              "      <th>761</th>\n",
              "      <td>I liked a @YouTube video from @dannyonpc http:...</td>\n",
              "      <td>0</td>\n",
              "      <td>0.0</td>\n",
              "      <td>0.077352</td>\n",
              "    </tr>\n",
              "  </tbody>\n",
              "</table>\n",
              "<p>762 rows × 4 columns</p>\n",
              "</div>"
            ],
            "text/plain": [
              "                                                  text  ...  pred_score\n",
              "0    DFR EP016 Monthly Meltdown - On Dnbheaven 2015...  ...    0.322138\n",
              "1    FedEx no longer to transport bioterror germs i...  ...    0.856676\n",
              "2    Gunmen kill four in El Salvador bus attack: Su...  ...    0.999135\n",
              "3    @camilacabello97 Internally and externally scr...  ...    0.200753\n",
              "4    Radiation emergency #preparedness starts with ...  ...    0.634187\n",
              "..                                                 ...  ...         ...\n",
              "757            That's the ultimate road to destruction  ...    0.112284\n",
              "758  @SetZorah dad why dont you claim me that mean ...  ...    0.072331\n",
              "759  FedEx will no longer transport bioterror patho...  ...    0.943749\n",
              "760  Crack in the path where I wiped out this morni...  ...    0.646480\n",
              "761  I liked a @YouTube video from @dannyonpc http:...  ...    0.077352\n",
              "\n",
              "[762 rows x 4 columns]"
            ]
          },
          "metadata": {},
          "execution_count": 190
        }
      ]
    },
    {
      "cell_type": "code",
      "metadata": {
        "colab": {
          "base_uri": "https://localhost:8080/",
          "height": 502
        },
        "id": "GttEF6GLm_5v",
        "outputId": "05d860f1-095d-439e-b66e-05fd235a56ad"
      },
      "source": [
        "# Visualing False Positives\n",
        "df_most_wrong = val_df[val_df['target'] != val_df['pred']].sort_values(by = 'pred_score' , ascending = False)\n",
        "df_most_wrong.head(15)"
      ],
      "execution_count": 196,
      "outputs": [
        {
          "output_type": "execute_result",
          "data": {
            "text/html": [
              "<div>\n",
              "<style scoped>\n",
              "    .dataframe tbody tr th:only-of-type {\n",
              "        vertical-align: middle;\n",
              "    }\n",
              "\n",
              "    .dataframe tbody tr th {\n",
              "        vertical-align: top;\n",
              "    }\n",
              "\n",
              "    .dataframe thead th {\n",
              "        text-align: right;\n",
              "    }\n",
              "</style>\n",
              "<table border=\"1\" class=\"dataframe\">\n",
              "  <thead>\n",
              "    <tr style=\"text-align: right;\">\n",
              "      <th></th>\n",
              "      <th>text</th>\n",
              "      <th>target</th>\n",
              "      <th>pred</th>\n",
              "      <th>pred_score</th>\n",
              "    </tr>\n",
              "  </thead>\n",
              "  <tbody>\n",
              "    <tr>\n",
              "      <th>31</th>\n",
              "      <td>? High Skies - Burning Buildings ? http://t.co...</td>\n",
              "      <td>0</td>\n",
              "      <td>1.0</td>\n",
              "      <td>0.971920</td>\n",
              "    </tr>\n",
              "    <tr>\n",
              "      <th>109</th>\n",
              "      <td>[55436] 1950 LIONEL TRAINS SMOKE LOCOMOTIVES W...</td>\n",
              "      <td>0</td>\n",
              "      <td>1.0</td>\n",
              "      <td>0.964333</td>\n",
              "    </tr>\n",
              "    <tr>\n",
              "      <th>628</th>\n",
              "      <td>@noah_anyname That's where the concentration c...</td>\n",
              "      <td>0</td>\n",
              "      <td>1.0</td>\n",
              "      <td>0.963034</td>\n",
              "    </tr>\n",
              "    <tr>\n",
              "      <th>303</th>\n",
              "      <td>Trafford Centre film fans angry after Odeon ci...</td>\n",
              "      <td>0</td>\n",
              "      <td>1.0</td>\n",
              "      <td>0.947399</td>\n",
              "    </tr>\n",
              "    <tr>\n",
              "      <th>119</th>\n",
              "      <td>@freefromwolves GodsLove &amp;amp; #thankU brother...</td>\n",
              "      <td>0</td>\n",
              "      <td>1.0</td>\n",
              "      <td>0.946395</td>\n",
              "    </tr>\n",
              "    <tr>\n",
              "      <th>759</th>\n",
              "      <td>FedEx will no longer transport bioterror patho...</td>\n",
              "      <td>0</td>\n",
              "      <td>1.0</td>\n",
              "      <td>0.943749</td>\n",
              "    </tr>\n",
              "    <tr>\n",
              "      <th>49</th>\n",
              "      <td>@madonnamking RSPCA site multiple 7 story high...</td>\n",
              "      <td>0</td>\n",
              "      <td>1.0</td>\n",
              "      <td>0.934549</td>\n",
              "    </tr>\n",
              "    <tr>\n",
              "      <th>393</th>\n",
              "      <td>@SonofLiberty357 all illuminated by the bright...</td>\n",
              "      <td>0</td>\n",
              "      <td>1.0</td>\n",
              "      <td>0.928340</td>\n",
              "    </tr>\n",
              "    <tr>\n",
              "      <th>381</th>\n",
              "      <td>Deaths 3 http://t.co/nApviyGKYK</td>\n",
              "      <td>0</td>\n",
              "      <td>1.0</td>\n",
              "      <td>0.907152</td>\n",
              "    </tr>\n",
              "    <tr>\n",
              "      <th>144</th>\n",
              "      <td>The Sound of Arson</td>\n",
              "      <td>0</td>\n",
              "      <td>1.0</td>\n",
              "      <td>0.893465</td>\n",
              "    </tr>\n",
              "    <tr>\n",
              "      <th>718</th>\n",
              "      <td>Haley Lu Richardson Fights for Water in The La...</td>\n",
              "      <td>0</td>\n",
              "      <td>1.0</td>\n",
              "      <td>0.882426</td>\n",
              "    </tr>\n",
              "    <tr>\n",
              "      <th>698</th>\n",
              "      <td>åÈMGN-AFRICAå¨ pin:263789F4 åÈ Correction: Ten...</td>\n",
              "      <td>0</td>\n",
              "      <td>1.0</td>\n",
              "      <td>0.880237</td>\n",
              "    </tr>\n",
              "    <tr>\n",
              "      <th>251</th>\n",
              "      <td>@AshGhebranious civil rights continued in the ...</td>\n",
              "      <td>0</td>\n",
              "      <td>1.0</td>\n",
              "      <td>0.875178</td>\n",
              "    </tr>\n",
              "    <tr>\n",
              "      <th>1</th>\n",
              "      <td>FedEx no longer to transport bioterror germs i...</td>\n",
              "      <td>0</td>\n",
              "      <td>1.0</td>\n",
              "      <td>0.856676</td>\n",
              "    </tr>\n",
              "    <tr>\n",
              "      <th>741</th>\n",
              "      <td>#helpme what do I do? My friend has been ticke...</td>\n",
              "      <td>0</td>\n",
              "      <td>1.0</td>\n",
              "      <td>0.852930</td>\n",
              "    </tr>\n",
              "  </tbody>\n",
              "</table>\n",
              "</div>"
            ],
            "text/plain": [
              "                                                  text  ...  pred_score\n",
              "31   ? High Skies - Burning Buildings ? http://t.co...  ...    0.971920\n",
              "109  [55436] 1950 LIONEL TRAINS SMOKE LOCOMOTIVES W...  ...    0.964333\n",
              "628  @noah_anyname That's where the concentration c...  ...    0.963034\n",
              "303  Trafford Centre film fans angry after Odeon ci...  ...    0.947399\n",
              "119  @freefromwolves GodsLove &amp; #thankU brother...  ...    0.946395\n",
              "759  FedEx will no longer transport bioterror patho...  ...    0.943749\n",
              "49   @madonnamking RSPCA site multiple 7 story high...  ...    0.934549\n",
              "393  @SonofLiberty357 all illuminated by the bright...  ...    0.928340\n",
              "381                    Deaths 3 http://t.co/nApviyGKYK  ...    0.907152\n",
              "144                                 The Sound of Arson  ...    0.893465\n",
              "718  Haley Lu Richardson Fights for Water in The La...  ...    0.882426\n",
              "698  åÈMGN-AFRICAå¨ pin:263789F4 åÈ Correction: Ten...  ...    0.880237\n",
              "251  @AshGhebranious civil rights continued in the ...  ...    0.875178\n",
              "1    FedEx no longer to transport bioterror germs i...  ...    0.856676\n",
              "741  #helpme what do I do? My friend has been ticke...  ...    0.852930\n",
              "\n",
              "[15 rows x 4 columns]"
            ]
          },
          "metadata": {},
          "execution_count": 196
        }
      ]
    },
    {
      "cell_type": "code",
      "metadata": {
        "colab": {
          "base_uri": "https://localhost:8080/",
          "height": 502
        },
        "id": "nmxoi9iOn84X",
        "outputId": "88c062aa-3cbf-40b1-8f8d-1080d6f2b6b4"
      },
      "source": [
        "# Visualing False Negative\n",
        "df_most_wrong.tail(15)"
      ],
      "execution_count": 197,
      "outputs": [
        {
          "output_type": "execute_result",
          "data": {
            "text/html": [
              "<div>\n",
              "<style scoped>\n",
              "    .dataframe tbody tr th:only-of-type {\n",
              "        vertical-align: middle;\n",
              "    }\n",
              "\n",
              "    .dataframe tbody tr th {\n",
              "        vertical-align: top;\n",
              "    }\n",
              "\n",
              "    .dataframe thead th {\n",
              "        text-align: right;\n",
              "    }\n",
              "</style>\n",
              "<table border=\"1\" class=\"dataframe\">\n",
              "  <thead>\n",
              "    <tr style=\"text-align: right;\">\n",
              "      <th></th>\n",
              "      <th>text</th>\n",
              "      <th>target</th>\n",
              "      <th>pred</th>\n",
              "      <th>pred_score</th>\n",
              "    </tr>\n",
              "  </thead>\n",
              "  <tbody>\n",
              "    <tr>\n",
              "      <th>59</th>\n",
              "      <td>You can never escape me. Bullets don't harm me...</td>\n",
              "      <td>1</td>\n",
              "      <td>0.0</td>\n",
              "      <td>0.072653</td>\n",
              "    </tr>\n",
              "    <tr>\n",
              "      <th>586</th>\n",
              "      <td>World War II book LIGHTNING JOE An Autobiograp...</td>\n",
              "      <td>1</td>\n",
              "      <td>0.0</td>\n",
              "      <td>0.072415</td>\n",
              "    </tr>\n",
              "    <tr>\n",
              "      <th>40</th>\n",
              "      <td>@BoyInAHorsemask its a panda trapped in a dogs...</td>\n",
              "      <td>1</td>\n",
              "      <td>0.0</td>\n",
              "      <td>0.062798</td>\n",
              "    </tr>\n",
              "    <tr>\n",
              "      <th>663</th>\n",
              "      <td>@GodOf_Mischief_ -of Loki's daggers she pulled...</td>\n",
              "      <td>1</td>\n",
              "      <td>0.0</td>\n",
              "      <td>0.059364</td>\n",
              "    </tr>\n",
              "    <tr>\n",
              "      <th>198</th>\n",
              "      <td>Perspectives on the Grateful Dead: Critical Wr...</td>\n",
              "      <td>1</td>\n",
              "      <td>0.0</td>\n",
              "      <td>0.058446</td>\n",
              "    </tr>\n",
              "    <tr>\n",
              "      <th>486</th>\n",
              "      <td>VICTORINOX SWISS ARMY DATE WOMEN'S RUBBER MOP ...</td>\n",
              "      <td>1</td>\n",
              "      <td>0.0</td>\n",
              "      <td>0.055661</td>\n",
              "    </tr>\n",
              "    <tr>\n",
              "      <th>221</th>\n",
              "      <td>going to redo my nails and watch behind the sc...</td>\n",
              "      <td>1</td>\n",
              "      <td>0.0</td>\n",
              "      <td>0.052433</td>\n",
              "    </tr>\n",
              "    <tr>\n",
              "      <th>411</th>\n",
              "      <td>@SoonerMagic_ I mean I'm a fan but I don't nee...</td>\n",
              "      <td>1</td>\n",
              "      <td>0.0</td>\n",
              "      <td>0.050495</td>\n",
              "    </tr>\n",
              "    <tr>\n",
              "      <th>261</th>\n",
              "      <td>If I fall is men GOD @Praiz8 is d bomb well av...</td>\n",
              "      <td>1</td>\n",
              "      <td>0.0</td>\n",
              "      <td>0.049211</td>\n",
              "    </tr>\n",
              "    <tr>\n",
              "      <th>21</th>\n",
              "      <td>So I pick myself off the ground and swam befor...</td>\n",
              "      <td>1</td>\n",
              "      <td>0.0</td>\n",
              "      <td>0.048996</td>\n",
              "    </tr>\n",
              "    <tr>\n",
              "      <th>681</th>\n",
              "      <td>'The way you move is like a full on rainstorm ...</td>\n",
              "      <td>1</td>\n",
              "      <td>0.0</td>\n",
              "      <td>0.048671</td>\n",
              "    </tr>\n",
              "    <tr>\n",
              "      <th>536</th>\n",
              "      <td>@DavidVonderhaar At least you were sincere ??</td>\n",
              "      <td>1</td>\n",
              "      <td>0.0</td>\n",
              "      <td>0.038700</td>\n",
              "    </tr>\n",
              "    <tr>\n",
              "      <th>23</th>\n",
              "      <td>Ron &amp;amp; Fez - Dave's High School Crush https...</td>\n",
              "      <td>1</td>\n",
              "      <td>0.0</td>\n",
              "      <td>0.035856</td>\n",
              "    </tr>\n",
              "    <tr>\n",
              "      <th>233</th>\n",
              "      <td>I get to smoke my shit in peace</td>\n",
              "      <td>1</td>\n",
              "      <td>0.0</td>\n",
              "      <td>0.026739</td>\n",
              "    </tr>\n",
              "    <tr>\n",
              "      <th>38</th>\n",
              "      <td>Why are you deluged with low self-image? Take ...</td>\n",
              "      <td>1</td>\n",
              "      <td>0.0</td>\n",
              "      <td>0.021965</td>\n",
              "    </tr>\n",
              "  </tbody>\n",
              "</table>\n",
              "</div>"
            ],
            "text/plain": [
              "                                                  text  ...  pred_score\n",
              "59   You can never escape me. Bullets don't harm me...  ...    0.072653\n",
              "586  World War II book LIGHTNING JOE An Autobiograp...  ...    0.072415\n",
              "40   @BoyInAHorsemask its a panda trapped in a dogs...  ...    0.062798\n",
              "663  @GodOf_Mischief_ -of Loki's daggers she pulled...  ...    0.059364\n",
              "198  Perspectives on the Grateful Dead: Critical Wr...  ...    0.058446\n",
              "486  VICTORINOX SWISS ARMY DATE WOMEN'S RUBBER MOP ...  ...    0.055661\n",
              "221  going to redo my nails and watch behind the sc...  ...    0.052433\n",
              "411  @SoonerMagic_ I mean I'm a fan but I don't nee...  ...    0.050495\n",
              "261  If I fall is men GOD @Praiz8 is d bomb well av...  ...    0.049211\n",
              "21   So I pick myself off the ground and swam befor...  ...    0.048996\n",
              "681  'The way you move is like a full on rainstorm ...  ...    0.048671\n",
              "536      @DavidVonderhaar At least you were sincere ??  ...    0.038700\n",
              "23   Ron &amp; Fez - Dave's High School Crush https...  ...    0.035856\n",
              "233                    I get to smoke my shit in peace  ...    0.026739\n",
              "38   Why are you deluged with low self-image? Take ...  ...    0.021965\n",
              "\n",
              "[15 rows x 4 columns]"
            ]
          },
          "metadata": {},
          "execution_count": 197
        }
      ]
    },
    {
      "cell_type": "code",
      "metadata": {
        "colab": {
          "base_uri": "https://localhost:8080/"
        },
        "id": "IUL4ajSfoYT_",
        "outputId": "7c3df4a6-9afe-496b-c6b9-3a99d7ec4d00"
      },
      "source": [
        "for row in df_most_wrong[:10].itertuples():\n",
        "  _ , text , target , pred , pred_score = row\n",
        "  print(f'Target : {target} ,Pred : {pred} Prob : {pred_score}')\n",
        "  print(text)\n",
        "  print('----------------------------------------------------------\\n')"
      ],
      "execution_count": 205,
      "outputs": [
        {
          "output_type": "stream",
          "text": [
            "Target : 0 ,Pred : 1.0 Prob : 0.9719200730323792\n",
            "? High Skies - Burning Buildings ? http://t.co/uVq41i3Kx2 #nowplaying\n",
            "----------------------------------------------------------\n",
            "\n",
            "Target : 0 ,Pred : 1.0 Prob : 0.9643325805664062\n",
            "[55436] 1950 LIONEL TRAINS SMOKE LOCOMOTIVES WITH MAGNE-TRACTION INSTRUCTIONS http://t.co/xEZBs3sq0y http://t.co/C2x0QoKGlY\n",
            "----------------------------------------------------------\n",
            "\n",
            "Target : 0 ,Pred : 1.0 Prob : 0.9630340337753296\n",
            "@noah_anyname That's where the concentration camps and mass murder come in. \n",
            " \n",
            "EVERY. FUCKING. TIME.\n",
            "----------------------------------------------------------\n",
            "\n",
            "Target : 0 ,Pred : 1.0 Prob : 0.9473992586135864\n",
            "Trafford Centre film fans angry after Odeon cinema evacuated following false fire alarm   http://t.co/6GLDwx71DA\n",
            "----------------------------------------------------------\n",
            "\n",
            "Target : 0 ,Pred : 1.0 Prob : 0.9463952779769897\n",
            "@freefromwolves GodsLove &amp; #thankU brother Danny for RT of NEW VIDEO http://t.co/cybKsXHF7d The Coming Apocalyptic US Earthquake &amp; Tsunami\n",
            "----------------------------------------------------------\n",
            "\n",
            "Target : 0 ,Pred : 1.0 Prob : 0.9437487125396729\n",
            "FedEx will no longer transport bioterror pathogens in wake of anthrax lab mishaps http://t.co/lHpgxc4b8J\n",
            "----------------------------------------------------------\n",
            "\n",
            "Target : 0 ,Pred : 1.0 Prob : 0.9345487356185913\n",
            "@madonnamking RSPCA site multiple 7 story high rise buildings next to low density character residential in an area that floods\n",
            "----------------------------------------------------------\n",
            "\n",
            "Target : 0 ,Pred : 1.0 Prob : 0.9283401370048523\n",
            "@SonofLiberty357 all illuminated by the brightly burning buildings all around the town!\n",
            "----------------------------------------------------------\n",
            "\n",
            "Target : 0 ,Pred : 1.0 Prob : 0.9071515798568726\n",
            "Deaths 3 http://t.co/nApviyGKYK\n",
            "----------------------------------------------------------\n",
            "\n",
            "Target : 0 ,Pred : 1.0 Prob : 0.8934646844863892\n",
            "The Sound of Arson\n",
            "----------------------------------------------------------\n",
            "\n"
          ],
          "name": "stdout"
        }
      ]
    },
    {
      "cell_type": "code",
      "metadata": {
        "colab": {
          "base_uri": "https://localhost:8080/"
        },
        "id": "bXply56jpREP",
        "outputId": "2d584b7f-31e9-4ab5-dc8f-114c1a3731fb"
      },
      "source": [
        "for row in df_most_wrong[-10:].itertuples():\n",
        "  _ , text , target , pred , pred_score = row\n",
        "  print(f'Target : {target} ,Pred : {pred} Prob : {pred_score}')\n",
        "  print(text)\n",
        "  print('----------------------------------------------------------\\n')"
      ],
      "execution_count": 206,
      "outputs": [
        {
          "output_type": "stream",
          "text": [
            "Target : 1 ,Pred : 0.0 Prob : 0.05566138029098511\n",
            "VICTORINOX SWISS ARMY DATE WOMEN'S RUBBER MOP WATCH 241487 http://t.co/yFy3nkkcoH http://t.co/KNEhVvOHVK\n",
            "----------------------------------------------------------\n",
            "\n",
            "Target : 1 ,Pred : 0.0 Prob : 0.05243295431137085\n",
            "going to redo my nails and watch behind the scenes of desolation of smaug ayyy\n",
            "----------------------------------------------------------\n",
            "\n",
            "Target : 1 ,Pred : 0.0 Prob : 0.050494641065597534\n",
            "@SoonerMagic_ I mean I'm a fan but I don't need a girl sounding off like a damn siren\n",
            "----------------------------------------------------------\n",
            "\n",
            "Target : 1 ,Pred : 0.0 Prob : 0.04921111464500427\n",
            "If I fall is men GOD @Praiz8 is d bomb well av always known dat since 2008 bigger u I pray sir\n",
            "----------------------------------------------------------\n",
            "\n",
            "Target : 1 ,Pred : 0.0 Prob : 0.04899626970291138\n",
            "So I pick myself off the ground and swam before I drowned. Hit the bottom so hard I bounced twice suffice this time around is different.\n",
            "----------------------------------------------------------\n",
            "\n",
            "Target : 1 ,Pred : 0.0 Prob : 0.048671215772628784\n",
            "'The way you move is like a full on rainstorm and I'm a house of cards'\n",
            "----------------------------------------------------------\n",
            "\n",
            "Target : 1 ,Pred : 0.0 Prob : 0.03869965672492981\n",
            "@DavidVonderhaar At least you were sincere ??\n",
            "----------------------------------------------------------\n",
            "\n",
            "Target : 1 ,Pred : 0.0 Prob : 0.03585618734359741\n",
            "Ron &amp; Fez - Dave's High School Crush https://t.co/aN3W16c8F6 via @YouTube\n",
            "----------------------------------------------------------\n",
            "\n",
            "Target : 1 ,Pred : 0.0 Prob : 0.026738613843917847\n",
            "I get to smoke my shit in peace\n",
            "----------------------------------------------------------\n",
            "\n",
            "Target : 1 ,Pred : 0.0 Prob : 0.021964609622955322\n",
            "Why are you deluged with low self-image? Take the quiz: http://t.co/XsPqdOrIqj http://t.co/CQYvFR4UCy\n",
            "----------------------------------------------------------\n",
            "\n"
          ],
          "name": "stdout"
        }
      ]
    },
    {
      "cell_type": "code",
      "metadata": {
        "colab": {
          "base_uri": "https://localhost:8080/",
          "height": 200
        },
        "id": "gsXm6JeTqPjN",
        "outputId": "1ba6b7b2-5bac-43e8-99ec-88d1549cf814"
      },
      "source": [
        "df_test.head()"
      ],
      "execution_count": 208,
      "outputs": [
        {
          "output_type": "execute_result",
          "data": {
            "text/html": [
              "<div>\n",
              "<style scoped>\n",
              "    .dataframe tbody tr th:only-of-type {\n",
              "        vertical-align: middle;\n",
              "    }\n",
              "\n",
              "    .dataframe tbody tr th {\n",
              "        vertical-align: top;\n",
              "    }\n",
              "\n",
              "    .dataframe thead th {\n",
              "        text-align: right;\n",
              "    }\n",
              "</style>\n",
              "<table border=\"1\" class=\"dataframe\">\n",
              "  <thead>\n",
              "    <tr style=\"text-align: right;\">\n",
              "      <th></th>\n",
              "      <th>id</th>\n",
              "      <th>keyword</th>\n",
              "      <th>location</th>\n",
              "      <th>text</th>\n",
              "    </tr>\n",
              "  </thead>\n",
              "  <tbody>\n",
              "    <tr>\n",
              "      <th>0</th>\n",
              "      <td>0</td>\n",
              "      <td>NaN</td>\n",
              "      <td>NaN</td>\n",
              "      <td>Just happened a terrible car crash</td>\n",
              "    </tr>\n",
              "    <tr>\n",
              "      <th>1</th>\n",
              "      <td>2</td>\n",
              "      <td>NaN</td>\n",
              "      <td>NaN</td>\n",
              "      <td>Heard about #earthquake is different cities, s...</td>\n",
              "    </tr>\n",
              "    <tr>\n",
              "      <th>2</th>\n",
              "      <td>3</td>\n",
              "      <td>NaN</td>\n",
              "      <td>NaN</td>\n",
              "      <td>there is a forest fire at spot pond, geese are...</td>\n",
              "    </tr>\n",
              "    <tr>\n",
              "      <th>3</th>\n",
              "      <td>9</td>\n",
              "      <td>NaN</td>\n",
              "      <td>NaN</td>\n",
              "      <td>Apocalypse lighting. #Spokane #wildfires</td>\n",
              "    </tr>\n",
              "    <tr>\n",
              "      <th>4</th>\n",
              "      <td>11</td>\n",
              "      <td>NaN</td>\n",
              "      <td>NaN</td>\n",
              "      <td>Typhoon Soudelor kills 28 in China and Taiwan</td>\n",
              "    </tr>\n",
              "  </tbody>\n",
              "</table>\n",
              "</div>"
            ],
            "text/plain": [
              "   id keyword location                                               text\n",
              "0   0     NaN      NaN                 Just happened a terrible car crash\n",
              "1   2     NaN      NaN  Heard about #earthquake is different cities, s...\n",
              "2   3     NaN      NaN  there is a forest fire at spot pond, geese are...\n",
              "3   9     NaN      NaN           Apocalypse lighting. #Spokane #wildfires\n",
              "4  11     NaN      NaN      Typhoon Soudelor kills 28 in China and Taiwan"
            ]
          },
          "metadata": {},
          "execution_count": 208
        }
      ]
    },
    {
      "cell_type": "markdown",
      "metadata": {
        "id": "E89x-eatqrln"
      },
      "source": [
        "# 7.0 Making Prediction on test dataset\n",
        "___"
      ]
    },
    {
      "cell_type": "code",
      "metadata": {
        "colab": {
          "base_uri": "https://localhost:8080/"
        },
        "id": "s_hfAVcHq9Jx",
        "outputId": "ca3d49fc-7631-4840-ba88-8c376c7802c8"
      },
      "source": [
        "test_sentences = df_test['text'].to_list()\n",
        "test_samples = random.sample(test_sentences , 10)\n",
        "\n",
        "for test_sample in test_samples:\n",
        "  pred_prob = tf.squeeze(model_6_pretrained.predict([test_sample]))\n",
        "  pred = tf.round(pred_prob)\n",
        "  print(f'Pred: {int(pred)} , Prob: {pred_prob}')\n",
        "  print(test_sample)\n",
        "  print('----------------------------------------------------\\n') "
      ],
      "execution_count": 218,
      "outputs": [
        {
          "output_type": "stream",
          "text": [
            "Pred: 0 , Prob: 0.44260373711586\n",
            "Sounds pretty sensible for a mass murderer... https://t.co/qZZxFYSIU1\n",
            "----------------------------------------------------\n",
            "\n",
            "Pred: 1 , Prob: 0.5469158291816711\n",
            "@MountSinaiNYC @Beingtweets @Susancares2x #onbeingwithKristaTippett This is important for women living w/HIV the science of trauma\n",
            "----------------------------------------------------\n",
            "\n",
            "Pred: 1 , Prob: 0.9186513423919678\n",
            "2 Policemen receive bullet wounds Reports indicate 6-7 armed men attacked a police post.\n",
            "----------------------------------------------------\n",
            "\n",
            "Pred: 0 , Prob: 0.21204835176467896\n",
            "AxWave enables a fast and accurate simulation of 2D and 3D seismic surveys in an acoustic medium #seismic #GPU #CPU http://t.co/OMX1NXAqpz\n",
            "----------------------------------------------------\n",
            "\n",
            "Pred: 0 , Prob: 0.08763569593429565\n",
            "I hope you fall off a cliff.\n",
            "----------------------------------------------------\n",
            "\n",
            "Pred: 1 , Prob: 0.8274557590484619\n",
            "Twin Storms Blow Through Calgary * 75 http://t.co/sIAKlSbdiP http://t.co/fm44ZS93OA\n",
            "----------------------------------------------------\n",
            "\n",
            "Pred: 0 , Prob: 0.141709566116333\n",
            "Emergency-response plan helps employees get back to productive work http://t.co/tXQZN6GTHa @BusInsMagazine\n",
            "----------------------------------------------------\n",
            "\n",
            "Pred: 0 , Prob: 0.03706446290016174\n",
            "Blonde beauty Amanda shows you her big natural boobs in her first set http://t.co/qew4c5M1xd View and download video\n",
            "----------------------------------------------------\n",
            "\n",
            "Pred: 0 , Prob: 0.05962291359901428\n",
            "FUCK MY LIFE THESE BOYS ARE GONNA RUIN MY LIFE FORREAL http://t.co/mf9nGfphbN\n",
            "----------------------------------------------------\n",
            "\n",
            "Pred: 0 , Prob: 0.038392841815948486\n",
            "This game drove me to a rolo mini blizzard\n",
            "----------------------------------------------------\n",
            "\n"
          ],
          "name": "stdout"
        }
      ]
    }
  ]
}