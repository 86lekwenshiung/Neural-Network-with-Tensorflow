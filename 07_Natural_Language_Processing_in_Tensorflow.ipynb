{
  "nbformat": 4,
  "nbformat_minor": 0,
  "metadata": {
    "colab": {
      "name": "07_Natural_Language_Processing in Tensorflow.ipynb",
      "provenance": [],
      "collapsed_sections": [],
      "toc_visible": true,
      "authorship_tag": "ABX9TyMPiLoRVy0zJJQO3GttoSsr",
      "include_colab_link": true
    },
    "kernelspec": {
      "name": "python3",
      "display_name": "Python 3"
    },
    "language_info": {
      "name": "python"
    }
  },
  "cells": [
    {
      "cell_type": "markdown",
      "metadata": {
        "id": "view-in-github",
        "colab_type": "text"
      },
      "source": [
        "<a href=\"https://colab.research.google.com/github/86lekwenshiung/Neural-Network-with-Tensorflow/blob/main/07_Natural_Language_Processing_in_Tensorflow.ipynb\" target=\"_parent\"><img src=\"https://colab.research.google.com/assets/colab-badge.svg\" alt=\"Open In Colab\"/></a>"
      ]
    },
    {
      "cell_type": "markdown",
      "metadata": {
        "id": "eim5-c54xWMJ"
      },
      "source": [
        "# 0.0 Natural Language Processing in Tensorflow\n",
        "___\n",
        "\n",
        "The main goal of natural language processing (NLP) is to derive information from natural language.\n",
        "Natural language is a broad term but you can consider it to cover any of the following:\n",
        "* Text (such as that contained in an email, blog post, book, Tweet)\n",
        "* Speech (a conversation you have with a doctor, voice commands you give to a smart speaker)\n",
        "\n",
        "**What is NLP used for?**\n",
        "\n",
        "Natural Language Processing is the driving force behind the following common applications:\n",
        "* Language translation applications such as Google Translate\n",
        "* Word Processors such as Microsoft Word and Grammarly that employ NLP to check grammatical accuracy of texts.\n",
        "* Interactive Voice Response (IVR) applications used in call centers to respond to certain users’ requests.\n",
        "* Personal assistant applications such as OK Google, Siri, Cortana, and Alexa.\n",
        "\n",
        "**Workflow**\n",
        "```\n",
        "Download text -> Visualize Text -> turn into numbers (tokenization , embedding) -> build a model -> train the model to find patterns -> compare model -> ensemble model\n",
        "```\n",
        "\n",
        "`source` : \n",
        "* https://towardsdatascience.com/whatnlpscientistsdo-905aa987c5c0\n",
        "* https://becominghuman.ai/a-simple-introduction-to-natural-language-processing-ea66a1747b32\n",
        "* https://blog.insightdatascience.com/how-to-solve-90-of-nlp-problems-a-step-by-step-guide-fda605278e4e\n"
      ]
    },
    {
      "cell_type": "markdown",
      "metadata": {
        "id": "NugqGL_GsJPs"
      },
      "source": [
        "# 0.0 Recurrent Neural Network\n",
        "\n",
        "Another common term for NLP problems is sequence to sequence problems(seq2seq). RNN are useful for sequence data.\n",
        "\n",
        "The premise of a recurrent neural network is to use the representation of a previous input to aid the representation of a later input.\n",
        "\n",
        "**Typical Architecture of a RNN**\n",
        "\n",
        "| Hyperparameter/Layer type | What does it do? | Typical values |\n",
        "|---|---|---|\n",
        "| Input text(s) | Target texts/sequences you'd like to discover patterns in | Whatever you can represent as text or a sequence |\n",
        "| Input layer | Takes in target sequence | input_shape = [batch_size, embedding_size] or [batch_size , sequence_shape] |\n",
        "| Text Vectorisation layer | Maps input sequence to layers | Multiple, can create with tf.keras.layers.preprocessing.TextVectorisation |\n",
        "| Embedding | Turn mapping of text vectors to embedding matrix | Multiple, can create with tf.keras.layers.Embedding |\n",
        "| RNN Cells | Find Pattern in Sequences | SimpleRNN , LSTM , GRU |\n",
        "| Hidden activation | Adds non-linearity to learned features (non-straight lines) | Usually Tanh (tf.keras.activations.tanh) |\n",
        "| Pooling layer | Reduces the dimensionality of learned image features | Average (tf.keras.layers.GlobalAveragePooling1D) or Max (tf.keras.layers.GlobalMaxPool1D) |\n",
        "| Fully connected layer | Further refines learned features from convolution layers | tf.keras.layers.Dense |\n",
        "| Output layer | Takes learned features and outputs them in shape of target labels | output_shape = [number_of_classes] (e.g. disaster , Not Disaster) |\n",
        "| Output activation | Adds non-linearities to output layer | tf.keras.activations.sigmoid (binary classification) or tf.keras.activations.softmax |\n"
      ]
    },
    {
      "cell_type": "code",
      "metadata": {
        "id": "OFzwy8N6F6Go"
      },
      "source": [
        "import tensorflow as tf\n",
        "from tensorflow.keras import layers\n",
        "from tensorflow.keras.layers.experimental.preprocessing import TextVectorization\n",
        "from sklearn.naive_bayes import MultinomialNB\n",
        "from sklearn.feature_extraction.text import TfidfVectorizer\n",
        "from sklearn.pipeline import Pipeline\n",
        "\n",
        "import pandas as pd\n",
        "import numpy as np\n",
        "import random\n",
        "\n",
        "from sklearn.model_selection import train_test_split\n",
        "\n",
        "import zipfile\n",
        "import os"
      ],
      "execution_count": 136,
      "outputs": []
    },
    {
      "cell_type": "markdown",
      "metadata": {
        "id": "I3kKLkexpZg5"
      },
      "source": [
        "# 0.5 General Function\n",
        "___"
      ]
    },
    {
      "cell_type": "markdown",
      "metadata": {
        "id": "3m6S7yBWpcko"
      },
      "source": [
        "### TensorBoard Callbacks\n",
        "___"
      ]
    },
    {
      "cell_type": "code",
      "metadata": {
        "id": "_lAtiV6Pphsy"
      },
      "source": [
        "import datetime\n",
        "\n",
        "def create_tensorboard_callback(dir_name , experiment_name):\n",
        "  log_dir = dir_name +'/' + experiment_name +'/' +datetime.datetime.now().strftime('%Y%m%d-%H%M%S')\n",
        "  tensorboard_callback = tf.keras.callbacks.TensorBoard(log_dir = log_dir)\n",
        "  print(f'Saving Tensorboard log files to {log_dir}')\n",
        "  return tensorboard_callback"
      ],
      "execution_count": 137,
      "outputs": []
    },
    {
      "cell_type": "markdown",
      "metadata": {
        "id": "jMCz1kyYqGor"
      },
      "source": [
        "### Classification Evaluation Metrics\n",
        "___"
      ]
    },
    {
      "cell_type": "code",
      "metadata": {
        "id": "m0Sw0p_RqSna"
      },
      "source": [
        "def eval_classification(y_true , y_pred):\n",
        "\n",
        "  from sklearn.metrics import accuracy_score , precision_score , recall_score , f1_score\n",
        "\n",
        "  # Define Scoring variables\n",
        "  accuracy = accuracy_score(y_true , y_pred)\n",
        "  precision = precision_score(y_true , y_pred)\n",
        "  recall = recall_score(y_true , y_pred)\n",
        "  f1_score = f1_score(y_true , y_pred)\n",
        "\n",
        "  score_dict = {'Accuracy' : accuracy,\n",
        "                'Precision' : precision,\n",
        "                'Recall' : recall,\n",
        "                'F1 Score' : f1_score}\n",
        "\n",
        "  return score_dict"
      ],
      "execution_count": 138,
      "outputs": []
    },
    {
      "cell_type": "markdown",
      "metadata": {
        "id": "Lmsa-gdhyC96"
      },
      "source": [
        "# 1.0 Getting Data from kaggle (Natural Language Processing with Disaster Tweets)\n",
        "___\n",
        "\n",
        "source : https://www.kaggle.com/philculliton/nlp-getting-started-tutorial"
      ]
    },
    {
      "cell_type": "code",
      "metadata": {
        "colab": {
          "base_uri": "https://localhost:8080/"
        },
        "id": "uqcke9JRFHR1",
        "outputId": "f53b86a7-3aeb-4347-8228-d85ca163c684"
      },
      "source": [
        "!wget https://storage.googleapis.com/ztm_tf_course/nlp_getting_started.zip"
      ],
      "execution_count": 139,
      "outputs": [
        {
          "output_type": "stream",
          "text": [
            "--2021-08-27 05:15:43--  https://storage.googleapis.com/ztm_tf_course/nlp_getting_started.zip\n",
            "Resolving storage.googleapis.com (storage.googleapis.com)... 108.177.125.128, 142.250.157.128, 142.251.8.128, ...\n",
            "Connecting to storage.googleapis.com (storage.googleapis.com)|108.177.125.128|:443... connected.\n",
            "HTTP request sent, awaiting response... 200 OK\n",
            "Length: 607343 (593K) [application/zip]\n",
            "Saving to: ‘nlp_getting_started.zip.2’\n",
            "\n",
            "\r          nlp_getti   0%[                    ]       0  --.-KB/s               \rnlp_getting_started 100%[===================>] 593.11K  --.-KB/s    in 0.006s  \n",
            "\n",
            "2021-08-27 05:15:43 (102 MB/s) - ‘nlp_getting_started.zip.2’ saved [607343/607343]\n",
            "\n"
          ],
          "name": "stdout"
        }
      ]
    },
    {
      "cell_type": "code",
      "metadata": {
        "id": "Mr-wTtW6F4CP"
      },
      "source": [
        "# Unzip file\n",
        "zip_ref = zipfile.ZipFile('nlp_getting_started.zip')\n",
        "zip_ref.extractall()\n",
        "zip_ref.close()"
      ],
      "execution_count": 140,
      "outputs": []
    },
    {
      "cell_type": "code",
      "metadata": {
        "id": "zJbl6bVkGPlB"
      },
      "source": [
        "df_train = pd.read_csv('train.csv')\n",
        "df_test = pd.read_csv('test.csv')"
      ],
      "execution_count": 141,
      "outputs": []
    },
    {
      "cell_type": "markdown",
      "metadata": {
        "id": "PjCOXeq2paFC"
      },
      "source": [
        "### 1.1 Visualising Data\n",
        "___"
      ]
    },
    {
      "cell_type": "code",
      "metadata": {
        "colab": {
          "base_uri": "https://localhost:8080/",
          "height": 202
        },
        "id": "KIwlOi_PGx-g",
        "outputId": "87709c8e-7311-47cc-ad6c-30a4dcda8c15"
      },
      "source": [
        "# Checking Training Data\n",
        "df_train.head()"
      ],
      "execution_count": 142,
      "outputs": [
        {
          "output_type": "execute_result",
          "data": {
            "text/html": [
              "<div>\n",
              "<style scoped>\n",
              "    .dataframe tbody tr th:only-of-type {\n",
              "        vertical-align: middle;\n",
              "    }\n",
              "\n",
              "    .dataframe tbody tr th {\n",
              "        vertical-align: top;\n",
              "    }\n",
              "\n",
              "    .dataframe thead th {\n",
              "        text-align: right;\n",
              "    }\n",
              "</style>\n",
              "<table border=\"1\" class=\"dataframe\">\n",
              "  <thead>\n",
              "    <tr style=\"text-align: right;\">\n",
              "      <th></th>\n",
              "      <th>id</th>\n",
              "      <th>keyword</th>\n",
              "      <th>location</th>\n",
              "      <th>text</th>\n",
              "      <th>target</th>\n",
              "    </tr>\n",
              "  </thead>\n",
              "  <tbody>\n",
              "    <tr>\n",
              "      <th>0</th>\n",
              "      <td>1</td>\n",
              "      <td>NaN</td>\n",
              "      <td>NaN</td>\n",
              "      <td>Our Deeds are the Reason of this #earthquake M...</td>\n",
              "      <td>1</td>\n",
              "    </tr>\n",
              "    <tr>\n",
              "      <th>1</th>\n",
              "      <td>4</td>\n",
              "      <td>NaN</td>\n",
              "      <td>NaN</td>\n",
              "      <td>Forest fire near La Ronge Sask. Canada</td>\n",
              "      <td>1</td>\n",
              "    </tr>\n",
              "    <tr>\n",
              "      <th>2</th>\n",
              "      <td>5</td>\n",
              "      <td>NaN</td>\n",
              "      <td>NaN</td>\n",
              "      <td>All residents asked to 'shelter in place' are ...</td>\n",
              "      <td>1</td>\n",
              "    </tr>\n",
              "    <tr>\n",
              "      <th>3</th>\n",
              "      <td>6</td>\n",
              "      <td>NaN</td>\n",
              "      <td>NaN</td>\n",
              "      <td>13,000 people receive #wildfires evacuation or...</td>\n",
              "      <td>1</td>\n",
              "    </tr>\n",
              "    <tr>\n",
              "      <th>4</th>\n",
              "      <td>7</td>\n",
              "      <td>NaN</td>\n",
              "      <td>NaN</td>\n",
              "      <td>Just got sent this photo from Ruby #Alaska as ...</td>\n",
              "      <td>1</td>\n",
              "    </tr>\n",
              "  </tbody>\n",
              "</table>\n",
              "</div>"
            ],
            "text/plain": [
              "   id keyword  ...                                               text target\n",
              "0   1     NaN  ...  Our Deeds are the Reason of this #earthquake M...      1\n",
              "1   4     NaN  ...             Forest fire near La Ronge Sask. Canada      1\n",
              "2   5     NaN  ...  All residents asked to 'shelter in place' are ...      1\n",
              "3   6     NaN  ...  13,000 people receive #wildfires evacuation or...      1\n",
              "4   7     NaN  ...  Just got sent this photo from Ruby #Alaska as ...      1\n",
              "\n",
              "[5 rows x 5 columns]"
            ]
          },
          "metadata": {},
          "execution_count": 142
        }
      ]
    },
    {
      "cell_type": "code",
      "metadata": {
        "colab": {
          "base_uri": "https://localhost:8080/",
          "height": 202
        },
        "id": "Gh3_6aYfiWDp",
        "outputId": "b160ac22-40d0-4974-8eed-7b960ad82192"
      },
      "source": [
        "df_train = df_train.sample(frac = 1 , random_state = 42)\n",
        "df_train.head()"
      ],
      "execution_count": 143,
      "outputs": [
        {
          "output_type": "execute_result",
          "data": {
            "text/html": [
              "<div>\n",
              "<style scoped>\n",
              "    .dataframe tbody tr th:only-of-type {\n",
              "        vertical-align: middle;\n",
              "    }\n",
              "\n",
              "    .dataframe tbody tr th {\n",
              "        vertical-align: top;\n",
              "    }\n",
              "\n",
              "    .dataframe thead th {\n",
              "        text-align: right;\n",
              "    }\n",
              "</style>\n",
              "<table border=\"1\" class=\"dataframe\">\n",
              "  <thead>\n",
              "    <tr style=\"text-align: right;\">\n",
              "      <th></th>\n",
              "      <th>id</th>\n",
              "      <th>keyword</th>\n",
              "      <th>location</th>\n",
              "      <th>text</th>\n",
              "      <th>target</th>\n",
              "    </tr>\n",
              "  </thead>\n",
              "  <tbody>\n",
              "    <tr>\n",
              "      <th>2644</th>\n",
              "      <td>3796</td>\n",
              "      <td>destruction</td>\n",
              "      <td>NaN</td>\n",
              "      <td>So you have a new weapon that can cause un-ima...</td>\n",
              "      <td>1</td>\n",
              "    </tr>\n",
              "    <tr>\n",
              "      <th>2227</th>\n",
              "      <td>3185</td>\n",
              "      <td>deluge</td>\n",
              "      <td>NaN</td>\n",
              "      <td>The f$&amp;amp;@ing things I do for #GISHWHES Just...</td>\n",
              "      <td>0</td>\n",
              "    </tr>\n",
              "    <tr>\n",
              "      <th>5448</th>\n",
              "      <td>7769</td>\n",
              "      <td>police</td>\n",
              "      <td>UK</td>\n",
              "      <td>DT @georgegalloway: RT @Galloway4Mayor: ÛÏThe...</td>\n",
              "      <td>1</td>\n",
              "    </tr>\n",
              "    <tr>\n",
              "      <th>132</th>\n",
              "      <td>191</td>\n",
              "      <td>aftershock</td>\n",
              "      <td>NaN</td>\n",
              "      <td>Aftershock back to school kick off was great. ...</td>\n",
              "      <td>0</td>\n",
              "    </tr>\n",
              "    <tr>\n",
              "      <th>6845</th>\n",
              "      <td>9810</td>\n",
              "      <td>trauma</td>\n",
              "      <td>Montgomery County, MD</td>\n",
              "      <td>in response to trauma Children of Addicts deve...</td>\n",
              "      <td>0</td>\n",
              "    </tr>\n",
              "  </tbody>\n",
              "</table>\n",
              "</div>"
            ],
            "text/plain": [
              "        id  ... target\n",
              "2644  3796  ...      1\n",
              "2227  3185  ...      0\n",
              "5448  7769  ...      1\n",
              "132    191  ...      0\n",
              "6845  9810  ...      0\n",
              "\n",
              "[5 rows x 5 columns]"
            ]
          },
          "metadata": {},
          "execution_count": 143
        }
      ]
    },
    {
      "cell_type": "code",
      "metadata": {
        "id": "SruLz4mQGy24",
        "colab": {
          "base_uri": "https://localhost:8080/",
          "height": 202
        },
        "outputId": "07e98060-974b-4ec8-9430-f2ec69788202"
      },
      "source": [
        "# Checking Test Data\n",
        "df_test.head()"
      ],
      "execution_count": 144,
      "outputs": [
        {
          "output_type": "execute_result",
          "data": {
            "text/html": [
              "<div>\n",
              "<style scoped>\n",
              "    .dataframe tbody tr th:only-of-type {\n",
              "        vertical-align: middle;\n",
              "    }\n",
              "\n",
              "    .dataframe tbody tr th {\n",
              "        vertical-align: top;\n",
              "    }\n",
              "\n",
              "    .dataframe thead th {\n",
              "        text-align: right;\n",
              "    }\n",
              "</style>\n",
              "<table border=\"1\" class=\"dataframe\">\n",
              "  <thead>\n",
              "    <tr style=\"text-align: right;\">\n",
              "      <th></th>\n",
              "      <th>id</th>\n",
              "      <th>keyword</th>\n",
              "      <th>location</th>\n",
              "      <th>text</th>\n",
              "    </tr>\n",
              "  </thead>\n",
              "  <tbody>\n",
              "    <tr>\n",
              "      <th>0</th>\n",
              "      <td>0</td>\n",
              "      <td>NaN</td>\n",
              "      <td>NaN</td>\n",
              "      <td>Just happened a terrible car crash</td>\n",
              "    </tr>\n",
              "    <tr>\n",
              "      <th>1</th>\n",
              "      <td>2</td>\n",
              "      <td>NaN</td>\n",
              "      <td>NaN</td>\n",
              "      <td>Heard about #earthquake is different cities, s...</td>\n",
              "    </tr>\n",
              "    <tr>\n",
              "      <th>2</th>\n",
              "      <td>3</td>\n",
              "      <td>NaN</td>\n",
              "      <td>NaN</td>\n",
              "      <td>there is a forest fire at spot pond, geese are...</td>\n",
              "    </tr>\n",
              "    <tr>\n",
              "      <th>3</th>\n",
              "      <td>9</td>\n",
              "      <td>NaN</td>\n",
              "      <td>NaN</td>\n",
              "      <td>Apocalypse lighting. #Spokane #wildfires</td>\n",
              "    </tr>\n",
              "    <tr>\n",
              "      <th>4</th>\n",
              "      <td>11</td>\n",
              "      <td>NaN</td>\n",
              "      <td>NaN</td>\n",
              "      <td>Typhoon Soudelor kills 28 in China and Taiwan</td>\n",
              "    </tr>\n",
              "  </tbody>\n",
              "</table>\n",
              "</div>"
            ],
            "text/plain": [
              "   id keyword location                                               text\n",
              "0   0     NaN      NaN                 Just happened a terrible car crash\n",
              "1   2     NaN      NaN  Heard about #earthquake is different cities, s...\n",
              "2   3     NaN      NaN  there is a forest fire at spot pond, geese are...\n",
              "3   9     NaN      NaN           Apocalypse lighting. #Spokane #wildfires\n",
              "4  11     NaN      NaN      Typhoon Soudelor kills 28 in China and Taiwan"
            ]
          },
          "metadata": {},
          "execution_count": 144
        }
      ]
    },
    {
      "cell_type": "code",
      "metadata": {
        "colab": {
          "base_uri": "https://localhost:8080/"
        },
        "id": "K-_KqfbyiPap",
        "outputId": "6e898bb2-7fe7-44d2-fef9-b008a28e30ff"
      },
      "source": [
        "# Target True : False Ratio\n",
        "df_train['target'].value_counts(normalize = True)"
      ],
      "execution_count": 145,
      "outputs": [
        {
          "output_type": "execute_result",
          "data": {
            "text/plain": [
              "0    0.57034\n",
              "1    0.42966\n",
              "Name: target, dtype: float64"
            ]
          },
          "metadata": {},
          "execution_count": 145
        }
      ]
    },
    {
      "cell_type": "code",
      "metadata": {
        "colab": {
          "base_uri": "https://localhost:8080/",
          "height": 202
        },
        "id": "lX2gUbWPltwJ",
        "outputId": "032c6f78-3f01-4634-a065-1f4715881ec9"
      },
      "source": [
        "random_index = random.randint(0 , len(df_train))\n",
        "df_train[['text' , 'target']].head()"
      ],
      "execution_count": 146,
      "outputs": [
        {
          "output_type": "execute_result",
          "data": {
            "text/html": [
              "<div>\n",
              "<style scoped>\n",
              "    .dataframe tbody tr th:only-of-type {\n",
              "        vertical-align: middle;\n",
              "    }\n",
              "\n",
              "    .dataframe tbody tr th {\n",
              "        vertical-align: top;\n",
              "    }\n",
              "\n",
              "    .dataframe thead th {\n",
              "        text-align: right;\n",
              "    }\n",
              "</style>\n",
              "<table border=\"1\" class=\"dataframe\">\n",
              "  <thead>\n",
              "    <tr style=\"text-align: right;\">\n",
              "      <th></th>\n",
              "      <th>text</th>\n",
              "      <th>target</th>\n",
              "    </tr>\n",
              "  </thead>\n",
              "  <tbody>\n",
              "    <tr>\n",
              "      <th>2644</th>\n",
              "      <td>So you have a new weapon that can cause un-ima...</td>\n",
              "      <td>1</td>\n",
              "    </tr>\n",
              "    <tr>\n",
              "      <th>2227</th>\n",
              "      <td>The f$&amp;amp;@ing things I do for #GISHWHES Just...</td>\n",
              "      <td>0</td>\n",
              "    </tr>\n",
              "    <tr>\n",
              "      <th>5448</th>\n",
              "      <td>DT @georgegalloway: RT @Galloway4Mayor: ÛÏThe...</td>\n",
              "      <td>1</td>\n",
              "    </tr>\n",
              "    <tr>\n",
              "      <th>132</th>\n",
              "      <td>Aftershock back to school kick off was great. ...</td>\n",
              "      <td>0</td>\n",
              "    </tr>\n",
              "    <tr>\n",
              "      <th>6845</th>\n",
              "      <td>in response to trauma Children of Addicts deve...</td>\n",
              "      <td>0</td>\n",
              "    </tr>\n",
              "  </tbody>\n",
              "</table>\n",
              "</div>"
            ],
            "text/plain": [
              "                                                   text  target\n",
              "2644  So you have a new weapon that can cause un-ima...       1\n",
              "2227  The f$&amp;@ing things I do for #GISHWHES Just...       0\n",
              "5448  DT @georgegalloway: RT @Galloway4Mayor: ÛÏThe...       1\n",
              "132   Aftershock back to school kick off was great. ...       0\n",
              "6845  in response to trauma Children of Addicts deve...       0"
            ]
          },
          "metadata": {},
          "execution_count": 146
        }
      ]
    },
    {
      "cell_type": "code",
      "metadata": {
        "colab": {
          "base_uri": "https://localhost:8080/"
        },
        "id": "gb6c_PEhjDTZ",
        "outputId": "35767401-6295-456d-bf51-c3dc6cfec1cc"
      },
      "source": [
        "random_index = random.randint(0 , len(df_train))\n",
        "\n",
        "for row in df_train[['text' , 'target']][random_index : random_index +5].itertuples():\n",
        "  _ , text , target = row\n",
        "\n",
        "  print(f\"Target: {target}\" , \"(Disaster)\" if target > 0 else \"(Not Disaster)\")\n",
        "  print(f'Text: {text}')\n",
        "  print('-------\\n')"
      ],
      "execution_count": 147,
      "outputs": [
        {
          "output_type": "stream",
          "text": [
            "Target: 0 (Not Disaster)\n",
            "Text: I am that girl on tv that sadly turns her music up to drown out the noise of her family fighting literally every day\n",
            "-------\n",
            "\n",
            "Target: 0 (Not Disaster)\n",
            "Text: #MrRobinson is giving me #TheSteveHarveyShow vibe. Music teacher looks out for students has crush on girl he went to high school with. ??\n",
            "-------\n",
            "\n",
            "Target: 0 (Not Disaster)\n",
            "Text: @abran_caballero Discovered by @NickCannon \n",
            " Listen/Buy @realmandyrain #RIOT on @iTunesMusic @iTunes https://t.co/dehMym5lpk Û_ #BlowMandyUp\n",
            "-------\n",
            "\n",
            "Target: 1 (Disaster)\n",
            "Text: @AdamRubinESPN Familia: arm injury or head case?\n",
            "-------\n",
            "\n",
            "Target: 0 (Not Disaster)\n",
            "Text: Had a minute alone with my crush??...it was an overrated experience...smh\n",
            "-------\n",
            "\n"
          ],
          "name": "stdout"
        }
      ]
    },
    {
      "cell_type": "markdown",
      "metadata": {
        "id": "Sz18FeIVjwGH"
      },
      "source": [
        "### 1.2 Data Split Training and Validation\n",
        "___"
      ]
    },
    {
      "cell_type": "code",
      "metadata": {
        "id": "NUrB2HkjqMWi"
      },
      "source": [
        "# Define X and y variables\n",
        "train = df_train['text'].to_numpy()\n",
        "val = df_train['target'].to_numpy()"
      ],
      "execution_count": 148,
      "outputs": []
    },
    {
      "cell_type": "code",
      "metadata": {
        "id": "PF9ODPAKpoVy"
      },
      "source": [
        "train_sentences , val_sentences ,train_label , val_label = train_test_split(train , val , test_size = 0.1 , random_state  = 42)"
      ],
      "execution_count": 149,
      "outputs": []
    },
    {
      "cell_type": "code",
      "metadata": {
        "colab": {
          "base_uri": "https://localhost:8080/"
        },
        "id": "KIEaw6E2qrzS",
        "outputId": "8b07a213-2f8f-4f14-8d09-0d9571a54587"
      },
      "source": [
        "print(f'Train Sentence: {train_sentences.shape}')\n",
        "print(f'Val Sentence: {val_sentences.shape}')\n",
        "print(f'Train Label: {train_label.shape}')\n",
        "print(f'Val Label: {val_label.shape}')"
      ],
      "execution_count": 150,
      "outputs": [
        {
          "output_type": "stream",
          "text": [
            "Train Sentence: (6851,)\n",
            "Val Sentence: (762,)\n",
            "Train Label: (6851,)\n",
            "Val Label: (762,)\n"
          ],
          "name": "stdout"
        }
      ]
    },
    {
      "cell_type": "markdown",
      "metadata": {
        "id": "fxMdAYVZra8K"
      },
      "source": [
        "### 1.3 Converting Text into Numbers\n",
        "___\n",
        "\n",
        "* Tokenization : Straight mapping from token to number , however model can get very big as no. of words increases.\n",
        "* Embedding : Representation by vector , weighted matrix. Richer representation of relationship between tokens."
      ]
    },
    {
      "cell_type": "markdown",
      "metadata": {
        "id": "3X4mYslKCiwv"
      },
      "source": [
        "#### 1.3.1 Tokenization\n",
        "___"
      ]
    },
    {
      "cell_type": "code",
      "metadata": {
        "id": "4ShPUeyvrsJi"
      },
      "source": [
        "# # Default Setting of TextVectorisation\n",
        "# text_vectorizer = TextVectorization(max_tokens = None,\n",
        "#                                     standardize = 'lower_and_strip_punctuation',\n",
        "#                                     split = 'whitespace',\n",
        "#                                     ngrams = None, # grouping of words\n",
        "#                                     output_mode = 'int',\n",
        "#                                     output_sequence_length = None,\n",
        "#                                     pad_to_max_tokens = True) "
      ],
      "execution_count": 151,
      "outputs": []
    },
    {
      "cell_type": "code",
      "metadata": {
        "id": "las3jVye85oo"
      },
      "source": [
        "#   This example instantiates a `TextVectorization` layer that lowercases text, splits on whitespace, strips punctuation, and outputs integer vocab indices.\n",
        "\n",
        "max_vocab_length = 10000  # Max number of words in our vocab\n",
        "max_length = 15 # max length our sequence will be (In this case the sequence is a tweet)\n",
        "\n",
        "text_vectorizer = TextVectorization(max_tokens = max_vocab_length,\n",
        "                                    output_mode = 'int',\n",
        "                                    output_sequence_length = max_length,\n",
        "                                    pad_to_max_tokens = True)"
      ],
      "execution_count": 152,
      "outputs": []
    },
    {
      "cell_type": "code",
      "metadata": {
        "id": "GaHFUlvHoiJU"
      },
      "source": [
        "text_vectorizer.adapt(train_sentences)"
      ],
      "execution_count": 153,
      "outputs": []
    },
    {
      "cell_type": "code",
      "metadata": {
        "colab": {
          "base_uri": "https://localhost:8080/"
        },
        "id": "fQk2DAEIAU3o",
        "outputId": "c7dbcf1c-dd20-448b-a210-4d0842b04a19"
      },
      "source": [
        "# Our max_length is set as 15 and our sentence only have 7 words. The rest of the 8 remaining words are padded with 0s.\n",
        "sample_sentence = 'There is a flood in Bukit Timah'\n",
        "text_vectorizer(sample_sentence)"
      ],
      "execution_count": 154,
      "outputs": [
        {
          "output_type": "execute_result",
          "data": {
            "text/plain": [
              "<tf.Tensor: shape=(15,), dtype=int64, numpy=\n",
              "array([ 74,   9,   3, 232,   4,   1,   1,   0,   0,   0,   0,   0,   0,\n",
              "         0,   0])>"
            ]
          },
          "metadata": {},
          "execution_count": 154
        }
      ]
    },
    {
      "cell_type": "code",
      "metadata": {
        "colab": {
          "base_uri": "https://localhost:8080/"
        },
        "id": "fw94BLWBA2OO",
        "outputId": "8d17474b-2db9-4230-fa7f-b13ed1a4ad1b"
      },
      "source": [
        "# Visualing random sentence from our training dataset.\n",
        "random_sentence = random.choice(train_sentences)\n",
        "print(f'Originial Sentence: {random_sentence}')\n",
        "print('--------')\n",
        "print(f'Vectorized Sentence: {text_vectorizer(random_sentence)}')"
      ],
      "execution_count": 155,
      "outputs": [
        {
          "output_type": "stream",
          "text": [
            "Originial Sentence: Roof collapsed a bowling alley many in the community remember going to for more than 30 years @KEZI9 http://t.co/sAhbhLXsSh\n",
            "--------\n",
            "Vectorized Sentence: [1773  439    3 4067    1  123    4    2 1540  594  104    5   10   51\n",
            "   76]\n"
          ],
          "name": "stdout"
        }
      ]
    },
    {
      "cell_type": "code",
      "metadata": {
        "colab": {
          "base_uri": "https://localhost:8080/"
        },
        "id": "fCvRLlvsBtxI",
        "outputId": "04ed628f-f981-43ce-9dbf-127cbc544fc8"
      },
      "source": [
        "# Checking the unique vocabulary\n",
        "word_in_vocab = text_vectorizer.get_vocabulary()\n",
        "print(f'Top 10 words: {word_in_vocab[:10]}')\n",
        "print(f'Bottom 10 words: {word_in_vocab[-10:]}')"
      ],
      "execution_count": 156,
      "outputs": [
        {
          "output_type": "stream",
          "text": [
            "Top 10 words: ['', '[UNK]', 'the', 'a', 'in', 'to', 'of', 'and', 'i', 'is']\n",
            "Bottom 10 words: ['painthey', 'painful', 'paine', 'paging', 'pageshi', 'pages', 'paeds', 'pads', 'padres', 'paddytomlinson1']\n"
          ],
          "name": "stdout"
        }
      ]
    },
    {
      "cell_type": "markdown",
      "metadata": {
        "id": "YkIGwXxaANpc"
      },
      "source": [
        "#### 1.3.2 Embedding\n",
        "___\n",
        "\n",
        "* Key Parameters for embedding layer:\n",
        "  - `input_dim` = size of our vocab\n",
        "  - `output_dim` = size of our output embedding vector. A value of 100 would mean each token get represented by a vector 100 long\n",
        "  - `input_length` = length of the sequences being passed to the embedding layer"
      ]
    },
    {
      "cell_type": "code",
      "metadata": {
        "colab": {
          "base_uri": "https://localhost:8080/"
        },
        "id": "on_rl4ZmeQAy",
        "outputId": "815bde28-1cd7-463e-c772-719b5d39a2a3"
      },
      "source": [
        "embedding = tf.keras.layers.Embedding(input_dim = max_vocab_length,\n",
        "                                      output_dim = 128,\n",
        "                                      input_length = max_length)\n",
        "embedding"
      ],
      "execution_count": 157,
      "outputs": [
        {
          "output_type": "execute_result",
          "data": {
            "text/plain": [
              "<keras.layers.embeddings.Embedding at 0x7f2eef194fd0>"
            ]
          },
          "metadata": {},
          "execution_count": 157
        }
      ]
    },
    {
      "cell_type": "code",
      "metadata": {
        "colab": {
          "base_uri": "https://localhost:8080/"
        },
        "id": "AX1styRUennc",
        "outputId": "7349b7ad-86fc-4a91-bac6-97d5aefba41a"
      },
      "source": [
        "# Visualing random sentence from our training dataset.\n",
        "random_sentence = random.choice(train_sentences)\n",
        "\n",
        "print(f'Original Sentence : {random_sentence}')\n",
        "print('--------')\n",
        "print(f'Embedded Sentence : {embedding(text_vectorizer(random_sentence)).shape}')\n",
        "print(f'Embedded Sentence : {embedding(text_vectorizer(random_sentence))}')"
      ],
      "execution_count": 158,
      "outputs": [
        {
          "output_type": "stream",
          "text": [
            "Original Sentence : my school just put the evacuation alarms on accidently with 2 different trial exams happening are you kidding me\n",
            "--------\n",
            "Embedded Sentence : (15, 128)\n",
            "Embedded Sentence : [[ 0.02008813  0.02426716  0.00856415 ...  0.04177744 -0.03308376\n",
            "   0.04519632]\n",
            " [-0.03625976  0.02497682  0.03676352 ...  0.04159256 -0.00940251\n",
            "  -0.04070119]\n",
            " [ 0.00614863 -0.04565636 -0.04848944 ... -0.01220351  0.03431812\n",
            "  -0.02314569]\n",
            " ...\n",
            " [-0.00281845  0.03760764 -0.03954209 ...  0.0362852  -0.01278483\n",
            "   0.02718944]\n",
            " [ 0.02851376 -0.00032163  0.02226352 ... -0.02951096  0.00688358\n",
            "  -0.01408608]\n",
            " [-0.02041154 -0.01500582 -0.04919515 ...  0.00630901 -0.03791144\n",
            "   0.0470585 ]]\n"
          ],
          "name": "stdout"
        }
      ]
    },
    {
      "cell_type": "markdown",
      "metadata": {
        "id": "pc53FaxCetLs"
      },
      "source": [
        "### 1.4 Model 0 : Baseline Model with Naive Bayes with TF_IDF encoder\n",
        "___\n",
        "\n",
        "* Model 0 : Naive Bayes with TF-IDF encoder\n",
        "* Model 1 : Feed-Forward neural network (dense)\n",
        "* Model 2 : LSTM model (RNN)\n",
        "* Model 3 : GRU model (RNN)\n",
        "* Model 4 : Bidirectional - LSTM model (RNN)\n",
        "* Model 5 : 1D CNN\n",
        "* Model 6 : TF Hub Pretrained Feature Extractor\n",
        "* Model 7 : TF Hub Pretrained Feature Extractor with 10% data."
      ]
    },
    {
      "cell_type": "code",
      "metadata": {
        "colab": {
          "base_uri": "https://localhost:8080/"
        },
        "id": "i6MvfWqqjGUL",
        "outputId": "42c555f6-c678-41c5-af6b-ab6e7ed13fdf"
      },
      "source": [
        "model_0 = Pipeline([\n",
        "                    ('tfidf' , TfidfVectorizer()), # convert words to numbers using tfidf\n",
        "                    ('clf' , MultinomialNB()) #model the text\n",
        "])\n",
        "\n",
        "model_0.fit(train_sentences , train_label)"
      ],
      "execution_count": 159,
      "outputs": [
        {
          "output_type": "execute_result",
          "data": {
            "text/plain": [
              "Pipeline(memory=None,\n",
              "         steps=[('tfidf',\n",
              "                 TfidfVectorizer(analyzer='word', binary=False,\n",
              "                                 decode_error='strict',\n",
              "                                 dtype=<class 'numpy.float64'>,\n",
              "                                 encoding='utf-8', input='content',\n",
              "                                 lowercase=True, max_df=1.0, max_features=None,\n",
              "                                 min_df=1, ngram_range=(1, 1), norm='l2',\n",
              "                                 preprocessor=None, smooth_idf=True,\n",
              "                                 stop_words=None, strip_accents=None,\n",
              "                                 sublinear_tf=False,\n",
              "                                 token_pattern='(?u)\\\\b\\\\w\\\\w+\\\\b',\n",
              "                                 tokenizer=None, use_idf=True,\n",
              "                                 vocabulary=None)),\n",
              "                ('clf',\n",
              "                 MultinomialNB(alpha=1.0, class_prior=None, fit_prior=True))],\n",
              "         verbose=False)"
            ]
          },
          "metadata": {},
          "execution_count": 159
        }
      ]
    },
    {
      "cell_type": "code",
      "metadata": {
        "id": "0kSED-LejjpK"
      },
      "source": [
        "# Baseline model score\n",
        "model_0.score(val_sentences , val_label)\n",
        "model_0_preds = model_0.predict(val_sentences)"
      ],
      "execution_count": 160,
      "outputs": []
    },
    {
      "cell_type": "code",
      "metadata": {
        "colab": {
          "base_uri": "https://localhost:8080/"
        },
        "id": "ZFvNGMtfl5aj",
        "outputId": "4fd4ade5-3c55-4250-fa31-c7ec80fbfd4a"
      },
      "source": [
        "eval_classification(y_true = val_label , y_pred = model_0_preds)"
      ],
      "execution_count": 161,
      "outputs": [
        {
          "output_type": "execute_result",
          "data": {
            "text/plain": [
              "{'Accuracy': 0.7926509186351706,\n",
              " 'F1 Score': 0.734006734006734,\n",
              " 'Precision': 0.8861788617886179,\n",
              " 'Recall': 0.6264367816091954}"
            ]
          },
          "metadata": {},
          "execution_count": 161
        }
      ]
    },
    {
      "cell_type": "markdown",
      "metadata": {
        "id": "MYL7vKHCmAk6"
      },
      "source": [
        "### 1.5 Model 1 : Feed Forward Neural Network\n",
        "___"
      ]
    },
    {
      "cell_type": "code",
      "metadata": {
        "id": "R8frA0hfog6a"
      },
      "source": [
        "# Build model with the functional API\n",
        "\n",
        "inputs = layers.Input(shape = (1,) , dtype = tf.string) # inputs are 1-D strings\n",
        "x = text_vectorizer(inputs) # turn the text into numbers\n",
        "x = embedding(x) # create an embedding \n",
        "# x = layers.GlobalAveragePooling1D()(x) # condense the feature vector for each token\n",
        "outputs = layers.Dense(1 , activation = 'sigmoid')(x)\n",
        "model_1 = tf.keras.Model(inputs = inputs , outputs = outputs , name ='model_1')"
      ],
      "execution_count": 162,
      "outputs": []
    },
    {
      "cell_type": "code",
      "metadata": {
        "colab": {
          "base_uri": "https://localhost:8080/"
        },
        "id": "8a4x8O6tro-K",
        "outputId": "363aa64a-6888-4109-d87e-682fc8126f20"
      },
      "source": [
        "# Observed that the output layer is not 1 output , but somehow related to our token count.\n",
        "model_1.summary()"
      ],
      "execution_count": 163,
      "outputs": [
        {
          "output_type": "stream",
          "text": [
            "Model: \"model_1\"\n",
            "_________________________________________________________________\n",
            "Layer (type)                 Output Shape              Param #   \n",
            "=================================================================\n",
            "input_17 (InputLayer)        [(None, 1)]               0         \n",
            "_________________________________________________________________\n",
            "text_vectorization_2 (TextVe (None, 15)                0         \n",
            "_________________________________________________________________\n",
            "embedding_2 (Embedding)      (None, 15, 128)           1280000   \n",
            "_________________________________________________________________\n",
            "dense_19 (Dense)             (None, 15, 1)             129       \n",
            "=================================================================\n",
            "Total params: 1,280,129\n",
            "Trainable params: 1,280,129\n",
            "Non-trainable params: 0\n",
            "_________________________________________________________________\n"
          ],
          "name": "stdout"
        }
      ]
    },
    {
      "cell_type": "code",
      "metadata": {
        "id": "ahw1_AM-u2yq"
      },
      "source": [
        "# Build model with the functional API\n",
        "\n",
        "inputs = layers.Input(shape = (1,) , dtype = tf.string) # inputs are 1-D strings\n",
        "x = text_vectorizer(inputs) # turn the text into numbers\n",
        "x = embedding(x) # create an embedding \n",
        "x = layers.GlobalAveragePooling1D()(x) # condense the feature vector for each token\n",
        "outputs = layers.Dense(1 , activation = 'sigmoid')(x)\n",
        "model_1 = tf.keras.Model(inputs = inputs , outputs = outputs , name ='model_1')"
      ],
      "execution_count": 164,
      "outputs": []
    },
    {
      "cell_type": "code",
      "metadata": {
        "colab": {
          "base_uri": "https://localhost:8080/"
        },
        "id": "oRWn8vgovCyR",
        "outputId": "c047cfbb-6cd2-439f-bc6e-9cf49773c7a3"
      },
      "source": [
        "# Observed that after passing through the Pooling1D , the feature vector for each token is condense into 1 output\n",
        "model_1.summary()"
      ],
      "execution_count": 165,
      "outputs": [
        {
          "output_type": "stream",
          "text": [
            "Model: \"model_1\"\n",
            "_________________________________________________________________\n",
            "Layer (type)                 Output Shape              Param #   \n",
            "=================================================================\n",
            "input_18 (InputLayer)        [(None, 1)]               0         \n",
            "_________________________________________________________________\n",
            "text_vectorization_2 (TextVe (None, 15)                0         \n",
            "_________________________________________________________________\n",
            "embedding_2 (Embedding)      (None, 15, 128)           1280000   \n",
            "_________________________________________________________________\n",
            "global_average_pooling1d_2 ( (None, 128)               0         \n",
            "_________________________________________________________________\n",
            "dense_20 (Dense)             (None, 1)                 129       \n",
            "=================================================================\n",
            "Total params: 1,280,129\n",
            "Trainable params: 1,280,129\n",
            "Non-trainable params: 0\n",
            "_________________________________________________________________\n"
          ],
          "name": "stdout"
        }
      ]
    },
    {
      "cell_type": "code",
      "metadata": {
        "colab": {
          "base_uri": "https://localhost:8080/"
        },
        "id": "_aJ2Bbc6ru2i",
        "outputId": "ed792539-d471-429b-ed5f-2b3e96c1919e"
      },
      "source": [
        "# Tensorboard Save directory\n",
        "save_dir = 'model_logs'\n",
        "\n",
        "model_1.compile(optimizer = tf.keras.optimizers.Adam(),\n",
        "                loss = tf.keras.losses.BinaryCrossentropy(),\n",
        "                metrics = 'accuracy')\n",
        "\n",
        "history_1 = model_1.fit(train_sentences,\n",
        "                        train_label,\n",
        "                        epochs = 5,\n",
        "                        validation_data = (val_sentences, val_label),\n",
        "                        callbacks = [create_tensorboard_callback(dir_name = save_dir , \n",
        "                                                                 experiment_name = 'model_1_Dense')])"
      ],
      "execution_count": 166,
      "outputs": [
        {
          "output_type": "stream",
          "text": [
            "Saving Tensorboard log files to model_logs/model_1_Dense/20210827-051545\n",
            "Epoch 1/5\n",
            "215/215 [==============================] - 6s 22ms/step - loss: 0.6132 - accuracy: 0.6887 - val_loss: 0.5403 - val_accuracy: 0.7467\n",
            "Epoch 2/5\n",
            "215/215 [==============================] - 4s 19ms/step - loss: 0.4424 - accuracy: 0.8183 - val_loss: 0.4726 - val_accuracy: 0.7874\n",
            "Epoch 3/5\n",
            "215/215 [==============================] - 4s 19ms/step - loss: 0.3469 - accuracy: 0.8586 - val_loss: 0.4585 - val_accuracy: 0.7940\n",
            "Epoch 4/5\n",
            "215/215 [==============================] - 4s 19ms/step - loss: 0.2840 - accuracy: 0.8905 - val_loss: 0.4634 - val_accuracy: 0.7874\n",
            "Epoch 5/5\n",
            "215/215 [==============================] - 4s 19ms/step - loss: 0.2375 - accuracy: 0.9132 - val_loss: 0.4815 - val_accuracy: 0.7822\n"
          ],
          "name": "stdout"
        }
      ]
    },
    {
      "cell_type": "code",
      "metadata": {
        "colab": {
          "base_uri": "https://localhost:8080/"
        },
        "id": "4RAgod49tEzo",
        "outputId": "1e5f1612-de6e-4acf-c595-59afb1c9c525"
      },
      "source": [
        "# Model 1 Score\n",
        "model_1.evaluate(val_sentences , val_label)"
      ],
      "execution_count": 167,
      "outputs": [
        {
          "output_type": "stream",
          "text": [
            "24/24 [==============================] - 0s 3ms/step - loss: 0.4815 - accuracy: 0.7822\n"
          ],
          "name": "stdout"
        },
        {
          "output_type": "execute_result",
          "data": {
            "text/plain": [
              "[0.48147666454315186, 0.7821522355079651]"
            ]
          },
          "metadata": {},
          "execution_count": 167
        }
      ]
    },
    {
      "cell_type": "code",
      "metadata": {
        "colab": {
          "base_uri": "https://localhost:8080/"
        },
        "id": "GgTEcb_AtmTK",
        "outputId": "0e134c06-9c65-4dea-9205-f3ee1cec80e8"
      },
      "source": [
        "# Checking test_prediction with actual label\n",
        "model_1_preds = model_1.predict(val_sentences)\n",
        "print(f' Sample Test Prediction : {model_1_preds[-10:]}')\n",
        "print('----------------------')\n",
        "print(f' Actual Label : {val_label[-10:]}')"
      ],
      "execution_count": 168,
      "outputs": [
        {
          "output_type": "stream",
          "text": [
            " Sample Test Prediction : [[0.9880214 ]\n",
            " [0.02759576]\n",
            " [0.9007293 ]\n",
            " [0.74551964]\n",
            " [0.08092564]\n",
            " [0.35062972]\n",
            " [0.11417606]\n",
            " [0.81170136]\n",
            " [0.38541162]\n",
            " [0.01060382]]\n",
            "----------------------\n",
            " Actual Label : [1 0 1 1 0 0 0 0 0 0]\n"
          ],
          "name": "stdout"
        }
      ]
    },
    {
      "cell_type": "code",
      "metadata": {
        "colab": {
          "base_uri": "https://localhost:8080/"
        },
        "id": "hgCzTDUSuIBS",
        "outputId": "b519deed-45ed-4558-cf75-2242004359dc"
      },
      "source": [
        "# formatting test prediction to 0 and 1 format\n",
        "\n",
        "model_1_preds = tf.squeeze(tf.round(model_1_preds))\n",
        "model_1_preds[:10]"
      ],
      "execution_count": 169,
      "outputs": [
        {
          "output_type": "execute_result",
          "data": {
            "text/plain": [
              "<tf.Tensor: shape=(10,), dtype=float32, numpy=array([0., 1., 1., 0., 0., 1., 1., 1., 1., 0.], dtype=float32)>"
            ]
          },
          "metadata": {},
          "execution_count": 169
        }
      ]
    },
    {
      "cell_type": "code",
      "metadata": {
        "colab": {
          "base_uri": "https://localhost:8080/"
        },
        "id": "pzmkjhUVwjTp",
        "outputId": "b8fc2267-ad5b-4878-9df6-6ecd273b782b"
      },
      "source": [
        "model_1_results = eval_classification(val_label , model_1_preds)\n",
        "model_1_results"
      ],
      "execution_count": 170,
      "outputs": [
        {
          "output_type": "execute_result",
          "data": {
            "text/plain": [
              "{'Accuracy': 0.7821522309711286,\n",
              " 'F1 Score': 0.7389937106918238,\n",
              " 'Precision': 0.8159722222222222,\n",
              " 'Recall': 0.6752873563218391}"
            ]
          },
          "metadata": {},
          "execution_count": 170
        }
      ]
    },
    {
      "cell_type": "markdown",
      "metadata": {
        "id": "0JTfvkbzzJnB"
      },
      "source": [
        "#### 1.5.1 Visualing via tensorflow projector\n",
        "___\n",
        "- [Tensorflow Projector](https://projector.tensorflow.org/)\n",
        "- [Word Embedding](https://www.tensorflow.org/text/guide/word_embeddings)"
      ]
    },
    {
      "cell_type": "code",
      "metadata": {
        "colab": {
          "base_uri": "https://localhost:8080/"
        },
        "id": "O8OoHRtpw-fB",
        "outputId": "fd5ca145-553f-45ab-993b-340e678c52ca"
      },
      "source": [
        "words_in_vocab = text_vectorizer.get_vocabulary()\n",
        "len(words_in_vocab) , words_in_vocab[:10]"
      ],
      "execution_count": 171,
      "outputs": [
        {
          "output_type": "execute_result",
          "data": {
            "text/plain": [
              "(10000, ['', '[UNK]', 'the', 'a', 'in', 'to', 'of', 'and', 'i', 'is'])"
            ]
          },
          "metadata": {},
          "execution_count": 171
        }
      ]
    },
    {
      "cell_type": "code",
      "metadata": {
        "colab": {
          "base_uri": "https://localhost:8080/"
        },
        "id": "ncY1Mfrxx-E5",
        "outputId": "57fa80cf-0de4-410e-9a35-f3aa0a0d4001"
      },
      "source": [
        "# Get the weight matrix of embedding layer\n",
        "# (these are the numerical representation of each token in our training data)\n",
        "# For every unique token or vocab , there is 128 vectors representing it.\n",
        "embed_weights = model_1.get_layer('embedding_2').get_weights()[0]\n",
        "embed_weights.shape"
      ],
      "execution_count": 173,
      "outputs": [
        {
          "output_type": "execute_result",
          "data": {
            "text/plain": [
              "(10000, 128)"
            ]
          },
          "metadata": {},
          "execution_count": 173
        }
      ]
    },
    {
      "cell_type": "code",
      "metadata": {
        "id": "KE-cfiXCyihA"
      },
      "source": [
        "# Create Embedding files (we got this from Tensorflow's word embedding documentation)\n",
        "\n",
        "import io\n",
        "\n",
        "out_v = io.open('vectors.tsv', 'w', encoding='utf-8')\n",
        "out_m = io.open('metadata.tsv', 'w', encoding='utf-8')\n",
        "\n",
        "for index, word in enumerate(words_in_vocab):\n",
        "  if index == 0:\n",
        "    continue  # skip 0, it's padding.\n",
        "  vec = embed_weights[index]\n",
        "  out_v.write('\\t'.join([str(x) for x in vec]) + \"\\n\")\n",
        "  out_m.write(word + \"\\n\")\n",
        "out_v.close()\n",
        "out_m.close()"
      ],
      "execution_count": 174,
      "outputs": []
    },
    {
      "cell_type": "code",
      "metadata": {
        "colab": {
          "base_uri": "https://localhost:8080/",
          "height": 50
        },
        "id": "IVBz_V530Eun",
        "outputId": "dc362fb8-a203-4da5-cdaa-3a5497b05e0c"
      },
      "source": [
        "# Download file from Colab to upload to projector (we got this from Tensorflow's word embedding documentation)\n",
        "try:\n",
        "  from google.colab import files\n",
        "  files.download('vectors.tsv')\n",
        "  files.download('metadata.tsv')\n",
        "except Exception:\n",
        "  pass"
      ],
      "execution_count": 175,
      "outputs": [
        {
          "output_type": "display_data",
          "data": {
            "application/javascript": [
              "\n",
              "    async function download(id, filename, size) {\n",
              "      if (!google.colab.kernel.accessAllowed) {\n",
              "        return;\n",
              "      }\n",
              "      const div = document.createElement('div');\n",
              "      const label = document.createElement('label');\n",
              "      label.textContent = `Downloading \"${filename}\": `;\n",
              "      div.appendChild(label);\n",
              "      const progress = document.createElement('progress');\n",
              "      progress.max = size;\n",
              "      div.appendChild(progress);\n",
              "      document.body.appendChild(div);\n",
              "\n",
              "      const buffers = [];\n",
              "      let downloaded = 0;\n",
              "\n",
              "      const channel = await google.colab.kernel.comms.open(id);\n",
              "      // Send a message to notify the kernel that we're ready.\n",
              "      channel.send({})\n",
              "\n",
              "      for await (const message of channel.messages) {\n",
              "        // Send a message to notify the kernel that we're ready.\n",
              "        channel.send({})\n",
              "        if (message.buffers) {\n",
              "          for (const buffer of message.buffers) {\n",
              "            buffers.push(buffer);\n",
              "            downloaded += buffer.byteLength;\n",
              "            progress.value = downloaded;\n",
              "          }\n",
              "        }\n",
              "      }\n",
              "      const blob = new Blob(buffers, {type: 'application/binary'});\n",
              "      const a = document.createElement('a');\n",
              "      a.href = window.URL.createObjectURL(blob);\n",
              "      a.download = filename;\n",
              "      div.appendChild(a);\n",
              "      a.click();\n",
              "      div.remove();\n",
              "    }\n",
              "  "
            ],
            "text/plain": [
              "<IPython.core.display.Javascript object>"
            ]
          },
          "metadata": {}
        },
        {
          "output_type": "display_data",
          "data": {
            "application/javascript": [
              "download(\"download_d92bdaa3-34bb-4dc5-8215-677acb493f2f\", \"vectors.tsv\", 15373476)"
            ],
            "text/plain": [
              "<IPython.core.display.Javascript object>"
            ]
          },
          "metadata": {}
        },
        {
          "output_type": "display_data",
          "data": {
            "application/javascript": [
              "\n",
              "    async function download(id, filename, size) {\n",
              "      if (!google.colab.kernel.accessAllowed) {\n",
              "        return;\n",
              "      }\n",
              "      const div = document.createElement('div');\n",
              "      const label = document.createElement('label');\n",
              "      label.textContent = `Downloading \"${filename}\": `;\n",
              "      div.appendChild(label);\n",
              "      const progress = document.createElement('progress');\n",
              "      progress.max = size;\n",
              "      div.appendChild(progress);\n",
              "      document.body.appendChild(div);\n",
              "\n",
              "      const buffers = [];\n",
              "      let downloaded = 0;\n",
              "\n",
              "      const channel = await google.colab.kernel.comms.open(id);\n",
              "      // Send a message to notify the kernel that we're ready.\n",
              "      channel.send({})\n",
              "\n",
              "      for await (const message of channel.messages) {\n",
              "        // Send a message to notify the kernel that we're ready.\n",
              "        channel.send({})\n",
              "        if (message.buffers) {\n",
              "          for (const buffer of message.buffers) {\n",
              "            buffers.push(buffer);\n",
              "            downloaded += buffer.byteLength;\n",
              "            progress.value = downloaded;\n",
              "          }\n",
              "        }\n",
              "      }\n",
              "      const blob = new Blob(buffers, {type: 'application/binary'});\n",
              "      const a = document.createElement('a');\n",
              "      a.href = window.URL.createObjectURL(blob);\n",
              "      a.download = filename;\n",
              "      div.appendChild(a);\n",
              "      a.click();\n",
              "      div.remove();\n",
              "    }\n",
              "  "
            ],
            "text/plain": [
              "<IPython.core.display.Javascript object>"
            ]
          },
          "metadata": {}
        },
        {
          "output_type": "display_data",
          "data": {
            "application/javascript": [
              "download(\"download_edeadd99-66ca-4114-a403-9a8702213d2a\", \"metadata.tsv\", 80388)"
            ],
            "text/plain": [
              "<IPython.core.display.Javascript object>"
            ]
          },
          "metadata": {}
        }
      ]
    },
    {
      "cell_type": "markdown",
      "metadata": {
        "id": "4PLdT6zx3V-Z"
      },
      "source": [
        "<p align = 'center'>\n",
        "  Extract from Tensorflow Projector for Model_1 (Load Vector.tsv and metadata.tsv)\n",
        "  <img src = 'https://raw.githubusercontent.com/86lekwenshiung/Neural-Network-with-Tensorflow/main/images/08-tf_projector.png'>\n",
        "</p>"
      ]
    },
    {
      "cell_type": "markdown",
      "metadata": {
        "id": "ZoTsK9XG4CAu"
      },
      "source": [
        "### 1.6 Model 2 : LSTM (Long Short Term Memory)\n",
        "___\n",
        "\n",
        "One Simplified typical Structure of an RNN :\n",
        "```\n",
        "Input (text) -> Tokenize -> Embedding -> Layers (RNNs / Dense) -> Output (label probability)\n",
        "```\n",
        "\n",
        "**Input non-linear function for RNN is `tanh`**\n",
        " - Compared to sigmoid, tanh squeezes the input and passes through the origin.\n"
      ]
    },
    {
      "cell_type": "code",
      "metadata": {
        "colab": {
          "base_uri": "https://localhost:8080/",
          "height": 715
        },
        "id": "OeBgfBaR1e_E",
        "outputId": "f1e0f802-2c1e-44ed-c9be-694e16916652"
      },
      "source": [
        "\n",
        "import tensorflow as tf\n",
        "import matplotlib.pyplot as plt\n",
        "# Passing a linear range\n",
        "sample_linear = tf.range(-10,11 , dtype = tf.float32)\n",
        "\n",
        "# \n",
        "def sigmoid(x):\n",
        "  return 1/(1+tf.exp(-x))\n",
        "\n",
        "def relu(x):\n",
        "  return tf.maximum(0 , x)\n",
        "\n",
        "def tanh(x):\n",
        "  return (np.exp(x) - np.exp(-x))/(np.exp(x) + np.exp(-x))\n",
        "\n",
        "\n",
        "# Passing linear range via the sigmoid and relu function\n",
        "sample_sigmoid = sigmoid(sample_linear)\n",
        "sample_relu = relu(sample_linear)\n",
        "sample_tanh = tanh(sample_linear)\n",
        "\n",
        "plt.figure(figsize = (8 , 12))\n",
        "\n",
        "# Linear Activation - Same as Linear line\n",
        "plt.subplot(2,2,1)\n",
        "plt.plot(sample_linear)\n",
        "plt.title('Linear Sample')\n",
        "\n",
        "# Sigmoid Activation\n",
        "plt.subplot(2,2,2)\n",
        "plt.plot(sample_linear , sample_sigmoid)\n",
        "plt.title('Sigmoid Sample')\n",
        "\n",
        "# ReLU Activation\n",
        "plt.subplot(2,2,3)\n",
        "plt.plot(sample_linear , sample_relu)\n",
        "plt.title('ReLU Sample');\n",
        "\n",
        "# tanh Activation\n",
        "plt.subplot(2,2,4)\n",
        "plt.plot(sample_linear , sample_tanh)\n",
        "plt.title('tanh Sample');"
      ],
      "execution_count": 176,
      "outputs": [
        {
          "output_type": "display_data",
          "data": {
            "image/png": "[encoded data removed]",
            "text/plain": [
              "<Figure size 576x864 with 4 Axes>"
            ]
          },
          "metadata": {
            "needs_background": "light"
          }
        }
      ]
    },
    {
      "cell_type": "code",
      "metadata": {
        "colab": {
          "base_uri": "https://localhost:8080/"
        },
        "id": "ZAYx3sl3u2qp",
        "outputId": "b26d357d-aadb-4ce6-b375-b1d8f2341c1d"
      },
      "source": [
        "import tensorflow as tf\n",
        "from tensorflow.keras import layers\n",
        "\n",
        "inputs = layers.Input(shape = (1,) , dtype = 'string') # inputs are 1D String\n",
        "x = text_vectorizer(inputs)\n",
        "x = embedding(x)\n",
        "print(x.shape)\n",
        "x = layers.LSTM(units = 64 , return_sequences = True)(x) \n",
        "print(x.shape)\n",
        "x = layers.LSTM(64)(x) # RNN is recurring , so it take it previous loop. Have to be same as previous\n",
        "print(x.shape)\n",
        "# x = layers.Dense(64 , activation = 'relu')(x)\n",
        "# print(x.shape)\n",
        "outputs = layers.Dense(1 , activation = 'sigmoid')(x)\n",
        "model_2 = tf.keras.Model(inputs = inputs , outputs = outputs , name= 'model_2')"
      ],
      "execution_count": 177,
      "outputs": [
        {
          "output_type": "stream",
          "text": [
            "(None, 15, 128)\n",
            "(None, 15, 64)\n",
            "(None, 64)\n"
          ],
          "name": "stdout"
        }
      ]
    },
    {
      "cell_type": "code",
      "metadata": {
        "colab": {
          "base_uri": "https://localhost:8080/"
        },
        "id": "eVFcsakrvT-D",
        "outputId": "b444e738-16bc-4162-bb89-4ba3d10c0670"
      },
      "source": [
        "model_2.summary()"
      ],
      "execution_count": 178,
      "outputs": [
        {
          "output_type": "stream",
          "text": [
            "Model: \"model_2\"\n",
            "_________________________________________________________________\n",
            "Layer (type)                 Output Shape              Param #   \n",
            "=================================================================\n",
            "input_19 (InputLayer)        [(None, 1)]               0         \n",
            "_________________________________________________________________\n",
            "text_vectorization_2 (TextVe (None, 15)                0         \n",
            "_________________________________________________________________\n",
            "embedding_2 (Embedding)      (None, 15, 128)           1280000   \n",
            "_________________________________________________________________\n",
            "lstm_21 (LSTM)               (None, 15, 64)            49408     \n",
            "_________________________________________________________________\n",
            "lstm_22 (LSTM)               (None, 64)                33024     \n",
            "_________________________________________________________________\n",
            "dense_21 (Dense)             (None, 1)                 65        \n",
            "=================================================================\n",
            "Total params: 1,362,497\n",
            "Trainable params: 1,362,497\n",
            "Non-trainable params: 0\n",
            "_________________________________________________________________\n"
          ],
          "name": "stdout"
        }
      ]
    },
    {
      "cell_type": "code",
      "metadata": {
        "colab": {
          "base_uri": "https://localhost:8080/"
        },
        "id": "_nBs2ws5y_fy",
        "outputId": "ef63947a-259c-4a2a-8455-5ed34f18e56c"
      },
      "source": [
        "model_2.compile(optimizer= tf.keras.optimizers.Adam(),\n",
        "                loss = tf.keras.losses.BinaryCrossentropy(),\n",
        "                metrics = 'accuracy')\n",
        "\n",
        "history_2 = model_2.fit(train_sentences,\n",
        "                        train_label,\n",
        "                        epochs = 5,\n",
        "                        callbacks = [create_tensorboard_callback(dir_name = save_dir,\n",
        "                                                                 experiment_name = 'model_2_LSTM')],\n",
        "                        validation_data = (val_sentences , val_label))"
      ],
      "execution_count": 179,
      "outputs": [
        {
          "output_type": "stream",
          "text": [
            "Saving Tensorboard log files to model_logs/model_2_LSTM/20210827-051643\n",
            "Epoch 1/5\n",
            "215/215 [==============================] - 14s 46ms/step - loss: 0.2138 - accuracy: 0.9228 - val_loss: 0.5488 - val_accuracy: 0.7848\n",
            "Epoch 2/5\n",
            "215/215 [==============================] - 9s 41ms/step - loss: 0.1588 - accuracy: 0.9422 - val_loss: 0.5537 - val_accuracy: 0.7848\n",
            "Epoch 3/5\n",
            "215/215 [==============================] - 9s 41ms/step - loss: 0.1296 - accuracy: 0.9514 - val_loss: 0.6949 - val_accuracy: 0.7848\n",
            "Epoch 4/5\n",
            "215/215 [==============================] - 9s 41ms/step - loss: 0.1043 - accuracy: 0.9603 - val_loss: 0.8389 - val_accuracy: 0.7743\n",
            "Epoch 5/5\n",
            "215/215 [==============================] - 9s 40ms/step - loss: 0.0806 - accuracy: 0.9683 - val_loss: 1.1217 - val_accuracy: 0.7612\n"
          ],
          "name": "stdout"
        }
      ]
    },
    {
      "cell_type": "code",
      "metadata": {
        "colab": {
          "base_uri": "https://localhost:8080/"
        },
        "id": "A9rtB_Flz8nT",
        "outputId": "f807c57d-8ac7-45f8-8c91-d7b4a5eaa75f"
      },
      "source": [
        "# Checking test prediction with actual label\n",
        "model_2_preds = model_2.predict(val_sentences)\n",
        "print(f' Sample Test Prediction : {model_2_preds[-10:]}')\n",
        "print('----------------------')\n",
        "print(f' Actual Label : {val_label[-10:]}')"
      ],
      "execution_count": 180,
      "outputs": [
        {
          "output_type": "stream",
          "text": [
            " Sample Test Prediction : [[9.9996704e-01]\n",
            " [2.1460652e-04]\n",
            " [9.9995768e-01]\n",
            " [9.9946952e-01]\n",
            " [5.1054358e-02]\n",
            " [1.6627160e-01]\n",
            " [4.6833014e-01]\n",
            " [9.5812774e-01]\n",
            " [3.6590901e-01]\n",
            " [1.9496679e-04]]\n",
            "----------------------\n",
            " Actual Label : [1 0 1 1 0 0 0 0 0 0]\n"
          ],
          "name": "stdout"
        }
      ]
    },
    {
      "cell_type": "code",
      "metadata": {
        "colab": {
          "base_uri": "https://localhost:8080/"
        },
        "id": "HGBsx6I20aIy",
        "outputId": "1e4bdf21-c281-434a-c751-1994a260007a"
      },
      "source": [
        "# formatting prediction to 0 and 1 format\n",
        "\n",
        "model_2_preds = tf.squeeze(tf.round(model_2_preds))\n",
        "model_2_preds[:10]"
      ],
      "execution_count": 181,
      "outputs": [
        {
          "output_type": "execute_result",
          "data": {
            "text/plain": [
              "<tf.Tensor: shape=(10,), dtype=float32, numpy=array([0., 1., 1., 0., 0., 1., 1., 1., 1., 0.], dtype=float32)>"
            ]
          },
          "metadata": {},
          "execution_count": 181
        }
      ]
    },
    {
      "cell_type": "code",
      "metadata": {
        "colab": {
          "base_uri": "https://localhost:8080/"
        },
        "id": "kXluGnvb00ca",
        "outputId": "0609d107-1e5f-4798-9bf0-801aa28cfd41"
      },
      "source": [
        "# Getting the results\n",
        "model_2_results = eval_classification(y_pred = model_2_preds, y_true = val_label )\n",
        "model_2_results"
      ],
      "execution_count": 182,
      "outputs": [
        {
          "output_type": "execute_result",
          "data": {
            "text/plain": [
              "{'Accuracy': 0.7611548556430446,\n",
              " 'F1 Score': 0.7369942196531792,\n",
              " 'Precision': 0.7412790697674418,\n",
              " 'Recall': 0.7327586206896551}"
            ]
          },
          "metadata": {},
          "execution_count": 182
        }
      ]
    },
    {
      "cell_type": "markdown",
      "metadata": {
        "id": "3deqENZ01OKy"
      },
      "source": [
        "### 1.7 Model 3 : GRU (Gated Recurrent Network)\n",
        "___\n",
        "\n",
        "Gated recurrent units (GRUs) are a gating mechanism in recurrent neural networks, introduced in 2014 by Kyunghyun Cho et al.The GRU is like a long short-term memory (LSTM) with a forget gate, but has fewer parameters than LSTM, as it lacks an output gate. GRU's performance on certain tasks of polyphonic music modeling, speech signal modeling and natural language processing was found to be similar to that of LSTM. GRUs have been shown to exhibit better performance on certain smaller and less frequent datasets.\n",
        "\n",
        "Source : https://en.wikipedia.org/wiki/Gated_recurrent_unit\n",
        "\n",
        "\n",
        "  - Recap on flow process\n",
        "\n",
        "  ```\n",
        "Input (text) -> Tokenize -> Embedding -> Layers (RNNs / Dense) -> Output (label probability)\n",
        "  ```"
      ]
    },
    {
      "cell_type": "code",
      "metadata": {
        "colab": {
          "base_uri": "https://localhost:8080/"
        },
        "id": "q77aFucFBZsJ",
        "outputId": "e304f302-67b5-4984-9757-f4bb50b7e544"
      },
      "source": [
        "import tensorflow as tf\n",
        "from tensorflow.keras import layers\n",
        "\n",
        "inputs = layers.Input(shape = (1,) , dtype = tf.string)\n",
        "x = text_vectorizer(inputs)\n",
        "x = embedding(x)\n",
        "print(x.shape)\n",
        "x = layers.GRU(64 , return_sequences = True)(x) #return sequence = true if want to stack recurrent layers\n",
        "print(x.shape)\n",
        "x = layers.LSTM(42 , return_sequences = True)(x)\n",
        "print(x.shape)\n",
        "x = layers.GRU(99)(x)\n",
        "print(x.shape)\n",
        "# x = layers.Dense(64 , activation = 'relu')(x)\n",
        "outputs = layers.Dense(1 , activation  = 'sigmoid')(x)\n",
        "model_3 = tf.keras.Model(inputs ,outputs , name = 'model_3')"
      ],
      "execution_count": 220,
      "outputs": [
        {
          "output_type": "stream",
          "text": [
            "(None, 15, 128)\n",
            "(None, 15, 64)\n",
            "(None, 15, 42)\n",
            "(None, 99)\n"
          ],
          "name": "stdout"
        }
      ]
    },
    {
      "cell_type": "code",
      "metadata": {
        "colab": {
          "base_uri": "https://localhost:8080/"
        },
        "id": "vFYGahU6CZpf",
        "outputId": "5419131b-4fd3-4d3c-a957-a37043ffbcda"
      },
      "source": [
        "model_3.summary()"
      ],
      "execution_count": 221,
      "outputs": [
        {
          "output_type": "stream",
          "text": [
            "Model: \"model_3\"\n",
            "_________________________________________________________________\n",
            "Layer (type)                 Output Shape              Param #   \n",
            "=================================================================\n",
            "input_41 (InputLayer)        [(None, 1)]               0         \n",
            "_________________________________________________________________\n",
            "text_vectorization_2 (TextVe (None, 15)                0         \n",
            "_________________________________________________________________\n",
            "embedding_2 (Embedding)      (None, 15, 128)           1280000   \n",
            "_________________________________________________________________\n",
            "gru_33 (GRU)                 (None, 15, 64)            37248     \n",
            "_________________________________________________________________\n",
            "lstm_38 (LSTM)               (None, 15, 42)            17976     \n",
            "_________________________________________________________________\n",
            "gru_34 (GRU)                 (None, 99)                42471     \n",
            "_________________________________________________________________\n",
            "dense_50 (Dense)             (None, 1)                 100       \n",
            "=================================================================\n",
            "Total params: 1,377,795\n",
            "Trainable params: 1,377,795\n",
            "Non-trainable params: 0\n",
            "_________________________________________________________________\n"
          ],
          "name": "stdout"
        }
      ]
    },
    {
      "cell_type": "code",
      "metadata": {
        "colab": {
          "base_uri": "https://localhost:8080/"
        },
        "id": "OCnfQtAfFgYI",
        "outputId": "38612439-a8b8-473f-a477-74114f3046bd"
      },
      "source": [
        "model_3.compile(optimizer = tf.keras.optimizers.Adam(),\n",
        "                loss = tf.keras.losses.BinaryCrossentropy(),\n",
        "                metrics = 'accuracy')\n",
        "\n",
        "history_3 = model_3.fit(train_sentences,\n",
        "                        train_label,\n",
        "                        epochs = 5,\n",
        "                        validation_data = (val_sentences , val_label),\n",
        "                        callbacks = [create_tensorboard_callback(save_dir , 'model_3_GRU')])"
      ],
      "execution_count": null,
      "outputs": [
        {
          "output_type": "stream",
          "text": [
            "Saving Tensorboard log files to model_logs/model_3_GRU/20210827-054330\n",
            "Epoch 1/5\n",
            "215/215 [==============================] - 17s 57ms/step - loss: 0.1048 - accuracy: 0.9663 - val_loss: 1.2822 - val_accuracy: 0.7703\n",
            "Epoch 2/5\n",
            "215/215 [==============================] - 11s 49ms/step - loss: 0.0519 - accuracy: 0.9781 - val_loss: 1.0610 - val_accuracy: 0.7717\n",
            "Epoch 3/5\n",
            "215/215 [==============================] - 11s 50ms/step - loss: 0.0446 - accuracy: 0.9791 - val_loss: 1.3703 - val_accuracy: 0.7782\n",
            "Epoch 4/5\n",
            "215/215 [==============================] - 11s 51ms/step - loss: 0.0407 - accuracy: 0.9799 - val_loss: 1.6539 - val_accuracy: 0.7690\n",
            "Epoch 5/5\n",
            "215/215 [==============================] - 11s 50ms/step - loss: 0.0460 - accuracy: 0.9781 - val_loss: 1.1750 - val_accuracy: 0.7703\n"
          ],
          "name": "stdout"
        }
      ]
    },
    {
      "cell_type": "code",
      "metadata": {
        "id": "q0F3LqjSGIZ4"
      },
      "source": [
        ""
      ],
      "execution_count": null,
      "outputs": []
    }
  ]
}