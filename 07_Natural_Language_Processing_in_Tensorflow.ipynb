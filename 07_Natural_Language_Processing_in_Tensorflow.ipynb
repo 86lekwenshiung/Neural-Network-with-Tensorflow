{
  "nbformat": 4,
  "nbformat_minor": 0,
  "metadata": {
    "colab": {
      "name": "07_Natural_Language_Processing in Tensorflow.ipynb",
      "provenance": [],
      "collapsed_sections": [],
      "toc_visible": true,
      "authorship_tag": "ABX9TyMDpYVKlMEvE//T7pHsGK1K",
      "include_colab_link": true
    },
    "kernelspec": {
      "name": "python3",
      "display_name": "Python 3"
    },
    "language_info": {
      "name": "python"
    }
  },
  "cells": [
    {
      "cell_type": "markdown",
      "metadata": {
        "id": "view-in-github",
        "colab_type": "text"
      },
      "source": [
        "<a href=\"https://colab.research.google.com/github/86lekwenshiung/Neural-Network-with-Tensorflow/blob/main/07_Natural_Language_Processing_in_Tensorflow.ipynb\" target=\"_parent\"><img src=\"https://colab.research.google.com/assets/colab-badge.svg\" alt=\"Open In Colab\"/></a>"
      ]
    },
    {
      "cell_type": "markdown",
      "metadata": {
        "id": "eim5-c54xWMJ"
      },
      "source": [
        "# 0.0 Natural Language Processing in Tensorflow\n",
        "___\n",
        "\n",
        "The main goal of natural language processing (NLP) is to derive information from natural language.\n",
        "Natural language is a broad term but you can consider it to cover any of the following:\n",
        "* Text (such as that contained in an email, blog post, book, Tweet)\n",
        "* Speech (a conversation you have with a doctor, voice commands you give to a smart speaker)\n",
        "\n",
        "**What is NLP used for?**\n",
        "\n",
        "Natural Language Processing is the driving force behind the following common applications:\n",
        "* Language translation applications such as Google Translate\n",
        "* Word Processors such as Microsoft Word and Grammarly that employ NLP to check grammatical accuracy of texts.\n",
        "* Interactive Voice Response (IVR) applications used in call centers to respond to certain users’ requests.\n",
        "* Personal assistant applications such as OK Google, Siri, Cortana, and Alexa.\n",
        "\n",
        "**Workflow**\n",
        "```\n",
        "Download text -> Visualize Text -> turn into numbers (tokenization , embedding) -> build a model -> train the model to find patterns -> compare model -> ensemble model\n",
        "```\n",
        "\n",
        "Another common term for NLP problems is sequence to sequence problems(seq2seq)\n",
        "\n",
        "**Typical Architecture of a RNN**\n",
        "\n",
        "| Hyperparameter/Layer type | What does it do? | Typical values |\n",
        "|---|---|---|\n",
        "| Input text(s) | Target texts/sequences you'd like to discover patterns in | Whatever you can represent as text or a sequence |\n",
        "| Input layer | Takes in target sequence | input_shape = [batch_size, embedding_size] or [batch_size , sequence_shape] |\n",
        "| Text Vectorisation layer | Maps input sequence to layers | Multiple, can create with tf.keras.layers.preprocessing.TextVectorisation |\n",
        "| Embedding | Turn mapping of text vectors to embedding matrix | Multiple, can create with tf.keras.layers.Embedding |\n",
        "| RNN Cells | Find Pattern in Sequences | SimpleRNN , LSTM , GRU |\n",
        "| Hidden activation | Adds non-linearity to learned features (non-straight lines) | Usually Tanh (tf.keras.activations.tanh) |\n",
        "| Pooling layer | Reduces the dimensionality of learned image features | Average (tf.keras.layers.GlobalAveragePooling1D) or Max (tf.keras.layers.GlobalMaxPool1D) |\n",
        "| Fully connected layer | Further refines learned features from convolution layers | tf.keras.layers.Dense |\n",
        "| Output layer | Takes learned features and outputs them in shape of target labels | output_shape = [number_of_classes] (e.g. disaster , Not Disaster) |\n",
        "| Output activation | Adds non-linearities to output layer | tf.keras.activations.sigmoid (binary classification) or tf.keras.activations.softmax |\n",
        "\n",
        "\n",
        "`source` : \n",
        "* https://towardsdatascience.com/whatnlpscientistsdo-905aa987c5c0\n",
        "* https://becominghuman.ai/a-simple-introduction-to-natural-language-processing-ea66a1747b32\n",
        "* https://blog.insightdatascience.com/how-to-solve-90-of-nlp-problems-a-step-by-step-guide-fda605278e4e\n"
      ]
    },
    {
      "cell_type": "code",
      "metadata": {
        "id": "OFzwy8N6F6Go"
      },
      "source": [
        "import pandas as pd\n",
        "import numpy as np\n",
        "import random\n",
        "\n",
        "from sklearn.model_selection import train_test_split\n",
        "\n",
        "import zipfile\n",
        "import os"
      ],
      "execution_count": 64,
      "outputs": []
    },
    {
      "cell_type": "markdown",
      "metadata": {
        "id": "Lmsa-gdhyC96"
      },
      "source": [
        "# 1.0 Getting Data from kaggle (Natural Language Processing with Disaster Tweets)\n",
        "___\n",
        "\n",
        "source : https://www.kaggle.com/philculliton/nlp-getting-started-tutorial"
      ]
    },
    {
      "cell_type": "code",
      "metadata": {
        "colab": {
          "base_uri": "https://localhost:8080/"
        },
        "id": "uqcke9JRFHR1",
        "outputId": "9eed9bc8-fc69-478e-86a7-81bba341d7b2"
      },
      "source": [
        "!wget https://storage.googleapis.com/ztm_tf_course/nlp_getting_started.zip"
      ],
      "execution_count": 2,
      "outputs": [
        {
          "output_type": "stream",
          "text": [
            "--2021-08-25 18:16:18--  https://storage.googleapis.com/ztm_tf_course/nlp_getting_started.zip\n",
            "Resolving storage.googleapis.com (storage.googleapis.com)... 172.253.114.128, 172.253.119.128, 108.177.111.128, ...\n",
            "Connecting to storage.googleapis.com (storage.googleapis.com)|172.253.114.128|:443... connected.\n",
            "HTTP request sent, awaiting response... 200 OK\n",
            "Length: 607343 (593K) [application/zip]\n",
            "Saving to: ‘nlp_getting_started.zip’\n",
            "\n",
            "\rnlp_getting_started   0%[                    ]       0  --.-KB/s               \rnlp_getting_started 100%[===================>] 593.11K  --.-KB/s    in 0.006s  \n",
            "\n",
            "2021-08-25 18:16:18 (101 MB/s) - ‘nlp_getting_started.zip’ saved [607343/607343]\n",
            "\n"
          ],
          "name": "stdout"
        }
      ]
    },
    {
      "cell_type": "code",
      "metadata": {
        "id": "Mr-wTtW6F4CP"
      },
      "source": [
        "# Unzip file\n",
        "zip_ref = zipfile.ZipFile('nlp_getting_started.zip')\n",
        "zip_ref.extractall()\n",
        "zip_ref.close()"
      ],
      "execution_count": 3,
      "outputs": []
    },
    {
      "cell_type": "code",
      "metadata": {
        "id": "zJbl6bVkGPlB"
      },
      "source": [
        "df_train = pd.read_csv('train.csv')\n",
        "df_test = pd.read_csv('test.csv')"
      ],
      "execution_count": 4,
      "outputs": []
    },
    {
      "cell_type": "markdown",
      "metadata": {
        "id": "PjCOXeq2paFC"
      },
      "source": [
        "### 1.1 Visualising Data\n",
        "___"
      ]
    },
    {
      "cell_type": "code",
      "metadata": {
        "colab": {
          "base_uri": "https://localhost:8080/",
          "height": 202
        },
        "id": "KIwlOi_PGx-g",
        "outputId": "0ecc7156-b43d-4435-d4e8-f5a58f161be0"
      },
      "source": [
        "# Checking Training Data\n",
        "df_train.head()"
      ],
      "execution_count": 5,
      "outputs": [
        {
          "output_type": "execute_result",
          "data": {
            "text/html": [
              "<div>\n",
              "<style scoped>\n",
              "    .dataframe tbody tr th:only-of-type {\n",
              "        vertical-align: middle;\n",
              "    }\n",
              "\n",
              "    .dataframe tbody tr th {\n",
              "        vertical-align: top;\n",
              "    }\n",
              "\n",
              "    .dataframe thead th {\n",
              "        text-align: right;\n",
              "    }\n",
              "</style>\n",
              "<table border=\"1\" class=\"dataframe\">\n",
              "  <thead>\n",
              "    <tr style=\"text-align: right;\">\n",
              "      <th></th>\n",
              "      <th>id</th>\n",
              "      <th>keyword</th>\n",
              "      <th>location</th>\n",
              "      <th>text</th>\n",
              "      <th>target</th>\n",
              "    </tr>\n",
              "  </thead>\n",
              "  <tbody>\n",
              "    <tr>\n",
              "      <th>0</th>\n",
              "      <td>1</td>\n",
              "      <td>NaN</td>\n",
              "      <td>NaN</td>\n",
              "      <td>Our Deeds are the Reason of this #earthquake M...</td>\n",
              "      <td>1</td>\n",
              "    </tr>\n",
              "    <tr>\n",
              "      <th>1</th>\n",
              "      <td>4</td>\n",
              "      <td>NaN</td>\n",
              "      <td>NaN</td>\n",
              "      <td>Forest fire near La Ronge Sask. Canada</td>\n",
              "      <td>1</td>\n",
              "    </tr>\n",
              "    <tr>\n",
              "      <th>2</th>\n",
              "      <td>5</td>\n",
              "      <td>NaN</td>\n",
              "      <td>NaN</td>\n",
              "      <td>All residents asked to 'shelter in place' are ...</td>\n",
              "      <td>1</td>\n",
              "    </tr>\n",
              "    <tr>\n",
              "      <th>3</th>\n",
              "      <td>6</td>\n",
              "      <td>NaN</td>\n",
              "      <td>NaN</td>\n",
              "      <td>13,000 people receive #wildfires evacuation or...</td>\n",
              "      <td>1</td>\n",
              "    </tr>\n",
              "    <tr>\n",
              "      <th>4</th>\n",
              "      <td>7</td>\n",
              "      <td>NaN</td>\n",
              "      <td>NaN</td>\n",
              "      <td>Just got sent this photo from Ruby #Alaska as ...</td>\n",
              "      <td>1</td>\n",
              "    </tr>\n",
              "  </tbody>\n",
              "</table>\n",
              "</div>"
            ],
            "text/plain": [
              "   id keyword  ...                                               text target\n",
              "0   1     NaN  ...  Our Deeds are the Reason of this #earthquake M...      1\n",
              "1   4     NaN  ...             Forest fire near La Ronge Sask. Canada      1\n",
              "2   5     NaN  ...  All residents asked to 'shelter in place' are ...      1\n",
              "3   6     NaN  ...  13,000 people receive #wildfires evacuation or...      1\n",
              "4   7     NaN  ...  Just got sent this photo from Ruby #Alaska as ...      1\n",
              "\n",
              "[5 rows x 5 columns]"
            ]
          },
          "metadata": {},
          "execution_count": 5
        }
      ]
    },
    {
      "cell_type": "code",
      "metadata": {
        "colab": {
          "base_uri": "https://localhost:8080/",
          "height": 202
        },
        "id": "Gh3_6aYfiWDp",
        "outputId": "0c83ccd8-08d7-4811-b312-1184d94e137f"
      },
      "source": [
        "df_train = df_train.sample(frac = 1 , random_state = 42)\n",
        "df_train.head()"
      ],
      "execution_count": 11,
      "outputs": [
        {
          "output_type": "execute_result",
          "data": {
            "text/html": [
              "<div>\n",
              "<style scoped>\n",
              "    .dataframe tbody tr th:only-of-type {\n",
              "        vertical-align: middle;\n",
              "    }\n",
              "\n",
              "    .dataframe tbody tr th {\n",
              "        vertical-align: top;\n",
              "    }\n",
              "\n",
              "    .dataframe thead th {\n",
              "        text-align: right;\n",
              "    }\n",
              "</style>\n",
              "<table border=\"1\" class=\"dataframe\">\n",
              "  <thead>\n",
              "    <tr style=\"text-align: right;\">\n",
              "      <th></th>\n",
              "      <th>id</th>\n",
              "      <th>keyword</th>\n",
              "      <th>location</th>\n",
              "      <th>text</th>\n",
              "      <th>target</th>\n",
              "    </tr>\n",
              "  </thead>\n",
              "  <tbody>\n",
              "    <tr>\n",
              "      <th>900</th>\n",
              "      <td>1302</td>\n",
              "      <td>bloody</td>\n",
              "      <td>Singapore</td>\n",
              "      <td>Damn bloody hot</td>\n",
              "      <td>0</td>\n",
              "    </tr>\n",
              "    <tr>\n",
              "      <th>5470</th>\n",
              "      <td>7804</td>\n",
              "      <td>quarantine</td>\n",
              "      <td>Joshua Tree, CA</td>\n",
              "      <td>Reddit Will Now Quarantine Offensive Content h...</td>\n",
              "      <td>1</td>\n",
              "    </tr>\n",
              "    <tr>\n",
              "      <th>2625</th>\n",
              "      <td>3766</td>\n",
              "      <td>destruction</td>\n",
              "      <td>NaN</td>\n",
              "      <td>'Every kingdom divided against itself is heade...</td>\n",
              "      <td>0</td>\n",
              "    </tr>\n",
              "    <tr>\n",
              "      <th>5319</th>\n",
              "      <td>7594</td>\n",
              "      <td>outbreak</td>\n",
              "      <td>Pro-American and Anti-#Occupy</td>\n",
              "      <td>#BREAKING 10th death confirmed in Legionnaires...</td>\n",
              "      <td>1</td>\n",
              "    </tr>\n",
              "    <tr>\n",
              "      <th>3174</th>\n",
              "      <td>4556</td>\n",
              "      <td>emergency%20plan</td>\n",
              "      <td>Reddit</td>\n",
              "      <td>http://t.co/F7LJwxJ5jp #GamerGate The end of R...</td>\n",
              "      <td>0</td>\n",
              "    </tr>\n",
              "  </tbody>\n",
              "</table>\n",
              "</div>"
            ],
            "text/plain": [
              "        id  ... target\n",
              "900   1302  ...      0\n",
              "5470  7804  ...      1\n",
              "2625  3766  ...      0\n",
              "5319  7594  ...      1\n",
              "3174  4556  ...      0\n",
              "\n",
              "[5 rows x 5 columns]"
            ]
          },
          "metadata": {},
          "execution_count": 11
        }
      ]
    },
    {
      "cell_type": "code",
      "metadata": {
        "id": "SruLz4mQGy24",
        "colab": {
          "base_uri": "https://localhost:8080/",
          "height": 202
        },
        "outputId": "01317493-7396-4340-b7b5-59e5f4bd6d4e"
      },
      "source": [
        "# Checking Test Data\n",
        "df_test.head()"
      ],
      "execution_count": 6,
      "outputs": [
        {
          "output_type": "execute_result",
          "data": {
            "text/html": [
              "<div>\n",
              "<style scoped>\n",
              "    .dataframe tbody tr th:only-of-type {\n",
              "        vertical-align: middle;\n",
              "    }\n",
              "\n",
              "    .dataframe tbody tr th {\n",
              "        vertical-align: top;\n",
              "    }\n",
              "\n",
              "    .dataframe thead th {\n",
              "        text-align: right;\n",
              "    }\n",
              "</style>\n",
              "<table border=\"1\" class=\"dataframe\">\n",
              "  <thead>\n",
              "    <tr style=\"text-align: right;\">\n",
              "      <th></th>\n",
              "      <th>id</th>\n",
              "      <th>keyword</th>\n",
              "      <th>location</th>\n",
              "      <th>text</th>\n",
              "    </tr>\n",
              "  </thead>\n",
              "  <tbody>\n",
              "    <tr>\n",
              "      <th>0</th>\n",
              "      <td>0</td>\n",
              "      <td>NaN</td>\n",
              "      <td>NaN</td>\n",
              "      <td>Just happened a terrible car crash</td>\n",
              "    </tr>\n",
              "    <tr>\n",
              "      <th>1</th>\n",
              "      <td>2</td>\n",
              "      <td>NaN</td>\n",
              "      <td>NaN</td>\n",
              "      <td>Heard about #earthquake is different cities, s...</td>\n",
              "    </tr>\n",
              "    <tr>\n",
              "      <th>2</th>\n",
              "      <td>3</td>\n",
              "      <td>NaN</td>\n",
              "      <td>NaN</td>\n",
              "      <td>there is a forest fire at spot pond, geese are...</td>\n",
              "    </tr>\n",
              "    <tr>\n",
              "      <th>3</th>\n",
              "      <td>9</td>\n",
              "      <td>NaN</td>\n",
              "      <td>NaN</td>\n",
              "      <td>Apocalypse lighting. #Spokane #wildfires</td>\n",
              "    </tr>\n",
              "    <tr>\n",
              "      <th>4</th>\n",
              "      <td>11</td>\n",
              "      <td>NaN</td>\n",
              "      <td>NaN</td>\n",
              "      <td>Typhoon Soudelor kills 28 in China and Taiwan</td>\n",
              "    </tr>\n",
              "  </tbody>\n",
              "</table>\n",
              "</div>"
            ],
            "text/plain": [
              "   id keyword location                                               text\n",
              "0   0     NaN      NaN                 Just happened a terrible car crash\n",
              "1   2     NaN      NaN  Heard about #earthquake is different cities, s...\n",
              "2   3     NaN      NaN  there is a forest fire at spot pond, geese are...\n",
              "3   9     NaN      NaN           Apocalypse lighting. #Spokane #wildfires\n",
              "4  11     NaN      NaN      Typhoon Soudelor kills 28 in China and Taiwan"
            ]
          },
          "metadata": {},
          "execution_count": 6
        }
      ]
    },
    {
      "cell_type": "code",
      "metadata": {
        "colab": {
          "base_uri": "https://localhost:8080/"
        },
        "id": "K-_KqfbyiPap",
        "outputId": "ee749c89-f8ca-4ece-cdf1-30e4c8a38f50"
      },
      "source": [
        "# Target True : False Ratio\n",
        "df_train['target'].value_counts(normalize = True)"
      ],
      "execution_count": 17,
      "outputs": [
        {
          "output_type": "execute_result",
          "data": {
            "text/plain": [
              "0    0.57034\n",
              "1    0.42966\n",
              "Name: target, dtype: float64"
            ]
          },
          "metadata": {},
          "execution_count": 17
        }
      ]
    },
    {
      "cell_type": "code",
      "metadata": {
        "colab": {
          "base_uri": "https://localhost:8080/",
          "height": 414
        },
        "id": "lX2gUbWPltwJ",
        "outputId": "73abf966-34cc-41f8-89ff-4f6bcb90f5a4"
      },
      "source": [
        "random_index = random.randint(0 , len(df_train))\n",
        "df_train[['text' , 'target']][]"
      ],
      "execution_count": 37,
      "outputs": [
        {
          "output_type": "execute_result",
          "data": {
            "text/html": [
              "<div>\n",
              "<style scoped>\n",
              "    .dataframe tbody tr th:only-of-type {\n",
              "        vertical-align: middle;\n",
              "    }\n",
              "\n",
              "    .dataframe tbody tr th {\n",
              "        vertical-align: top;\n",
              "    }\n",
              "\n",
              "    .dataframe thead th {\n",
              "        text-align: right;\n",
              "    }\n",
              "</style>\n",
              "<table border=\"1\" class=\"dataframe\">\n",
              "  <thead>\n",
              "    <tr style=\"text-align: right;\">\n",
              "      <th></th>\n",
              "      <th>text</th>\n",
              "      <th>target</th>\n",
              "    </tr>\n",
              "  </thead>\n",
              "  <tbody>\n",
              "    <tr>\n",
              "      <th>900</th>\n",
              "      <td>Damn bloody hot</td>\n",
              "      <td>0</td>\n",
              "    </tr>\n",
              "    <tr>\n",
              "      <th>5470</th>\n",
              "      <td>Reddit Will Now Quarantine Offensive Content h...</td>\n",
              "      <td>1</td>\n",
              "    </tr>\n",
              "    <tr>\n",
              "      <th>2625</th>\n",
              "      <td>'Every kingdom divided against itself is heade...</td>\n",
              "      <td>0</td>\n",
              "    </tr>\n",
              "    <tr>\n",
              "      <th>5319</th>\n",
              "      <td>#BREAKING 10th death confirmed in Legionnaires...</td>\n",
              "      <td>1</td>\n",
              "    </tr>\n",
              "    <tr>\n",
              "      <th>3174</th>\n",
              "      <td>http://t.co/F7LJwxJ5jp #GamerGate The end of R...</td>\n",
              "      <td>0</td>\n",
              "    </tr>\n",
              "    <tr>\n",
              "      <th>...</th>\n",
              "      <td>...</td>\n",
              "      <td>...</td>\n",
              "    </tr>\n",
              "    <tr>\n",
              "      <th>3854</th>\n",
              "      <td>Maryland mansion fire that killed 6 caused by ...</td>\n",
              "      <td>1</td>\n",
              "    </tr>\n",
              "    <tr>\n",
              "      <th>1566</th>\n",
              "      <td>I regress and I slip and I fall off that cliff</td>\n",
              "      <td>0</td>\n",
              "    </tr>\n",
              "    <tr>\n",
              "      <th>5342</th>\n",
              "      <td>Pandemonium In Aba As Woman Delivers Baby With...</td>\n",
              "      <td>0</td>\n",
              "    </tr>\n",
              "    <tr>\n",
              "      <th>7465</th>\n",
              "      <td>Driver rams car into Israeli soldiers wounds 3...</td>\n",
              "      <td>1</td>\n",
              "    </tr>\n",
              "    <tr>\n",
              "      <th>4504</th>\n",
              "      <td>hurricane?? sick!</td>\n",
              "      <td>1</td>\n",
              "    </tr>\n",
              "  </tbody>\n",
              "</table>\n",
              "<p>7613 rows × 2 columns</p>\n",
              "</div>"
            ],
            "text/plain": [
              "                                                   text  target\n",
              "900                                     Damn bloody hot       0\n",
              "5470  Reddit Will Now Quarantine Offensive Content h...       1\n",
              "2625  'Every kingdom divided against itself is heade...       0\n",
              "5319  #BREAKING 10th death confirmed in Legionnaires...       1\n",
              "3174  http://t.co/F7LJwxJ5jp #GamerGate The end of R...       0\n",
              "...                                                 ...     ...\n",
              "3854  Maryland mansion fire that killed 6 caused by ...       1\n",
              "1566     I regress and I slip and I fall off that cliff       0\n",
              "5342  Pandemonium In Aba As Woman Delivers Baby With...       0\n",
              "7465  Driver rams car into Israeli soldiers wounds 3...       1\n",
              "4504                                  hurricane?? sick!       1\n",
              "\n",
              "[7613 rows x 2 columns]"
            ]
          },
          "metadata": {},
          "execution_count": 37
        }
      ]
    },
    {
      "cell_type": "code",
      "metadata": {
        "colab": {
          "base_uri": "https://localhost:8080/"
        },
        "id": "gb6c_PEhjDTZ",
        "outputId": "0908e57e-6d6a-40f3-f43b-b2b55aca9a0d"
      },
      "source": [
        "random_index = random.randint(0 , len(df_train))\n",
        "\n",
        "for row in df_train[['text' , 'target']][random_index : random_index +5].itertuples():\n",
        "  _ , text , target = row\n",
        "\n",
        "  print(f\"Target: {target}\" , \"(Disaster)\" if target > 0 else \"(Not Disaster)\")\n",
        "  print(f'Text: {text}')\n",
        "  print('-------\\n')"
      ],
      "execution_count": 62,
      "outputs": [
        {
          "output_type": "stream",
          "text": [
            "Target: 0 (Not Disaster)\n",
            "Text: &lt;meltdown of proportions commences I manage to calm myself long enough to turn the waters to hot and wait for the steam to cloud my vision-\n",
            "-------\n",
            "\n",
            "Target: 1 (Disaster)\n",
            "Text: #science Now that a piece of wreckage from flight MH370 has been confirmed on RÌ©union Island is it possible t...  http://t.co/qNVXJ2pAlJ\n",
            "-------\n",
            "\n",
            "Target: 1 (Disaster)\n",
            "Text: http://t.co/iXiYBAp8Qa The Latest: More homes razed by Northern California wildfire - Lynchburg News and Advance http://t.co/zEpzQYDby4\n",
            "-------\n",
            "\n",
            "Target: 0 (Not Disaster)\n",
            "Text: if they kill off Val I'm rioting #Emmerdale\n",
            "-------\n",
            "\n",
            "Target: 0 (Not Disaster)\n",
            "Text: This guy idk just made me his woman crush ?? first one ever ??\n",
            "-------\n",
            "\n"
          ],
          "name": "stdout"
        }
      ]
    },
    {
      "cell_type": "markdown",
      "metadata": {
        "id": "Sz18FeIVjwGH"
      },
      "source": [
        "### 1.2 Data Split Training and Validation\n",
        "___"
      ]
    },
    {
      "cell_type": "code",
      "metadata": {
        "id": "NUrB2HkjqMWi"
      },
      "source": [
        "# Define X and y variables\n",
        "train = df_train['text'].to_numpy()\n",
        "val = df_train['target'].to_numpy()"
      ],
      "execution_count": 72,
      "outputs": []
    },
    {
      "cell_type": "code",
      "metadata": {
        "id": "PF9ODPAKpoVy"
      },
      "source": [
        "train_sentences , val_sentences ,train_label , val_label = train_test_split(train , val , test_size = 0.1 , random_state  = 42)"
      ],
      "execution_count": 71,
      "outputs": []
    },
    {
      "cell_type": "code",
      "metadata": {
        "colab": {
          "base_uri": "https://localhost:8080/"
        },
        "id": "KIEaw6E2qrzS",
        "outputId": "bd494370-96c1-45ff-8287-a76f00faa14c"
      },
      "source": [
        "print(f'Train Sentence: {train_sentences.shape}')\n",
        "print(f'Val Sentence: {val_sentences.shape}')\n",
        "print(f'Train Label: {train_label.shape}')\n",
        "print(f'Val Label: {val_label.shape}')"
      ],
      "execution_count": 73,
      "outputs": [
        {
          "output_type": "stream",
          "text": [
            "Train Sentence: (6851,)\n",
            "Val Sentence: (762,)\n",
            "Train Label: (6851,)\n",
            "Val Label: (762,)\n"
          ],
          "name": "stdout"
        }
      ]
    },
    {
      "cell_type": "markdown",
      "metadata": {
        "id": "fxMdAYVZra8K"
      },
      "source": [
        "### 1.3 Converting Text into Numbers\n",
        "___\n",
        "\n",
        "* Tokenization : Straight mapping from token to number , however model can get very big as no. of words increases.\n",
        "* Embedding : Representation by vector , weighted matrix. Richer representation of relationship between tokens."
      ]
    },
    {
      "cell_type": "code",
      "metadata": {
        "id": "4ShPUeyvrsJi"
      },
      "source": [
        ""
      ],
      "execution_count": null,
      "outputs": []
    }
  ]
}